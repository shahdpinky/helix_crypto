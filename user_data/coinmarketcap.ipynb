{
 "cells": [
  {
   "cell_type": "code",
   "execution_count": 30,
   "id": "ea36a948",
   "metadata": {},
   "outputs": [
    {
     "data": {
      "text/html": [
       "<style>.container { width:100% !important; }</style>"
      ],
      "text/plain": [
       "<IPython.core.display.HTML object>"
      ]
     },
     "metadata": {},
     "output_type": "display_data"
    }
   ],
   "source": [
    "from IPython.display import display, HTML\n",
    "display(HTML(\"<style>.container { width:100% !important; }</style>\"))\n",
    "from data_provider.coinmarketcap import CoinMarketCapAPI, get_cmc_listing_info_latest\n",
    "import pandas as pd\n",
    "from datetime import datetime, timedelta\n",
    "import time\n",
    "from datetime import timezone\n",
    "import ccxt\n",
    "from pathlib import Path\n",
    "import json\n",
    "from data_provider.market_data_provider import get_ccxt_ohlcv, get_freqtrade_ohlcv\n",
    "\n",
    "import math\n",
    "import pandas as pd\n",
    "import numpy as np\n",
    "import datetime as dt\n",
    "import matplotlib.pyplot as plt\n",
    "from matplotlib import style\n",
    "import seaborn as sns\n",
    "from scipy.stats import randint as sp_randint\n",
    "\n",
    "from sklearn.decomposition import PCA\n",
    "\n",
    "\n",
    "SANDBOX_API_KEY = 'ecef1c0b-5806-45ba-9d4e-9cb94a5e67b4'\n",
    "cmc = CoinMarketCapAPI(SANDBOX_API_KEY)\n",
    "cryptocurrency_listings_df, cmc_id_mapping = get_cmc_listing_info_latest()"
   ]
  },
  {
   "cell_type": "code",
   "execution_count": 2,
   "id": "d413c6a8",
   "metadata": {},
   "outputs": [],
   "source": [
    "shit_coin_info_df = cryptocurrency_listings_df[~cryptocurrency_listings_df['is_stable_coin']].copy()\n",
    "shit_coin_info_df = shit_coin_info_df[~shit_coin_info_df['is_wrapped_token']].copy()\n",
    "#shit_coin_info_df['market_cap_rank'] = shit_coin_info_df['market_cap'].rank(ascending=False)"
   ]
  },
  {
   "cell_type": "code",
   "execution_count": 3,
   "id": "93b234e6",
   "metadata": {},
   "outputs": [],
   "source": [
    "top_200_total_market_value = shit_coin_info_df['market_cap'].sum() # 1.65 trillion\n",
    "total_market_value_ratio_cumsum = shit_coin_info_df['market_cap'].cumsum() / top_200_total_market_value\n",
    "shit_coin_info_df['total_market_value_ratio_cumsum'] = total_market_value_ratio_cumsum"
   ]
  },
  {
   "cell_type": "code",
   "execution_count": 4,
   "id": "e06d3336",
   "metadata": {},
   "outputs": [],
   "source": [
    "#top 50 is 0.940182% mc\n",
    "#shit_coin_info_df.plot.line(x='market_cap_rank', y='total_market_value_ratio_cumsum')\n",
    "top_50_shit_coins_info_df = shit_coin_info_df[shit_coin_info_df['market_cap_rank']<=50]\n",
    "top_50_shit_coins_ticker = top_50_shit_coins_info_df['symbol'].values.tolist()\n",
    "top_50_shit_coins_symbol = [f\"{t}/USDT\" for t in top_50_shit_coins_ticker]"
   ]
  },
  {
   "cell_type": "code",
   "execution_count": 5,
   "id": "87d56df6",
   "metadata": {},
   "outputs": [],
   "source": [
    "binance_exchange = ccxt.binance()\n",
    "binance_markets = binance_exchange.load_markets()\n",
    "ftx_exchange = ccxt.ftx()\n",
    "ftx_markets = ftx_exchange.load_markets()\n",
    "\n",
    "binance_top_50symbols = list(set(top_50_shit_coins_symbol) & set(binance_exchange.symbols))\n",
    "rest_list = list(set(top_50_shit_coins_symbol) - set(binance_top_50symbols)) # \n",
    "ftx_top_50symbols = ['CRO/USD']"
   ]
  },
  {
   "cell_type": "markdown",
   "id": "8cf2b65e",
   "metadata": {},
   "source": [
    "rolling autocorrelation on the 1W time frame shows interesting\n",
    "tendency to be strongly positive on all markets.\n",
    "\n",
    "We found statistically significant autocorrelation of lower orders for all considered markets on 5m\n",
    "and 1H time frames by calculating Pearson’s autocorrelation coefficient. The same observation was confirmed\n",
    "by Ljung-Box test.\n",
    "\n",
    "However, rolling\n",
    "autocorrelation might constitute a useful feature to improve the predictive power of machine learning models."
   ]
  },
  {
   "cell_type": "code",
   "execution_count": 6,
   "id": "96e07fd5",
   "metadata": {},
   "outputs": [],
   "source": [
    "top_50_ohlcv_df = get_freqtrade_ohlcv(binance_top_50symbols, 'binance', '1h')"
   ]
  },
  {
   "cell_type": "code",
   "execution_count": 101,
   "id": "c1bdbf58",
   "metadata": {},
   "outputs": [],
   "source": [
    "timewinodw_start = datetime.today() - timedelta(days=120)\n",
    "top_50_ohlcv_rolling_sample_df = top_50_ohlcv_df.loc[(top_50_ohlcv_df.index.get_level_values('date') > timewinodw_start)]\n",
    "\n",
    "price_panel_data = top_50_ohlcv_rolling_sample_df['close'].unstack().T.copy()\n",
    "return_panel_data = price_panel_data.pct_change(1)\n",
    "return_panel_data = return_panel_data.dropna(how='all')\n",
    "# drop new ticker, since its impact should be small now\n",
    "\n",
    "pca_return_panel_data = return_panel_data.dropna(how='any', axis=1)\n",
    "\n",
    "pca_return_panel_data_normalized_df = (pca_return_panel_data - pca_return_panel_data.mean()) / pca_return_panel_data.std()\n",
    "\n",
    "pca_return_panel_data_normalized_df\n",
    "symbols = pca_return_panel_data_normalized_df.columns.values\n",
    "n_symbols = len(symbols)"
   ]
  },
  {
   "cell_type": "code",
   "execution_count": 102,
   "id": "3d689273",
   "metadata": {},
   "outputs": [
    {
     "data": {
      "text/plain": [
       "PCA(n_components=41)"
      ]
     },
     "execution_count": 102,
     "metadata": {},
     "output_type": "execute_result"
    }
   ],
   "source": [
    "pca = PCA(n_components=pca_return_panel_data_normalized_df.shape[1])\n",
    "pca.fit(pca_return_panel_data_normalized_df)"
   ]
  },
  {
   "cell_type": "code",
   "execution_count": 104,
   "id": "d5b295b8",
   "metadata": {},
   "outputs": [
    {
     "name": "stdout",
     "output_type": "stream",
     "text": [
      "29 principal components explain 95.00% of variance\n"
     ]
    },
    {
     "data": {
      "image/png": "[encoded data removed]",
      "text/plain": [
       "<Figure size 1440x360 with 1 Axes>"
      ]
     },
     "metadata": {
      "needs_background": "light"
     },
     "output_type": "display_data"
    }
   ],
   "source": [
    "import matplotlib.pyplot as plt\n",
    "plt.rcParams[\"figure.figsize\"] = (20,5)\n",
    "def plotPCA(pca, plot=False):\n",
    "\n",
    "    # Visualizing Variance against number of principal components.\n",
    "    #cov_matrix_raw = X_train_raw.loc[:,X_train_raw.columns != 'DJIA'].cov()\n",
    "\n",
    "    var_threshold = 0.95\n",
    "    var_explained = np.cumsum(pca.explained_variance_ratio_)\n",
    "    num_comp = np.where(np.logical_not(var_explained < var_threshold))[0][0] + 1  \n",
    "\n",
    "    if plot:\n",
    "        print('%d principal components explain %.2f%% of variance' %(num_comp, 100* var_threshold))\n",
    "\n",
    "        # PCA percent variance explained.\n",
    "        bar_width = 0.9\n",
    "        n_asset = pca.explained_variance_ratio_.shape[0]\n",
    "        x_indx = np.arange(n_asset)\n",
    "        fig, ax = plt.subplots()\n",
    "\n",
    "        # Eigenvalues measured as percentage of explained variance.\n",
    "        rects = ax.bar(x_indx, pca.explained_variance_ratio_[:n_asset], bar_width)\n",
    "        ax.set_xticks(x_indx + bar_width / 2)\n",
    "        ax.set_xticklabels(list(range(n_asset)), rotation=45)\n",
    "        ax.set_title('Percent variance explained')\n",
    "        ax.set_ylabel('Explained Variance')\n",
    "        ax.set_xlabel('Principal Components')\n",
    "        plt.show()\n",
    "\n",
    "plotPCA(pca, plot=True)"
   ]
  },
  {
   "cell_type": "code",
   "execution_count": 166,
   "id": "33d94253",
   "metadata": {},
   "outputs": [],
   "source": [
    "pc_components = pd.DataFrame(pca.components_ )\n",
    "pc_components.columns = pca.feature_names_in_\n",
    "pc_component_ptf_weights_normalized = pc_components / pca_return_panel_data.std()"
   ]
  },
  {
   "cell_type": "code",
   "execution_count": 167,
   "id": "094d7105",
   "metadata": {},
   "outputs": [],
   "source": [
    "def plotEigen(weights, plot=False):\n",
    "    portfolio = pd.DataFrame(data ={'weights': weights.squeeze()}, index = stock_tickers) \n",
    "    portfolio.sort_values(by=['weights'], ascending=False, inplace=True)\n",
    "    \n",
    "    if plot:\n",
    "        portfolio.plot(title='Current Eigen-Portfolio Weights', \n",
    "            figsize=(12,6), \n",
    "            xticks=range(0, len(stock_tickers),1), \n",
    "            rot=45, \n",
    "            linewidth=3\n",
    "            )\n",
    "        plt.show()\n",
    "\n",
    "    return portfolio"
   ]
  },
  {
   "cell_type": "code",
   "execution_count": 168,
   "id": "d8861331",
   "metadata": {},
   "outputs": [
    {
     "data": {
      "image/png": "[encoded data removed]",
      "text/plain": [
       "<Figure size 864x432 with 1 Axes>"
      ]
     },
     "metadata": {
      "needs_background": "light"
     },
     "output_type": "display_data"
    }
   ],
   "source": [
    "eigen_ptf1_weight = plotEigen(weights=pc_component_ptf_weights_normalized.loc[0]*-1, plot=True)"
   ]
  },
  {
   "cell_type": "code",
   "execution_count": 169,
   "id": "729bea84",
   "metadata": {},
   "outputs": [],
   "source": [
    "def get_coresponding_market_info(x, info, coin_info_df):\n",
    "    cmc_id = cmc_id_mapping[x.name[:x.name.find('/')]]\n",
    "    return coin_info_df.loc[cmc_id][info]\n",
    "    "
   ]
  },
  {
   "cell_type": "code",
   "execution_count": 170,
   "id": "f888dfe8",
   "metadata": {},
   "outputs": [],
   "source": [
    "eigen_ptf1_weight['market_cap']= eigen_ptf1_weight.apply(lambda x: get_coresponding_market_info(x, 'market_cap', shit_coin_info_df), axis=1)\n",
    "\n",
    "eigen_ptf1_weight['weights_rank'] = eigen_ptf1_weight['weights'].rank(ascending=False)\n",
    "eigen_ptf1_weight['market_cap_rank'] = eigen_ptf1_weight['market_cap'].rank(ascending=False)\n",
    "\n",
    "eigen_ptf1_weight['vol'] = pca_return_panel_data.std()\n",
    "#eigen_ptf2_weight = plotEigen(weights=pc_component_ptf_weights_normalized.loc[1]*-1, plot=True)\n",
    "#eigen_ptf3_weight = plotEigen(weights=pc_component_ptf_weights_normalized.loc[2]*-1, plot=True)\n",
    "#eigen_ptf4_weight = plotEigen(weights=pc_component_ptf_weights_normalized.loc[3]*-1, plot=True)"
   ]
  },
  {
   "cell_type": "code",
   "execution_count": 230,
   "id": "4d9e0b30",
   "metadata": {},
   "outputs": [],
   "source": [
    "def eigenreturn_compare(pca_return_panel_data, eigen_ptf_weight, vs_symbol='BTC/USDT', inverse_invest=False):\n",
    "    direaction = -1 if inverse_invest else 1\n",
    "    eigen_portfolio_returns = np.dot(pca_return_panel_data.loc[:, eigen_ptf_weight.index], direaction * eigen_ptf_weight['weights']/eigen_ptf_weight['weights'].sum())\n",
    "    eigen_portfolio_returns = pd.Series(eigen_portfolio_returns.squeeze(), index=pca_return_panel_data.index)\n",
    "\n",
    "    return_compare_plot = pd.DataFrame({'PC': eigen_portfolio_returns, vs_symbol: pca_return_panel_data.loc[:, vs_symbol]}, index=pca_return_panel_data.index)\n",
    "\n",
    "    np.cumprod(return_compare_plot + 1).plot(title=f'Returns of {vs_symbol} vs. PC eigen-portfolio', \n",
    "                                 figsize=(12,6), linewidth=3)\n",
    "    \n",
    "    return eigen_portfolio_returns\n",
    "    plt.show()"
   ]
  },
  {
   "cell_type": "code",
   "execution_count": 232,
   "id": "d146be68",
   "metadata": {},
   "outputs": [
    {
     "data": {
      "image/png": "[encoded data removed]",
      "text/plain": [
       "<Figure size 864x432 with 1 Axes>"
      ]
     },
     "metadata": {
      "needs_background": "light"
     },
     "output_type": "display_data"
    }
   ],
   "source": [
    "eigen_portfolio_returns = eigenreturn_compare(pca_return_panel_data, eigen_ptf1_weight, vs_symbol='BTC/USDT', inverse_invest=False)"
   ]
  },
  {
   "cell_type": "code",
   "execution_count": 228,
   "id": "b19f0ad6",
   "metadata": {},
   "outputs": [],
   "source": [
    "eigen_portfolio_returns = np.dot(pca_return_panel_data.loc[:, eigen_ptf1_weight.index], 1 * eigen_ptf1_weight['weights']/eigen_ptf1_weight['weights'].sum())\n",
    "eigen_portfolio_returns = pd.Series(eigen_portfolio_returns.squeeze(), index=pca_return_panel_data.index)"
   ]
  },
  {
   "cell_type": "code",
   "execution_count": 233,
   "id": "6616ce3c",
   "metadata": {},
   "outputs": [
    {
     "data": {
      "text/plain": [
       "date\n",
       "2021-12-24 18:00:00    0.004541\n",
       "2021-12-24 19:00:00   -0.015503\n",
       "2021-12-24 20:00:00    0.006515\n",
       "2021-12-24 21:00:00   -0.005888\n",
       "2021-12-24 22:00:00   -0.011071\n",
       "                         ...   \n",
       "2022-04-23 14:00:00   -0.000140\n",
       "2022-04-23 15:00:00    0.001015\n",
       "2022-04-23 16:00:00    0.001469\n",
       "2022-04-23 17:00:00   -0.000189\n",
       "2022-04-23 18:00:00   -0.006165\n",
       "Length: 2881, dtype: float64"
      ]
     },
     "execution_count": 233,
     "metadata": {},
     "output_type": "execute_result"
    }
   ],
   "source": [
    "eigen_portfolio_returns"
   ]
  },
  {
   "cell_type": "code",
   "execution_count": 234,
   "id": "09e8eba1",
   "metadata": {},
   "outputs": [],
   "source": [
    "from scipy.stats import linregress"
   ]
  },
  {
   "cell_type": "code",
   "execution_count": 239,
   "id": "9883421a",
   "metadata": {},
   "outputs": [],
   "source": [
    "regression_market = pca_return_panel_data.apply(lambda x: linregress(eigen_portfolio_returns, x), result_type='expand').rename(index={0: 'slope', 1: \n",
    "                                                                                  'intercept', 2: 'rvalue', 3:\n",
    "                                                                                  'p-value', 4:'stderr'})\n",
    "\n",
    "regression_market = regression_market.T\n",
    "regression_market = regression_market.sort_values('rvalue',ascending=False)\n",
    "regression_market['r^2'] = regression_market['rvalue']**2"
   ]
  },
  {
   "cell_type": "code",
   "execution_count": 259,
   "id": "23f5d042",
   "metadata": {},
   "outputs": [
    {
     "data": {
      "text/html": [
       "<div>\n",
       "<style scoped>\n",
       "    .dataframe tbody tr th:only-of-type {\n",
       "        vertical-align: middle;\n",
       "    }\n",
       "\n",
       "    .dataframe tbody tr th {\n",
       "        vertical-align: top;\n",
       "    }\n",
       "\n",
       "    .dataframe thead th {\n",
       "        text-align: right;\n",
       "    }\n",
       "</style>\n",
       "<table border=\"1\" class=\"dataframe\">\n",
       "  <thead>\n",
       "    <tr style=\"text-align: right;\">\n",
       "      <th></th>\n",
       "      <th>slope</th>\n",
       "      <th>intercept</th>\n",
       "      <th>rvalue</th>\n",
       "      <th>p-value</th>\n",
       "      <th>stderr</th>\n",
       "      <th>r^2</th>\n",
       "      <th>index</th>\n",
       "    </tr>\n",
       "    <tr>\n",
       "      <th>pair</th>\n",
       "      <th></th>\n",
       "      <th></th>\n",
       "      <th></th>\n",
       "      <th></th>\n",
       "      <th></th>\n",
       "      <th></th>\n",
       "      <th></th>\n",
       "    </tr>\n",
       "  </thead>\n",
       "  <tbody>\n",
       "    <tr>\n",
       "      <th>ETH/USDT</th>\n",
       "      <td>0.903357</td>\n",
       "      <td>-7.401467e-06</td>\n",
       "      <td>0.927834</td>\n",
       "      <td>0.0</td>\n",
       "      <td>0.006768</td>\n",
       "      <td>0.860876</td>\n",
       "      <td>ETH/USDT</td>\n",
       "    </tr>\n",
       "    <tr>\n",
       "      <th>BNB/USDT</th>\n",
       "      <td>0.769122</td>\n",
       "      <td>-1.522533e-05</td>\n",
       "      <td>0.897210</td>\n",
       "      <td>0.0</td>\n",
       "      <td>0.007055</td>\n",
       "      <td>0.804985</td>\n",
       "      <td>BNB/USDT</td>\n",
       "    </tr>\n",
       "    <tr>\n",
       "      <th>MATIC/USDT</th>\n",
       "      <td>1.175390</td>\n",
       "      <td>-5.774347e-05</td>\n",
       "      <td>0.896326</td>\n",
       "      <td>0.0</td>\n",
       "      <td>0.010836</td>\n",
       "      <td>0.803400</td>\n",
       "      <td>MATIC/USDT</td>\n",
       "    </tr>\n",
       "    <tr>\n",
       "      <th>BTC/USDT</th>\n",
       "      <td>0.702842</td>\n",
       "      <td>-9.116258e-06</td>\n",
       "      <td>0.895316</td>\n",
       "      <td>0.0</td>\n",
       "      <td>0.006517</td>\n",
       "      <td>0.801591</td>\n",
       "      <td>BTC/USDT</td>\n",
       "    </tr>\n",
       "    <tr>\n",
       "      <th>LTC/USDT</th>\n",
       "      <td>0.896421</td>\n",
       "      <td>-3.927267e-05</td>\n",
       "      <td>0.885763</td>\n",
       "      <td>0.0</td>\n",
       "      <td>0.008754</td>\n",
       "      <td>0.784577</td>\n",
       "      <td>LTC/USDT</td>\n",
       "    </tr>\n",
       "    <tr>\n",
       "      <th>DOT/USDT</th>\n",
       "      <td>1.092366</td>\n",
       "      <td>-6.190746e-06</td>\n",
       "      <td>0.885190</td>\n",
       "      <td>0.0</td>\n",
       "      <td>0.010700</td>\n",
       "      <td>0.783562</td>\n",
       "      <td>DOT/USDT</td>\n",
       "    </tr>\n",
       "    <tr>\n",
       "      <th>LINK/USDT</th>\n",
       "      <td>1.157644</td>\n",
       "      <td>-2.074650e-05</td>\n",
       "      <td>0.883463</td>\n",
       "      <td>0.0</td>\n",
       "      <td>0.011441</td>\n",
       "      <td>0.780508</td>\n",
       "      <td>LINK/USDT</td>\n",
       "    </tr>\n",
       "    <tr>\n",
       "      <th>VET/USDT</th>\n",
       "      <td>1.214493</td>\n",
       "      <td>-4.440910e-06</td>\n",
       "      <td>0.879089</td>\n",
       "      <td>0.0</td>\n",
       "      <td>0.012273</td>\n",
       "      <td>0.772798</td>\n",
       "      <td>VET/USDT</td>\n",
       "    </tr>\n",
       "    <tr>\n",
       "      <th>FTT/USDT</th>\n",
       "      <td>0.857740</td>\n",
       "      <td>8.801074e-05</td>\n",
       "      <td>0.872749</td>\n",
       "      <td>0.0</td>\n",
       "      <td>0.008942</td>\n",
       "      <td>0.761691</td>\n",
       "      <td>FTT/USDT</td>\n",
       "    </tr>\n",
       "    <tr>\n",
       "      <th>UNI/USDT</th>\n",
       "      <td>1.124006</td>\n",
       "      <td>-8.873014e-05</td>\n",
       "      <td>0.867714</td>\n",
       "      <td>0.0</td>\n",
       "      <td>0.012000</td>\n",
       "      <td>0.752928</td>\n",
       "      <td>UNI/USDT</td>\n",
       "    </tr>\n",
       "    <tr>\n",
       "      <th>SOL/USDT</th>\n",
       "      <td>1.182770</td>\n",
       "      <td>-6.234685e-05</td>\n",
       "      <td>0.866524</td>\n",
       "      <td>0.0</td>\n",
       "      <td>0.012697</td>\n",
       "      <td>0.750864</td>\n",
       "      <td>SOL/USDT</td>\n",
       "    </tr>\n",
       "    <tr>\n",
       "      <th>XLM/USDT</th>\n",
       "      <td>0.902230</td>\n",
       "      <td>-1.879150e-05</td>\n",
       "      <td>0.866080</td>\n",
       "      <td>0.0</td>\n",
       "      <td>0.009706</td>\n",
       "      <td>0.750095</td>\n",
       "      <td>XLM/USDT</td>\n",
       "    </tr>\n",
       "    <tr>\n",
       "      <th>BCH/USDT</th>\n",
       "      <td>0.838448</td>\n",
       "      <td>-2.613472e-05</td>\n",
       "      <td>0.859336</td>\n",
       "      <td>0.0</td>\n",
       "      <td>0.009300</td>\n",
       "      <td>0.738459</td>\n",
       "      <td>BCH/USDT</td>\n",
       "    </tr>\n",
       "    <tr>\n",
       "      <th>ADA/USDT</th>\n",
       "      <td>1.015526</td>\n",
       "      <td>-3.114604e-05</td>\n",
       "      <td>0.851842</td>\n",
       "      <td>0.0</td>\n",
       "      <td>0.011638</td>\n",
       "      <td>0.725634</td>\n",
       "      <td>ADA/USDT</td>\n",
       "    </tr>\n",
       "    <tr>\n",
       "      <th>ALGO/USDT</th>\n",
       "      <td>1.077525</td>\n",
       "      <td>-1.419294e-04</td>\n",
       "      <td>0.850389</td>\n",
       "      <td>0.0</td>\n",
       "      <td>0.012425</td>\n",
       "      <td>0.723162</td>\n",
       "      <td>ALGO/USDT</td>\n",
       "    </tr>\n",
       "    <tr>\n",
       "      <th>SAND/USDT</th>\n",
       "      <td>1.198569</td>\n",
       "      <td>-1.092179e-04</td>\n",
       "      <td>0.848984</td>\n",
       "      <td>0.0</td>\n",
       "      <td>0.013903</td>\n",
       "      <td>0.720773</td>\n",
       "      <td>SAND/USDT</td>\n",
       "    </tr>\n",
       "    <tr>\n",
       "      <th>AVAX/USDT</th>\n",
       "      <td>1.216379</td>\n",
       "      <td>3.278495e-07</td>\n",
       "      <td>0.846435</td>\n",
       "      <td>0.0</td>\n",
       "      <td>0.014262</td>\n",
       "      <td>0.716452</td>\n",
       "      <td>AVAX/USDT</td>\n",
       "    </tr>\n",
       "    <tr>\n",
       "      <th>MANA/USDT</th>\n",
       "      <td>1.154788</td>\n",
       "      <td>-3.814596e-05</td>\n",
       "      <td>0.842264</td>\n",
       "      <td>0.0</td>\n",
       "      <td>0.013774</td>\n",
       "      <td>0.709408</td>\n",
       "      <td>MANA/USDT</td>\n",
       "    </tr>\n",
       "    <tr>\n",
       "      <th>XRP/USDT</th>\n",
       "      <td>0.860977</td>\n",
       "      <td>7.908318e-06</td>\n",
       "      <td>0.835884</td>\n",
       "      <td>0.0</td>\n",
       "      <td>0.010537</td>\n",
       "      <td>0.698703</td>\n",
       "      <td>XRP/USDT</td>\n",
       "    </tr>\n",
       "    <tr>\n",
       "      <th>XTZ/USDT</th>\n",
       "      <td>1.060709</td>\n",
       "      <td>-3.017482e-06</td>\n",
       "      <td>0.820671</td>\n",
       "      <td>0.0</td>\n",
       "      <td>0.013764</td>\n",
       "      <td>0.673501</td>\n",
       "      <td>XTZ/USDT</td>\n",
       "    </tr>\n",
       "    <tr>\n",
       "      <th>EOS/USDT</th>\n",
       "      <td>0.882029</td>\n",
       "      <td>-1.042295e-05</td>\n",
       "      <td>0.819414</td>\n",
       "      <td>0.0</td>\n",
       "      <td>0.011499</td>\n",
       "      <td>0.671440</td>\n",
       "      <td>EOS/USDT</td>\n",
       "    </tr>\n",
       "    <tr>\n",
       "      <th>AAVE/USDT</th>\n",
       "      <td>1.227284</td>\n",
       "      <td>2.447159e-05</td>\n",
       "      <td>0.818242</td>\n",
       "      <td>0.0</td>\n",
       "      <td>0.016070</td>\n",
       "      <td>0.669520</td>\n",
       "      <td>AAVE/USDT</td>\n",
       "    </tr>\n",
       "    <tr>\n",
       "      <th>HBAR/USDT</th>\n",
       "      <td>0.946736</td>\n",
       "      <td>-5.685056e-05</td>\n",
       "      <td>0.817679</td>\n",
       "      <td>0.0</td>\n",
       "      <td>0.012422</td>\n",
       "      <td>0.668599</td>\n",
       "      <td>HBAR/USDT</td>\n",
       "    </tr>\n",
       "    <tr>\n",
       "      <th>FIL/USDT</th>\n",
       "      <td>1.015526</td>\n",
       "      <td>-9.043077e-05</td>\n",
       "      <td>0.816969</td>\n",
       "      <td>0.0</td>\n",
       "      <td>0.013360</td>\n",
       "      <td>0.667438</td>\n",
       "      <td>FIL/USDT</td>\n",
       "    </tr>\n",
       "    <tr>\n",
       "      <th>AXS/USDT</th>\n",
       "      <td>1.137144</td>\n",
       "      <td>-1.344786e-04</td>\n",
       "      <td>0.815938</td>\n",
       "      <td>0.0</td>\n",
       "      <td>0.015017</td>\n",
       "      <td>0.665754</td>\n",
       "      <td>AXS/USDT</td>\n",
       "    </tr>\n",
       "    <tr>\n",
       "      <th>EGLD/USDT</th>\n",
       "      <td>1.125479</td>\n",
       "      <td>-1.551703e-05</td>\n",
       "      <td>0.810753</td>\n",
       "      <td>0.0</td>\n",
       "      <td>0.015145</td>\n",
       "      <td>0.657320</td>\n",
       "      <td>EGLD/USDT</td>\n",
       "    </tr>\n",
       "    <tr>\n",
       "      <th>FTM/USDT</th>\n",
       "      <td>1.311492</td>\n",
       "      <td>-3.316104e-05</td>\n",
       "      <td>0.809414</td>\n",
       "      <td>0.0</td>\n",
       "      <td>0.017733</td>\n",
       "      <td>0.655151</td>\n",
       "      <td>FTM/USDT</td>\n",
       "    </tr>\n",
       "    <tr>\n",
       "      <th>ICP/USDT</th>\n",
       "      <td>1.202905</td>\n",
       "      <td>-9.825172e-06</td>\n",
       "      <td>0.807810</td>\n",
       "      <td>0.0</td>\n",
       "      <td>0.016358</td>\n",
       "      <td>0.652557</td>\n",
       "      <td>ICP/USDT</td>\n",
       "    </tr>\n",
       "    <tr>\n",
       "      <th>THETA/USDT</th>\n",
       "      <td>1.215682</td>\n",
       "      <td>3.804976e-05</td>\n",
       "      <td>0.803573</td>\n",
       "      <td>0.0</td>\n",
       "      <td>0.016782</td>\n",
       "      <td>0.645730</td>\n",
       "      <td>THETA/USDT</td>\n",
       "    </tr>\n",
       "    <tr>\n",
       "      <th>SHIB/USDT</th>\n",
       "      <td>1.136013</td>\n",
       "      <td>1.332570e-05</td>\n",
       "      <td>0.794261</td>\n",
       "      <td>0.0</td>\n",
       "      <td>0.016196</td>\n",
       "      <td>0.630851</td>\n",
       "      <td>SHIB/USDT</td>\n",
       "    </tr>\n",
       "    <tr>\n",
       "      <th>TRX/USDT</th>\n",
       "      <td>0.650849</td>\n",
       "      <td>8.675698e-06</td>\n",
       "      <td>0.791740</td>\n",
       "      <td>0.0</td>\n",
       "      <td>0.009359</td>\n",
       "      <td>0.626852</td>\n",
       "      <td>TRX/USDT</td>\n",
       "    </tr>\n",
       "    <tr>\n",
       "      <th>ETC/USDT</th>\n",
       "      <td>1.036351</td>\n",
       "      <td>1.199346e-04</td>\n",
       "      <td>0.780162</td>\n",
       "      <td>0.0</td>\n",
       "      <td>0.015488</td>\n",
       "      <td>0.608653</td>\n",
       "      <td>ETC/USDT</td>\n",
       "    </tr>\n",
       "    <tr>\n",
       "      <th>ATOM/USDT</th>\n",
       "      <td>1.170581</td>\n",
       "      <td>1.071860e-04</td>\n",
       "      <td>0.773132</td>\n",
       "      <td>0.0</td>\n",
       "      <td>0.017897</td>\n",
       "      <td>0.597732</td>\n",
       "      <td>ATOM/USDT</td>\n",
       "    </tr>\n",
       "    <tr>\n",
       "      <th>DOGE/USDT</th>\n",
       "      <td>0.877335</td>\n",
       "      <td>-5.649773e-06</td>\n",
       "      <td>0.772781</td>\n",
       "      <td>0.0</td>\n",
       "      <td>0.013429</td>\n",
       "      <td>0.597190</td>\n",
       "      <td>DOGE/USDT</td>\n",
       "    </tr>\n",
       "    <tr>\n",
       "      <th>LUNA/USDT</th>\n",
       "      <td>1.140747</td>\n",
       "      <td>1.520568e-04</td>\n",
       "      <td>0.762641</td>\n",
       "      <td>0.0</td>\n",
       "      <td>0.018032</td>\n",
       "      <td>0.581622</td>\n",
       "      <td>LUNA/USDT</td>\n",
       "    </tr>\n",
       "    <tr>\n",
       "      <th>KLAY/USDT</th>\n",
       "      <td>0.656506</td>\n",
       "      <td>-4.253010e-05</td>\n",
       "      <td>0.756315</td>\n",
       "      <td>0.0</td>\n",
       "      <td>0.010584</td>\n",
       "      <td>0.572012</td>\n",
       "      <td>KLAY/USDT</td>\n",
       "    </tr>\n",
       "    <tr>\n",
       "      <th>CAKE/USDT</th>\n",
       "      <td>0.909668</td>\n",
       "      <td>3.208590e-05</td>\n",
       "      <td>0.751940</td>\n",
       "      <td>0.0</td>\n",
       "      <td>0.014863</td>\n",
       "      <td>0.565414</td>\n",
       "      <td>CAKE/USDT</td>\n",
       "    </tr>\n",
       "    <tr>\n",
       "      <th>NEAR/USDT</th>\n",
       "      <td>1.250615</td>\n",
       "      <td>2.013493e-04</td>\n",
       "      <td>0.741609</td>\n",
       "      <td>0.0</td>\n",
       "      <td>0.021083</td>\n",
       "      <td>0.549984</td>\n",
       "      <td>NEAR/USDT</td>\n",
       "    </tr>\n",
       "    <tr>\n",
       "      <th>RUNE/USDT</th>\n",
       "      <td>1.285306</td>\n",
       "      <td>2.448299e-04</td>\n",
       "      <td>0.727878</td>\n",
       "      <td>0.0</td>\n",
       "      <td>0.022567</td>\n",
       "      <td>0.529806</td>\n",
       "      <td>RUNE/USDT</td>\n",
       "    </tr>\n",
       "    <tr>\n",
       "      <th>ZEC/USDT</th>\n",
       "      <td>1.027068</td>\n",
       "      <td>1.239843e-04</td>\n",
       "      <td>0.712736</td>\n",
       "      <td>0.0</td>\n",
       "      <td>0.018838</td>\n",
       "      <td>0.507992</td>\n",
       "      <td>ZEC/USDT</td>\n",
       "    </tr>\n",
       "    <tr>\n",
       "      <th>XMR/USDT</th>\n",
       "      <td>0.813687</td>\n",
       "      <td>2.162460e-04</td>\n",
       "      <td>0.686565</td>\n",
       "      <td>0.0</td>\n",
       "      <td>0.016059</td>\n",
       "      <td>0.471371</td>\n",
       "      <td>XMR/USDT</td>\n",
       "    </tr>\n",
       "  </tbody>\n",
       "</table>\n",
       "</div>"
      ],
      "text/plain": [
       "               slope     intercept    rvalue  p-value    stderr       r^2  \\\n",
       "pair                                                                        \n",
       "ETH/USDT    0.903357 -7.401467e-06  0.927834      0.0  0.006768  0.860876   \n",
       "BNB/USDT    0.769122 -1.522533e-05  0.897210      0.0  0.007055  0.804985   \n",
       "MATIC/USDT  1.175390 -5.774347e-05  0.896326      0.0  0.010836  0.803400   \n",
       "BTC/USDT    0.702842 -9.116258e-06  0.895316      0.0  0.006517  0.801591   \n",
       "LTC/USDT    0.896421 -3.927267e-05  0.885763      0.0  0.008754  0.784577   \n",
       "DOT/USDT    1.092366 -6.190746e-06  0.885190      0.0  0.010700  0.783562   \n",
       "LINK/USDT   1.157644 -2.074650e-05  0.883463      0.0  0.011441  0.780508   \n",
       "VET/USDT    1.214493 -4.440910e-06  0.879089      0.0  0.012273  0.772798   \n",
       "FTT/USDT    0.857740  8.801074e-05  0.872749      0.0  0.008942  0.761691   \n",
       "UNI/USDT    1.124006 -8.873014e-05  0.867714      0.0  0.012000  0.752928   \n",
       "SOL/USDT    1.182770 -6.234685e-05  0.866524      0.0  0.012697  0.750864   \n",
       "XLM/USDT    0.902230 -1.879150e-05  0.866080      0.0  0.009706  0.750095   \n",
       "BCH/USDT    0.838448 -2.613472e-05  0.859336      0.0  0.009300  0.738459   \n",
       "ADA/USDT    1.015526 -3.114604e-05  0.851842      0.0  0.011638  0.725634   \n",
       "ALGO/USDT   1.077525 -1.419294e-04  0.850389      0.0  0.012425  0.723162   \n",
       "SAND/USDT   1.198569 -1.092179e-04  0.848984      0.0  0.013903  0.720773   \n",
       "AVAX/USDT   1.216379  3.278495e-07  0.846435      0.0  0.014262  0.716452   \n",
       "MANA/USDT   1.154788 -3.814596e-05  0.842264      0.0  0.013774  0.709408   \n",
       "XRP/USDT    0.860977  7.908318e-06  0.835884      0.0  0.010537  0.698703   \n",
       "XTZ/USDT    1.060709 -3.017482e-06  0.820671      0.0  0.013764  0.673501   \n",
       "EOS/USDT    0.882029 -1.042295e-05  0.819414      0.0  0.011499  0.671440   \n",
       "AAVE/USDT   1.227284  2.447159e-05  0.818242      0.0  0.016070  0.669520   \n",
       "HBAR/USDT   0.946736 -5.685056e-05  0.817679      0.0  0.012422  0.668599   \n",
       "FIL/USDT    1.015526 -9.043077e-05  0.816969      0.0  0.013360  0.667438   \n",
       "AXS/USDT    1.137144 -1.344786e-04  0.815938      0.0  0.015017  0.665754   \n",
       "EGLD/USDT   1.125479 -1.551703e-05  0.810753      0.0  0.015145  0.657320   \n",
       "FTM/USDT    1.311492 -3.316104e-05  0.809414      0.0  0.017733  0.655151   \n",
       "ICP/USDT    1.202905 -9.825172e-06  0.807810      0.0  0.016358  0.652557   \n",
       "THETA/USDT  1.215682  3.804976e-05  0.803573      0.0  0.016782  0.645730   \n",
       "SHIB/USDT   1.136013  1.332570e-05  0.794261      0.0  0.016196  0.630851   \n",
       "TRX/USDT    0.650849  8.675698e-06  0.791740      0.0  0.009359  0.626852   \n",
       "ETC/USDT    1.036351  1.199346e-04  0.780162      0.0  0.015488  0.608653   \n",
       "ATOM/USDT   1.170581  1.071860e-04  0.773132      0.0  0.017897  0.597732   \n",
       "DOGE/USDT   0.877335 -5.649773e-06  0.772781      0.0  0.013429  0.597190   \n",
       "LUNA/USDT   1.140747  1.520568e-04  0.762641      0.0  0.018032  0.581622   \n",
       "KLAY/USDT   0.656506 -4.253010e-05  0.756315      0.0  0.010584  0.572012   \n",
       "CAKE/USDT   0.909668  3.208590e-05  0.751940      0.0  0.014863  0.565414   \n",
       "NEAR/USDT   1.250615  2.013493e-04  0.741609      0.0  0.021083  0.549984   \n",
       "RUNE/USDT   1.285306  2.448299e-04  0.727878      0.0  0.022567  0.529806   \n",
       "ZEC/USDT    1.027068  1.239843e-04  0.712736      0.0  0.018838  0.507992   \n",
       "XMR/USDT    0.813687  2.162460e-04  0.686565      0.0  0.016059  0.471371   \n",
       "\n",
       "                 index  \n",
       "pair                    \n",
       "ETH/USDT      ETH/USDT  \n",
       "BNB/USDT      BNB/USDT  \n",
       "MATIC/USDT  MATIC/USDT  \n",
       "BTC/USDT      BTC/USDT  \n",
       "LTC/USDT      LTC/USDT  \n",
       "DOT/USDT      DOT/USDT  \n",
       "LINK/USDT    LINK/USDT  \n",
       "VET/USDT      VET/USDT  \n",
       "FTT/USDT      FTT/USDT  \n",
       "UNI/USDT      UNI/USDT  \n",
       "SOL/USDT      SOL/USDT  \n",
       "XLM/USDT      XLM/USDT  \n",
       "BCH/USDT      BCH/USDT  \n",
       "ADA/USDT      ADA/USDT  \n",
       "ALGO/USDT    ALGO/USDT  \n",
       "SAND/USDT    SAND/USDT  \n",
       "AVAX/USDT    AVAX/USDT  \n",
       "MANA/USDT    MANA/USDT  \n",
       "XRP/USDT      XRP/USDT  \n",
       "XTZ/USDT      XTZ/USDT  \n",
       "EOS/USDT      EOS/USDT  \n",
       "AAVE/USDT    AAVE/USDT  \n",
       "HBAR/USDT    HBAR/USDT  \n",
       "FIL/USDT      FIL/USDT  \n",
       "AXS/USDT      AXS/USDT  \n",
       "EGLD/USDT    EGLD/USDT  \n",
       "FTM/USDT      FTM/USDT  \n",
       "ICP/USDT      ICP/USDT  \n",
       "THETA/USDT  THETA/USDT  \n",
       "SHIB/USDT    SHIB/USDT  \n",
       "TRX/USDT      TRX/USDT  \n",
       "ETC/USDT      ETC/USDT  \n",
       "ATOM/USDT    ATOM/USDT  \n",
       "DOGE/USDT    DOGE/USDT  \n",
       "LUNA/USDT    LUNA/USDT  \n",
       "KLAY/USDT    KLAY/USDT  \n",
       "CAKE/USDT    CAKE/USDT  \n",
       "NEAR/USDT    NEAR/USDT  \n",
       "RUNE/USDT    RUNE/USDT  \n",
       "ZEC/USDT      ZEC/USDT  \n",
       "XMR/USDT      XMR/USDT  "
      ]
     },
     "execution_count": 259,
     "metadata": {},
     "output_type": "execute_result"
    }
   ],
   "source": [
    "regression_market"
   ]
  },
  {
   "cell_type": "code",
   "execution_count": 247,
   "id": "6e1cfafe",
   "metadata": {},
   "outputs": [
    {
     "data": {
      "text/html": [
       "<div>\n",
       "<style scoped>\n",
       "    .dataframe tbody tr th:only-of-type {\n",
       "        vertical-align: middle;\n",
       "    }\n",
       "\n",
       "    .dataframe tbody tr th {\n",
       "        vertical-align: top;\n",
       "    }\n",
       "\n",
       "    .dataframe thead th {\n",
       "        text-align: right;\n",
       "    }\n",
       "</style>\n",
       "<table border=\"1\" class=\"dataframe\">\n",
       "  <thead>\n",
       "    <tr style=\"text-align: right;\">\n",
       "      <th></th>\n",
       "      <th>slope</th>\n",
       "      <th>intercept</th>\n",
       "      <th>rvalue</th>\n",
       "      <th>p-value</th>\n",
       "      <th>stderr</th>\n",
       "      <th>r^2</th>\n",
       "    </tr>\n",
       "    <tr>\n",
       "      <th>pair</th>\n",
       "      <th></th>\n",
       "      <th></th>\n",
       "      <th></th>\n",
       "      <th></th>\n",
       "      <th></th>\n",
       "      <th></th>\n",
       "    </tr>\n",
       "  </thead>\n",
       "  <tbody>\n",
       "    <tr>\n",
       "      <th>RUNE/USDT</th>\n",
       "      <td>1.285306</td>\n",
       "      <td>2.448299e-04</td>\n",
       "      <td>0.727878</td>\n",
       "      <td>0.0</td>\n",
       "      <td>0.022567</td>\n",
       "      <td>0.529806</td>\n",
       "    </tr>\n",
       "    <tr>\n",
       "      <th>XMR/USDT</th>\n",
       "      <td>0.813687</td>\n",
       "      <td>2.162460e-04</td>\n",
       "      <td>0.686565</td>\n",
       "      <td>0.0</td>\n",
       "      <td>0.016059</td>\n",
       "      <td>0.471371</td>\n",
       "    </tr>\n",
       "    <tr>\n",
       "      <th>NEAR/USDT</th>\n",
       "      <td>1.250615</td>\n",
       "      <td>2.013493e-04</td>\n",
       "      <td>0.741609</td>\n",
       "      <td>0.0</td>\n",
       "      <td>0.021083</td>\n",
       "      <td>0.549984</td>\n",
       "    </tr>\n",
       "    <tr>\n",
       "      <th>LUNA/USDT</th>\n",
       "      <td>1.140747</td>\n",
       "      <td>1.520568e-04</td>\n",
       "      <td>0.762641</td>\n",
       "      <td>0.0</td>\n",
       "      <td>0.018032</td>\n",
       "      <td>0.581622</td>\n",
       "    </tr>\n",
       "    <tr>\n",
       "      <th>ZEC/USDT</th>\n",
       "      <td>1.027068</td>\n",
       "      <td>1.239843e-04</td>\n",
       "      <td>0.712736</td>\n",
       "      <td>0.0</td>\n",
       "      <td>0.018838</td>\n",
       "      <td>0.507992</td>\n",
       "    </tr>\n",
       "    <tr>\n",
       "      <th>ETC/USDT</th>\n",
       "      <td>1.036351</td>\n",
       "      <td>1.199346e-04</td>\n",
       "      <td>0.780162</td>\n",
       "      <td>0.0</td>\n",
       "      <td>0.015488</td>\n",
       "      <td>0.608653</td>\n",
       "    </tr>\n",
       "    <tr>\n",
       "      <th>ATOM/USDT</th>\n",
       "      <td>1.170581</td>\n",
       "      <td>1.071860e-04</td>\n",
       "      <td>0.773132</td>\n",
       "      <td>0.0</td>\n",
       "      <td>0.017897</td>\n",
       "      <td>0.597732</td>\n",
       "    </tr>\n",
       "    <tr>\n",
       "      <th>FTT/USDT</th>\n",
       "      <td>0.857740</td>\n",
       "      <td>8.801074e-05</td>\n",
       "      <td>0.872749</td>\n",
       "      <td>0.0</td>\n",
       "      <td>0.008942</td>\n",
       "      <td>0.761691</td>\n",
       "    </tr>\n",
       "    <tr>\n",
       "      <th>THETA/USDT</th>\n",
       "      <td>1.215682</td>\n",
       "      <td>3.804976e-05</td>\n",
       "      <td>0.803573</td>\n",
       "      <td>0.0</td>\n",
       "      <td>0.016782</td>\n",
       "      <td>0.645730</td>\n",
       "    </tr>\n",
       "    <tr>\n",
       "      <th>CAKE/USDT</th>\n",
       "      <td>0.909668</td>\n",
       "      <td>3.208590e-05</td>\n",
       "      <td>0.751940</td>\n",
       "      <td>0.0</td>\n",
       "      <td>0.014863</td>\n",
       "      <td>0.565414</td>\n",
       "    </tr>\n",
       "    <tr>\n",
       "      <th>AAVE/USDT</th>\n",
       "      <td>1.227284</td>\n",
       "      <td>2.447159e-05</td>\n",
       "      <td>0.818242</td>\n",
       "      <td>0.0</td>\n",
       "      <td>0.016070</td>\n",
       "      <td>0.669520</td>\n",
       "    </tr>\n",
       "    <tr>\n",
       "      <th>SHIB/USDT</th>\n",
       "      <td>1.136013</td>\n",
       "      <td>1.332570e-05</td>\n",
       "      <td>0.794261</td>\n",
       "      <td>0.0</td>\n",
       "      <td>0.016196</td>\n",
       "      <td>0.630851</td>\n",
       "    </tr>\n",
       "    <tr>\n",
       "      <th>TRX/USDT</th>\n",
       "      <td>0.650849</td>\n",
       "      <td>8.675698e-06</td>\n",
       "      <td>0.791740</td>\n",
       "      <td>0.0</td>\n",
       "      <td>0.009359</td>\n",
       "      <td>0.626852</td>\n",
       "    </tr>\n",
       "    <tr>\n",
       "      <th>XRP/USDT</th>\n",
       "      <td>0.860977</td>\n",
       "      <td>7.908318e-06</td>\n",
       "      <td>0.835884</td>\n",
       "      <td>0.0</td>\n",
       "      <td>0.010537</td>\n",
       "      <td>0.698703</td>\n",
       "    </tr>\n",
       "    <tr>\n",
       "      <th>AVAX/USDT</th>\n",
       "      <td>1.216379</td>\n",
       "      <td>3.278495e-07</td>\n",
       "      <td>0.846435</td>\n",
       "      <td>0.0</td>\n",
       "      <td>0.014262</td>\n",
       "      <td>0.716452</td>\n",
       "    </tr>\n",
       "    <tr>\n",
       "      <th>XTZ/USDT</th>\n",
       "      <td>1.060709</td>\n",
       "      <td>-3.017482e-06</td>\n",
       "      <td>0.820671</td>\n",
       "      <td>0.0</td>\n",
       "      <td>0.013764</td>\n",
       "      <td>0.673501</td>\n",
       "    </tr>\n",
       "    <tr>\n",
       "      <th>VET/USDT</th>\n",
       "      <td>1.214493</td>\n",
       "      <td>-4.440910e-06</td>\n",
       "      <td>0.879089</td>\n",
       "      <td>0.0</td>\n",
       "      <td>0.012273</td>\n",
       "      <td>0.772798</td>\n",
       "    </tr>\n",
       "    <tr>\n",
       "      <th>DOGE/USDT</th>\n",
       "      <td>0.877335</td>\n",
       "      <td>-5.649773e-06</td>\n",
       "      <td>0.772781</td>\n",
       "      <td>0.0</td>\n",
       "      <td>0.013429</td>\n",
       "      <td>0.597190</td>\n",
       "    </tr>\n",
       "    <tr>\n",
       "      <th>DOT/USDT</th>\n",
       "      <td>1.092366</td>\n",
       "      <td>-6.190746e-06</td>\n",
       "      <td>0.885190</td>\n",
       "      <td>0.0</td>\n",
       "      <td>0.010700</td>\n",
       "      <td>0.783562</td>\n",
       "    </tr>\n",
       "    <tr>\n",
       "      <th>ETH/USDT</th>\n",
       "      <td>0.903357</td>\n",
       "      <td>-7.401467e-06</td>\n",
       "      <td>0.927834</td>\n",
       "      <td>0.0</td>\n",
       "      <td>0.006768</td>\n",
       "      <td>0.860876</td>\n",
       "    </tr>\n",
       "    <tr>\n",
       "      <th>BTC/USDT</th>\n",
       "      <td>0.702842</td>\n",
       "      <td>-9.116258e-06</td>\n",
       "      <td>0.895316</td>\n",
       "      <td>0.0</td>\n",
       "      <td>0.006517</td>\n",
       "      <td>0.801591</td>\n",
       "    </tr>\n",
       "    <tr>\n",
       "      <th>ICP/USDT</th>\n",
       "      <td>1.202905</td>\n",
       "      <td>-9.825172e-06</td>\n",
       "      <td>0.807810</td>\n",
       "      <td>0.0</td>\n",
       "      <td>0.016358</td>\n",
       "      <td>0.652557</td>\n",
       "    </tr>\n",
       "    <tr>\n",
       "      <th>EOS/USDT</th>\n",
       "      <td>0.882029</td>\n",
       "      <td>-1.042295e-05</td>\n",
       "      <td>0.819414</td>\n",
       "      <td>0.0</td>\n",
       "      <td>0.011499</td>\n",
       "      <td>0.671440</td>\n",
       "    </tr>\n",
       "    <tr>\n",
       "      <th>BNB/USDT</th>\n",
       "      <td>0.769122</td>\n",
       "      <td>-1.522533e-05</td>\n",
       "      <td>0.897210</td>\n",
       "      <td>0.0</td>\n",
       "      <td>0.007055</td>\n",
       "      <td>0.804985</td>\n",
       "    </tr>\n",
       "    <tr>\n",
       "      <th>EGLD/USDT</th>\n",
       "      <td>1.125479</td>\n",
       "      <td>-1.551703e-05</td>\n",
       "      <td>0.810753</td>\n",
       "      <td>0.0</td>\n",
       "      <td>0.015145</td>\n",
       "      <td>0.657320</td>\n",
       "    </tr>\n",
       "    <tr>\n",
       "      <th>XLM/USDT</th>\n",
       "      <td>0.902230</td>\n",
       "      <td>-1.879150e-05</td>\n",
       "      <td>0.866080</td>\n",
       "      <td>0.0</td>\n",
       "      <td>0.009706</td>\n",
       "      <td>0.750095</td>\n",
       "    </tr>\n",
       "    <tr>\n",
       "      <th>LINK/USDT</th>\n",
       "      <td>1.157644</td>\n",
       "      <td>-2.074650e-05</td>\n",
       "      <td>0.883463</td>\n",
       "      <td>0.0</td>\n",
       "      <td>0.011441</td>\n",
       "      <td>0.780508</td>\n",
       "    </tr>\n",
       "    <tr>\n",
       "      <th>BCH/USDT</th>\n",
       "      <td>0.838448</td>\n",
       "      <td>-2.613472e-05</td>\n",
       "      <td>0.859336</td>\n",
       "      <td>0.0</td>\n",
       "      <td>0.009300</td>\n",
       "      <td>0.738459</td>\n",
       "    </tr>\n",
       "    <tr>\n",
       "      <th>ADA/USDT</th>\n",
       "      <td>1.015526</td>\n",
       "      <td>-3.114604e-05</td>\n",
       "      <td>0.851842</td>\n",
       "      <td>0.0</td>\n",
       "      <td>0.011638</td>\n",
       "      <td>0.725634</td>\n",
       "    </tr>\n",
       "    <tr>\n",
       "      <th>FTM/USDT</th>\n",
       "      <td>1.311492</td>\n",
       "      <td>-3.316104e-05</td>\n",
       "      <td>0.809414</td>\n",
       "      <td>0.0</td>\n",
       "      <td>0.017733</td>\n",
       "      <td>0.655151</td>\n",
       "    </tr>\n",
       "    <tr>\n",
       "      <th>MANA/USDT</th>\n",
       "      <td>1.154788</td>\n",
       "      <td>-3.814596e-05</td>\n",
       "      <td>0.842264</td>\n",
       "      <td>0.0</td>\n",
       "      <td>0.013774</td>\n",
       "      <td>0.709408</td>\n",
       "    </tr>\n",
       "    <tr>\n",
       "      <th>LTC/USDT</th>\n",
       "      <td>0.896421</td>\n",
       "      <td>-3.927267e-05</td>\n",
       "      <td>0.885763</td>\n",
       "      <td>0.0</td>\n",
       "      <td>0.008754</td>\n",
       "      <td>0.784577</td>\n",
       "    </tr>\n",
       "    <tr>\n",
       "      <th>KLAY/USDT</th>\n",
       "      <td>0.656506</td>\n",
       "      <td>-4.253010e-05</td>\n",
       "      <td>0.756315</td>\n",
       "      <td>0.0</td>\n",
       "      <td>0.010584</td>\n",
       "      <td>0.572012</td>\n",
       "    </tr>\n",
       "    <tr>\n",
       "      <th>HBAR/USDT</th>\n",
       "      <td>0.946736</td>\n",
       "      <td>-5.685056e-05</td>\n",
       "      <td>0.817679</td>\n",
       "      <td>0.0</td>\n",
       "      <td>0.012422</td>\n",
       "      <td>0.668599</td>\n",
       "    </tr>\n",
       "    <tr>\n",
       "      <th>MATIC/USDT</th>\n",
       "      <td>1.175390</td>\n",
       "      <td>-5.774347e-05</td>\n",
       "      <td>0.896326</td>\n",
       "      <td>0.0</td>\n",
       "      <td>0.010836</td>\n",
       "      <td>0.803400</td>\n",
       "    </tr>\n",
       "    <tr>\n",
       "      <th>SOL/USDT</th>\n",
       "      <td>1.182770</td>\n",
       "      <td>-6.234685e-05</td>\n",
       "      <td>0.866524</td>\n",
       "      <td>0.0</td>\n",
       "      <td>0.012697</td>\n",
       "      <td>0.750864</td>\n",
       "    </tr>\n",
       "    <tr>\n",
       "      <th>UNI/USDT</th>\n",
       "      <td>1.124006</td>\n",
       "      <td>-8.873014e-05</td>\n",
       "      <td>0.867714</td>\n",
       "      <td>0.0</td>\n",
       "      <td>0.012000</td>\n",
       "      <td>0.752928</td>\n",
       "    </tr>\n",
       "    <tr>\n",
       "      <th>FIL/USDT</th>\n",
       "      <td>1.015526</td>\n",
       "      <td>-9.043077e-05</td>\n",
       "      <td>0.816969</td>\n",
       "      <td>0.0</td>\n",
       "      <td>0.013360</td>\n",
       "      <td>0.667438</td>\n",
       "    </tr>\n",
       "    <tr>\n",
       "      <th>SAND/USDT</th>\n",
       "      <td>1.198569</td>\n",
       "      <td>-1.092179e-04</td>\n",
       "      <td>0.848984</td>\n",
       "      <td>0.0</td>\n",
       "      <td>0.013903</td>\n",
       "      <td>0.720773</td>\n",
       "    </tr>\n",
       "    <tr>\n",
       "      <th>AXS/USDT</th>\n",
       "      <td>1.137144</td>\n",
       "      <td>-1.344786e-04</td>\n",
       "      <td>0.815938</td>\n",
       "      <td>0.0</td>\n",
       "      <td>0.015017</td>\n",
       "      <td>0.665754</td>\n",
       "    </tr>\n",
       "    <tr>\n",
       "      <th>ALGO/USDT</th>\n",
       "      <td>1.077525</td>\n",
       "      <td>-1.419294e-04</td>\n",
       "      <td>0.850389</td>\n",
       "      <td>0.0</td>\n",
       "      <td>0.012425</td>\n",
       "      <td>0.723162</td>\n",
       "    </tr>\n",
       "  </tbody>\n",
       "</table>\n",
       "</div>"
      ],
      "text/plain": [
       "               slope     intercept    rvalue  p-value    stderr       r^2\n",
       "pair                                                                     \n",
       "RUNE/USDT   1.285306  2.448299e-04  0.727878      0.0  0.022567  0.529806\n",
       "XMR/USDT    0.813687  2.162460e-04  0.686565      0.0  0.016059  0.471371\n",
       "NEAR/USDT   1.250615  2.013493e-04  0.741609      0.0  0.021083  0.549984\n",
       "LUNA/USDT   1.140747  1.520568e-04  0.762641      0.0  0.018032  0.581622\n",
       "ZEC/USDT    1.027068  1.239843e-04  0.712736      0.0  0.018838  0.507992\n",
       "ETC/USDT    1.036351  1.199346e-04  0.780162      0.0  0.015488  0.608653\n",
       "ATOM/USDT   1.170581  1.071860e-04  0.773132      0.0  0.017897  0.597732\n",
       "FTT/USDT    0.857740  8.801074e-05  0.872749      0.0  0.008942  0.761691\n",
       "THETA/USDT  1.215682  3.804976e-05  0.803573      0.0  0.016782  0.645730\n",
       "CAKE/USDT   0.909668  3.208590e-05  0.751940      0.0  0.014863  0.565414\n",
       "AAVE/USDT   1.227284  2.447159e-05  0.818242      0.0  0.016070  0.669520\n",
       "SHIB/USDT   1.136013  1.332570e-05  0.794261      0.0  0.016196  0.630851\n",
       "TRX/USDT    0.650849  8.675698e-06  0.791740      0.0  0.009359  0.626852\n",
       "XRP/USDT    0.860977  7.908318e-06  0.835884      0.0  0.010537  0.698703\n",
       "AVAX/USDT   1.216379  3.278495e-07  0.846435      0.0  0.014262  0.716452\n",
       "XTZ/USDT    1.060709 -3.017482e-06  0.820671      0.0  0.013764  0.673501\n",
       "VET/USDT    1.214493 -4.440910e-06  0.879089      0.0  0.012273  0.772798\n",
       "DOGE/USDT   0.877335 -5.649773e-06  0.772781      0.0  0.013429  0.597190\n",
       "DOT/USDT    1.092366 -6.190746e-06  0.885190      0.0  0.010700  0.783562\n",
       "ETH/USDT    0.903357 -7.401467e-06  0.927834      0.0  0.006768  0.860876\n",
       "BTC/USDT    0.702842 -9.116258e-06  0.895316      0.0  0.006517  0.801591\n",
       "ICP/USDT    1.202905 -9.825172e-06  0.807810      0.0  0.016358  0.652557\n",
       "EOS/USDT    0.882029 -1.042295e-05  0.819414      0.0  0.011499  0.671440\n",
       "BNB/USDT    0.769122 -1.522533e-05  0.897210      0.0  0.007055  0.804985\n",
       "EGLD/USDT   1.125479 -1.551703e-05  0.810753      0.0  0.015145  0.657320\n",
       "XLM/USDT    0.902230 -1.879150e-05  0.866080      0.0  0.009706  0.750095\n",
       "LINK/USDT   1.157644 -2.074650e-05  0.883463      0.0  0.011441  0.780508\n",
       "BCH/USDT    0.838448 -2.613472e-05  0.859336      0.0  0.009300  0.738459\n",
       "ADA/USDT    1.015526 -3.114604e-05  0.851842      0.0  0.011638  0.725634\n",
       "FTM/USDT    1.311492 -3.316104e-05  0.809414      0.0  0.017733  0.655151\n",
       "MANA/USDT   1.154788 -3.814596e-05  0.842264      0.0  0.013774  0.709408\n",
       "LTC/USDT    0.896421 -3.927267e-05  0.885763      0.0  0.008754  0.784577\n",
       "KLAY/USDT   0.656506 -4.253010e-05  0.756315      0.0  0.010584  0.572012\n",
       "HBAR/USDT   0.946736 -5.685056e-05  0.817679      0.0  0.012422  0.668599\n",
       "MATIC/USDT  1.175390 -5.774347e-05  0.896326      0.0  0.010836  0.803400\n",
       "SOL/USDT    1.182770 -6.234685e-05  0.866524      0.0  0.012697  0.750864\n",
       "UNI/USDT    1.124006 -8.873014e-05  0.867714      0.0  0.012000  0.752928\n",
       "FIL/USDT    1.015526 -9.043077e-05  0.816969      0.0  0.013360  0.667438\n",
       "SAND/USDT   1.198569 -1.092179e-04  0.848984      0.0  0.013903  0.720773\n",
       "AXS/USDT    1.137144 -1.344786e-04  0.815938      0.0  0.015017  0.665754\n",
       "ALGO/USDT   1.077525 -1.419294e-04  0.850389      0.0  0.012425  0.723162"
      ]
     },
     "execution_count": 247,
     "metadata": {},
     "output_type": "execute_result"
    }
   ],
   "source": [
    "regression_market.sort_values('intercept',ascending=False)"
   ]
  },
  {
   "cell_type": "code",
   "execution_count": 256,
   "id": "91427c7a",
   "metadata": {},
   "outputs": [],
   "source": [
    "regression_market['index'] = regression_market.index"
   ]
  },
  {
   "cell_type": "code",
   "execution_count": 258,
   "id": "a27bc8c7",
   "metadata": {},
   "outputs": [
    {
     "data": {
      "application/vnd.plotly.v1+json": {
       "config": {
        "plotlyServerURL": "https://plot.ly"
       },
       "data": [
        {
         "hovertemplate": "symbol=ETH/USDT<br>x=%{x}<br>y=%{y}<extra></extra>",
         "legendgroup": "ETH/USDT",
         "marker": {
          "color": "#636efa",
          "symbol": "circle"
         },
         "mode": "markers",
         "name": "ETH/USDT",
         "orientation": "v",
         "showlegend": true,
         "type": "scatter",
         "x": [
          0.8608755352118265
         ],
         "xaxis": "x",
         "y": [
          -7.401466874436713e-06
         ],
         "yaxis": "y"
        },
        {
         "hovertemplate": "symbol=BNB/USDT<br>x=%{x}<br>y=%{y}<extra></extra>",
         "legendgroup": "BNB/USDT",
         "marker": {
          "color": "#636efa",
          "symbol": "diamond"
         },
         "mode": "markers",
         "name": "BNB/USDT",
         "orientation": "v",
         "showlegend": true,
         "type": "scatter",
         "x": [
          0.8049849076434168
         ],
         "xaxis": "x",
         "y": [
          -1.5225325891230117e-05
         ],
         "yaxis": "y"
        },
        {
         "hovertemplate": "symbol=MATIC/USDT<br>x=%{x}<br>y=%{y}<extra></extra>",
         "legendgroup": "MATIC/USDT",
         "marker": {
          "color": "#636efa",
          "symbol": "square"
         },
         "mode": "markers",
         "name": "MATIC/USDT",
         "orientation": "v",
         "showlegend": true,
         "type": "scatter",
         "x": [
          0.803400463703204
         ],
         "xaxis": "x",
         "y": [
          -5.774346846193314e-05
         ],
         "yaxis": "y"
        },
        {
         "hovertemplate": "symbol=BTC/USDT<br>x=%{x}<br>y=%{y}<extra></extra>",
         "legendgroup": "BTC/USDT",
         "marker": {
          "color": "#636efa",
          "symbol": "x"
         },
         "mode": "markers",
         "name": "BTC/USDT",
         "orientation": "v",
         "showlegend": true,
         "type": "scatter",
         "x": [
          0.8015906032573308
         ],
         "xaxis": "x",
         "y": [
          -9.116257892291458e-06
         ],
         "yaxis": "y"
        },
        {
         "hovertemplate": "symbol=LTC/USDT<br>x=%{x}<br>y=%{y}<extra></extra>",
         "legendgroup": "LTC/USDT",
         "marker": {
          "color": "#636efa",
          "symbol": "cross"
         },
         "mode": "markers",
         "name": "LTC/USDT",
         "orientation": "v",
         "showlegend": true,
         "type": "scatter",
         "x": [
          0.7845766990172754
         ],
         "xaxis": "x",
         "y": [
          -3.927267306278861e-05
         ],
         "yaxis": "y"
        },
        {
         "hovertemplate": "symbol=DOT/USDT<br>x=%{x}<br>y=%{y}<extra></extra>",
         "legendgroup": "DOT/USDT",
         "marker": {
          "color": "#636efa",
          "symbol": "circle"
         },
         "mode": "markers",
         "name": "DOT/USDT",
         "orientation": "v",
         "showlegend": true,
         "type": "scatter",
         "x": [
          0.7835619242365772
         ],
         "xaxis": "x",
         "y": [
          -6.1907459472565805e-06
         ],
         "yaxis": "y"
        },
        {
         "hovertemplate": "symbol=LINK/USDT<br>x=%{x}<br>y=%{y}<extra></extra>",
         "legendgroup": "LINK/USDT",
         "marker": {
          "color": "#636efa",
          "symbol": "diamond"
         },
         "mode": "markers",
         "name": "LINK/USDT",
         "orientation": "v",
         "showlegend": true,
         "type": "scatter",
         "x": [
          0.7805076413207831
         ],
         "xaxis": "x",
         "y": [
          -2.0746495756988068e-05
         ],
         "yaxis": "y"
        },
        {
         "hovertemplate": "symbol=VET/USDT<br>x=%{x}<br>y=%{y}<extra></extra>",
         "legendgroup": "VET/USDT",
         "marker": {
          "color": "#636efa",
          "symbol": "square"
         },
         "mode": "markers",
         "name": "VET/USDT",
         "orientation": "v",
         "showlegend": true,
         "type": "scatter",
         "x": [
          0.7727978550105236
         ],
         "xaxis": "x",
         "y": [
          -4.440910047943367e-06
         ],
         "yaxis": "y"
        },
        {
         "hovertemplate": "symbol=FTT/USDT<br>x=%{x}<br>y=%{y}<extra></extra>",
         "legendgroup": "FTT/USDT",
         "marker": {
          "color": "#636efa",
          "symbol": "x"
         },
         "mode": "markers",
         "name": "FTT/USDT",
         "orientation": "v",
         "showlegend": true,
         "type": "scatter",
         "x": [
          0.761691148765098
         ],
         "xaxis": "x",
         "y": [
          8.801073851061696e-05
         ],
         "yaxis": "y"
        },
        {
         "hovertemplate": "symbol=UNI/USDT<br>x=%{x}<br>y=%{y}<extra></extra>",
         "legendgroup": "UNI/USDT",
         "marker": {
          "color": "#636efa",
          "symbol": "cross"
         },
         "mode": "markers",
         "name": "UNI/USDT",
         "orientation": "v",
         "showlegend": true,
         "type": "scatter",
         "x": [
          0.7529284128985205
         ],
         "xaxis": "x",
         "y": [
          -8.873014197925648e-05
         ],
         "yaxis": "y"
        },
        {
         "hovertemplate": "symbol=SOL/USDT<br>x=%{x}<br>y=%{y}<extra></extra>",
         "legendgroup": "SOL/USDT",
         "marker": {
          "color": "#636efa",
          "symbol": "circle"
         },
         "mode": "markers",
         "name": "SOL/USDT",
         "orientation": "v",
         "showlegend": true,
         "type": "scatter",
         "x": [
          0.7508636189706089
         ],
         "xaxis": "x",
         "y": [
          -6.234684900041176e-05
         ],
         "yaxis": "y"
        },
        {
         "hovertemplate": "symbol=XLM/USDT<br>x=%{x}<br>y=%{y}<extra></extra>",
         "legendgroup": "XLM/USDT",
         "marker": {
          "color": "#636efa",
          "symbol": "diamond"
         },
         "mode": "markers",
         "name": "XLM/USDT",
         "orientation": "v",
         "showlegend": true,
         "type": "scatter",
         "x": [
          0.7500951047185714
         ],
         "xaxis": "x",
         "y": [
          -1.8791502897325498e-05
         ],
         "yaxis": "y"
        },
        {
         "hovertemplate": "symbol=BCH/USDT<br>x=%{x}<br>y=%{y}<extra></extra>",
         "legendgroup": "BCH/USDT",
         "marker": {
          "color": "#636efa",
          "symbol": "square"
         },
         "mode": "markers",
         "name": "BCH/USDT",
         "orientation": "v",
         "showlegend": true,
         "type": "scatter",
         "x": [
          0.7384590595733923
         ],
         "xaxis": "x",
         "y": [
          -2.6134723988469427e-05
         ],
         "yaxis": "y"
        },
        {
         "hovertemplate": "symbol=ADA/USDT<br>x=%{x}<br>y=%{y}<extra></extra>",
         "legendgroup": "ADA/USDT",
         "marker": {
          "color": "#636efa",
          "symbol": "x"
         },
         "mode": "markers",
         "name": "ADA/USDT",
         "orientation": "v",
         "showlegend": true,
         "type": "scatter",
         "x": [
          0.7256344278309927
         ],
         "xaxis": "x",
         "y": [
          -3.114603559759558e-05
         ],
         "yaxis": "y"
        },
        {
         "hovertemplate": "symbol=ALGO/USDT<br>x=%{x}<br>y=%{y}<extra></extra>",
         "legendgroup": "ALGO/USDT",
         "marker": {
          "color": "#636efa",
          "symbol": "cross"
         },
         "mode": "markers",
         "name": "ALGO/USDT",
         "orientation": "v",
         "showlegend": true,
         "type": "scatter",
         "x": [
          0.7231622114042922
         ],
         "xaxis": "x",
         "y": [
          -0.00014192937803913404
         ],
         "yaxis": "y"
        },
        {
         "hovertemplate": "symbol=SAND/USDT<br>x=%{x}<br>y=%{y}<extra></extra>",
         "legendgroup": "SAND/USDT",
         "marker": {
          "color": "#636efa",
          "symbol": "circle"
         },
         "mode": "markers",
         "name": "SAND/USDT",
         "orientation": "v",
         "showlegend": true,
         "type": "scatter",
         "x": [
          0.7207734230461835
         ],
         "xaxis": "x",
         "y": [
          -0.00010921788404840472
         ],
         "yaxis": "y"
        },
        {
         "hovertemplate": "symbol=AVAX/USDT<br>x=%{x}<br>y=%{y}<extra></extra>",
         "legendgroup": "AVAX/USDT",
         "marker": {
          "color": "#636efa",
          "symbol": "diamond"
         },
         "mode": "markers",
         "name": "AVAX/USDT",
         "orientation": "v",
         "showlegend": true,
         "type": "scatter",
         "x": [
          0.7164520308604437
         ],
         "xaxis": "x",
         "y": [
          3.27849468768817e-07
         ],
         "yaxis": "y"
        },
        {
         "hovertemplate": "symbol=MANA/USDT<br>x=%{x}<br>y=%{y}<extra></extra>",
         "legendgroup": "MANA/USDT",
         "marker": {
          "color": "#636efa",
          "symbol": "square"
         },
         "mode": "markers",
         "name": "MANA/USDT",
         "orientation": "v",
         "showlegend": true,
         "type": "scatter",
         "x": [
          0.7094078081320628
         ],
         "xaxis": "x",
         "y": [
          -3.814595831523779e-05
         ],
         "yaxis": "y"
        },
        {
         "hovertemplate": "symbol=XRP/USDT<br>x=%{x}<br>y=%{y}<extra></extra>",
         "legendgroup": "XRP/USDT",
         "marker": {
          "color": "#636efa",
          "symbol": "x"
         },
         "mode": "markers",
         "name": "XRP/USDT",
         "orientation": "v",
         "showlegend": true,
         "type": "scatter",
         "x": [
          0.6987028431508724
         ],
         "xaxis": "x",
         "y": [
          7.908317709065388e-06
         ],
         "yaxis": "y"
        },
        {
         "hovertemplate": "symbol=XTZ/USDT<br>x=%{x}<br>y=%{y}<extra></extra>",
         "legendgroup": "XTZ/USDT",
         "marker": {
          "color": "#636efa",
          "symbol": "cross"
         },
         "mode": "markers",
         "name": "XTZ/USDT",
         "orientation": "v",
         "showlegend": true,
         "type": "scatter",
         "x": [
          0.6735005809835752
         ],
         "xaxis": "x",
         "y": [
          -3.0174822119410878e-06
         ],
         "yaxis": "y"
        },
        {
         "hovertemplate": "symbol=EOS/USDT<br>x=%{x}<br>y=%{y}<extra></extra>",
         "legendgroup": "EOS/USDT",
         "marker": {
          "color": "#636efa",
          "symbol": "circle"
         },
         "mode": "markers",
         "name": "EOS/USDT",
         "orientation": "v",
         "showlegend": true,
         "type": "scatter",
         "x": [
          0.6714398016911245
         ],
         "xaxis": "x",
         "y": [
          -1.0422945246362929e-05
         ],
         "yaxis": "y"
        },
        {
         "hovertemplate": "symbol=AAVE/USDT<br>x=%{x}<br>y=%{y}<extra></extra>",
         "legendgroup": "AAVE/USDT",
         "marker": {
          "color": "#636efa",
          "symbol": "diamond"
         },
         "mode": "markers",
         "name": "AAVE/USDT",
         "orientation": "v",
         "showlegend": true,
         "type": "scatter",
         "x": [
          0.6695203331835274
         ],
         "xaxis": "x",
         "y": [
          2.447159223579223e-05
         ],
         "yaxis": "y"
        },
        {
         "hovertemplate": "symbol=HBAR/USDT<br>x=%{x}<br>y=%{y}<extra></extra>",
         "legendgroup": "HBAR/USDT",
         "marker": {
          "color": "#636efa",
          "symbol": "square"
         },
         "mode": "markers",
         "name": "HBAR/USDT",
         "orientation": "v",
         "showlegend": true,
         "type": "scatter",
         "x": [
          0.6685991413467133
         ],
         "xaxis": "x",
         "y": [
          -5.685055948318587e-05
         ],
         "yaxis": "y"
        },
        {
         "hovertemplate": "symbol=FIL/USDT<br>x=%{x}<br>y=%{y}<extra></extra>",
         "legendgroup": "FIL/USDT",
         "marker": {
          "color": "#636efa",
          "symbol": "x"
         },
         "mode": "markers",
         "name": "FIL/USDT",
         "orientation": "v",
         "showlegend": true,
         "type": "scatter",
         "x": [
          0.6674375367242872
         ],
         "xaxis": "x",
         "y": [
          -9.043076937694562e-05
         ],
         "yaxis": "y"
        },
        {
         "hovertemplate": "symbol=AXS/USDT<br>x=%{x}<br>y=%{y}<extra></extra>",
         "legendgroup": "AXS/USDT",
         "marker": {
          "color": "#636efa",
          "symbol": "cross"
         },
         "mode": "markers",
         "name": "AXS/USDT",
         "orientation": "v",
         "showlegend": true,
         "type": "scatter",
         "x": [
          0.6657541386529964
         ],
         "xaxis": "x",
         "y": [
          -0.00013447859855065646
         ],
         "yaxis": "y"
        },
        {
         "hovertemplate": "symbol=EGLD/USDT<br>x=%{x}<br>y=%{y}<extra></extra>",
         "legendgroup": "EGLD/USDT",
         "marker": {
          "color": "#636efa",
          "symbol": "circle"
         },
         "mode": "markers",
         "name": "EGLD/USDT",
         "orientation": "v",
         "showlegend": true,
         "type": "scatter",
         "x": [
          0.657319735810733
         ],
         "xaxis": "x",
         "y": [
          -1.55170250712902e-05
         ],
         "yaxis": "y"
        },
        {
         "hovertemplate": "symbol=FTM/USDT<br>x=%{x}<br>y=%{y}<extra></extra>",
         "legendgroup": "FTM/USDT",
         "marker": {
          "color": "#636efa",
          "symbol": "diamond"
         },
         "mode": "markers",
         "name": "FTM/USDT",
         "orientation": "v",
         "showlegend": true,
         "type": "scatter",
         "x": [
          0.6551505583671213
         ],
         "xaxis": "x",
         "y": [
          -3.316103911466504e-05
         ],
         "yaxis": "y"
        },
        {
         "hovertemplate": "symbol=ICP/USDT<br>x=%{x}<br>y=%{y}<extra></extra>",
         "legendgroup": "ICP/USDT",
         "marker": {
          "color": "#636efa",
          "symbol": "square"
         },
         "mode": "markers",
         "name": "ICP/USDT",
         "orientation": "v",
         "showlegend": true,
         "type": "scatter",
         "x": [
          0.6525574156693352
         ],
         "xaxis": "x",
         "y": [
          -9.82517179612669e-06
         ],
         "yaxis": "y"
        },
        {
         "hovertemplate": "symbol=THETA/USDT<br>x=%{x}<br>y=%{y}<extra></extra>",
         "legendgroup": "THETA/USDT",
         "marker": {
          "color": "#636efa",
          "symbol": "x"
         },
         "mode": "markers",
         "name": "THETA/USDT",
         "orientation": "v",
         "showlegend": true,
         "type": "scatter",
         "x": [
          0.6457295910016424
         ],
         "xaxis": "x",
         "y": [
          3.804975662718739e-05
         ],
         "yaxis": "y"
        },
        {
         "hovertemplate": "symbol=SHIB/USDT<br>x=%{x}<br>y=%{y}<extra></extra>",
         "legendgroup": "SHIB/USDT",
         "marker": {
          "color": "#636efa",
          "symbol": "cross"
         },
         "mode": "markers",
         "name": "SHIB/USDT",
         "orientation": "v",
         "showlegend": true,
         "type": "scatter",
         "x": [
          0.6308508682849873
         ],
         "xaxis": "x",
         "y": [
          1.3325704578933051e-05
         ],
         "yaxis": "y"
        },
        {
         "hovertemplate": "symbol=TRX/USDT<br>x=%{x}<br>y=%{y}<extra></extra>",
         "legendgroup": "TRX/USDT",
         "marker": {
          "color": "#636efa",
          "symbol": "circle"
         },
         "mode": "markers",
         "name": "TRX/USDT",
         "orientation": "v",
         "showlegend": true,
         "type": "scatter",
         "x": [
          0.626851504905372
         ],
         "xaxis": "x",
         "y": [
          8.675697535141566e-06
         ],
         "yaxis": "y"
        },
        {
         "hovertemplate": "symbol=ETC/USDT<br>x=%{x}<br>y=%{y}<extra></extra>",
         "legendgroup": "ETC/USDT",
         "marker": {
          "color": "#636efa",
          "symbol": "diamond"
         },
         "mode": "markers",
         "name": "ETC/USDT",
         "orientation": "v",
         "showlegend": true,
         "type": "scatter",
         "x": [
          0.6086525805598885
         ],
         "xaxis": "x",
         "y": [
          0.00011993455911161403
         ],
         "yaxis": "y"
        },
        {
         "hovertemplate": "symbol=ATOM/USDT<br>x=%{x}<br>y=%{y}<extra></extra>",
         "legendgroup": "ATOM/USDT",
         "marker": {
          "color": "#636efa",
          "symbol": "square"
         },
         "mode": "markers",
         "name": "ATOM/USDT",
         "orientation": "v",
         "showlegend": true,
         "type": "scatter",
         "x": [
          0.5977324233919503
         ],
         "xaxis": "x",
         "y": [
          0.0001071859809862487
         ],
         "yaxis": "y"
        },
        {
         "hovertemplate": "symbol=DOGE/USDT<br>x=%{x}<br>y=%{y}<extra></extra>",
         "legendgroup": "DOGE/USDT",
         "marker": {
          "color": "#636efa",
          "symbol": "x"
         },
         "mode": "markers",
         "name": "DOGE/USDT",
         "orientation": "v",
         "showlegend": true,
         "type": "scatter",
         "x": [
          0.597190442733589
         ],
         "xaxis": "x",
         "y": [
          -5.649773297369294e-06
         ],
         "yaxis": "y"
        },
        {
         "hovertemplate": "symbol=LUNA/USDT<br>x=%{x}<br>y=%{y}<extra></extra>",
         "legendgroup": "LUNA/USDT",
         "marker": {
          "color": "#636efa",
          "symbol": "cross"
         },
         "mode": "markers",
         "name": "LUNA/USDT",
         "orientation": "v",
         "showlegend": true,
         "type": "scatter",
         "x": [
          0.5816216712505726
         ],
         "xaxis": "x",
         "y": [
          0.00015205679738070028
         ],
         "yaxis": "y"
        },
        {
         "hovertemplate": "symbol=KLAY/USDT<br>x=%{x}<br>y=%{y}<extra></extra>",
         "legendgroup": "KLAY/USDT",
         "marker": {
          "color": "#636efa",
          "symbol": "circle"
         },
         "mode": "markers",
         "name": "KLAY/USDT",
         "orientation": "v",
         "showlegend": true,
         "type": "scatter",
         "x": [
          0.5720119485686208
         ],
         "xaxis": "x",
         "y": [
          -4.2530101873021135e-05
         ],
         "yaxis": "y"
        },
        {
         "hovertemplate": "symbol=CAKE/USDT<br>x=%{x}<br>y=%{y}<extra></extra>",
         "legendgroup": "CAKE/USDT",
         "marker": {
          "color": "#636efa",
          "symbol": "diamond"
         },
         "mode": "markers",
         "name": "CAKE/USDT",
         "orientation": "v",
         "showlegend": true,
         "type": "scatter",
         "x": [
          0.5654136214508044
         ],
         "xaxis": "x",
         "y": [
          3.2085904972440825e-05
         ],
         "yaxis": "y"
        },
        {
         "hovertemplate": "symbol=NEAR/USDT<br>x=%{x}<br>y=%{y}<extra></extra>",
         "legendgroup": "NEAR/USDT",
         "marker": {
          "color": "#636efa",
          "symbol": "square"
         },
         "mode": "markers",
         "name": "NEAR/USDT",
         "orientation": "v",
         "showlegend": true,
         "type": "scatter",
         "x": [
          0.5499843640268076
         ],
         "xaxis": "x",
         "y": [
          0.0002013492850914576
         ],
         "yaxis": "y"
        },
        {
         "hovertemplate": "symbol=RUNE/USDT<br>x=%{x}<br>y=%{y}<extra></extra>",
         "legendgroup": "RUNE/USDT",
         "marker": {
          "color": "#636efa",
          "symbol": "x"
         },
         "mode": "markers",
         "name": "RUNE/USDT",
         "orientation": "v",
         "showlegend": true,
         "type": "scatter",
         "x": [
          0.5298057942352731
         ],
         "xaxis": "x",
         "y": [
          0.0002448298702706696
         ],
         "yaxis": "y"
        },
        {
         "hovertemplate": "symbol=ZEC/USDT<br>x=%{x}<br>y=%{y}<extra></extra>",
         "legendgroup": "ZEC/USDT",
         "marker": {
          "color": "#636efa",
          "symbol": "cross"
         },
         "mode": "markers",
         "name": "ZEC/USDT",
         "orientation": "v",
         "showlegend": true,
         "type": "scatter",
         "x": [
          0.5079921049348533
         ],
         "xaxis": "x",
         "y": [
          0.000123984255062733
         ],
         "yaxis": "y"
        },
        {
         "hovertemplate": "symbol=XMR/USDT<br>x=%{x}<br>y=%{y}<extra></extra>",
         "legendgroup": "XMR/USDT",
         "marker": {
          "color": "#636efa",
          "symbol": "circle"
         },
         "mode": "markers",
         "name": "XMR/USDT",
         "orientation": "v",
         "showlegend": true,
         "type": "scatter",
         "x": [
          0.471371208317151
         ],
         "xaxis": "x",
         "y": [
          0.0002162459810157773
         ],
         "yaxis": "y"
        }
       ],
       "layout": {
        "legend": {
         "title": {
          "text": "symbol"
         },
         "tracegroupgap": 0
        },
        "margin": {
         "t": 60
        },
        "template": {
         "data": {
          "bar": [
           {
            "error_x": {
             "color": "#2a3f5f"
            },
            "error_y": {
             "color": "#2a3f5f"
            },
            "marker": {
             "line": {
              "color": "#E5ECF6",
              "width": 0.5
             },
             "pattern": {
              "fillmode": "overlay",
              "size": 10,
              "solidity": 0.2
             }
            },
            "type": "bar"
           }
          ],
          "barpolar": [
           {
            "marker": {
             "line": {
              "color": "#E5ECF6",
              "width": 0.5
             },
             "pattern": {
              "fillmode": "overlay",
              "size": 10,
              "solidity": 0.2
             }
            },
            "type": "barpolar"
           }
          ],
          "carpet": [
           {
            "aaxis": {
             "endlinecolor": "#2a3f5f",
             "gridcolor": "white",
             "linecolor": "white",
             "minorgridcolor": "white",
             "startlinecolor": "#2a3f5f"
            },
            "baxis": {
             "endlinecolor": "#2a3f5f",
             "gridcolor": "white",
             "linecolor": "white",
             "minorgridcolor": "white",
             "startlinecolor": "#2a3f5f"
            },
            "type": "carpet"
           }
          ],
          "choropleth": [
           {
            "colorbar": {
             "outlinewidth": 0,
             "ticks": ""
            },
            "type": "choropleth"
           }
          ],
          "contour": [
           {
            "colorbar": {
             "outlinewidth": 0,
             "ticks": ""
            },
            "colorscale": [
             [
              0,
              "#0d0887"
             ],
             [
              0.1111111111111111,
              "#46039f"
             ],
             [
              0.2222222222222222,
              "#7201a8"
             ],
             [
              0.3333333333333333,
              "#9c179e"
             ],
             [
              0.4444444444444444,
              "#bd3786"
             ],
             [
              0.5555555555555556,
              "#d8576b"
             ],
             [
              0.6666666666666666,
              "#ed7953"
             ],
             [
              0.7777777777777778,
              "#fb9f3a"
             ],
             [
              0.8888888888888888,
              "#fdca26"
             ],
             [
              1,
              "#f0f921"
             ]
            ],
            "type": "contour"
           }
          ],
          "contourcarpet": [
           {
            "colorbar": {
             "outlinewidth": 0,
             "ticks": ""
            },
            "type": "contourcarpet"
           }
          ],
          "heatmap": [
           {
            "colorbar": {
             "outlinewidth": 0,
             "ticks": ""
            },
            "colorscale": [
             [
              0,
              "#0d0887"
             ],
             [
              0.1111111111111111,
              "#46039f"
             ],
             [
              0.2222222222222222,
              "#7201a8"
             ],
             [
              0.3333333333333333,
              "#9c179e"
             ],
             [
              0.4444444444444444,
              "#bd3786"
             ],
             [
              0.5555555555555556,
              "#d8576b"
             ],
             [
              0.6666666666666666,
              "#ed7953"
             ],
             [
              0.7777777777777778,
              "#fb9f3a"
             ],
             [
              0.8888888888888888,
              "#fdca26"
             ],
             [
              1,
              "#f0f921"
             ]
            ],
            "type": "heatmap"
           }
          ],
          "heatmapgl": [
           {
            "colorbar": {
             "outlinewidth": 0,
             "ticks": ""
            },
            "colorscale": [
             [
              0,
              "#0d0887"
             ],
             [
              0.1111111111111111,
              "#46039f"
             ],
             [
              0.2222222222222222,
              "#7201a8"
             ],
             [
              0.3333333333333333,
              "#9c179e"
             ],
             [
              0.4444444444444444,
              "#bd3786"
             ],
             [
              0.5555555555555556,
              "#d8576b"
             ],
             [
              0.6666666666666666,
              "#ed7953"
             ],
             [
              0.7777777777777778,
              "#fb9f3a"
             ],
             [
              0.8888888888888888,
              "#fdca26"
             ],
             [
              1,
              "#f0f921"
             ]
            ],
            "type": "heatmapgl"
           }
          ],
          "histogram": [
           {
            "marker": {
             "pattern": {
              "fillmode": "overlay",
              "size": 10,
              "solidity": 0.2
             }
            },
            "type": "histogram"
           }
          ],
          "histogram2d": [
           {
            "colorbar": {
             "outlinewidth": 0,
             "ticks": ""
            },
            "colorscale": [
             [
              0,
              "#0d0887"
             ],
             [
              0.1111111111111111,
              "#46039f"
             ],
             [
              0.2222222222222222,
              "#7201a8"
             ],
             [
              0.3333333333333333,
              "#9c179e"
             ],
             [
              0.4444444444444444,
              "#bd3786"
             ],
             [
              0.5555555555555556,
              "#d8576b"
             ],
             [
              0.6666666666666666,
              "#ed7953"
             ],
             [
              0.7777777777777778,
              "#fb9f3a"
             ],
             [
              0.8888888888888888,
              "#fdca26"
             ],
             [
              1,
              "#f0f921"
             ]
            ],
            "type": "histogram2d"
           }
          ],
          "histogram2dcontour": [
           {
            "colorbar": {
             "outlinewidth": 0,
             "ticks": ""
            },
            "colorscale": [
             [
              0,
              "#0d0887"
             ],
             [
              0.1111111111111111,
              "#46039f"
             ],
             [
              0.2222222222222222,
              "#7201a8"
             ],
             [
              0.3333333333333333,
              "#9c179e"
             ],
             [
              0.4444444444444444,
              "#bd3786"
             ],
             [
              0.5555555555555556,
              "#d8576b"
             ],
             [
              0.6666666666666666,
              "#ed7953"
             ],
             [
              0.7777777777777778,
              "#fb9f3a"
             ],
             [
              0.8888888888888888,
              "#fdca26"
             ],
             [
              1,
              "#f0f921"
             ]
            ],
            "type": "histogram2dcontour"
           }
          ],
          "mesh3d": [
           {
            "colorbar": {
             "outlinewidth": 0,
             "ticks": ""
            },
            "type": "mesh3d"
           }
          ],
          "parcoords": [
           {
            "line": {
             "colorbar": {
              "outlinewidth": 0,
              "ticks": ""
             }
            },
            "type": "parcoords"
           }
          ],
          "pie": [
           {
            "automargin": true,
            "type": "pie"
           }
          ],
          "scatter": [
           {
            "marker": {
             "colorbar": {
              "outlinewidth": 0,
              "ticks": ""
             }
            },
            "type": "scatter"
           }
          ],
          "scatter3d": [
           {
            "line": {
             "colorbar": {
              "outlinewidth": 0,
              "ticks": ""
             }
            },
            "marker": {
             "colorbar": {
              "outlinewidth": 0,
              "ticks": ""
             }
            },
            "type": "scatter3d"
           }
          ],
          "scattercarpet": [
           {
            "marker": {
             "colorbar": {
              "outlinewidth": 0,
              "ticks": ""
             }
            },
            "type": "scattercarpet"
           }
          ],
          "scattergeo": [
           {
            "marker": {
             "colorbar": {
              "outlinewidth": 0,
              "ticks": ""
             }
            },
            "type": "scattergeo"
           }
          ],
          "scattergl": [
           {
            "marker": {
             "colorbar": {
              "outlinewidth": 0,
              "ticks": ""
             }
            },
            "type": "scattergl"
           }
          ],
          "scattermapbox": [
           {
            "marker": {
             "colorbar": {
              "outlinewidth": 0,
              "ticks": ""
             }
            },
            "type": "scattermapbox"
           }
          ],
          "scatterpolar": [
           {
            "marker": {
             "colorbar": {
              "outlinewidth": 0,
              "ticks": ""
             }
            },
            "type": "scatterpolar"
           }
          ],
          "scatterpolargl": [
           {
            "marker": {
             "colorbar": {
              "outlinewidth": 0,
              "ticks": ""
             }
            },
            "type": "scatterpolargl"
           }
          ],
          "scatterternary": [
           {
            "marker": {
             "colorbar": {
              "outlinewidth": 0,
              "ticks": ""
             }
            },
            "type": "scatterternary"
           }
          ],
          "surface": [
           {
            "colorbar": {
             "outlinewidth": 0,
             "ticks": ""
            },
            "colorscale": [
             [
              0,
              "#0d0887"
             ],
             [
              0.1111111111111111,
              "#46039f"
             ],
             [
              0.2222222222222222,
              "#7201a8"
             ],
             [
              0.3333333333333333,
              "#9c179e"
             ],
             [
              0.4444444444444444,
              "#bd3786"
             ],
             [
              0.5555555555555556,
              "#d8576b"
             ],
             [
              0.6666666666666666,
              "#ed7953"
             ],
             [
              0.7777777777777778,
              "#fb9f3a"
             ],
             [
              0.8888888888888888,
              "#fdca26"
             ],
             [
              1,
              "#f0f921"
             ]
            ],
            "type": "surface"
           }
          ],
          "table": [
           {
            "cells": {
             "fill": {
              "color": "#EBF0F8"
             },
             "line": {
              "color": "white"
             }
            },
            "header": {
             "fill": {
              "color": "#C8D4E3"
             },
             "line": {
              "color": "white"
             }
            },
            "type": "table"
           }
          ]
         },
         "layout": {
          "annotationdefaults": {
           "arrowcolor": "#2a3f5f",
           "arrowhead": 0,
           "arrowwidth": 1
          },
          "autotypenumbers": "strict",
          "coloraxis": {
           "colorbar": {
            "outlinewidth": 0,
            "ticks": ""
           }
          },
          "colorscale": {
           "diverging": [
            [
             0,
             "#8e0152"
            ],
            [
             0.1,
             "#c51b7d"
            ],
            [
             0.2,
             "#de77ae"
            ],
            [
             0.3,
             "#f1b6da"
            ],
            [
             0.4,
             "#fde0ef"
            ],
            [
             0.5,
             "#f7f7f7"
            ],
            [
             0.6,
             "#e6f5d0"
            ],
            [
             0.7,
             "#b8e186"
            ],
            [
             0.8,
             "#7fbc41"
            ],
            [
             0.9,
             "#4d9221"
            ],
            [
             1,
             "#276419"
            ]
           ],
           "sequential": [
            [
             0,
             "#0d0887"
            ],
            [
             0.1111111111111111,
             "#46039f"
            ],
            [
             0.2222222222222222,
             "#7201a8"
            ],
            [
             0.3333333333333333,
             "#9c179e"
            ],
            [
             0.4444444444444444,
             "#bd3786"
            ],
            [
             0.5555555555555556,
             "#d8576b"
            ],
            [
             0.6666666666666666,
             "#ed7953"
            ],
            [
             0.7777777777777778,
             "#fb9f3a"
            ],
            [
             0.8888888888888888,
             "#fdca26"
            ],
            [
             1,
             "#f0f921"
            ]
           ],
           "sequentialminus": [
            [
             0,
             "#0d0887"
            ],
            [
             0.1111111111111111,
             "#46039f"
            ],
            [
             0.2222222222222222,
             "#7201a8"
            ],
            [
             0.3333333333333333,
             "#9c179e"
            ],
            [
             0.4444444444444444,
             "#bd3786"
            ],
            [
             0.5555555555555556,
             "#d8576b"
            ],
            [
             0.6666666666666666,
             "#ed7953"
            ],
            [
             0.7777777777777778,
             "#fb9f3a"
            ],
            [
             0.8888888888888888,
             "#fdca26"
            ],
            [
             1,
             "#f0f921"
            ]
           ]
          },
          "colorway": [
           "#636efa",
           "#EF553B",
           "#00cc96",
           "#ab63fa",
           "#FFA15A",
           "#19d3f3",
           "#FF6692",
           "#B6E880",
           "#FF97FF",
           "#FECB52"
          ],
          "font": {
           "color": "#2a3f5f"
          },
          "geo": {
           "bgcolor": "white",
           "lakecolor": "white",
           "landcolor": "#E5ECF6",
           "showlakes": true,
           "showland": true,
           "subunitcolor": "white"
          },
          "hoverlabel": {
           "align": "left"
          },
          "hovermode": "closest",
          "mapbox": {
           "style": "light"
          },
          "paper_bgcolor": "white",
          "plot_bgcolor": "#E5ECF6",
          "polar": {
           "angularaxis": {
            "gridcolor": "white",
            "linecolor": "white",
            "ticks": ""
           },
           "bgcolor": "#E5ECF6",
           "radialaxis": {
            "gridcolor": "white",
            "linecolor": "white",
            "ticks": ""
           }
          },
          "scene": {
           "xaxis": {
            "backgroundcolor": "#E5ECF6",
            "gridcolor": "white",
            "gridwidth": 2,
            "linecolor": "white",
            "showbackground": true,
            "ticks": "",
            "zerolinecolor": "white"
           },
           "yaxis": {
            "backgroundcolor": "#E5ECF6",
            "gridcolor": "white",
            "gridwidth": 2,
            "linecolor": "white",
            "showbackground": true,
            "ticks": "",
            "zerolinecolor": "white"
           },
           "zaxis": {
            "backgroundcolor": "#E5ECF6",
            "gridcolor": "white",
            "gridwidth": 2,
            "linecolor": "white",
            "showbackground": true,
            "ticks": "",
            "zerolinecolor": "white"
           }
          },
          "shapedefaults": {
           "line": {
            "color": "#2a3f5f"
           }
          },
          "ternary": {
           "aaxis": {
            "gridcolor": "white",
            "linecolor": "white",
            "ticks": ""
           },
           "baxis": {
            "gridcolor": "white",
            "linecolor": "white",
            "ticks": ""
           },
           "bgcolor": "#E5ECF6",
           "caxis": {
            "gridcolor": "white",
            "linecolor": "white",
            "ticks": ""
           }
          },
          "title": {
           "x": 0.05
          },
          "xaxis": {
           "automargin": true,
           "gridcolor": "white",
           "linecolor": "white",
           "ticks": "",
           "title": {
            "standoff": 15
           },
           "zerolinecolor": "white",
           "zerolinewidth": 2
          },
          "yaxis": {
           "automargin": true,
           "gridcolor": "white",
           "linecolor": "white",
           "ticks": "",
           "title": {
            "standoff": 15
           },
           "zerolinecolor": "white",
           "zerolinewidth": 2
          }
         }
        },
        "xaxis": {
         "anchor": "y",
         "domain": [
          0,
          1
         ],
         "title": {
          "text": "x"
         }
        },
        "yaxis": {
         "anchor": "x",
         "domain": [
          0,
          1
         ],
         "title": {
          "text": "y"
         }
        }
       }
      },
      "text/html": [
       "<div>                            <div id=\"4a45e166-67fa-4265-90f0-195a692b8d4d\" class=\"plotly-graph-div\" style=\"height:525px; width:100%;\"></div>            <script type=\"text/javascript\">                require([\"plotly\"], function(Plotly) {                    window.PLOTLYENV=window.PLOTLYENV || {};                                    if (document.getElementById(\"4a45e166-67fa-4265-90f0-195a692b8d4d\")) {                    Plotly.newPlot(                        \"4a45e166-67fa-4265-90f0-195a692b8d4d\",                        [{\"hovertemplate\":\"symbol=ETH/USDT<br>x=%{x}<br>y=%{y}<extra></extra>\",\"legendgroup\":\"ETH/USDT\",\"marker\":{\"color\":\"#636efa\",\"symbol\":\"circle\"},\"mode\":\"markers\",\"name\":\"ETH/USDT\",\"orientation\":\"v\",\"showlegend\":true,\"type\":\"scatter\",\"x\":[0.8608755352118265],\"xaxis\":\"x\",\"y\":[-7.401466874436713e-06],\"yaxis\":\"y\"},{\"hovertemplate\":\"symbol=BNB/USDT<br>x=%{x}<br>y=%{y}<extra></extra>\",\"legendgroup\":\"BNB/USDT\",\"marker\":{\"color\":\"#636efa\",\"symbol\":\"diamond\"},\"mode\":\"markers\",\"name\":\"BNB/USDT\",\"orientation\":\"v\",\"showlegend\":true,\"type\":\"scatter\",\"x\":[0.8049849076434168],\"xaxis\":\"x\",\"y\":[-1.5225325891230117e-05],\"yaxis\":\"y\"},{\"hovertemplate\":\"symbol=MATIC/USDT<br>x=%{x}<br>y=%{y}<extra></extra>\",\"legendgroup\":\"MATIC/USDT\",\"marker\":{\"color\":\"#636efa\",\"symbol\":\"square\"},\"mode\":\"markers\",\"name\":\"MATIC/USDT\",\"orientation\":\"v\",\"showlegend\":true,\"type\":\"scatter\",\"x\":[0.803400463703204],\"xaxis\":\"x\",\"y\":[-5.774346846193314e-05],\"yaxis\":\"y\"},{\"hovertemplate\":\"symbol=BTC/USDT<br>x=%{x}<br>y=%{y}<extra></extra>\",\"legendgroup\":\"BTC/USDT\",\"marker\":{\"color\":\"#636efa\",\"symbol\":\"x\"},\"mode\":\"markers\",\"name\":\"BTC/USDT\",\"orientation\":\"v\",\"showlegend\":true,\"type\":\"scatter\",\"x\":[0.8015906032573308],\"xaxis\":\"x\",\"y\":[-9.116257892291458e-06],\"yaxis\":\"y\"},{\"hovertemplate\":\"symbol=LTC/USDT<br>x=%{x}<br>y=%{y}<extra></extra>\",\"legendgroup\":\"LTC/USDT\",\"marker\":{\"color\":\"#636efa\",\"symbol\":\"cross\"},\"mode\":\"markers\",\"name\":\"LTC/USDT\",\"orientation\":\"v\",\"showlegend\":true,\"type\":\"scatter\",\"x\":[0.7845766990172754],\"xaxis\":\"x\",\"y\":[-3.927267306278861e-05],\"yaxis\":\"y\"},{\"hovertemplate\":\"symbol=DOT/USDT<br>x=%{x}<br>y=%{y}<extra></extra>\",\"legendgroup\":\"DOT/USDT\",\"marker\":{\"color\":\"#636efa\",\"symbol\":\"circle\"},\"mode\":\"markers\",\"name\":\"DOT/USDT\",\"orientation\":\"v\",\"showlegend\":true,\"type\":\"scatter\",\"x\":[0.7835619242365772],\"xaxis\":\"x\",\"y\":[-6.1907459472565805e-06],\"yaxis\":\"y\"},{\"hovertemplate\":\"symbol=LINK/USDT<br>x=%{x}<br>y=%{y}<extra></extra>\",\"legendgroup\":\"LINK/USDT\",\"marker\":{\"color\":\"#636efa\",\"symbol\":\"diamond\"},\"mode\":\"markers\",\"name\":\"LINK/USDT\",\"orientation\":\"v\",\"showlegend\":true,\"type\":\"scatter\",\"x\":[0.7805076413207831],\"xaxis\":\"x\",\"y\":[-2.0746495756988068e-05],\"yaxis\":\"y\"},{\"hovertemplate\":\"symbol=VET/USDT<br>x=%{x}<br>y=%{y}<extra></extra>\",\"legendgroup\":\"VET/USDT\",\"marker\":{\"color\":\"#636efa\",\"symbol\":\"square\"},\"mode\":\"markers\",\"name\":\"VET/USDT\",\"orientation\":\"v\",\"showlegend\":true,\"type\":\"scatter\",\"x\":[0.7727978550105236],\"xaxis\":\"x\",\"y\":[-4.440910047943367e-06],\"yaxis\":\"y\"},{\"hovertemplate\":\"symbol=FTT/USDT<br>x=%{x}<br>y=%{y}<extra></extra>\",\"legendgroup\":\"FTT/USDT\",\"marker\":{\"color\":\"#636efa\",\"symbol\":\"x\"},\"mode\":\"markers\",\"name\":\"FTT/USDT\",\"orientation\":\"v\",\"showlegend\":true,\"type\":\"scatter\",\"x\":[0.761691148765098],\"xaxis\":\"x\",\"y\":[8.801073851061696e-05],\"yaxis\":\"y\"},{\"hovertemplate\":\"symbol=UNI/USDT<br>x=%{x}<br>y=%{y}<extra></extra>\",\"legendgroup\":\"UNI/USDT\",\"marker\":{\"color\":\"#636efa\",\"symbol\":\"cross\"},\"mode\":\"markers\",\"name\":\"UNI/USDT\",\"orientation\":\"v\",\"showlegend\":true,\"type\":\"scatter\",\"x\":[0.7529284128985205],\"xaxis\":\"x\",\"y\":[-8.873014197925648e-05],\"yaxis\":\"y\"},{\"hovertemplate\":\"symbol=SOL/USDT<br>x=%{x}<br>y=%{y}<extra></extra>\",\"legendgroup\":\"SOL/USDT\",\"marker\":{\"color\":\"#636efa\",\"symbol\":\"circle\"},\"mode\":\"markers\",\"name\":\"SOL/USDT\",\"orientation\":\"v\",\"showlegend\":true,\"type\":\"scatter\",\"x\":[0.7508636189706089],\"xaxis\":\"x\",\"y\":[-6.234684900041176e-05],\"yaxis\":\"y\"},{\"hovertemplate\":\"symbol=XLM/USDT<br>x=%{x}<br>y=%{y}<extra></extra>\",\"legendgroup\":\"XLM/USDT\",\"marker\":{\"color\":\"#636efa\",\"symbol\":\"diamond\"},\"mode\":\"markers\",\"name\":\"XLM/USDT\",\"orientation\":\"v\",\"showlegend\":true,\"type\":\"scatter\",\"x\":[0.7500951047185714],\"xaxis\":\"x\",\"y\":[-1.8791502897325498e-05],\"yaxis\":\"y\"},{\"hovertemplate\":\"symbol=BCH/USDT<br>x=%{x}<br>y=%{y}<extra></extra>\",\"legendgroup\":\"BCH/USDT\",\"marker\":{\"color\":\"#636efa\",\"symbol\":\"square\"},\"mode\":\"markers\",\"name\":\"BCH/USDT\",\"orientation\":\"v\",\"showlegend\":true,\"type\":\"scatter\",\"x\":[0.7384590595733923],\"xaxis\":\"x\",\"y\":[-2.6134723988469427e-05],\"yaxis\":\"y\"},{\"hovertemplate\":\"symbol=ADA/USDT<br>x=%{x}<br>y=%{y}<extra></extra>\",\"legendgroup\":\"ADA/USDT\",\"marker\":{\"color\":\"#636efa\",\"symbol\":\"x\"},\"mode\":\"markers\",\"name\":\"ADA/USDT\",\"orientation\":\"v\",\"showlegend\":true,\"type\":\"scatter\",\"x\":[0.7256344278309927],\"xaxis\":\"x\",\"y\":[-3.114603559759558e-05],\"yaxis\":\"y\"},{\"hovertemplate\":\"symbol=ALGO/USDT<br>x=%{x}<br>y=%{y}<extra></extra>\",\"legendgroup\":\"ALGO/USDT\",\"marker\":{\"color\":\"#636efa\",\"symbol\":\"cross\"},\"mode\":\"markers\",\"name\":\"ALGO/USDT\",\"orientation\":\"v\",\"showlegend\":true,\"type\":\"scatter\",\"x\":[0.7231622114042922],\"xaxis\":\"x\",\"y\":[-0.00014192937803913404],\"yaxis\":\"y\"},{\"hovertemplate\":\"symbol=SAND/USDT<br>x=%{x}<br>y=%{y}<extra></extra>\",\"legendgroup\":\"SAND/USDT\",\"marker\":{\"color\":\"#636efa\",\"symbol\":\"circle\"},\"mode\":\"markers\",\"name\":\"SAND/USDT\",\"orientation\":\"v\",\"showlegend\":true,\"type\":\"scatter\",\"x\":[0.7207734230461835],\"xaxis\":\"x\",\"y\":[-0.00010921788404840472],\"yaxis\":\"y\"},{\"hovertemplate\":\"symbol=AVAX/USDT<br>x=%{x}<br>y=%{y}<extra></extra>\",\"legendgroup\":\"AVAX/USDT\",\"marker\":{\"color\":\"#636efa\",\"symbol\":\"diamond\"},\"mode\":\"markers\",\"name\":\"AVAX/USDT\",\"orientation\":\"v\",\"showlegend\":true,\"type\":\"scatter\",\"x\":[0.7164520308604437],\"xaxis\":\"x\",\"y\":[3.27849468768817e-07],\"yaxis\":\"y\"},{\"hovertemplate\":\"symbol=MANA/USDT<br>x=%{x}<br>y=%{y}<extra></extra>\",\"legendgroup\":\"MANA/USDT\",\"marker\":{\"color\":\"#636efa\",\"symbol\":\"square\"},\"mode\":\"markers\",\"name\":\"MANA/USDT\",\"orientation\":\"v\",\"showlegend\":true,\"type\":\"scatter\",\"x\":[0.7094078081320628],\"xaxis\":\"x\",\"y\":[-3.814595831523779e-05],\"yaxis\":\"y\"},{\"hovertemplate\":\"symbol=XRP/USDT<br>x=%{x}<br>y=%{y}<extra></extra>\",\"legendgroup\":\"XRP/USDT\",\"marker\":{\"color\":\"#636efa\",\"symbol\":\"x\"},\"mode\":\"markers\",\"name\":\"XRP/USDT\",\"orientation\":\"v\",\"showlegend\":true,\"type\":\"scatter\",\"x\":[0.6987028431508724],\"xaxis\":\"x\",\"y\":[7.908317709065388e-06],\"yaxis\":\"y\"},{\"hovertemplate\":\"symbol=XTZ/USDT<br>x=%{x}<br>y=%{y}<extra></extra>\",\"legendgroup\":\"XTZ/USDT\",\"marker\":{\"color\":\"#636efa\",\"symbol\":\"cross\"},\"mode\":\"markers\",\"name\":\"XTZ/USDT\",\"orientation\":\"v\",\"showlegend\":true,\"type\":\"scatter\",\"x\":[0.6735005809835752],\"xaxis\":\"x\",\"y\":[-3.0174822119410878e-06],\"yaxis\":\"y\"},{\"hovertemplate\":\"symbol=EOS/USDT<br>x=%{x}<br>y=%{y}<extra></extra>\",\"legendgroup\":\"EOS/USDT\",\"marker\":{\"color\":\"#636efa\",\"symbol\":\"circle\"},\"mode\":\"markers\",\"name\":\"EOS/USDT\",\"orientation\":\"v\",\"showlegend\":true,\"type\":\"scatter\",\"x\":[0.6714398016911245],\"xaxis\":\"x\",\"y\":[-1.0422945246362929e-05],\"yaxis\":\"y\"},{\"hovertemplate\":\"symbol=AAVE/USDT<br>x=%{x}<br>y=%{y}<extra></extra>\",\"legendgroup\":\"AAVE/USDT\",\"marker\":{\"color\":\"#636efa\",\"symbol\":\"diamond\"},\"mode\":\"markers\",\"name\":\"AAVE/USDT\",\"orientation\":\"v\",\"showlegend\":true,\"type\":\"scatter\",\"x\":[0.6695203331835274],\"xaxis\":\"x\",\"y\":[2.447159223579223e-05],\"yaxis\":\"y\"},{\"hovertemplate\":\"symbol=HBAR/USDT<br>x=%{x}<br>y=%{y}<extra></extra>\",\"legendgroup\":\"HBAR/USDT\",\"marker\":{\"color\":\"#636efa\",\"symbol\":\"square\"},\"mode\":\"markers\",\"name\":\"HBAR/USDT\",\"orientation\":\"v\",\"showlegend\":true,\"type\":\"scatter\",\"x\":[0.6685991413467133],\"xaxis\":\"x\",\"y\":[-5.685055948318587e-05],\"yaxis\":\"y\"},{\"hovertemplate\":\"symbol=FIL/USDT<br>x=%{x}<br>y=%{y}<extra></extra>\",\"legendgroup\":\"FIL/USDT\",\"marker\":{\"color\":\"#636efa\",\"symbol\":\"x\"},\"mode\":\"markers\",\"name\":\"FIL/USDT\",\"orientation\":\"v\",\"showlegend\":true,\"type\":\"scatter\",\"x\":[0.6674375367242872],\"xaxis\":\"x\",\"y\":[-9.043076937694562e-05],\"yaxis\":\"y\"},{\"hovertemplate\":\"symbol=AXS/USDT<br>x=%{x}<br>y=%{y}<extra></extra>\",\"legendgroup\":\"AXS/USDT\",\"marker\":{\"color\":\"#636efa\",\"symbol\":\"cross\"},\"mode\":\"markers\",\"name\":\"AXS/USDT\",\"orientation\":\"v\",\"showlegend\":true,\"type\":\"scatter\",\"x\":[0.6657541386529964],\"xaxis\":\"x\",\"y\":[-0.00013447859855065646],\"yaxis\":\"y\"},{\"hovertemplate\":\"symbol=EGLD/USDT<br>x=%{x}<br>y=%{y}<extra></extra>\",\"legendgroup\":\"EGLD/USDT\",\"marker\":{\"color\":\"#636efa\",\"symbol\":\"circle\"},\"mode\":\"markers\",\"name\":\"EGLD/USDT\",\"orientation\":\"v\",\"showlegend\":true,\"type\":\"scatter\",\"x\":[0.657319735810733],\"xaxis\":\"x\",\"y\":[-1.55170250712902e-05],\"yaxis\":\"y\"},{\"hovertemplate\":\"symbol=FTM/USDT<br>x=%{x}<br>y=%{y}<extra></extra>\",\"legendgroup\":\"FTM/USDT\",\"marker\":{\"color\":\"#636efa\",\"symbol\":\"diamond\"},\"mode\":\"markers\",\"name\":\"FTM/USDT\",\"orientation\":\"v\",\"showlegend\":true,\"type\":\"scatter\",\"x\":[0.6551505583671213],\"xaxis\":\"x\",\"y\":[-3.316103911466504e-05],\"yaxis\":\"y\"},{\"hovertemplate\":\"symbol=ICP/USDT<br>x=%{x}<br>y=%{y}<extra></extra>\",\"legendgroup\":\"ICP/USDT\",\"marker\":{\"color\":\"#636efa\",\"symbol\":\"square\"},\"mode\":\"markers\",\"name\":\"ICP/USDT\",\"orientation\":\"v\",\"showlegend\":true,\"type\":\"scatter\",\"x\":[0.6525574156693352],\"xaxis\":\"x\",\"y\":[-9.82517179612669e-06],\"yaxis\":\"y\"},{\"hovertemplate\":\"symbol=THETA/USDT<br>x=%{x}<br>y=%{y}<extra></extra>\",\"legendgroup\":\"THETA/USDT\",\"marker\":{\"color\":\"#636efa\",\"symbol\":\"x\"},\"mode\":\"markers\",\"name\":\"THETA/USDT\",\"orientation\":\"v\",\"showlegend\":true,\"type\":\"scatter\",\"x\":[0.6457295910016424],\"xaxis\":\"x\",\"y\":[3.804975662718739e-05],\"yaxis\":\"y\"},{\"hovertemplate\":\"symbol=SHIB/USDT<br>x=%{x}<br>y=%{y}<extra></extra>\",\"legendgroup\":\"SHIB/USDT\",\"marker\":{\"color\":\"#636efa\",\"symbol\":\"cross\"},\"mode\":\"markers\",\"name\":\"SHIB/USDT\",\"orientation\":\"v\",\"showlegend\":true,\"type\":\"scatter\",\"x\":[0.6308508682849873],\"xaxis\":\"x\",\"y\":[1.3325704578933051e-05],\"yaxis\":\"y\"},{\"hovertemplate\":\"symbol=TRX/USDT<br>x=%{x}<br>y=%{y}<extra></extra>\",\"legendgroup\":\"TRX/USDT\",\"marker\":{\"color\":\"#636efa\",\"symbol\":\"circle\"},\"mode\":\"markers\",\"name\":\"TRX/USDT\",\"orientation\":\"v\",\"showlegend\":true,\"type\":\"scatter\",\"x\":[0.626851504905372],\"xaxis\":\"x\",\"y\":[8.675697535141566e-06],\"yaxis\":\"y\"},{\"hovertemplate\":\"symbol=ETC/USDT<br>x=%{x}<br>y=%{y}<extra></extra>\",\"legendgroup\":\"ETC/USDT\",\"marker\":{\"color\":\"#636efa\",\"symbol\":\"diamond\"},\"mode\":\"markers\",\"name\":\"ETC/USDT\",\"orientation\":\"v\",\"showlegend\":true,\"type\":\"scatter\",\"x\":[0.6086525805598885],\"xaxis\":\"x\",\"y\":[0.00011993455911161403],\"yaxis\":\"y\"},{\"hovertemplate\":\"symbol=ATOM/USDT<br>x=%{x}<br>y=%{y}<extra></extra>\",\"legendgroup\":\"ATOM/USDT\",\"marker\":{\"color\":\"#636efa\",\"symbol\":\"square\"},\"mode\":\"markers\",\"name\":\"ATOM/USDT\",\"orientation\":\"v\",\"showlegend\":true,\"type\":\"scatter\",\"x\":[0.5977324233919503],\"xaxis\":\"x\",\"y\":[0.0001071859809862487],\"yaxis\":\"y\"},{\"hovertemplate\":\"symbol=DOGE/USDT<br>x=%{x}<br>y=%{y}<extra></extra>\",\"legendgroup\":\"DOGE/USDT\",\"marker\":{\"color\":\"#636efa\",\"symbol\":\"x\"},\"mode\":\"markers\",\"name\":\"DOGE/USDT\",\"orientation\":\"v\",\"showlegend\":true,\"type\":\"scatter\",\"x\":[0.597190442733589],\"xaxis\":\"x\",\"y\":[-5.649773297369294e-06],\"yaxis\":\"y\"},{\"hovertemplate\":\"symbol=LUNA/USDT<br>x=%{x}<br>y=%{y}<extra></extra>\",\"legendgroup\":\"LUNA/USDT\",\"marker\":{\"color\":\"#636efa\",\"symbol\":\"cross\"},\"mode\":\"markers\",\"name\":\"LUNA/USDT\",\"orientation\":\"v\",\"showlegend\":true,\"type\":\"scatter\",\"x\":[0.5816216712505726],\"xaxis\":\"x\",\"y\":[0.00015205679738070028],\"yaxis\":\"y\"},{\"hovertemplate\":\"symbol=KLAY/USDT<br>x=%{x}<br>y=%{y}<extra></extra>\",\"legendgroup\":\"KLAY/USDT\",\"marker\":{\"color\":\"#636efa\",\"symbol\":\"circle\"},\"mode\":\"markers\",\"name\":\"KLAY/USDT\",\"orientation\":\"v\",\"showlegend\":true,\"type\":\"scatter\",\"x\":[0.5720119485686208],\"xaxis\":\"x\",\"y\":[-4.2530101873021135e-05],\"yaxis\":\"y\"},{\"hovertemplate\":\"symbol=CAKE/USDT<br>x=%{x}<br>y=%{y}<extra></extra>\",\"legendgroup\":\"CAKE/USDT\",\"marker\":{\"color\":\"#636efa\",\"symbol\":\"diamond\"},\"mode\":\"markers\",\"name\":\"CAKE/USDT\",\"orientation\":\"v\",\"showlegend\":true,\"type\":\"scatter\",\"x\":[0.5654136214508044],\"xaxis\":\"x\",\"y\":[3.2085904972440825e-05],\"yaxis\":\"y\"},{\"hovertemplate\":\"symbol=NEAR/USDT<br>x=%{x}<br>y=%{y}<extra></extra>\",\"legendgroup\":\"NEAR/USDT\",\"marker\":{\"color\":\"#636efa\",\"symbol\":\"square\"},\"mode\":\"markers\",\"name\":\"NEAR/USDT\",\"orientation\":\"v\",\"showlegend\":true,\"type\":\"scatter\",\"x\":[0.5499843640268076],\"xaxis\":\"x\",\"y\":[0.0002013492850914576],\"yaxis\":\"y\"},{\"hovertemplate\":\"symbol=RUNE/USDT<br>x=%{x}<br>y=%{y}<extra></extra>\",\"legendgroup\":\"RUNE/USDT\",\"marker\":{\"color\":\"#636efa\",\"symbol\":\"x\"},\"mode\":\"markers\",\"name\":\"RUNE/USDT\",\"orientation\":\"v\",\"showlegend\":true,\"type\":\"scatter\",\"x\":[0.5298057942352731],\"xaxis\":\"x\",\"y\":[0.0002448298702706696],\"yaxis\":\"y\"},{\"hovertemplate\":\"symbol=ZEC/USDT<br>x=%{x}<br>y=%{y}<extra></extra>\",\"legendgroup\":\"ZEC/USDT\",\"marker\":{\"color\":\"#636efa\",\"symbol\":\"cross\"},\"mode\":\"markers\",\"name\":\"ZEC/USDT\",\"orientation\":\"v\",\"showlegend\":true,\"type\":\"scatter\",\"x\":[0.5079921049348533],\"xaxis\":\"x\",\"y\":[0.000123984255062733],\"yaxis\":\"y\"},{\"hovertemplate\":\"symbol=XMR/USDT<br>x=%{x}<br>y=%{y}<extra></extra>\",\"legendgroup\":\"XMR/USDT\",\"marker\":{\"color\":\"#636efa\",\"symbol\":\"circle\"},\"mode\":\"markers\",\"name\":\"XMR/USDT\",\"orientation\":\"v\",\"showlegend\":true,\"type\":\"scatter\",\"x\":[0.471371208317151],\"xaxis\":\"x\",\"y\":[0.0002162459810157773],\"yaxis\":\"y\"}],                        {\"legend\":{\"title\":{\"text\":\"symbol\"},\"tracegroupgap\":0},\"margin\":{\"t\":60},\"template\":{\"data\":{\"bar\":[{\"error_x\":{\"color\":\"#2a3f5f\"},\"error_y\":{\"color\":\"#2a3f5f\"},\"marker\":{\"line\":{\"color\":\"#E5ECF6\",\"width\":0.5},\"pattern\":{\"fillmode\":\"overlay\",\"size\":10,\"solidity\":0.2}},\"type\":\"bar\"}],\"barpolar\":[{\"marker\":{\"line\":{\"color\":\"#E5ECF6\",\"width\":0.5},\"pattern\":{\"fillmode\":\"overlay\",\"size\":10,\"solidity\":0.2}},\"type\":\"barpolar\"}],\"carpet\":[{\"aaxis\":{\"endlinecolor\":\"#2a3f5f\",\"gridcolor\":\"white\",\"linecolor\":\"white\",\"minorgridcolor\":\"white\",\"startlinecolor\":\"#2a3f5f\"},\"baxis\":{\"endlinecolor\":\"#2a3f5f\",\"gridcolor\":\"white\",\"linecolor\":\"white\",\"minorgridcolor\":\"white\",\"startlinecolor\":\"#2a3f5f\"},\"type\":\"carpet\"}],\"choropleth\":[{\"colorbar\":{\"outlinewidth\":0,\"ticks\":\"\"},\"type\":\"choropleth\"}],\"contour\":[{\"colorbar\":{\"outlinewidth\":0,\"ticks\":\"\"},\"colorscale\":[[0.0,\"#0d0887\"],[0.1111111111111111,\"#46039f\"],[0.2222222222222222,\"#7201a8\"],[0.3333333333333333,\"#9c179e\"],[0.4444444444444444,\"#bd3786\"],[0.5555555555555556,\"#d8576b\"],[0.6666666666666666,\"#ed7953\"],[0.7777777777777778,\"#fb9f3a\"],[0.8888888888888888,\"#fdca26\"],[1.0,\"#f0f921\"]],\"type\":\"contour\"}],\"contourcarpet\":[{\"colorbar\":{\"outlinewidth\":0,\"ticks\":\"\"},\"type\":\"contourcarpet\"}],\"heatmap\":[{\"colorbar\":{\"outlinewidth\":0,\"ticks\":\"\"},\"colorscale\":[[0.0,\"#0d0887\"],[0.1111111111111111,\"#46039f\"],[0.2222222222222222,\"#7201a8\"],[0.3333333333333333,\"#9c179e\"],[0.4444444444444444,\"#bd3786\"],[0.5555555555555556,\"#d8576b\"],[0.6666666666666666,\"#ed7953\"],[0.7777777777777778,\"#fb9f3a\"],[0.8888888888888888,\"#fdca26\"],[1.0,\"#f0f921\"]],\"type\":\"heatmap\"}],\"heatmapgl\":[{\"colorbar\":{\"outlinewidth\":0,\"ticks\":\"\"},\"colorscale\":[[0.0,\"#0d0887\"],[0.1111111111111111,\"#46039f\"],[0.2222222222222222,\"#7201a8\"],[0.3333333333333333,\"#9c179e\"],[0.4444444444444444,\"#bd3786\"],[0.5555555555555556,\"#d8576b\"],[0.6666666666666666,\"#ed7953\"],[0.7777777777777778,\"#fb9f3a\"],[0.8888888888888888,\"#fdca26\"],[1.0,\"#f0f921\"]],\"type\":\"heatmapgl\"}],\"histogram\":[{\"marker\":{\"pattern\":{\"fillmode\":\"overlay\",\"size\":10,\"solidity\":0.2}},\"type\":\"histogram\"}],\"histogram2d\":[{\"colorbar\":{\"outlinewidth\":0,\"ticks\":\"\"},\"colorscale\":[[0.0,\"#0d0887\"],[0.1111111111111111,\"#46039f\"],[0.2222222222222222,\"#7201a8\"],[0.3333333333333333,\"#9c179e\"],[0.4444444444444444,\"#bd3786\"],[0.5555555555555556,\"#d8576b\"],[0.6666666666666666,\"#ed7953\"],[0.7777777777777778,\"#fb9f3a\"],[0.8888888888888888,\"#fdca26\"],[1.0,\"#f0f921\"]],\"type\":\"histogram2d\"}],\"histogram2dcontour\":[{\"colorbar\":{\"outlinewidth\":0,\"ticks\":\"\"},\"colorscale\":[[0.0,\"#0d0887\"],[0.1111111111111111,\"#46039f\"],[0.2222222222222222,\"#7201a8\"],[0.3333333333333333,\"#9c179e\"],[0.4444444444444444,\"#bd3786\"],[0.5555555555555556,\"#d8576b\"],[0.6666666666666666,\"#ed7953\"],[0.7777777777777778,\"#fb9f3a\"],[0.8888888888888888,\"#fdca26\"],[1.0,\"#f0f921\"]],\"type\":\"histogram2dcontour\"}],\"mesh3d\":[{\"colorbar\":{\"outlinewidth\":0,\"ticks\":\"\"},\"type\":\"mesh3d\"}],\"parcoords\":[{\"line\":{\"colorbar\":{\"outlinewidth\":0,\"ticks\":\"\"}},\"type\":\"parcoords\"}],\"pie\":[{\"automargin\":true,\"type\":\"pie\"}],\"scatter\":[{\"marker\":{\"colorbar\":{\"outlinewidth\":0,\"ticks\":\"\"}},\"type\":\"scatter\"}],\"scatter3d\":[{\"line\":{\"colorbar\":{\"outlinewidth\":0,\"ticks\":\"\"}},\"marker\":{\"colorbar\":{\"outlinewidth\":0,\"ticks\":\"\"}},\"type\":\"scatter3d\"}],\"scattercarpet\":[{\"marker\":{\"colorbar\":{\"outlinewidth\":0,\"ticks\":\"\"}},\"type\":\"scattercarpet\"}],\"scattergeo\":[{\"marker\":{\"colorbar\":{\"outlinewidth\":0,\"ticks\":\"\"}},\"type\":\"scattergeo\"}],\"scattergl\":[{\"marker\":{\"colorbar\":{\"outlinewidth\":0,\"ticks\":\"\"}},\"type\":\"scattergl\"}],\"scattermapbox\":[{\"marker\":{\"colorbar\":{\"outlinewidth\":0,\"ticks\":\"\"}},\"type\":\"scattermapbox\"}],\"scatterpolar\":[{\"marker\":{\"colorbar\":{\"outlinewidth\":0,\"ticks\":\"\"}},\"type\":\"scatterpolar\"}],\"scatterpolargl\":[{\"marker\":{\"colorbar\":{\"outlinewidth\":0,\"ticks\":\"\"}},\"type\":\"scatterpolargl\"}],\"scatterternary\":[{\"marker\":{\"colorbar\":{\"outlinewidth\":0,\"ticks\":\"\"}},\"type\":\"scatterternary\"}],\"surface\":[{\"colorbar\":{\"outlinewidth\":0,\"ticks\":\"\"},\"colorscale\":[[0.0,\"#0d0887\"],[0.1111111111111111,\"#46039f\"],[0.2222222222222222,\"#7201a8\"],[0.3333333333333333,\"#9c179e\"],[0.4444444444444444,\"#bd3786\"],[0.5555555555555556,\"#d8576b\"],[0.6666666666666666,\"#ed7953\"],[0.7777777777777778,\"#fb9f3a\"],[0.8888888888888888,\"#fdca26\"],[1.0,\"#f0f921\"]],\"type\":\"surface\"}],\"table\":[{\"cells\":{\"fill\":{\"color\":\"#EBF0F8\"},\"line\":{\"color\":\"white\"}},\"header\":{\"fill\":{\"color\":\"#C8D4E3\"},\"line\":{\"color\":\"white\"}},\"type\":\"table\"}]},\"layout\":{\"annotationdefaults\":{\"arrowcolor\":\"#2a3f5f\",\"arrowhead\":0,\"arrowwidth\":1},\"autotypenumbers\":\"strict\",\"coloraxis\":{\"colorbar\":{\"outlinewidth\":0,\"ticks\":\"\"}},\"colorscale\":{\"diverging\":[[0,\"#8e0152\"],[0.1,\"#c51b7d\"],[0.2,\"#de77ae\"],[0.3,\"#f1b6da\"],[0.4,\"#fde0ef\"],[0.5,\"#f7f7f7\"],[0.6,\"#e6f5d0\"],[0.7,\"#b8e186\"],[0.8,\"#7fbc41\"],[0.9,\"#4d9221\"],[1,\"#276419\"]],\"sequential\":[[0.0,\"#0d0887\"],[0.1111111111111111,\"#46039f\"],[0.2222222222222222,\"#7201a8\"],[0.3333333333333333,\"#9c179e\"],[0.4444444444444444,\"#bd3786\"],[0.5555555555555556,\"#d8576b\"],[0.6666666666666666,\"#ed7953\"],[0.7777777777777778,\"#fb9f3a\"],[0.8888888888888888,\"#fdca26\"],[1.0,\"#f0f921\"]],\"sequentialminus\":[[0.0,\"#0d0887\"],[0.1111111111111111,\"#46039f\"],[0.2222222222222222,\"#7201a8\"],[0.3333333333333333,\"#9c179e\"],[0.4444444444444444,\"#bd3786\"],[0.5555555555555556,\"#d8576b\"],[0.6666666666666666,\"#ed7953\"],[0.7777777777777778,\"#fb9f3a\"],[0.8888888888888888,\"#fdca26\"],[1.0,\"#f0f921\"]]},\"colorway\":[\"#636efa\",\"#EF553B\",\"#00cc96\",\"#ab63fa\",\"#FFA15A\",\"#19d3f3\",\"#FF6692\",\"#B6E880\",\"#FF97FF\",\"#FECB52\"],\"font\":{\"color\":\"#2a3f5f\"},\"geo\":{\"bgcolor\":\"white\",\"lakecolor\":\"white\",\"landcolor\":\"#E5ECF6\",\"showlakes\":true,\"showland\":true,\"subunitcolor\":\"white\"},\"hoverlabel\":{\"align\":\"left\"},\"hovermode\":\"closest\",\"mapbox\":{\"style\":\"light\"},\"paper_bgcolor\":\"white\",\"plot_bgcolor\":\"#E5ECF6\",\"polar\":{\"angularaxis\":{\"gridcolor\":\"white\",\"linecolor\":\"white\",\"ticks\":\"\"},\"bgcolor\":\"#E5ECF6\",\"radialaxis\":{\"gridcolor\":\"white\",\"linecolor\":\"white\",\"ticks\":\"\"}},\"scene\":{\"xaxis\":{\"backgroundcolor\":\"#E5ECF6\",\"gridcolor\":\"white\",\"gridwidth\":2,\"linecolor\":\"white\",\"showbackground\":true,\"ticks\":\"\",\"zerolinecolor\":\"white\"},\"yaxis\":{\"backgroundcolor\":\"#E5ECF6\",\"gridcolor\":\"white\",\"gridwidth\":2,\"linecolor\":\"white\",\"showbackground\":true,\"ticks\":\"\",\"zerolinecolor\":\"white\"},\"zaxis\":{\"backgroundcolor\":\"#E5ECF6\",\"gridcolor\":\"white\",\"gridwidth\":2,\"linecolor\":\"white\",\"showbackground\":true,\"ticks\":\"\",\"zerolinecolor\":\"white\"}},\"shapedefaults\":{\"line\":{\"color\":\"#2a3f5f\"}},\"ternary\":{\"aaxis\":{\"gridcolor\":\"white\",\"linecolor\":\"white\",\"ticks\":\"\"},\"baxis\":{\"gridcolor\":\"white\",\"linecolor\":\"white\",\"ticks\":\"\"},\"bgcolor\":\"#E5ECF6\",\"caxis\":{\"gridcolor\":\"white\",\"linecolor\":\"white\",\"ticks\":\"\"}},\"title\":{\"x\":0.05},\"xaxis\":{\"automargin\":true,\"gridcolor\":\"white\",\"linecolor\":\"white\",\"ticks\":\"\",\"title\":{\"standoff\":15},\"zerolinecolor\":\"white\",\"zerolinewidth\":2},\"yaxis\":{\"automargin\":true,\"gridcolor\":\"white\",\"linecolor\":\"white\",\"ticks\":\"\",\"title\":{\"standoff\":15},\"zerolinecolor\":\"white\",\"zerolinewidth\":2}}},\"xaxis\":{\"anchor\":\"y\",\"domain\":[0.0,1.0],\"title\":{\"text\":\"x\"}},\"yaxis\":{\"anchor\":\"x\",\"domain\":[0.0,1.0],\"title\":{\"text\":\"y\"}}},                        {\"responsive\": true}                    ).then(function(){\n",
       "                            \n",
       "var gd = document.getElementById('4a45e166-67fa-4265-90f0-195a692b8d4d');\n",
       "var x = new MutationObserver(function (mutations, observer) {{\n",
       "        var display = window.getComputedStyle(gd).display;\n",
       "        if (!display || display === 'none') {{\n",
       "            console.log([gd, 'removed!']);\n",
       "            Plotly.purge(gd);\n",
       "            observer.disconnect();\n",
       "        }}\n",
       "}});\n",
       "\n",
       "// Listen for the removal of the full notebook cells\n",
       "var notebookContainer = gd.closest('#notebook-container');\n",
       "if (notebookContainer) {{\n",
       "    x.observe(notebookContainer, {childList: true});\n",
       "}}\n",
       "\n",
       "// Listen for the clearing of the current output cell\n",
       "var outputEl = gd.closest('.output');\n",
       "if (outputEl) {{\n",
       "    x.observe(outputEl, {childList: true});\n",
       "}}\n",
       "\n",
       "                        })                };                });            </script>        </div>"
      ]
     },
     "metadata": {},
     "output_type": "display_data"
    }
   ],
   "source": [
    "import plotly.express as px\n",
    "fig = px.scatter(x=regression_market['r^2'], y=regression_market['intercept'], symbol=regression_market['index'])\n",
    "fig.show()"
   ]
  },
  {
   "cell_type": "code",
   "execution_count": 119,
   "id": "b9777858",
   "metadata": {},
   "outputs": [],
   "source": [
    "dino_coins = ['ETC', 'ZEC', 'LTC', 'NEO', 'BCH', 'XRP', 'OMG', 'EOS', 'DASH']\n",
    "dino_coins_cmc = [cmc_id_mapping[d] for d in dino_coins]"
   ]
  },
  {
   "cell_type": "code",
   "execution_count": 120,
   "id": "ab78ba71",
   "metadata": {},
   "outputs": [
    {
     "data": {
      "text/html": [
       "<div>\n",
       "<style scoped>\n",
       "    .dataframe tbody tr th:only-of-type {\n",
       "        vertical-align: middle;\n",
       "    }\n",
       "\n",
       "    .dataframe tbody tr th {\n",
       "        vertical-align: top;\n",
       "    }\n",
       "\n",
       "    .dataframe thead th {\n",
       "        text-align: right;\n",
       "    }\n",
       "</style>\n",
       "<table border=\"1\" class=\"dataframe\">\n",
       "  <thead>\n",
       "    <tr style=\"text-align: right;\">\n",
       "      <th></th>\n",
       "      <th>name</th>\n",
       "      <th>symbol</th>\n",
       "      <th>slug</th>\n",
       "      <th>num_market_pairs</th>\n",
       "      <th>date_added</th>\n",
       "      <th>tags</th>\n",
       "      <th>max_supply</th>\n",
       "      <th>circulating_supply</th>\n",
       "      <th>total_supply</th>\n",
       "      <th>platform</th>\n",
       "      <th>cmc_rank</th>\n",
       "      <th>self_reported_circulating_supply</th>\n",
       "      <th>self_reported_market_cap</th>\n",
       "      <th>last_updated</th>\n",
       "      <th>quote</th>\n",
       "      <th>request_time</th>\n",
       "      <th>is_stable_coin</th>\n",
       "      <th>is_meme</th>\n",
       "      <th>datetime_issue</th>\n",
       "    </tr>\n",
       "    <tr>\n",
       "      <th>id</th>\n",
       "      <th></th>\n",
       "      <th></th>\n",
       "      <th></th>\n",
       "      <th></th>\n",
       "      <th></th>\n",
       "      <th></th>\n",
       "      <th></th>\n",
       "      <th></th>\n",
       "      <th></th>\n",
       "      <th></th>\n",
       "      <th></th>\n",
       "      <th></th>\n",
       "      <th></th>\n",
       "      <th></th>\n",
       "      <th></th>\n",
       "      <th></th>\n",
       "      <th></th>\n",
       "      <th></th>\n",
       "      <th></th>\n",
       "    </tr>\n",
       "  </thead>\n",
       "  <tbody>\n",
       "    <tr>\n",
       "      <th>1321</th>\n",
       "      <td>Ethereum Classic</td>\n",
       "      <td>ETC</td>\n",
       "      <td>ethereum-classic</td>\n",
       "      <td>296</td>\n",
       "      <td>2016-07-24T00:00:00.000Z</td>\n",
       "      <td>[mineable, pow, ethash, platform, smart-contra...</td>\n",
       "      <td>2.107000e+08</td>\n",
       "      <td>1.343879e+08</td>\n",
       "      <td>2.107000e+08</td>\n",
       "      <td>None</td>\n",
       "      <td>33</td>\n",
       "      <td>NaN</td>\n",
       "      <td>NaN</td>\n",
       "      <td>2022-04-23T04:24:00.000Z</td>\n",
       "      <td>{'USD': {'price': 34.88049675020711, 'volume_2...</td>\n",
       "      <td>2022-04-23 00:26:12.469069</td>\n",
       "      <td>False</td>\n",
       "      <td>False</td>\n",
       "      <td>2016-07-24</td>\n",
       "    </tr>\n",
       "    <tr>\n",
       "      <th>1437</th>\n",
       "      <td>Zcash</td>\n",
       "      <td>ZEC</td>\n",
       "      <td>zcash</td>\n",
       "      <td>249</td>\n",
       "      <td>2016-10-29T00:00:00.000Z</td>\n",
       "      <td>[mineable, pow, equihash, medium-of-exchange, ...</td>\n",
       "      <td>2.100000e+07</td>\n",
       "      <td>1.422823e+07</td>\n",
       "      <td>1.422823e+07</td>\n",
       "      <td>None</td>\n",
       "      <td>50</td>\n",
       "      <td>NaN</td>\n",
       "      <td>NaN</td>\n",
       "      <td>2022-04-23T04:24:00.000Z</td>\n",
       "      <td>{'USD': {'price': 154.51880745066703, 'volume_...</td>\n",
       "      <td>2022-04-23 00:26:12.469069</td>\n",
       "      <td>False</td>\n",
       "      <td>False</td>\n",
       "      <td>2016-10-29</td>\n",
       "    </tr>\n",
       "    <tr>\n",
       "      <th>2</th>\n",
       "      <td>Litecoin</td>\n",
       "      <td>LTC</td>\n",
       "      <td>litecoin</td>\n",
       "      <td>765</td>\n",
       "      <td>2013-04-28T00:00:00.000Z</td>\n",
       "      <td>[mineable, pow, scrypt, medium-of-exchange, bi...</td>\n",
       "      <td>8.400000e+07</td>\n",
       "      <td>7.012854e+07</td>\n",
       "      <td>8.400000e+07</td>\n",
       "      <td>None</td>\n",
       "      <td>21</td>\n",
       "      <td>NaN</td>\n",
       "      <td>NaN</td>\n",
       "      <td>2022-04-23T04:25:00.000Z</td>\n",
       "      <td>{'USD': {'price': 105.48630683407303, 'volume_...</td>\n",
       "      <td>2022-04-23 00:26:12.469069</td>\n",
       "      <td>False</td>\n",
       "      <td>False</td>\n",
       "      <td>2013-04-28</td>\n",
       "    </tr>\n",
       "    <tr>\n",
       "      <th>1376</th>\n",
       "      <td>Neo</td>\n",
       "      <td>NEO</td>\n",
       "      <td>neo</td>\n",
       "      <td>245</td>\n",
       "      <td>2016-09-08T00:00:00.000Z</td>\n",
       "      <td>[platform, enterprise-solutions, smart-contracts]</td>\n",
       "      <td>1.000000e+08</td>\n",
       "      <td>7.053883e+07</td>\n",
       "      <td>1.000000e+08</td>\n",
       "      <td>None</td>\n",
       "      <td>63</td>\n",
       "      <td>NaN</td>\n",
       "      <td>NaN</td>\n",
       "      <td>2022-04-23T04:24:00.000Z</td>\n",
       "      <td>{'USD': {'price': 20.96085542280521, 'volume_2...</td>\n",
       "      <td>2022-04-23 00:26:12.469069</td>\n",
       "      <td>False</td>\n",
       "      <td>False</td>\n",
       "      <td>2016-09-08</td>\n",
       "    </tr>\n",
       "    <tr>\n",
       "      <th>1831</th>\n",
       "      <td>Bitcoin Cash</td>\n",
       "      <td>BCH</td>\n",
       "      <td>bitcoin-cash</td>\n",
       "      <td>589</td>\n",
       "      <td>2017-07-23T00:00:00.000Z</td>\n",
       "      <td>[mineable, pow, sha-256, marketplace, medium-o...</td>\n",
       "      <td>2.100000e+07</td>\n",
       "      <td>1.904393e+07</td>\n",
       "      <td>1.904393e+07</td>\n",
       "      <td>None</td>\n",
       "      <td>26</td>\n",
       "      <td>NaN</td>\n",
       "      <td>NaN</td>\n",
       "      <td>2022-04-23T04:24:00.000Z</td>\n",
       "      <td>{'USD': {'price': 317.84930094116623, 'volume_...</td>\n",
       "      <td>2022-04-23 00:26:12.469069</td>\n",
       "      <td>False</td>\n",
       "      <td>False</td>\n",
       "      <td>2017-07-23</td>\n",
       "    </tr>\n",
       "    <tr>\n",
       "      <th>52</th>\n",
       "      <td>XRP</td>\n",
       "      <td>XRP</td>\n",
       "      <td>xrp</td>\n",
       "      <td>712</td>\n",
       "      <td>2013-08-04T00:00:00.000Z</td>\n",
       "      <td>[medium-of-exchange, enterprise-solutions, bin...</td>\n",
       "      <td>1.000000e+11</td>\n",
       "      <td>4.810523e+10</td>\n",
       "      <td>9.998959e+10</td>\n",
       "      <td>None</td>\n",
       "      <td>6</td>\n",
       "      <td>NaN</td>\n",
       "      <td>NaN</td>\n",
       "      <td>2022-04-23T04:25:00.000Z</td>\n",
       "      <td>{'USD': {'price': 0.7098046223985148, 'volume_...</td>\n",
       "      <td>2022-04-23 00:26:12.469069</td>\n",
       "      <td>False</td>\n",
       "      <td>False</td>\n",
       "      <td>2013-08-04</td>\n",
       "    </tr>\n",
       "    <tr>\n",
       "      <th>1808</th>\n",
       "      <td>OMG Network</td>\n",
       "      <td>OMG</td>\n",
       "      <td>omg</td>\n",
       "      <td>283</td>\n",
       "      <td>2017-07-14T00:00:00.000Z</td>\n",
       "      <td>[medium-of-exchange, payments, scaling, state-...</td>\n",
       "      <td>1.402454e+08</td>\n",
       "      <td>1.402454e+08</td>\n",
       "      <td>1.402454e+08</td>\n",
       "      <td>{'id': 1027, 'name': 'Ethereum', 'symbol': 'ET...</td>\n",
       "      <td>106</td>\n",
       "      <td>NaN</td>\n",
       "      <td>NaN</td>\n",
       "      <td>2022-04-23T04:24:00.000Z</td>\n",
       "      <td>{'USD': {'price': 4.590066808617123, 'volume_2...</td>\n",
       "      <td>2022-04-23 00:26:12.469069</td>\n",
       "      <td>False</td>\n",
       "      <td>False</td>\n",
       "      <td>2017-07-14</td>\n",
       "    </tr>\n",
       "    <tr>\n",
       "      <th>1765</th>\n",
       "      <td>EOS</td>\n",
       "      <td>EOS</td>\n",
       "      <td>eos</td>\n",
       "      <td>434</td>\n",
       "      <td>2017-07-01T00:00:00.000Z</td>\n",
       "      <td>[medium-of-exchange, enterprise-solutions, sma...</td>\n",
       "      <td>NaN</td>\n",
       "      <td>9.876039e+08</td>\n",
       "      <td>1.052828e+09</td>\n",
       "      <td>None</td>\n",
       "      <td>49</td>\n",
       "      <td>NaN</td>\n",
       "      <td>NaN</td>\n",
       "      <td>2022-04-23T04:24:00.000Z</td>\n",
       "      <td>{'USD': {'price': 2.4045151742096604, 'volume_...</td>\n",
       "      <td>2022-04-23 00:26:12.469069</td>\n",
       "      <td>False</td>\n",
       "      <td>False</td>\n",
       "      <td>2017-07-01</td>\n",
       "    </tr>\n",
       "    <tr>\n",
       "      <th>131</th>\n",
       "      <td>Dash</td>\n",
       "      <td>DASH</td>\n",
       "      <td>dash</td>\n",
       "      <td>335</td>\n",
       "      <td>2014-02-14T00:00:00.000Z</td>\n",
       "      <td>[mineable, hybrid-pow-pos, x11, medium-of-exch...</td>\n",
       "      <td>1.890000e+07</td>\n",
       "      <td>1.068720e+07</td>\n",
       "      <td>1.068720e+07</td>\n",
       "      <td>None</td>\n",
       "      <td>79</td>\n",
       "      <td>NaN</td>\n",
       "      <td>NaN</td>\n",
       "      <td>2022-04-23T04:25:00.000Z</td>\n",
       "      <td>{'USD': {'price': 101.91688686198103, 'volume_...</td>\n",
       "      <td>2022-04-23 00:26:12.469069</td>\n",
       "      <td>False</td>\n",
       "      <td>False</td>\n",
       "      <td>2014-02-14</td>\n",
       "    </tr>\n",
       "  </tbody>\n",
       "</table>\n",
       "</div>"
      ],
      "text/plain": [
       "                  name symbol              slug  num_market_pairs  \\\n",
       "id                                                                  \n",
       "1321  Ethereum Classic    ETC  ethereum-classic               296   \n",
       "1437             Zcash    ZEC             zcash               249   \n",
       "2             Litecoin    LTC          litecoin               765   \n",
       "1376               Neo    NEO               neo               245   \n",
       "1831      Bitcoin Cash    BCH      bitcoin-cash               589   \n",
       "52                 XRP    XRP               xrp               712   \n",
       "1808       OMG Network    OMG               omg               283   \n",
       "1765               EOS    EOS               eos               434   \n",
       "131               Dash   DASH              dash               335   \n",
       "\n",
       "                    date_added  \\\n",
       "id                               \n",
       "1321  2016-07-24T00:00:00.000Z   \n",
       "1437  2016-10-29T00:00:00.000Z   \n",
       "2     2013-04-28T00:00:00.000Z   \n",
       "1376  2016-09-08T00:00:00.000Z   \n",
       "1831  2017-07-23T00:00:00.000Z   \n",
       "52    2013-08-04T00:00:00.000Z   \n",
       "1808  2017-07-14T00:00:00.000Z   \n",
       "1765  2017-07-01T00:00:00.000Z   \n",
       "131   2014-02-14T00:00:00.000Z   \n",
       "\n",
       "                                                   tags    max_supply  \\\n",
       "id                                                                      \n",
       "1321  [mineable, pow, ethash, platform, smart-contra...  2.107000e+08   \n",
       "1437  [mineable, pow, equihash, medium-of-exchange, ...  2.100000e+07   \n",
       "2     [mineable, pow, scrypt, medium-of-exchange, bi...  8.400000e+07   \n",
       "1376  [platform, enterprise-solutions, smart-contracts]  1.000000e+08   \n",
       "1831  [mineable, pow, sha-256, marketplace, medium-o...  2.100000e+07   \n",
       "52    [medium-of-exchange, enterprise-solutions, bin...  1.000000e+11   \n",
       "1808  [medium-of-exchange, payments, scaling, state-...  1.402454e+08   \n",
       "1765  [medium-of-exchange, enterprise-solutions, sma...           NaN   \n",
       "131   [mineable, hybrid-pow-pos, x11, medium-of-exch...  1.890000e+07   \n",
       "\n",
       "      circulating_supply  total_supply  \\\n",
       "id                                       \n",
       "1321        1.343879e+08  2.107000e+08   \n",
       "1437        1.422823e+07  1.422823e+07   \n",
       "2           7.012854e+07  8.400000e+07   \n",
       "1376        7.053883e+07  1.000000e+08   \n",
       "1831        1.904393e+07  1.904393e+07   \n",
       "52          4.810523e+10  9.998959e+10   \n",
       "1808        1.402454e+08  1.402454e+08   \n",
       "1765        9.876039e+08  1.052828e+09   \n",
       "131         1.068720e+07  1.068720e+07   \n",
       "\n",
       "                                               platform  cmc_rank  \\\n",
       "id                                                                  \n",
       "1321                                               None        33   \n",
       "1437                                               None        50   \n",
       "2                                                  None        21   \n",
       "1376                                               None        63   \n",
       "1831                                               None        26   \n",
       "52                                                 None         6   \n",
       "1808  {'id': 1027, 'name': 'Ethereum', 'symbol': 'ET...       106   \n",
       "1765                                               None        49   \n",
       "131                                                None        79   \n",
       "\n",
       "      self_reported_circulating_supply  self_reported_market_cap  \\\n",
       "id                                                                 \n",
       "1321                               NaN                       NaN   \n",
       "1437                               NaN                       NaN   \n",
       "2                                  NaN                       NaN   \n",
       "1376                               NaN                       NaN   \n",
       "1831                               NaN                       NaN   \n",
       "52                                 NaN                       NaN   \n",
       "1808                               NaN                       NaN   \n",
       "1765                               NaN                       NaN   \n",
       "131                                NaN                       NaN   \n",
       "\n",
       "                  last_updated  \\\n",
       "id                               \n",
       "1321  2022-04-23T04:24:00.000Z   \n",
       "1437  2022-04-23T04:24:00.000Z   \n",
       "2     2022-04-23T04:25:00.000Z   \n",
       "1376  2022-04-23T04:24:00.000Z   \n",
       "1831  2022-04-23T04:24:00.000Z   \n",
       "52    2022-04-23T04:25:00.000Z   \n",
       "1808  2022-04-23T04:24:00.000Z   \n",
       "1765  2022-04-23T04:24:00.000Z   \n",
       "131   2022-04-23T04:25:00.000Z   \n",
       "\n",
       "                                                  quote  \\\n",
       "id                                                        \n",
       "1321  {'USD': {'price': 34.88049675020711, 'volume_2...   \n",
       "1437  {'USD': {'price': 154.51880745066703, 'volume_...   \n",
       "2     {'USD': {'price': 105.48630683407303, 'volume_...   \n",
       "1376  {'USD': {'price': 20.96085542280521, 'volume_2...   \n",
       "1831  {'USD': {'price': 317.84930094116623, 'volume_...   \n",
       "52    {'USD': {'price': 0.7098046223985148, 'volume_...   \n",
       "1808  {'USD': {'price': 4.590066808617123, 'volume_2...   \n",
       "1765  {'USD': {'price': 2.4045151742096604, 'volume_...   \n",
       "131   {'USD': {'price': 101.91688686198103, 'volume_...   \n",
       "\n",
       "                   request_time  is_stable_coin  is_meme datetime_issue  \n",
       "id                                                                       \n",
       "1321 2022-04-23 00:26:12.469069           False    False     2016-07-24  \n",
       "1437 2022-04-23 00:26:12.469069           False    False     2016-10-29  \n",
       "2    2022-04-23 00:26:12.469069           False    False     2013-04-28  \n",
       "1376 2022-04-23 00:26:12.469069           False    False     2016-09-08  \n",
       "1831 2022-04-23 00:26:12.469069           False    False     2017-07-23  \n",
       "52   2022-04-23 00:26:12.469069           False    False     2013-08-04  \n",
       "1808 2022-04-23 00:26:12.469069           False    False     2017-07-14  \n",
       "1765 2022-04-23 00:26:12.469069           False    False     2017-07-01  \n",
       "131  2022-04-23 00:26:12.469069           False    False     2014-02-14  "
      ]
     },
     "execution_count": 120,
     "metadata": {},
     "output_type": "execute_result"
    }
   ],
   "source": [
    "shit_coin_info_df.loc[dino_coins_cmc]"
   ]
  },
  {
   "cell_type": "markdown",
   "id": "e41f4fdd",
   "metadata": {},
   "source": [
    "ltc >bch >=etc>zec > xrp\n",
    "\n",
    "ltc bch very cointegration\n",
    "\n",
    "xrp is dead"
   ]
  },
  {
   "cell_type": "code",
   "execution_count": 114,
   "id": "a3561ac0",
   "metadata": {
    "scrolled": false
   },
   "outputs": [
    {
     "data": {
      "text/html": [
       "<div>\n",
       "<style scoped>\n",
       "    .dataframe tbody tr th:only-of-type {\n",
       "        vertical-align: middle;\n",
       "    }\n",
       "\n",
       "    .dataframe tbody tr th {\n",
       "        vertical-align: top;\n",
       "    }\n",
       "\n",
       "    .dataframe thead th {\n",
       "        text-align: right;\n",
       "    }\n",
       "</style>\n",
       "<table border=\"1\" class=\"dataframe\">\n",
       "  <thead>\n",
       "    <tr style=\"text-align: right;\">\n",
       "      <th></th>\n",
       "      <th>name</th>\n",
       "      <th>symbol</th>\n",
       "      <th>slug</th>\n",
       "      <th>num_market_pairs</th>\n",
       "      <th>date_added</th>\n",
       "      <th>tags</th>\n",
       "      <th>max_supply</th>\n",
       "      <th>circulating_supply</th>\n",
       "      <th>total_supply</th>\n",
       "      <th>platform</th>\n",
       "      <th>cmc_rank</th>\n",
       "      <th>self_reported_circulating_supply</th>\n",
       "      <th>self_reported_market_cap</th>\n",
       "      <th>last_updated</th>\n",
       "      <th>quote</th>\n",
       "      <th>request_time</th>\n",
       "      <th>is_stable_coin</th>\n",
       "      <th>datetime_issue</th>\n",
       "      <th>is_meme</th>\n",
       "    </tr>\n",
       "    <tr>\n",
       "      <th>id</th>\n",
       "      <th></th>\n",
       "      <th></th>\n",
       "      <th></th>\n",
       "      <th></th>\n",
       "      <th></th>\n",
       "      <th></th>\n",
       "      <th></th>\n",
       "      <th></th>\n",
       "      <th></th>\n",
       "      <th></th>\n",
       "      <th></th>\n",
       "      <th></th>\n",
       "      <th></th>\n",
       "      <th></th>\n",
       "      <th></th>\n",
       "      <th></th>\n",
       "      <th></th>\n",
       "      <th></th>\n",
       "      <th></th>\n",
       "    </tr>\n",
       "  </thead>\n",
       "  <tbody>\n",
       "    <tr>\n",
       "      <th>1</th>\n",
       "      <td>Bitcoin</td>\n",
       "      <td>BTC</td>\n",
       "      <td>bitcoin</td>\n",
       "      <td>9357</td>\n",
       "      <td>2013-04-28T00:00:00.000Z</td>\n",
       "      <td>[mineable, pow, sha-256, store-of-value, state...</td>\n",
       "      <td>2.100000e+07</td>\n",
       "      <td>1.901941e+07</td>\n",
       "      <td>1.901941e+07</td>\n",
       "      <td>None</td>\n",
       "      <td>1</td>\n",
       "      <td>NaN</td>\n",
       "      <td>NaN</td>\n",
       "      <td>2022-04-23T04:03:00.000Z</td>\n",
       "      <td>{'USD': {'price': 39482.053435971604, 'volume_...</td>\n",
       "      <td>2022-04-23 00:04:05.244269</td>\n",
       "      <td>False</td>\n",
       "      <td>2013-04-28</td>\n",
       "      <td>False</td>\n",
       "    </tr>\n",
       "    <tr>\n",
       "      <th>1027</th>\n",
       "      <td>Ethereum</td>\n",
       "      <td>ETH</td>\n",
       "      <td>ethereum</td>\n",
       "      <td>5659</td>\n",
       "      <td>2015-08-07T00:00:00.000Z</td>\n",
       "      <td>[mineable, pow, smart-contracts, ethereum-ecos...</td>\n",
       "      <td>NaN</td>\n",
       "      <td>1.204898e+08</td>\n",
       "      <td>1.204898e+08</td>\n",
       "      <td>None</td>\n",
       "      <td>2</td>\n",
       "      <td>NaN</td>\n",
       "      <td>NaN</td>\n",
       "      <td>2022-04-23T04:02:00.000Z</td>\n",
       "      <td>{'USD': {'price': 2949.370472685365, 'volume_2...</td>\n",
       "      <td>2022-04-23 00:04:05.244269</td>\n",
       "      <td>False</td>\n",
       "      <td>2015-08-07</td>\n",
       "      <td>False</td>\n",
       "    </tr>\n",
       "    <tr>\n",
       "      <th>1839</th>\n",
       "      <td>BNB</td>\n",
       "      <td>BNB</td>\n",
       "      <td>bnb</td>\n",
       "      <td>813</td>\n",
       "      <td>2017-07-25T00:00:00.000Z</td>\n",
       "      <td>[marketplace, centralized-exchange, payments, ...</td>\n",
       "      <td>1.651168e+08</td>\n",
       "      <td>1.632770e+08</td>\n",
       "      <td>1.632770e+08</td>\n",
       "      <td>None</td>\n",
       "      <td>4</td>\n",
       "      <td>NaN</td>\n",
       "      <td>NaN</td>\n",
       "      <td>2022-04-23T04:02:00.000Z</td>\n",
       "      <td>{'USD': {'price': 403.44419264531916, 'volume_...</td>\n",
       "      <td>2022-04-23 00:04:05.244269</td>\n",
       "      <td>False</td>\n",
       "      <td>2017-07-25</td>\n",
       "      <td>False</td>\n",
       "    </tr>\n",
       "    <tr>\n",
       "      <th>52</th>\n",
       "      <td>XRP</td>\n",
       "      <td>XRP</td>\n",
       "      <td>xrp</td>\n",
       "      <td>712</td>\n",
       "      <td>2013-08-04T00:00:00.000Z</td>\n",
       "      <td>[medium-of-exchange, enterprise-solutions, bin...</td>\n",
       "      <td>1.000000e+11</td>\n",
       "      <td>4.810523e+10</td>\n",
       "      <td>9.998959e+10</td>\n",
       "      <td>None</td>\n",
       "      <td>6</td>\n",
       "      <td>NaN</td>\n",
       "      <td>NaN</td>\n",
       "      <td>2022-04-23T04:02:00.000Z</td>\n",
       "      <td>{'USD': {'price': 0.7133355993747462, 'volume_...</td>\n",
       "      <td>2022-04-23 00:04:05.244269</td>\n",
       "      <td>False</td>\n",
       "      <td>2013-08-04</td>\n",
       "      <td>False</td>\n",
       "    </tr>\n",
       "    <tr>\n",
       "      <th>2010</th>\n",
       "      <td>Cardano</td>\n",
       "      <td>ADA</td>\n",
       "      <td>cardano</td>\n",
       "      <td>426</td>\n",
       "      <td>2017-10-01T00:00:00.000Z</td>\n",
       "      <td>[mineable, dpos, pos, platform, research, smar...</td>\n",
       "      <td>4.500000e+10</td>\n",
       "      <td>3.375257e+10</td>\n",
       "      <td>3.427770e+10</td>\n",
       "      <td>None</td>\n",
       "      <td>9</td>\n",
       "      <td>NaN</td>\n",
       "      <td>NaN</td>\n",
       "      <td>2022-04-23T04:02:00.000Z</td>\n",
       "      <td>{'USD': {'price': 0.8932131524727057, 'volume_...</td>\n",
       "      <td>2022-04-23 00:04:05.244269</td>\n",
       "      <td>False</td>\n",
       "      <td>2017-10-01</td>\n",
       "      <td>False</td>\n",
       "    </tr>\n",
       "    <tr>\n",
       "      <th>74</th>\n",
       "      <td>Dogecoin</td>\n",
       "      <td>DOGE</td>\n",
       "      <td>dogecoin</td>\n",
       "      <td>466</td>\n",
       "      <td>2013-12-15T00:00:00.000Z</td>\n",
       "      <td>[mineable, pow, scrypt, medium-of-exchange, me...</td>\n",
       "      <td>NaN</td>\n",
       "      <td>1.326708e+11</td>\n",
       "      <td>1.326708e+11</td>\n",
       "      <td>None</td>\n",
       "      <td>13</td>\n",
       "      <td>NaN</td>\n",
       "      <td>NaN</td>\n",
       "      <td>2022-04-23T04:02:00.000Z</td>\n",
       "      <td>{'USD': {'price': 0.13494603692699958, 'volume...</td>\n",
       "      <td>2022-04-23 00:04:05.244269</td>\n",
       "      <td>False</td>\n",
       "      <td>2013-12-15</td>\n",
       "      <td>True</td>\n",
       "    </tr>\n",
       "    <tr>\n",
       "      <th>2</th>\n",
       "      <td>Litecoin</td>\n",
       "      <td>LTC</td>\n",
       "      <td>litecoin</td>\n",
       "      <td>765</td>\n",
       "      <td>2013-04-28T00:00:00.000Z</td>\n",
       "      <td>[mineable, pow, scrypt, medium-of-exchange, bi...</td>\n",
       "      <td>8.400000e+07</td>\n",
       "      <td>7.012854e+07</td>\n",
       "      <td>8.400000e+07</td>\n",
       "      <td>None</td>\n",
       "      <td>21</td>\n",
       "      <td>NaN</td>\n",
       "      <td>NaN</td>\n",
       "      <td>2022-04-23T04:03:00.000Z</td>\n",
       "      <td>{'USD': {'price': 105.617472937166, 'volume_24...</td>\n",
       "      <td>2022-04-23 00:04:05.244269</td>\n",
       "      <td>False</td>\n",
       "      <td>2013-04-28</td>\n",
       "      <td>False</td>\n",
       "    </tr>\n",
       "    <tr>\n",
       "      <th>1958</th>\n",
       "      <td>TRON</td>\n",
       "      <td>TRX</td>\n",
       "      <td>tron</td>\n",
       "      <td>593</td>\n",
       "      <td>2017-09-13T00:00:00.000Z</td>\n",
       "      <td>[media, payments, tron-ecosystem, bnb-chain]</td>\n",
       "      <td>NaN</td>\n",
       "      <td>1.016346e+11</td>\n",
       "      <td>1.016346e+11</td>\n",
       "      <td>None</td>\n",
       "      <td>22</td>\n",
       "      <td>7.165966e+10</td>\n",
       "      <td>4.915263e+09</td>\n",
       "      <td>2022-04-23T04:02:00.000Z</td>\n",
       "      <td>{'USD': {'price': 0.06859177330028401, 'volume...</td>\n",
       "      <td>2022-04-23 00:04:05.244269</td>\n",
       "      <td>False</td>\n",
       "      <td>2017-09-13</td>\n",
       "      <td>False</td>\n",
       "    </tr>\n",
       "    <tr>\n",
       "      <th>1975</th>\n",
       "      <td>Chainlink</td>\n",
       "      <td>LINK</td>\n",
       "      <td>chainlink</td>\n",
       "      <td>633</td>\n",
       "      <td>2017-09-20T00:00:00.000Z</td>\n",
       "      <td>[platform, defi, oracles, smart-contracts, sub...</td>\n",
       "      <td>1.000000e+09</td>\n",
       "      <td>4.670095e+08</td>\n",
       "      <td>1.000000e+09</td>\n",
       "      <td>{'id': 1027, 'name': 'Ethereum', 'symbol': 'ET...</td>\n",
       "      <td>24</td>\n",
       "      <td>NaN</td>\n",
       "      <td>NaN</td>\n",
       "      <td>2022-04-23T04:02:00.000Z</td>\n",
       "      <td>{'USD': {'price': 13.455287542142084, 'volume_...</td>\n",
       "      <td>2022-04-23 00:04:05.244269</td>\n",
       "      <td>False</td>\n",
       "      <td>2017-09-20</td>\n",
       "      <td>False</td>\n",
       "    </tr>\n",
       "    <tr>\n",
       "      <th>1831</th>\n",
       "      <td>Bitcoin Cash</td>\n",
       "      <td>BCH</td>\n",
       "      <td>bitcoin-cash</td>\n",
       "      <td>589</td>\n",
       "      <td>2017-07-23T00:00:00.000Z</td>\n",
       "      <td>[mineable, pow, sha-256, marketplace, medium-o...</td>\n",
       "      <td>2.100000e+07</td>\n",
       "      <td>1.904387e+07</td>\n",
       "      <td>1.904387e+07</td>\n",
       "      <td>None</td>\n",
       "      <td>26</td>\n",
       "      <td>NaN</td>\n",
       "      <td>NaN</td>\n",
       "      <td>2022-04-23T04:02:00.000Z</td>\n",
       "      <td>{'USD': {'price': 318.4843502682241, 'volume_2...</td>\n",
       "      <td>2022-04-23 00:04:05.244269</td>\n",
       "      <td>False</td>\n",
       "      <td>2017-07-23</td>\n",
       "      <td>False</td>\n",
       "    </tr>\n",
       "    <tr>\n",
       "      <th>328</th>\n",
       "      <td>Monero</td>\n",
       "      <td>XMR</td>\n",
       "      <td>monero</td>\n",
       "      <td>174</td>\n",
       "      <td>2014-05-21T00:00:00.000Z</td>\n",
       "      <td>[mineable, pow, medium-of-exchange, privacy, r...</td>\n",
       "      <td>NaN</td>\n",
       "      <td>1.811128e+07</td>\n",
       "      <td>1.811128e+07</td>\n",
       "      <td>None</td>\n",
       "      <td>29</td>\n",
       "      <td>NaN</td>\n",
       "      <td>NaN</td>\n",
       "      <td>2022-04-23T04:02:00.000Z</td>\n",
       "      <td>{'USD': {'price': 267.58639594943395, 'volume_...</td>\n",
       "      <td>2022-04-23 00:04:05.244269</td>\n",
       "      <td>False</td>\n",
       "      <td>2014-05-21</td>\n",
       "      <td>False</td>\n",
       "    </tr>\n",
       "    <tr>\n",
       "      <th>512</th>\n",
       "      <td>Stellar</td>\n",
       "      <td>XLM</td>\n",
       "      <td>stellar</td>\n",
       "      <td>420</td>\n",
       "      <td>2014-08-05T00:00:00.000Z</td>\n",
       "      <td>[medium-of-exchange, enterprise-solutions, dec...</td>\n",
       "      <td>5.000181e+10</td>\n",
       "      <td>2.479172e+10</td>\n",
       "      <td>5.000179e+10</td>\n",
       "      <td>None</td>\n",
       "      <td>31</td>\n",
       "      <td>NaN</td>\n",
       "      <td>NaN</td>\n",
       "      <td>2022-04-23T04:02:00.000Z</td>\n",
       "      <td>{'USD': {'price': 0.19286122282088872, 'volume...</td>\n",
       "      <td>2022-04-23 00:04:05.244269</td>\n",
       "      <td>False</td>\n",
       "      <td>2014-08-05</td>\n",
       "      <td>False</td>\n",
       "    </tr>\n",
       "    <tr>\n",
       "      <th>1321</th>\n",
       "      <td>Ethereum Classic</td>\n",
       "      <td>ETC</td>\n",
       "      <td>ethereum-classic</td>\n",
       "      <td>296</td>\n",
       "      <td>2016-07-24T00:00:00.000Z</td>\n",
       "      <td>[mineable, pow, ethash, platform, smart-contra...</td>\n",
       "      <td>2.107000e+08</td>\n",
       "      <td>1.343862e+08</td>\n",
       "      <td>2.107000e+08</td>\n",
       "      <td>None</td>\n",
       "      <td>33</td>\n",
       "      <td>NaN</td>\n",
       "      <td>NaN</td>\n",
       "      <td>2022-04-23T04:02:00.000Z</td>\n",
       "      <td>{'USD': {'price': 34.93807767017003, 'volume_2...</td>\n",
       "      <td>2022-04-23 00:04:05.244269</td>\n",
       "      <td>False</td>\n",
       "      <td>2016-07-24</td>\n",
       "      <td>False</td>\n",
       "    </tr>\n",
       "    <tr>\n",
       "      <th>1966</th>\n",
       "      <td>Decentraland</td>\n",
       "      <td>MANA</td>\n",
       "      <td>decentraland</td>\n",
       "      <td>261</td>\n",
       "      <td>2017-09-17T00:00:00.000Z</td>\n",
       "      <td>[platform, collectibles-nfts, gaming, payments...</td>\n",
       "      <td>NaN</td>\n",
       "      <td>1.842483e+09</td>\n",
       "      <td>2.193694e+09</td>\n",
       "      <td>{'id': 1027, 'name': 'Ethereum', 'symbol': 'ET...</td>\n",
       "      <td>35</td>\n",
       "      <td>NaN</td>\n",
       "      <td>NaN</td>\n",
       "      <td>2022-04-23T04:02:00.000Z</td>\n",
       "      <td>{'USD': {'price': 2.0163145929804727, 'volume_...</td>\n",
       "      <td>2022-04-23 00:04:05.244269</td>\n",
       "      <td>False</td>\n",
       "      <td>2017-09-17</td>\n",
       "      <td>False</td>\n",
       "    </tr>\n",
       "    <tr>\n",
       "      <th>3077</th>\n",
       "      <td>VeChain</td>\n",
       "      <td>VET</td>\n",
       "      <td>vechain</td>\n",
       "      <td>180</td>\n",
       "      <td>2017-08-22T00:00:00.000Z</td>\n",
       "      <td>[logistics, data-provenance, iot, smart-contra...</td>\n",
       "      <td>8.671263e+10</td>\n",
       "      <td>6.431558e+10</td>\n",
       "      <td>8.671263e+10</td>\n",
       "      <td>None</td>\n",
       "      <td>36</td>\n",
       "      <td>NaN</td>\n",
       "      <td>NaN</td>\n",
       "      <td>2022-04-23T04:02:00.000Z</td>\n",
       "      <td>{'USD': {'price': 0.05762150938576257, 'volume...</td>\n",
       "      <td>2022-04-23 00:04:05.244269</td>\n",
       "      <td>False</td>\n",
       "      <td>2017-08-22</td>\n",
       "      <td>False</td>\n",
       "    </tr>\n",
       "    <tr>\n",
       "      <th>2280</th>\n",
       "      <td>Filecoin</td>\n",
       "      <td>FIL</td>\n",
       "      <td>filecoin</td>\n",
       "      <td>198</td>\n",
       "      <td>2017-12-13T00:00:00.000Z</td>\n",
       "      <td>[mineable, distributed-computing, filesharing,...</td>\n",
       "      <td>NaN</td>\n",
       "      <td>1.935763e+08</td>\n",
       "      <td>1.935763e+08</td>\n",
       "      <td>None</td>\n",
       "      <td>37</td>\n",
       "      <td>NaN</td>\n",
       "      <td>NaN</td>\n",
       "      <td>2022-04-23T04:02:00.000Z</td>\n",
       "      <td>{'USD': {'price': 19.126341076993683, 'volume_...</td>\n",
       "      <td>2022-04-23 00:04:05.244269</td>\n",
       "      <td>False</td>\n",
       "      <td>2017-12-13</td>\n",
       "      <td>False</td>\n",
       "    </tr>\n",
       "    <tr>\n",
       "      <th>2011</th>\n",
       "      <td>Tezos</td>\n",
       "      <td>XTZ</td>\n",
       "      <td>tezos</td>\n",
       "      <td>211</td>\n",
       "      <td>2017-10-06T00:00:00.000Z</td>\n",
       "      <td>[pos, platform, enterprise-solutions, collecti...</td>\n",
       "      <td>NaN</td>\n",
       "      <td>8.920752e+08</td>\n",
       "      <td>9.136976e+08</td>\n",
       "      <td>None</td>\n",
       "      <td>45</td>\n",
       "      <td>NaN</td>\n",
       "      <td>NaN</td>\n",
       "      <td>2022-04-23T04:02:00.000Z</td>\n",
       "      <td>{'USD': {'price': 3.0231922913852958, 'volume_...</td>\n",
       "      <td>2022-04-23 00:04:05.244269</td>\n",
       "      <td>False</td>\n",
       "      <td>2017-10-06</td>\n",
       "      <td>False</td>\n",
       "    </tr>\n",
       "    <tr>\n",
       "      <th>1765</th>\n",
       "      <td>EOS</td>\n",
       "      <td>EOS</td>\n",
       "      <td>eos</td>\n",
       "      <td>434</td>\n",
       "      <td>2017-07-01T00:00:00.000Z</td>\n",
       "      <td>[medium-of-exchange, enterprise-solutions, sma...</td>\n",
       "      <td>NaN</td>\n",
       "      <td>9.875979e+08</td>\n",
       "      <td>1.052822e+09</td>\n",
       "      <td>None</td>\n",
       "      <td>49</td>\n",
       "      <td>NaN</td>\n",
       "      <td>NaN</td>\n",
       "      <td>2022-04-23T04:02:00.000Z</td>\n",
       "      <td>{'USD': {'price': 2.4153259040104635, 'volume_...</td>\n",
       "      <td>2022-04-23 00:04:05.244269</td>\n",
       "      <td>False</td>\n",
       "      <td>2017-07-01</td>\n",
       "      <td>False</td>\n",
       "    </tr>\n",
       "    <tr>\n",
       "      <th>1437</th>\n",
       "      <td>Zcash</td>\n",
       "      <td>ZEC</td>\n",
       "      <td>zcash</td>\n",
       "      <td>249</td>\n",
       "      <td>2016-10-29T00:00:00.000Z</td>\n",
       "      <td>[mineable, pow, equihash, medium-of-exchange, ...</td>\n",
       "      <td>2.100000e+07</td>\n",
       "      <td>1.422767e+07</td>\n",
       "      <td>1.422767e+07</td>\n",
       "      <td>None</td>\n",
       "      <td>50</td>\n",
       "      <td>NaN</td>\n",
       "      <td>NaN</td>\n",
       "      <td>2022-04-23T04:02:00.000Z</td>\n",
       "      <td>{'USD': {'price': 154.7133627970565, 'volume_2...</td>\n",
       "      <td>2022-04-23 00:04:05.244269</td>\n",
       "      <td>False</td>\n",
       "      <td>2016-10-29</td>\n",
       "      <td>False</td>\n",
       "    </tr>\n",
       "    <tr>\n",
       "      <th>1274</th>\n",
       "      <td>Waves</td>\n",
       "      <td>WAVES</td>\n",
       "      <td>waves</td>\n",
       "      <td>174</td>\n",
       "      <td>2016-06-02T00:00:00.000Z</td>\n",
       "      <td>[lpos, platform, smart-contracts]</td>\n",
       "      <td>NaN</td>\n",
       "      <td>1.080753e+08</td>\n",
       "      <td>1.080753e+08</td>\n",
       "      <td>None</td>\n",
       "      <td>52</td>\n",
       "      <td>NaN</td>\n",
       "      <td>NaN</td>\n",
       "      <td>2022-04-23T04:02:00.000Z</td>\n",
       "      <td>{'USD': {'price': 18.97552813578985, 'volume_2...</td>\n",
       "      <td>2022-04-23 00:04:05.244269</td>\n",
       "      <td>False</td>\n",
       "      <td>2016-06-02</td>\n",
       "      <td>False</td>\n",
       "    </tr>\n",
       "  </tbody>\n",
       "</table>\n",
       "</div>"
      ],
      "text/plain": [
       "                  name symbol              slug  num_market_pairs  \\\n",
       "id                                                                  \n",
       "1              Bitcoin    BTC           bitcoin              9357   \n",
       "1027          Ethereum    ETH          ethereum              5659   \n",
       "1839               BNB    BNB               bnb               813   \n",
       "52                 XRP    XRP               xrp               712   \n",
       "2010           Cardano    ADA           cardano               426   \n",
       "74            Dogecoin   DOGE          dogecoin               466   \n",
       "2             Litecoin    LTC          litecoin               765   \n",
       "1958              TRON    TRX              tron               593   \n",
       "1975         Chainlink   LINK         chainlink               633   \n",
       "1831      Bitcoin Cash    BCH      bitcoin-cash               589   \n",
       "328             Monero    XMR            monero               174   \n",
       "512            Stellar    XLM           stellar               420   \n",
       "1321  Ethereum Classic    ETC  ethereum-classic               296   \n",
       "1966      Decentraland   MANA      decentraland               261   \n",
       "3077           VeChain    VET           vechain               180   \n",
       "2280          Filecoin    FIL          filecoin               198   \n",
       "2011             Tezos    XTZ             tezos               211   \n",
       "1765               EOS    EOS               eos               434   \n",
       "1437             Zcash    ZEC             zcash               249   \n",
       "1274             Waves  WAVES             waves               174   \n",
       "\n",
       "                    date_added  \\\n",
       "id                               \n",
       "1     2013-04-28T00:00:00.000Z   \n",
       "1027  2015-08-07T00:00:00.000Z   \n",
       "1839  2017-07-25T00:00:00.000Z   \n",
       "52    2013-08-04T00:00:00.000Z   \n",
       "2010  2017-10-01T00:00:00.000Z   \n",
       "74    2013-12-15T00:00:00.000Z   \n",
       "2     2013-04-28T00:00:00.000Z   \n",
       "1958  2017-09-13T00:00:00.000Z   \n",
       "1975  2017-09-20T00:00:00.000Z   \n",
       "1831  2017-07-23T00:00:00.000Z   \n",
       "328   2014-05-21T00:00:00.000Z   \n",
       "512   2014-08-05T00:00:00.000Z   \n",
       "1321  2016-07-24T00:00:00.000Z   \n",
       "1966  2017-09-17T00:00:00.000Z   \n",
       "3077  2017-08-22T00:00:00.000Z   \n",
       "2280  2017-12-13T00:00:00.000Z   \n",
       "2011  2017-10-06T00:00:00.000Z   \n",
       "1765  2017-07-01T00:00:00.000Z   \n",
       "1437  2016-10-29T00:00:00.000Z   \n",
       "1274  2016-06-02T00:00:00.000Z   \n",
       "\n",
       "                                                   tags    max_supply  \\\n",
       "id                                                                      \n",
       "1     [mineable, pow, sha-256, store-of-value, state...  2.100000e+07   \n",
       "1027  [mineable, pow, smart-contracts, ethereum-ecos...           NaN   \n",
       "1839  [marketplace, centralized-exchange, payments, ...  1.651168e+08   \n",
       "52    [medium-of-exchange, enterprise-solutions, bin...  1.000000e+11   \n",
       "2010  [mineable, dpos, pos, platform, research, smar...  4.500000e+10   \n",
       "74    [mineable, pow, scrypt, medium-of-exchange, me...           NaN   \n",
       "2     [mineable, pow, scrypt, medium-of-exchange, bi...  8.400000e+07   \n",
       "1958       [media, payments, tron-ecosystem, bnb-chain]           NaN   \n",
       "1975  [platform, defi, oracles, smart-contracts, sub...  1.000000e+09   \n",
       "1831  [mineable, pow, sha-256, marketplace, medium-o...  2.100000e+07   \n",
       "328   [mineable, pow, medium-of-exchange, privacy, r...           NaN   \n",
       "512   [medium-of-exchange, enterprise-solutions, dec...  5.000181e+10   \n",
       "1321  [mineable, pow, ethash, platform, smart-contra...  2.107000e+08   \n",
       "1966  [platform, collectibles-nfts, gaming, payments...           NaN   \n",
       "3077  [logistics, data-provenance, iot, smart-contra...  8.671263e+10   \n",
       "2280  [mineable, distributed-computing, filesharing,...           NaN   \n",
       "2011  [pos, platform, enterprise-solutions, collecti...           NaN   \n",
       "1765  [medium-of-exchange, enterprise-solutions, sma...           NaN   \n",
       "1437  [mineable, pow, equihash, medium-of-exchange, ...  2.100000e+07   \n",
       "1274                  [lpos, platform, smart-contracts]           NaN   \n",
       "\n",
       "      circulating_supply  total_supply  \\\n",
       "id                                       \n",
       "1           1.901941e+07  1.901941e+07   \n",
       "1027        1.204898e+08  1.204898e+08   \n",
       "1839        1.632770e+08  1.632770e+08   \n",
       "52          4.810523e+10  9.998959e+10   \n",
       "2010        3.375257e+10  3.427770e+10   \n",
       "74          1.326708e+11  1.326708e+11   \n",
       "2           7.012854e+07  8.400000e+07   \n",
       "1958        1.016346e+11  1.016346e+11   \n",
       "1975        4.670095e+08  1.000000e+09   \n",
       "1831        1.904387e+07  1.904387e+07   \n",
       "328         1.811128e+07  1.811128e+07   \n",
       "512         2.479172e+10  5.000179e+10   \n",
       "1321        1.343862e+08  2.107000e+08   \n",
       "1966        1.842483e+09  2.193694e+09   \n",
       "3077        6.431558e+10  8.671263e+10   \n",
       "2280        1.935763e+08  1.935763e+08   \n",
       "2011        8.920752e+08  9.136976e+08   \n",
       "1765        9.875979e+08  1.052822e+09   \n",
       "1437        1.422767e+07  1.422767e+07   \n",
       "1274        1.080753e+08  1.080753e+08   \n",
       "\n",
       "                                               platform  cmc_rank  \\\n",
       "id                                                                  \n",
       "1                                                  None         1   \n",
       "1027                                               None         2   \n",
       "1839                                               None         4   \n",
       "52                                                 None         6   \n",
       "2010                                               None         9   \n",
       "74                                                 None        13   \n",
       "2                                                  None        21   \n",
       "1958                                               None        22   \n",
       "1975  {'id': 1027, 'name': 'Ethereum', 'symbol': 'ET...        24   \n",
       "1831                                               None        26   \n",
       "328                                                None        29   \n",
       "512                                                None        31   \n",
       "1321                                               None        33   \n",
       "1966  {'id': 1027, 'name': 'Ethereum', 'symbol': 'ET...        35   \n",
       "3077                                               None        36   \n",
       "2280                                               None        37   \n",
       "2011                                               None        45   \n",
       "1765                                               None        49   \n",
       "1437                                               None        50   \n",
       "1274                                               None        52   \n",
       "\n",
       "      self_reported_circulating_supply  self_reported_market_cap  \\\n",
       "id                                                                 \n",
       "1                                  NaN                       NaN   \n",
       "1027                               NaN                       NaN   \n",
       "1839                               NaN                       NaN   \n",
       "52                                 NaN                       NaN   \n",
       "2010                               NaN                       NaN   \n",
       "74                                 NaN                       NaN   \n",
       "2                                  NaN                       NaN   \n",
       "1958                      7.165966e+10              4.915263e+09   \n",
       "1975                               NaN                       NaN   \n",
       "1831                               NaN                       NaN   \n",
       "328                                NaN                       NaN   \n",
       "512                                NaN                       NaN   \n",
       "1321                               NaN                       NaN   \n",
       "1966                               NaN                       NaN   \n",
       "3077                               NaN                       NaN   \n",
       "2280                               NaN                       NaN   \n",
       "2011                               NaN                       NaN   \n",
       "1765                               NaN                       NaN   \n",
       "1437                               NaN                       NaN   \n",
       "1274                               NaN                       NaN   \n",
       "\n",
       "                  last_updated  \\\n",
       "id                               \n",
       "1     2022-04-23T04:03:00.000Z   \n",
       "1027  2022-04-23T04:02:00.000Z   \n",
       "1839  2022-04-23T04:02:00.000Z   \n",
       "52    2022-04-23T04:02:00.000Z   \n",
       "2010  2022-04-23T04:02:00.000Z   \n",
       "74    2022-04-23T04:02:00.000Z   \n",
       "2     2022-04-23T04:03:00.000Z   \n",
       "1958  2022-04-23T04:02:00.000Z   \n",
       "1975  2022-04-23T04:02:00.000Z   \n",
       "1831  2022-04-23T04:02:00.000Z   \n",
       "328   2022-04-23T04:02:00.000Z   \n",
       "512   2022-04-23T04:02:00.000Z   \n",
       "1321  2022-04-23T04:02:00.000Z   \n",
       "1966  2022-04-23T04:02:00.000Z   \n",
       "3077  2022-04-23T04:02:00.000Z   \n",
       "2280  2022-04-23T04:02:00.000Z   \n",
       "2011  2022-04-23T04:02:00.000Z   \n",
       "1765  2022-04-23T04:02:00.000Z   \n",
       "1437  2022-04-23T04:02:00.000Z   \n",
       "1274  2022-04-23T04:02:00.000Z   \n",
       "\n",
       "                                                  quote  \\\n",
       "id                                                        \n",
       "1     {'USD': {'price': 39482.053435971604, 'volume_...   \n",
       "1027  {'USD': {'price': 2949.370472685365, 'volume_2...   \n",
       "1839  {'USD': {'price': 403.44419264531916, 'volume_...   \n",
       "52    {'USD': {'price': 0.7133355993747462, 'volume_...   \n",
       "2010  {'USD': {'price': 0.8932131524727057, 'volume_...   \n",
       "74    {'USD': {'price': 0.13494603692699958, 'volume...   \n",
       "2     {'USD': {'price': 105.617472937166, 'volume_24...   \n",
       "1958  {'USD': {'price': 0.06859177330028401, 'volume...   \n",
       "1975  {'USD': {'price': 13.455287542142084, 'volume_...   \n",
       "1831  {'USD': {'price': 318.4843502682241, 'volume_2...   \n",
       "328   {'USD': {'price': 267.58639594943395, 'volume_...   \n",
       "512   {'USD': {'price': 0.19286122282088872, 'volume...   \n",
       "1321  {'USD': {'price': 34.93807767017003, 'volume_2...   \n",
       "1966  {'USD': {'price': 2.0163145929804727, 'volume_...   \n",
       "3077  {'USD': {'price': 0.05762150938576257, 'volume...   \n",
       "2280  {'USD': {'price': 19.126341076993683, 'volume_...   \n",
       "2011  {'USD': {'price': 3.0231922913852958, 'volume_...   \n",
       "1765  {'USD': {'price': 2.4153259040104635, 'volume_...   \n",
       "1437  {'USD': {'price': 154.7133627970565, 'volume_2...   \n",
       "1274  {'USD': {'price': 18.97552813578985, 'volume_2...   \n",
       "\n",
       "                   request_time  is_stable_coin datetime_issue  is_meme  \n",
       "id                                                                       \n",
       "1    2022-04-23 00:04:05.244269           False     2013-04-28    False  \n",
       "1027 2022-04-23 00:04:05.244269           False     2015-08-07    False  \n",
       "1839 2022-04-23 00:04:05.244269           False     2017-07-25    False  \n",
       "52   2022-04-23 00:04:05.244269           False     2013-08-04    False  \n",
       "2010 2022-04-23 00:04:05.244269           False     2017-10-01    False  \n",
       "74   2022-04-23 00:04:05.244269           False     2013-12-15     True  \n",
       "2    2022-04-23 00:04:05.244269           False     2013-04-28    False  \n",
       "1958 2022-04-23 00:04:05.244269           False     2017-09-13    False  \n",
       "1975 2022-04-23 00:04:05.244269           False     2017-09-20    False  \n",
       "1831 2022-04-23 00:04:05.244269           False     2017-07-23    False  \n",
       "328  2022-04-23 00:04:05.244269           False     2014-05-21    False  \n",
       "512  2022-04-23 00:04:05.244269           False     2014-08-05    False  \n",
       "1321 2022-04-23 00:04:05.244269           False     2016-07-24    False  \n",
       "1966 2022-04-23 00:04:05.244269           False     2017-09-17    False  \n",
       "3077 2022-04-23 00:04:05.244269           False     2017-08-22    False  \n",
       "2280 2022-04-23 00:04:05.244269           False     2017-12-13    False  \n",
       "2011 2022-04-23 00:04:05.244269           False     2017-10-06    False  \n",
       "1765 2022-04-23 00:04:05.244269           False     2017-07-01    False  \n",
       "1437 2022-04-23 00:04:05.244269           False     2016-10-29    False  \n",
       "1274 2022-04-23 00:04:05.244269           False     2016-06-02    False  "
      ]
     },
     "execution_count": 114,
     "metadata": {},
     "output_type": "execute_result"
    }
   ],
   "source": [
    "shit_coin_info_df.loc[shit_coin_info_df['datetime_issue']<=datetime(2017, 12, 31)].head(20)"
   ]
  },
  {
   "cell_type": "code",
   "execution_count": 60,
   "id": "27806d3f",
   "metadata": {},
   "outputs": [
    {
     "data": {
      "text/plain": [
       "['cosmos-ecosystem',\n",
       " 'stablecoin',\n",
       " 'terra-ecosystem',\n",
       " 'injective-ecosystem',\n",
       " 'bnb-chain',\n",
       " 'usd-stablecoin']"
      ]
     },
     "execution_count": 60,
     "metadata": {},
     "output_type": "execute_result"
    }
   ],
   "source": [
    "cryptocurrency_listings_df.loc[7129, 'tags']"
   ]
  },
  {
   "cell_type": "code",
   "execution_count": 37,
   "id": "dfe0bec8",
   "metadata": {},
   "outputs": [],
   "source": [
    "cryptocurrency_trending_latest = cmc.cryptocurrency_listings_latest()"
   ]
  },
  {
   "cell_type": "code",
   "execution_count": 83,
   "id": "1fc87bed",
   "metadata": {},
   "outputs": [
    {
     "data": {
      "text/plain": [
       "['medium-of-exchange',\n",
       " 'enterprise-solutions',\n",
       " 'binance-chain',\n",
       " 'arrington-xrp-capital-portfolio',\n",
       " 'galaxy-digital-portfolio',\n",
       " 'a16z-portfolio',\n",
       " 'pantera-capital-portfolio']"
      ]
     },
     "execution_count": 83,
     "metadata": {},
     "output_type": "execute_result"
    }
   ],
   "source": [
    "shit_coin_info_df.loc[cmc_id_mapping['XRP']]['tags']"
   ]
  },
  {
   "cell_type": "code",
   "execution_count": 91,
   "id": "d859a953",
   "metadata": {},
   "outputs": [],
   "source": []
  },
  {
   "cell_type": "code",
   "execution_count": null,
   "id": "8a5a9f9e",
   "metadata": {},
   "outputs": [],
   "source": []
  }
 ],
 "metadata": {
  "kernelspec": {
   "display_name": "Python 3 (ipykernel)",
   "language": "python",
   "name": "python3"
  },
  "language_info": {
   "codemirror_mode": {
    "name": "ipython",
    "version": 3
   },
   "file_extension": ".py",
   "mimetype": "text/x-python",
   "name": "python",
   "nbconvert_exporter": "python",
   "pygments_lexer": "ipython3",
   "version": "3.8.9"
  }
 },
 "nbformat": 4,
 "nbformat_minor": 5
}
