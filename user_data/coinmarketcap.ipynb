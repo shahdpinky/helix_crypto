{
 "cells": [
  {
   "cell_type": "code",
   "execution_count": 2,
   "id": "ea36a948",
   "metadata": {},
   "outputs": [
    {
     "data": {
      "text/html": [
       "<style>.container { width:100% !important; }</style>"
      ],
      "text/plain": [
       "<IPython.core.display.HTML object>"
      ]
     },
     "metadata": {},
     "output_type": "display_data"
    }
   ],
   "source": [
    "from IPython.display import display, HTML\n",
    "display(HTML(\"<style>.container { width:100% !important; }</style>\"))\n",
    "from data_provider.coinmarketcap import CoinMarketCapAPI, get_cmc_listing_info_latest\n",
    "import pandas as pd\n",
    "from datetime import datetime, timedelta\n",
    "import time\n",
    "from datetime import timezone\n",
    "import ccxt\n",
    "from pathlib import Path\n",
    "import json\n",
    "from data_provider.market_data_provider import get_ccxt_ohlcv, get_freqtrade_ohlcv\n",
    "\n",
    "import math\n",
    "import pandas as pd\n",
    "import numpy as np\n",
    "import datetime as dt\n",
    "import matplotlib.pyplot as plt\n",
    "from matplotlib import style\n",
    "import seaborn as sns\n",
    "from scipy.stats import randint as sp_randint\n",
    "\n",
    "from sklearn.decomposition import PCA\n",
    "\n",
    "\n",
    "SANDBOX_API_KEY = 'ecef1c0b-5806-45ba-9d4e-9cb94a5e67b4'\n",
    "cmc = CoinMarketCapAPI(SANDBOX_API_KEY)\n",
    "cryptocurrency_listings_df, cmc_id_mapping = get_cmc_listing_info_latest()"
   ]
  },
  {
   "cell_type": "code",
   "execution_count": 3,
   "id": "d413c6a8",
   "metadata": {},
   "outputs": [],
   "source": [
    "shit_coin_info_df = cryptocurrency_listings_df[~cryptocurrency_listings_df['is_stable_coin']].copy()\n",
    "shit_coin_info_df = shit_coin_info_df[~shit_coin_info_df['is_wrapped_token']].copy()\n",
    "#shit_coin_info_df['market_cap_rank'] = shit_coin_info_df['market_cap'].rank(ascending=False)"
   ]
  },
  {
   "cell_type": "code",
   "execution_count": 4,
   "id": "93b234e6",
   "metadata": {},
   "outputs": [],
   "source": [
    "top_200_total_market_value = shit_coin_info_df['market_cap'].sum() # 1.65 trillion\n",
    "total_market_value_ratio_cumsum = shit_coin_info_df['market_cap'].cumsum() / top_200_total_market_value\n",
    "shit_coin_info_df['total_market_value_ratio_cumsum'] = total_market_value_ratio_cumsum"
   ]
  },
  {
   "cell_type": "code",
   "execution_count": 5,
   "id": "e06d3336",
   "metadata": {},
   "outputs": [],
   "source": [
    "#top 50 is 0.940182% mc\n",
    "#shit_coin_info_df.plot.line(x='market_cap_rank', y='total_market_value_ratio_cumsum')\n",
    "top_50_shit_coins_info_df = shit_coin_info_df[shit_coin_info_df['market_cap_rank']<=50]\n",
    "top_50_shit_coins_ticker = top_50_shit_coins_info_df['symbol'].values.tolist()\n",
    "top_50_shit_coins_symbol = [f\"{t}/USDT\" for t in top_50_shit_coins_ticker]"
   ]
  },
  {
   "cell_type": "code",
   "execution_count": 6,
   "id": "87d56df6",
   "metadata": {},
   "outputs": [],
   "source": [
    "binance_exchange = ccxt.binance()\n",
    "binance_markets = binance_exchange.load_markets()\n",
    "ftx_exchange = ccxt.ftx()\n",
    "ftx_markets = ftx_exchange.load_markets()\n",
    "\n",
    "binance_top_50symbols = list(set(top_50_shit_coins_symbol) & set(binance_exchange.symbols))\n",
    "rest_list = list(set(top_50_shit_coins_symbol) - set(binance_top_50symbols)) # \n",
    "ftx_top_50symbols = ['CRO/USD']"
   ]
  },
  {
   "cell_type": "markdown",
   "id": "8cf2b65e",
   "metadata": {},
   "source": [
    "rolling autocorrelation on the 1W time frame shows interesting\n",
    "tendency to be strongly positive on all markets.\n",
    "\n",
    "We found statistically significant autocorrelation of lower orders for all considered markets on 5m\n",
    "and 1H time frames by calculating Pearson’s autocorrelation coefficient. The same observation was confirmed\n",
    "by Ljung-Box test.\n",
    "\n",
    "However, rolling\n",
    "autocorrelation might constitute a useful feature to improve the predictive power of machine learning models."
   ]
  },
  {
   "cell_type": "code",
   "execution_count": 34,
   "id": "96e07fd5",
   "metadata": {},
   "outputs": [],
   "source": [
    "top_50_ohlcv_df = get_freqtrade_ohlcv(binance_top_50symbols, 'binance', '1h')"
   ]
  },
  {
   "cell_type": "code",
   "execution_count": null,
   "id": "3412f448",
   "metadata": {},
   "outputs": [],
   "source": [
    "shit_coin_info_df_rolling_sample = shit_coin_info_df.loc[(shit_coin_info_df.index.get_level_values('date') > timewinodw_start)]"
   ]
  },
  {
   "cell_type": "code",
   "execution_count": 8,
   "id": "c1bdbf58",
   "metadata": {},
   "outputs": [],
   "source": [
    "timewinodw_start = datetime.today() - timedelta(days=120)\n",
    "top_50_ohlcv_rolling_sample_df = top_50_ohlcv_df.loc[(top_50_ohlcv_df.index.get_level_values('date') > timewinodw_start)]\n",
    "\n",
    "price_panel_data = top_50_ohlcv_rolling_sample_df['close'].unstack().T.copy()\n",
    "return_panel_data = price_panel_data.pct_change(1)\n",
    "return_panel_data = return_panel_data.dropna(how='all')\n",
    "# drop new ticker, since its impact should be small now\n",
    "\n",
    "pca_return_panel_data = return_panel_data.dropna(how='any', axis=1)\n",
    "\n",
    "pca_return_panel_data_normalized_df = (pca_return_panel_data - pca_return_panel_data.mean()) / pca_return_panel_data.std()\n",
    "\n",
    "pca_return_panel_data_normalized_df\n",
    "symbols = pca_return_panel_data_normalized_df.columns.values\n",
    "n_symbols = len(symbols)"
   ]
  },
  {
   "cell_type": "code",
   "execution_count": 9,
   "id": "3d689273",
   "metadata": {},
   "outputs": [
    {
     "data": {
      "text/plain": [
       "PCA(n_components=41)"
      ]
     },
     "execution_count": 9,
     "metadata": {},
     "output_type": "execute_result"
    }
   ],
   "source": [
    "pca = PCA(n_components=pca_return_panel_data_normalized_df.shape[1])\n",
    "pca.fit(pca_return_panel_data_normalized_df)"
   ]
  },
  {
   "cell_type": "code",
   "execution_count": 10,
   "id": "d5b295b8",
   "metadata": {},
   "outputs": [
    {
     "name": "stdout",
     "output_type": "stream",
     "text": [
      "29 principal components explain 95.00% of variance\n"
     ]
    },
    {
     "data": {
      "image/png": "[encoded data removed]",
      "text/plain": [
       "<Figure size 1440x360 with 1 Axes>"
      ]
     },
     "metadata": {
      "needs_background": "light"
     },
     "output_type": "display_data"
    }
   ],
   "source": [
    "import matplotlib.pyplot as plt\n",
    "plt.rcParams[\"figure.figsize\"] = (20,5)\n",
    "def plotPCA(pca, plot=False):\n",
    "\n",
    "    # Visualizing Variance against number of principal components.\n",
    "    #cov_matrix_raw = X_train_raw.loc[:,X_train_raw.columns != 'DJIA'].cov()\n",
    "\n",
    "    var_threshold = 0.95\n",
    "    var_explained = np.cumsum(pca.explained_variance_ratio_)\n",
    "    num_comp = np.where(np.logical_not(var_explained < var_threshold))[0][0] + 1  \n",
    "\n",
    "    if plot:\n",
    "        print('%d principal components explain %.2f%% of variance' %(num_comp, 100* var_threshold))\n",
    "\n",
    "        # PCA percent variance explained.\n",
    "        bar_width = 0.9\n",
    "        n_asset = pca.explained_variance_ratio_.shape[0]\n",
    "        x_indx = np.arange(n_asset)\n",
    "        fig, ax = plt.subplots()\n",
    "\n",
    "        # Eigenvalues measured as percentage of explained variance.\n",
    "        rects = ax.bar(x_indx, pca.explained_variance_ratio_[:n_asset], bar_width)\n",
    "        ax.set_xticks(x_indx + bar_width / 2)\n",
    "        ax.set_xticklabels(list(range(n_asset)), rotation=45)\n",
    "        ax.set_title('Percent variance explained')\n",
    "        ax.set_ylabel('Explained Variance')\n",
    "        ax.set_xlabel('Principal Components')\n",
    "        plt.show()\n",
    "\n",
    "plotPCA(pca, plot=True)"
   ]
  },
  {
   "cell_type": "code",
   "execution_count": 11,
   "id": "33d94253",
   "metadata": {},
   "outputs": [],
   "source": [
    "pc_components = pd.DataFrame(pca.components_ )\n",
    "pc_components.columns = pca.feature_names_in_\n",
    "pc_component_ptf_weights_normalized = pc_components / pca_return_panel_data.std()"
   ]
  },
  {
   "cell_type": "code",
   "execution_count": 15,
   "id": "50488be4",
   "metadata": {},
   "outputs": [
    {
     "data": {
      "text/plain": [
       "Index(['AAVE/USDT', 'ADA/USDT', 'ALGO/USDT', 'ATOM/USDT', 'AVAX/USDT',\n",
       "       'AXS/USDT', 'BCH/USDT', 'BNB/USDT', 'BTC/USDT', 'CAKE/USDT',\n",
       "       'DOGE/USDT', 'DOT/USDT', 'EGLD/USDT', 'EOS/USDT', 'ETC/USDT',\n",
       "       'ETH/USDT', 'FIL/USDT', 'FTM/USDT', 'FTT/USDT', 'HBAR/USDT', 'ICP/USDT',\n",
       "       'KLAY/USDT', 'LINK/USDT', 'LTC/USDT', 'LUNA/USDT', 'MANA/USDT',\n",
       "       'MATIC/USDT', 'NEAR/USDT', 'RUNE/USDT', 'SAND/USDT', 'SHIB/USDT',\n",
       "       'SOL/USDT', 'THETA/USDT', 'TRX/USDT', 'UNI/USDT', 'VET/USDT',\n",
       "       'XLM/USDT', 'XMR/USDT', 'XRP/USDT', 'XTZ/USDT', 'ZEC/USDT'],\n",
       "      dtype='object')"
      ]
     },
     "execution_count": 15,
     "metadata": {},
     "output_type": "execute_result"
    }
   ],
   "source": [
    "pc_component_ptf_weights_normalized.columns"
   ]
  },
  {
   "cell_type": "code",
   "execution_count": 18,
   "id": "094d7105",
   "metadata": {},
   "outputs": [],
   "source": [
    "def plotEigen(weights, plot=False):\n",
    "    portfolio = pd.DataFrame(data ={'weights': weights.squeeze()}, index = pc_component_ptf_weights_normalized.columns) \n",
    "    portfolio.sort_values(by=['weights'], ascending=False, inplace=True)\n",
    "    \n",
    "    if plot:\n",
    "        portfolio.plot(title='Current Eigen-Portfolio Weights', \n",
    "            figsize=(12,6), \n",
    "            xticks=range(0, len(pc_component_ptf_weights_normalized.columns),1), \n",
    "            rot=45, \n",
    "            linewidth=3\n",
    "            )\n",
    "        plt.show()\n",
    "\n",
    "    return portfolio"
   ]
  },
  {
   "cell_type": "code",
   "execution_count": 19,
   "id": "d8861331",
   "metadata": {},
   "outputs": [
    {
     "data": {
      "image/png": "[encoded data removed]",
      "text/plain": [
       "<Figure size 864x432 with 1 Axes>"
      ]
     },
     "metadata": {
      "needs_background": "light"
     },
     "output_type": "display_data"
    }
   ],
   "source": [
    "eigen_ptf1_weight = plotEigen(weights=pc_component_ptf_weights_normalized.loc[0]*-1, plot=True)"
   ]
  },
  {
   "cell_type": "code",
   "execution_count": 20,
   "id": "729bea84",
   "metadata": {},
   "outputs": [],
   "source": [
    "def get_coresponding_market_info(x, info, coin_info_df):\n",
    "    cmc_id = cmc_id_mapping[x.name[:x.name.find('/')]]\n",
    "    return coin_info_df.loc[cmc_id][info]\n",
    "    "
   ]
  },
  {
   "cell_type": "code",
   "execution_count": 21,
   "id": "f888dfe8",
   "metadata": {},
   "outputs": [],
   "source": [
    "eigen_ptf1_weight['market_cap']= eigen_ptf1_weight.apply(lambda x: get_coresponding_market_info(x, 'market_cap', shit_coin_info_df), axis=1)\n",
    "\n",
    "eigen_ptf1_weight['weights_rank'] = eigen_ptf1_weight['weights'].rank(ascending=False)\n",
    "eigen_ptf1_weight['market_cap_rank'] = eigen_ptf1_weight['market_cap'].rank(ascending=False)\n",
    "\n",
    "eigen_ptf1_weight['vol'] = pca_return_panel_data.std()\n",
    "#eigen_ptf2_weight = plotEigen(weights=pc_component_ptf_weights_normalized.loc[1]*-1, plot=True)\n",
    "#eigen_ptf3_weight = plotEigen(weights=pc_component_ptf_weights_normalized.loc[2]*-1, plot=True)\n",
    "#eigen_ptf4_weight = plotEigen(weights=pc_component_ptf_weights_normalized.loc[3]*-1, plot=True)"
   ]
  },
  {
   "cell_type": "code",
   "execution_count": 22,
   "id": "4d9e0b30",
   "metadata": {},
   "outputs": [],
   "source": [
    "def eigenreturn_compare(pca_return_panel_data, eigen_ptf_weight, vs_symbol='BTC/USDT', inverse_invest=False):\n",
    "    direaction = -1 if inverse_invest else 1\n",
    "    eigen_portfolio_returns = np.dot(pca_return_panel_data.loc[:, eigen_ptf_weight.index], direaction * eigen_ptf_weight['weights']/eigen_ptf_weight['weights'].sum())\n",
    "    eigen_portfolio_returns = pd.Series(eigen_portfolio_returns.squeeze(), index=pca_return_panel_data.index)\n",
    "\n",
    "    return_compare_plot = pd.DataFrame({'PC': eigen_portfolio_returns, vs_symbol: pca_return_panel_data.loc[:, vs_symbol]}, index=pca_return_panel_data.index)\n",
    "\n",
    "    np.cumprod(return_compare_plot + 1).plot(title=f'Returns of {vs_symbol} vs. PC eigen-portfolio', \n",
    "                                 figsize=(12,6), linewidth=3)\n",
    "    \n",
    "    return eigen_portfolio_returns\n",
    "    plt.show()"
   ]
  },
  {
   "cell_type": "code",
   "execution_count": 23,
   "id": "d146be68",
   "metadata": {},
   "outputs": [
    {
     "data": {
      "image/png": "[encoded data removed]",
      "text/plain": [
       "<Figure size 864x432 with 1 Axes>"
      ]
     },
     "metadata": {
      "needs_background": "light"
     },
     "output_type": "display_data"
    }
   ],
   "source": [
    "eigen_portfolio_returns = eigenreturn_compare(pca_return_panel_data, eigen_ptf1_weight, vs_symbol='BTC/USDT', inverse_invest=False)"
   ]
  },
  {
   "cell_type": "code",
   "execution_count": 24,
   "id": "b19f0ad6",
   "metadata": {},
   "outputs": [],
   "source": [
    "eigen_portfolio_returns = np.dot(pca_return_panel_data.loc[:, eigen_ptf1_weight.index], 1 * eigen_ptf1_weight['weights']/eigen_ptf1_weight['weights'].sum())\n",
    "eigen_portfolio_returns = pd.Series(eigen_portfolio_returns.squeeze(), index=pca_return_panel_data.index)"
   ]
  },
  {
   "cell_type": "code",
   "execution_count": 25,
   "id": "6616ce3c",
   "metadata": {},
   "outputs": [
    {
     "data": {
      "text/plain": [
       "date\n",
       "2021-12-28 02:00:00   -0.003847\n",
       "2021-12-28 03:00:00   -0.005108\n",
       "2021-12-28 04:00:00   -0.013961\n",
       "2021-12-28 05:00:00    0.008086\n",
       "2021-12-28 06:00:00    0.000864\n",
       "                         ...   \n",
       "2022-04-23 14:00:00   -0.000140\n",
       "2022-04-23 15:00:00    0.001018\n",
       "2022-04-23 16:00:00    0.001474\n",
       "2022-04-23 17:00:00   -0.000187\n",
       "2022-04-23 18:00:00   -0.006172\n",
       "Length: 2801, dtype: float64"
      ]
     },
     "execution_count": 25,
     "metadata": {},
     "output_type": "execute_result"
    }
   ],
   "source": [
    "eigen_portfolio_returns"
   ]
  },
  {
   "cell_type": "code",
   "execution_count": 26,
   "id": "09e8eba1",
   "metadata": {},
   "outputs": [],
   "source": [
    "from scipy.stats import linregress"
   ]
  },
  {
   "cell_type": "code",
   "execution_count": 31,
   "id": "a2571e5e",
   "metadata": {},
   "outputs": [
    {
     "data": {
      "text/html": [
       "<div>\n",
       "<style scoped>\n",
       "    .dataframe tbody tr th:only-of-type {\n",
       "        vertical-align: middle;\n",
       "    }\n",
       "\n",
       "    .dataframe tbody tr th {\n",
       "        vertical-align: top;\n",
       "    }\n",
       "\n",
       "    .dataframe thead th {\n",
       "        text-align: right;\n",
       "    }\n",
       "</style>\n",
       "<table border=\"1\" class=\"dataframe\">\n",
       "  <thead>\n",
       "    <tr style=\"text-align: right;\">\n",
       "      <th>pair</th>\n",
       "      <th>AAVE/USDT</th>\n",
       "      <th>ADA/USDT</th>\n",
       "      <th>ALGO/USDT</th>\n",
       "      <th>ATOM/USDT</th>\n",
       "      <th>AVAX/USDT</th>\n",
       "      <th>AXS/USDT</th>\n",
       "      <th>BCH/USDT</th>\n",
       "      <th>BNB/USDT</th>\n",
       "      <th>BTC/USDT</th>\n",
       "      <th>CAKE/USDT</th>\n",
       "      <th>...</th>\n",
       "      <th>SOL/USDT</th>\n",
       "      <th>THETA/USDT</th>\n",
       "      <th>TRX/USDT</th>\n",
       "      <th>UNI/USDT</th>\n",
       "      <th>VET/USDT</th>\n",
       "      <th>XLM/USDT</th>\n",
       "      <th>XMR/USDT</th>\n",
       "      <th>XRP/USDT</th>\n",
       "      <th>XTZ/USDT</th>\n",
       "      <th>ZEC/USDT</th>\n",
       "    </tr>\n",
       "    <tr>\n",
       "      <th>date</th>\n",
       "      <th></th>\n",
       "      <th></th>\n",
       "      <th></th>\n",
       "      <th></th>\n",
       "      <th></th>\n",
       "      <th></th>\n",
       "      <th></th>\n",
       "      <th></th>\n",
       "      <th></th>\n",
       "      <th></th>\n",
       "      <th></th>\n",
       "      <th></th>\n",
       "      <th></th>\n",
       "      <th></th>\n",
       "      <th></th>\n",
       "      <th></th>\n",
       "      <th></th>\n",
       "      <th></th>\n",
       "      <th></th>\n",
       "      <th></th>\n",
       "      <th></th>\n",
       "    </tr>\n",
       "  </thead>\n",
       "  <tbody>\n",
       "    <tr>\n",
       "      <th>2021-12-28 02:00:00</th>\n",
       "      <td>-0.022511</td>\n",
       "      <td>0.004035</td>\n",
       "      <td>-0.012644</td>\n",
       "      <td>-0.012268</td>\n",
       "      <td>-0.005383</td>\n",
       "      <td>-0.004483</td>\n",
       "      <td>-0.004135</td>\n",
       "      <td>0.000181</td>\n",
       "      <td>-0.000870</td>\n",
       "      <td>0.001567</td>\n",
       "      <td>...</td>\n",
       "      <td>-0.005849</td>\n",
       "      <td>-0.003936</td>\n",
       "      <td>-0.004635</td>\n",
       "      <td>-0.006694</td>\n",
       "      <td>-0.002934</td>\n",
       "      <td>-0.008618</td>\n",
       "      <td>0.006013</td>\n",
       "      <td>-0.002550</td>\n",
       "      <td>0.007382</td>\n",
       "      <td>-0.005903</td>\n",
       "    </tr>\n",
       "    <tr>\n",
       "      <th>2021-12-28 03:00:00</th>\n",
       "      <td>-0.018712</td>\n",
       "      <td>-0.004689</td>\n",
       "      <td>-0.004080</td>\n",
       "      <td>0.000710</td>\n",
       "      <td>0.002706</td>\n",
       "      <td>-0.003162</td>\n",
       "      <td>-0.005026</td>\n",
       "      <td>-0.001085</td>\n",
       "      <td>0.001060</td>\n",
       "      <td>-0.005477</td>\n",
       "      <td>...</td>\n",
       "      <td>-0.000420</td>\n",
       "      <td>0.004327</td>\n",
       "      <td>-0.006292</td>\n",
       "      <td>-0.030067</td>\n",
       "      <td>-0.003678</td>\n",
       "      <td>-0.004868</td>\n",
       "      <td>-0.005517</td>\n",
       "      <td>-0.005557</td>\n",
       "      <td>-0.013637</td>\n",
       "      <td>-0.036817</td>\n",
       "    </tr>\n",
       "    <tr>\n",
       "      <th>2021-12-28 04:00:00</th>\n",
       "      <td>0.052805</td>\n",
       "      <td>-0.021534</td>\n",
       "      <td>-0.019666</td>\n",
       "      <td>-0.000709</td>\n",
       "      <td>-0.014302</td>\n",
       "      <td>-0.015089</td>\n",
       "      <td>-0.013178</td>\n",
       "      <td>-0.010862</td>\n",
       "      <td>-0.015525</td>\n",
       "      <td>-0.007081</td>\n",
       "      <td>...</td>\n",
       "      <td>-0.011299</td>\n",
       "      <td>-0.023604</td>\n",
       "      <td>-0.013551</td>\n",
       "      <td>-0.020310</td>\n",
       "      <td>-0.019304</td>\n",
       "      <td>-0.018169</td>\n",
       "      <td>-0.015719</td>\n",
       "      <td>-0.013748</td>\n",
       "      <td>-0.016508</td>\n",
       "      <td>-0.023428</td>\n",
       "    </tr>\n",
       "    <tr>\n",
       "      <th>2021-12-28 05:00:00</th>\n",
       "      <td>-0.015326</td>\n",
       "      <td>0.003439</td>\n",
       "      <td>0.009323</td>\n",
       "      <td>0.023421</td>\n",
       "      <td>0.030663</td>\n",
       "      <td>0.005562</td>\n",
       "      <td>0.005564</td>\n",
       "      <td>0.002928</td>\n",
       "      <td>0.002985</td>\n",
       "      <td>-0.000792</td>\n",
       "      <td>...</td>\n",
       "      <td>0.015627</td>\n",
       "      <td>0.009977</td>\n",
       "      <td>0.008859</td>\n",
       "      <td>0.016912</td>\n",
       "      <td>0.004625</td>\n",
       "      <td>0.002847</td>\n",
       "      <td>0.021606</td>\n",
       "      <td>0.004873</td>\n",
       "      <td>0.009232</td>\n",
       "      <td>-0.006313</td>\n",
       "    </tr>\n",
       "    <tr>\n",
       "      <th>2021-12-28 06:00:00</th>\n",
       "      <td>-0.012027</td>\n",
       "      <td>0.000000</td>\n",
       "      <td>0.002038</td>\n",
       "      <td>0.002080</td>\n",
       "      <td>0.000089</td>\n",
       "      <td>-0.002232</td>\n",
       "      <td>0.003984</td>\n",
       "      <td>0.002737</td>\n",
       "      <td>0.000358</td>\n",
       "      <td>0.007137</td>\n",
       "      <td>...</td>\n",
       "      <td>0.000628</td>\n",
       "      <td>-0.004179</td>\n",
       "      <td>-0.000891</td>\n",
       "      <td>-0.008584</td>\n",
       "      <td>0.002677</td>\n",
       "      <td>0.003903</td>\n",
       "      <td>-0.008276</td>\n",
       "      <td>0.003609</td>\n",
       "      <td>-0.003950</td>\n",
       "      <td>0.004447</td>\n",
       "    </tr>\n",
       "    <tr>\n",
       "      <th>...</th>\n",
       "      <td>...</td>\n",
       "      <td>...</td>\n",
       "      <td>...</td>\n",
       "      <td>...</td>\n",
       "      <td>...</td>\n",
       "      <td>...</td>\n",
       "      <td>...</td>\n",
       "      <td>...</td>\n",
       "      <td>...</td>\n",
       "      <td>...</td>\n",
       "      <td>...</td>\n",
       "      <td>...</td>\n",
       "      <td>...</td>\n",
       "      <td>...</td>\n",
       "      <td>...</td>\n",
       "      <td>...</td>\n",
       "      <td>...</td>\n",
       "      <td>...</td>\n",
       "      <td>...</td>\n",
       "      <td>...</td>\n",
       "      <td>...</td>\n",
       "    </tr>\n",
       "    <tr>\n",
       "      <th>2022-04-23 14:00:00</th>\n",
       "      <td>-0.005079</td>\n",
       "      <td>0.002225</td>\n",
       "      <td>0.000278</td>\n",
       "      <td>0.000432</td>\n",
       "      <td>0.000948</td>\n",
       "      <td>0.000874</td>\n",
       "      <td>-0.000315</td>\n",
       "      <td>0.000493</td>\n",
       "      <td>0.000288</td>\n",
       "      <td>0.001068</td>\n",
       "      <td>...</td>\n",
       "      <td>-0.001569</td>\n",
       "      <td>-0.002561</td>\n",
       "      <td>-0.005560</td>\n",
       "      <td>0.006579</td>\n",
       "      <td>-0.000342</td>\n",
       "      <td>0.002575</td>\n",
       "      <td>0.000724</td>\n",
       "      <td>0.001403</td>\n",
       "      <td>-0.004218</td>\n",
       "      <td>-0.012148</td>\n",
       "    </tr>\n",
       "    <tr>\n",
       "      <th>2022-04-23 15:00:00</th>\n",
       "      <td>0.003403</td>\n",
       "      <td>0.001110</td>\n",
       "      <td>-0.005132</td>\n",
       "      <td>0.000864</td>\n",
       "      <td>0.002571</td>\n",
       "      <td>0.000000</td>\n",
       "      <td>0.000944</td>\n",
       "      <td>0.001726</td>\n",
       "      <td>0.001947</td>\n",
       "      <td>0.000000</td>\n",
       "      <td>...</td>\n",
       "      <td>0.003044</td>\n",
       "      <td>0.004172</td>\n",
       "      <td>-0.000294</td>\n",
       "      <td>-0.002179</td>\n",
       "      <td>0.004451</td>\n",
       "      <td>0.000514</td>\n",
       "      <td>-0.000362</td>\n",
       "      <td>-0.002661</td>\n",
       "      <td>-0.000652</td>\n",
       "      <td>0.000000</td>\n",
       "    </tr>\n",
       "    <tr>\n",
       "      <th>2022-04-23 16:00:00</th>\n",
       "      <td>0.011306</td>\n",
       "      <td>0.001109</td>\n",
       "      <td>-0.000279</td>\n",
       "      <td>0.004745</td>\n",
       "      <td>-0.002969</td>\n",
       "      <td>0.001746</td>\n",
       "      <td>0.001257</td>\n",
       "      <td>0.002461</td>\n",
       "      <td>0.000905</td>\n",
       "      <td>0.008538</td>\n",
       "      <td>...</td>\n",
       "      <td>0.003231</td>\n",
       "      <td>0.005753</td>\n",
       "      <td>-0.003680</td>\n",
       "      <td>-0.003275</td>\n",
       "      <td>-0.002045</td>\n",
       "      <td>0.002053</td>\n",
       "      <td>0.004707</td>\n",
       "      <td>0.002387</td>\n",
       "      <td>-0.001956</td>\n",
       "      <td>0.003883</td>\n",
       "    </tr>\n",
       "    <tr>\n",
       "      <th>2022-04-23 17:00:00</th>\n",
       "      <td>-0.003913</td>\n",
       "      <td>-0.001107</td>\n",
       "      <td>-0.002650</td>\n",
       "      <td>0.001288</td>\n",
       "      <td>0.004196</td>\n",
       "      <td>-0.000218</td>\n",
       "      <td>-0.005024</td>\n",
       "      <td>0.000491</td>\n",
       "      <td>-0.000321</td>\n",
       "      <td>0.009524</td>\n",
       "      <td>...</td>\n",
       "      <td>0.000586</td>\n",
       "      <td>0.004449</td>\n",
       "      <td>0.001921</td>\n",
       "      <td>-0.006572</td>\n",
       "      <td>-0.000342</td>\n",
       "      <td>-0.001025</td>\n",
       "      <td>-0.007568</td>\n",
       "      <td>-0.001541</td>\n",
       "      <td>-0.004247</td>\n",
       "      <td>0.001934</td>\n",
       "    </tr>\n",
       "    <tr>\n",
       "      <th>2022-04-23 18:00:00</th>\n",
       "      <td>-0.014590</td>\n",
       "      <td>-0.004435</td>\n",
       "      <td>-0.005873</td>\n",
       "      <td>-0.005575</td>\n",
       "      <td>-0.007279</td>\n",
       "      <td>-0.006319</td>\n",
       "      <td>-0.005049</td>\n",
       "      <td>-0.003926</td>\n",
       "      <td>-0.003315</td>\n",
       "      <td>-0.007338</td>\n",
       "      <td>...</td>\n",
       "      <td>-0.007217</td>\n",
       "      <td>-0.005694</td>\n",
       "      <td>-0.007225</td>\n",
       "      <td>-0.005513</td>\n",
       "      <td>-0.011958</td>\n",
       "      <td>-0.007692</td>\n",
       "      <td>-0.007625</td>\n",
       "      <td>-0.001824</td>\n",
       "      <td>-0.009186</td>\n",
       "      <td>-0.006435</td>\n",
       "    </tr>\n",
       "  </tbody>\n",
       "</table>\n",
       "<p>2801 rows × 41 columns</p>\n",
       "</div>"
      ],
      "text/plain": [
       "pair                 AAVE/USDT  ADA/USDT  ALGO/USDT  ATOM/USDT  AVAX/USDT  \\\n",
       "date                                                                        \n",
       "2021-12-28 02:00:00  -0.022511  0.004035  -0.012644  -0.012268  -0.005383   \n",
       "2021-12-28 03:00:00  -0.018712 -0.004689  -0.004080   0.000710   0.002706   \n",
       "2021-12-28 04:00:00   0.052805 -0.021534  -0.019666  -0.000709  -0.014302   \n",
       "2021-12-28 05:00:00  -0.015326  0.003439   0.009323   0.023421   0.030663   \n",
       "2021-12-28 06:00:00  -0.012027  0.000000   0.002038   0.002080   0.000089   \n",
       "...                        ...       ...        ...        ...        ...   \n",
       "2022-04-23 14:00:00  -0.005079  0.002225   0.000278   0.000432   0.000948   \n",
       "2022-04-23 15:00:00   0.003403  0.001110  -0.005132   0.000864   0.002571   \n",
       "2022-04-23 16:00:00   0.011306  0.001109  -0.000279   0.004745  -0.002969   \n",
       "2022-04-23 17:00:00  -0.003913 -0.001107  -0.002650   0.001288   0.004196   \n",
       "2022-04-23 18:00:00  -0.014590 -0.004435  -0.005873  -0.005575  -0.007279   \n",
       "\n",
       "pair                 AXS/USDT  BCH/USDT  BNB/USDT  BTC/USDT  CAKE/USDT  ...  \\\n",
       "date                                                                    ...   \n",
       "2021-12-28 02:00:00 -0.004483 -0.004135  0.000181 -0.000870   0.001567  ...   \n",
       "2021-12-28 03:00:00 -0.003162 -0.005026 -0.001085  0.001060  -0.005477  ...   \n",
       "2021-12-28 04:00:00 -0.015089 -0.013178 -0.010862 -0.015525  -0.007081  ...   \n",
       "2021-12-28 05:00:00  0.005562  0.005564  0.002928  0.002985  -0.000792  ...   \n",
       "2021-12-28 06:00:00 -0.002232  0.003984  0.002737  0.000358   0.007137  ...   \n",
       "...                       ...       ...       ...       ...        ...  ...   \n",
       "2022-04-23 14:00:00  0.000874 -0.000315  0.000493  0.000288   0.001068  ...   \n",
       "2022-04-23 15:00:00  0.000000  0.000944  0.001726  0.001947   0.000000  ...   \n",
       "2022-04-23 16:00:00  0.001746  0.001257  0.002461  0.000905   0.008538  ...   \n",
       "2022-04-23 17:00:00 -0.000218 -0.005024  0.000491 -0.000321   0.009524  ...   \n",
       "2022-04-23 18:00:00 -0.006319 -0.005049 -0.003926 -0.003315  -0.007338  ...   \n",
       "\n",
       "pair                 SOL/USDT  THETA/USDT  TRX/USDT  UNI/USDT  VET/USDT  \\\n",
       "date                                                                      \n",
       "2021-12-28 02:00:00 -0.005849   -0.003936 -0.004635 -0.006694 -0.002934   \n",
       "2021-12-28 03:00:00 -0.000420    0.004327 -0.006292 -0.030067 -0.003678   \n",
       "2021-12-28 04:00:00 -0.011299   -0.023604 -0.013551 -0.020310 -0.019304   \n",
       "2021-12-28 05:00:00  0.015627    0.009977  0.008859  0.016912  0.004625   \n",
       "2021-12-28 06:00:00  0.000628   -0.004179 -0.000891 -0.008584  0.002677   \n",
       "...                       ...         ...       ...       ...       ...   \n",
       "2022-04-23 14:00:00 -0.001569   -0.002561 -0.005560  0.006579 -0.000342   \n",
       "2022-04-23 15:00:00  0.003044    0.004172 -0.000294 -0.002179  0.004451   \n",
       "2022-04-23 16:00:00  0.003231    0.005753 -0.003680 -0.003275 -0.002045   \n",
       "2022-04-23 17:00:00  0.000586    0.004449  0.001921 -0.006572 -0.000342   \n",
       "2022-04-23 18:00:00 -0.007217   -0.005694 -0.007225 -0.005513 -0.011958   \n",
       "\n",
       "pair                 XLM/USDT  XMR/USDT  XRP/USDT  XTZ/USDT  ZEC/USDT  \n",
       "date                                                                   \n",
       "2021-12-28 02:00:00 -0.008618  0.006013 -0.002550  0.007382 -0.005903  \n",
       "2021-12-28 03:00:00 -0.004868 -0.005517 -0.005557 -0.013637 -0.036817  \n",
       "2021-12-28 04:00:00 -0.018169 -0.015719 -0.013748 -0.016508 -0.023428  \n",
       "2021-12-28 05:00:00  0.002847  0.021606  0.004873  0.009232 -0.006313  \n",
       "2021-12-28 06:00:00  0.003903 -0.008276  0.003609 -0.003950  0.004447  \n",
       "...                       ...       ...       ...       ...       ...  \n",
       "2022-04-23 14:00:00  0.002575  0.000724  0.001403 -0.004218 -0.012148  \n",
       "2022-04-23 15:00:00  0.000514 -0.000362 -0.002661 -0.000652  0.000000  \n",
       "2022-04-23 16:00:00  0.002053  0.004707  0.002387 -0.001956  0.003883  \n",
       "2022-04-23 17:00:00 -0.001025 -0.007568 -0.001541 -0.004247  0.001934  \n",
       "2022-04-23 18:00:00 -0.007692 -0.007625 -0.001824 -0.009186 -0.006435  \n",
       "\n",
       "[2801 rows x 41 columns]"
      ]
     },
     "execution_count": 31,
     "metadata": {},
     "output_type": "execute_result"
    }
   ],
   "source": [
    "pca_return_panel_data"
   ]
  },
  {
   "cell_type": "code",
   "execution_count": 27,
   "id": "9883421a",
   "metadata": {},
   "outputs": [],
   "source": [
    "regression_market = pca_return_panel_data.apply(lambda x: linregress(eigen_portfolio_returns, x), result_type='expand').rename(index={0: 'slope', 1: \n",
    "                                                                                  'intercept', 2: 'rvalue', 3:\n",
    "                                                                                  'p-value', 4:'stderr'})\n",
    "\n",
    "regression_market = regression_market.T\n",
    "regression_market = regression_market.sort_values('rvalue',ascending=False)\n",
    "regression_market['r^2'] = regression_market['rvalue']**2"
   ]
  },
  {
   "cell_type": "code",
   "execution_count": 30,
   "id": "23f5d042",
   "metadata": {},
   "outputs": [
    {
     "data": {
      "text/html": [
       "<div>\n",
       "<style scoped>\n",
       "    .dataframe tbody tr th:only-of-type {\n",
       "        vertical-align: middle;\n",
       "    }\n",
       "\n",
       "    .dataframe tbody tr th {\n",
       "        vertical-align: top;\n",
       "    }\n",
       "\n",
       "    .dataframe thead th {\n",
       "        text-align: right;\n",
       "    }\n",
       "</style>\n",
       "<table border=\"1\" class=\"dataframe\">\n",
       "  <thead>\n",
       "    <tr style=\"text-align: right;\">\n",
       "      <th></th>\n",
       "      <th>slope</th>\n",
       "      <th>intercept</th>\n",
       "      <th>rvalue</th>\n",
       "      <th>p-value</th>\n",
       "      <th>stderr</th>\n",
       "      <th>r^2</th>\n",
       "    </tr>\n",
       "    <tr>\n",
       "      <th>pair</th>\n",
       "      <th></th>\n",
       "      <th></th>\n",
       "      <th></th>\n",
       "      <th></th>\n",
       "      <th></th>\n",
       "      <th></th>\n",
       "    </tr>\n",
       "  </thead>\n",
       "  <tbody>\n",
       "    <tr>\n",
       "      <th>ETH/USDT</th>\n",
       "      <td>0.906108</td>\n",
       "      <td>2.908121e-06</td>\n",
       "      <td>0.928845</td>\n",
       "      <td>0.0</td>\n",
       "      <td>0.006831</td>\n",
       "      <td>0.862752</td>\n",
       "    </tr>\n",
       "    <tr>\n",
       "      <th>MATIC/USDT</th>\n",
       "      <td>1.173012</td>\n",
       "      <td>-7.264773e-05</td>\n",
       "      <td>0.901573</td>\n",
       "      <td>0.0</td>\n",
       "      <td>0.010639</td>\n",
       "      <td>0.812834</td>\n",
       "    </tr>\n",
       "    <tr>\n",
       "      <th>BNB/USDT</th>\n",
       "      <td>0.770888</td>\n",
       "      <td>-1.925795e-05</td>\n",
       "      <td>0.898382</td>\n",
       "      <td>0.0</td>\n",
       "      <td>0.007124</td>\n",
       "      <td>0.807090</td>\n",
       "    </tr>\n",
       "    <tr>\n",
       "      <th>BTC/USDT</th>\n",
       "      <td>0.703572</td>\n",
       "      <td>-1.721211e-07</td>\n",
       "      <td>0.896294</td>\n",
       "      <td>0.0</td>\n",
       "      <td>0.006580</td>\n",
       "      <td>0.803344</td>\n",
       "    </tr>\n",
       "    <tr>\n",
       "      <th>DOT/USDT</th>\n",
       "      <td>1.087747</td>\n",
       "      <td>-1.761859e-05</td>\n",
       "      <td>0.888269</td>\n",
       "      <td>0.0</td>\n",
       "      <td>0.010632</td>\n",
       "      <td>0.789022</td>\n",
       "    </tr>\n",
       "    <tr>\n",
       "      <th>LTC/USDT</th>\n",
       "      <td>0.896029</td>\n",
       "      <td>-1.666653e-05</td>\n",
       "      <td>0.887566</td>\n",
       "      <td>0.0</td>\n",
       "      <td>0.008791</td>\n",
       "      <td>0.787774</td>\n",
       "    </tr>\n",
       "    <tr>\n",
       "      <th>LINK/USDT</th>\n",
       "      <td>1.154746</td>\n",
       "      <td>-2.489467e-05</td>\n",
       "      <td>0.885753</td>\n",
       "      <td>0.0</td>\n",
       "      <td>0.011438</td>\n",
       "      <td>0.784559</td>\n",
       "    </tr>\n",
       "    <tr>\n",
       "      <th>VET/USDT</th>\n",
       "      <td>1.214135</td>\n",
       "      <td>-8.032441e-06</td>\n",
       "      <td>0.880382</td>\n",
       "      <td>0.0</td>\n",
       "      <td>0.012363</td>\n",
       "      <td>0.775073</td>\n",
       "    </tr>\n",
       "    <tr>\n",
       "      <th>FTT/USDT</th>\n",
       "      <td>0.859149</td>\n",
       "      <td>1.052961e-04</td>\n",
       "      <td>0.872987</td>\n",
       "      <td>0.0</td>\n",
       "      <td>0.009073</td>\n",
       "      <td>0.762106</td>\n",
       "    </tr>\n",
       "    <tr>\n",
       "      <th>UNI/USDT</th>\n",
       "      <td>1.123302</td>\n",
       "      <td>-1.192977e-04</td>\n",
       "      <td>0.871420</td>\n",
       "      <td>0.0</td>\n",
       "      <td>0.011952</td>\n",
       "      <td>0.759373</td>\n",
       "    </tr>\n",
       "    <tr>\n",
       "      <th>XLM/USDT</th>\n",
       "      <td>0.902095</td>\n",
       "      <td>-2.997745e-05</td>\n",
       "      <td>0.869015</td>\n",
       "      <td>0.0</td>\n",
       "      <td>0.009708</td>\n",
       "      <td>0.755187</td>\n",
       "    </tr>\n",
       "    <tr>\n",
       "      <th>SOL/USDT</th>\n",
       "      <td>1.181986</td>\n",
       "      <td>-5.912205e-05</td>\n",
       "      <td>0.867024</td>\n",
       "      <td>0.0</td>\n",
       "      <td>0.012839</td>\n",
       "      <td>0.751730</td>\n",
       "    </tr>\n",
       "    <tr>\n",
       "      <th>BCH/USDT</th>\n",
       "      <td>0.840080</td>\n",
       "      <td>-2.974620e-05</td>\n",
       "      <td>0.861297</td>\n",
       "      <td>0.0</td>\n",
       "      <td>0.009367</td>\n",
       "      <td>0.741832</td>\n",
       "    </tr>\n",
       "    <tr>\n",
       "      <th>SAND/USDT</th>\n",
       "      <td>1.194815</td>\n",
       "      <td>-1.256790e-04</td>\n",
       "      <td>0.854998</td>\n",
       "      <td>0.0</td>\n",
       "      <td>0.013699</td>\n",
       "      <td>0.731021</td>\n",
       "    </tr>\n",
       "    <tr>\n",
       "      <th>ALGO/USDT</th>\n",
       "      <td>1.075136</td>\n",
       "      <td>-1.449626e-04</td>\n",
       "      <td>0.854607</td>\n",
       "      <td>0.0</td>\n",
       "      <td>0.012348</td>\n",
       "      <td>0.730353</td>\n",
       "    </tr>\n",
       "    <tr>\n",
       "      <th>ADA/USDT</th>\n",
       "      <td>1.015110</td>\n",
       "      <td>-4.379520e-05</td>\n",
       "      <td>0.853901</td>\n",
       "      <td>0.0</td>\n",
       "      <td>0.011694</td>\n",
       "      <td>0.729146</td>\n",
       "    </tr>\n",
       "    <tr>\n",
       "      <th>AVAX/USDT</th>\n",
       "      <td>1.215320</td>\n",
       "      <td>2.848557e-05</td>\n",
       "      <td>0.847518</td>\n",
       "      <td>0.0</td>\n",
       "      <td>0.014386</td>\n",
       "      <td>0.718288</td>\n",
       "    </tr>\n",
       "    <tr>\n",
       "      <th>MANA/USDT</th>\n",
       "      <td>1.150499</td>\n",
       "      <td>-4.453808e-05</td>\n",
       "      <td>0.844097</td>\n",
       "      <td>0.0</td>\n",
       "      <td>0.013814</td>\n",
       "      <td>0.712501</td>\n",
       "    </tr>\n",
       "    <tr>\n",
       "      <th>XRP/USDT</th>\n",
       "      <td>0.858339</td>\n",
       "      <td>2.523209e-05</td>\n",
       "      <td>0.836239</td>\n",
       "      <td>0.0</td>\n",
       "      <td>0.010639</td>\n",
       "      <td>0.699296</td>\n",
       "    </tr>\n",
       "    <tr>\n",
       "      <th>XTZ/USDT</th>\n",
       "      <td>1.060279</td>\n",
       "      <td>-2.258745e-05</td>\n",
       "      <td>0.827034</td>\n",
       "      <td>0.0</td>\n",
       "      <td>0.013622</td>\n",
       "      <td>0.683985</td>\n",
       "    </tr>\n",
       "    <tr>\n",
       "      <th>AAVE/USDT</th>\n",
       "      <td>1.228179</td>\n",
       "      <td>1.130668e-05</td>\n",
       "      <td>0.824328</td>\n",
       "      <td>0.0</td>\n",
       "      <td>0.015943</td>\n",
       "      <td>0.679516</td>\n",
       "    </tr>\n",
       "    <tr>\n",
       "      <th>FIL/USDT</th>\n",
       "      <td>1.016925</td>\n",
       "      <td>-1.150507e-04</td>\n",
       "      <td>0.818725</td>\n",
       "      <td>0.0</td>\n",
       "      <td>0.013480</td>\n",
       "      <td>0.670311</td>\n",
       "    </tr>\n",
       "    <tr>\n",
       "      <th>EOS/USDT</th>\n",
       "      <td>0.881837</td>\n",
       "      <td>3.902248e-06</td>\n",
       "      <td>0.818651</td>\n",
       "      <td>0.0</td>\n",
       "      <td>0.011693</td>\n",
       "      <td>0.670190</td>\n",
       "    </tr>\n",
       "    <tr>\n",
       "      <th>HBAR/USDT</th>\n",
       "      <td>0.945865</td>\n",
       "      <td>-4.833373e-05</td>\n",
       "      <td>0.818422</td>\n",
       "      <td>0.0</td>\n",
       "      <td>0.012552</td>\n",
       "      <td>0.669814</td>\n",
       "    </tr>\n",
       "    <tr>\n",
       "      <th>FTM/USDT</th>\n",
       "      <td>1.311845</td>\n",
       "      <td>-3.706828e-05</td>\n",
       "      <td>0.816078</td>\n",
       "      <td>0.0</td>\n",
       "      <td>0.017560</td>\n",
       "      <td>0.665984</td>\n",
       "    </tr>\n",
       "    <tr>\n",
       "      <th>AXS/USDT</th>\n",
       "      <td>1.138083</td>\n",
       "      <td>-1.312239e-04</td>\n",
       "      <td>0.815971</td>\n",
       "      <td>0.0</td>\n",
       "      <td>0.015240</td>\n",
       "      <td>0.665808</td>\n",
       "    </tr>\n",
       "    <tr>\n",
       "      <th>EGLD/USDT</th>\n",
       "      <td>1.124760</td>\n",
       "      <td>-2.469304e-05</td>\n",
       "      <td>0.813119</td>\n",
       "      <td>0.0</td>\n",
       "      <td>0.015219</td>\n",
       "      <td>0.661163</td>\n",
       "    </tr>\n",
       "    <tr>\n",
       "      <th>THETA/USDT</th>\n",
       "      <td>1.209988</td>\n",
       "      <td>-6.595734e-06</td>\n",
       "      <td>0.810251</td>\n",
       "      <td>0.0</td>\n",
       "      <td>0.016543</td>\n",
       "      <td>0.656507</td>\n",
       "    </tr>\n",
       "    <tr>\n",
       "      <th>ICP/USDT</th>\n",
       "      <td>1.198318</td>\n",
       "      <td>3.872090e-06</td>\n",
       "      <td>0.808925</td>\n",
       "      <td>0.0</td>\n",
       "      <td>0.016462</td>\n",
       "      <td>0.654360</td>\n",
       "    </tr>\n",
       "    <tr>\n",
       "      <th>SHIB/USDT</th>\n",
       "      <td>1.135511</td>\n",
       "      <td>1.513565e-05</td>\n",
       "      <td>0.795577</td>\n",
       "      <td>0.0</td>\n",
       "      <td>0.016345</td>\n",
       "      <td>0.632943</td>\n",
       "    </tr>\n",
       "    <tr>\n",
       "      <th>TRX/USDT</th>\n",
       "      <td>0.650636</td>\n",
       "      <td>1.806652e-05</td>\n",
       "      <td>0.791057</td>\n",
       "      <td>0.0</td>\n",
       "      <td>0.009510</td>\n",
       "      <td>0.625771</td>\n",
       "    </tr>\n",
       "    <tr>\n",
       "      <th>ETC/USDT</th>\n",
       "      <td>1.037264</td>\n",
       "      <td>1.333711e-04</td>\n",
       "      <td>0.779418</td>\n",
       "      <td>0.0</td>\n",
       "      <td>0.015759</td>\n",
       "      <td>0.607492</td>\n",
       "    </tr>\n",
       "    <tr>\n",
       "      <th>ATOM/USDT</th>\n",
       "      <td>1.167102</td>\n",
       "      <td>1.057141e-04</td>\n",
       "      <td>0.776584</td>\n",
       "      <td>0.0</td>\n",
       "      <td>0.017897</td>\n",
       "      <td>0.603083</td>\n",
       "    </tr>\n",
       "    <tr>\n",
       "      <th>DOGE/USDT</th>\n",
       "      <td>0.874360</td>\n",
       "      <td>1.297332e-05</td>\n",
       "      <td>0.771915</td>\n",
       "      <td>0.0</td>\n",
       "      <td>0.013611</td>\n",
       "      <td>0.595853</td>\n",
       "    </tr>\n",
       "    <tr>\n",
       "      <th>LUNA/USDT</th>\n",
       "      <td>1.144022</td>\n",
       "      <td>1.747209e-04</td>\n",
       "      <td>0.766412</td>\n",
       "      <td>0.0</td>\n",
       "      <td>0.018123</td>\n",
       "      <td>0.587387</td>\n",
       "    </tr>\n",
       "    <tr>\n",
       "      <th>KLAY/USDT</th>\n",
       "      <td>0.655675</td>\n",
       "      <td>-4.784348e-05</td>\n",
       "      <td>0.757675</td>\n",
       "      <td>0.0</td>\n",
       "      <td>0.010675</td>\n",
       "      <td>0.574072</td>\n",
       "    </tr>\n",
       "    <tr>\n",
       "      <th>CAKE/USDT</th>\n",
       "      <td>0.912404</td>\n",
       "      <td>2.281275e-05</td>\n",
       "      <td>0.755786</td>\n",
       "      <td>0.0</td>\n",
       "      <td>0.014942</td>\n",
       "      <td>0.571213</td>\n",
       "    </tr>\n",
       "    <tr>\n",
       "      <th>NEAR/USDT</th>\n",
       "      <td>1.255515</td>\n",
       "      <td>2.377532e-04</td>\n",
       "      <td>0.749054</td>\n",
       "      <td>0.0</td>\n",
       "      <td>0.020989</td>\n",
       "      <td>0.561082</td>\n",
       "    </tr>\n",
       "    <tr>\n",
       "      <th>RUNE/USDT</th>\n",
       "      <td>1.278333</td>\n",
       "      <td>2.427310e-04</td>\n",
       "      <td>0.728158</td>\n",
       "      <td>0.0</td>\n",
       "      <td>0.022744</td>\n",
       "      <td>0.530215</td>\n",
       "    </tr>\n",
       "    <tr>\n",
       "      <th>ZEC/USDT</th>\n",
       "      <td>1.026702</td>\n",
       "      <td>1.283643e-04</td>\n",
       "      <td>0.712165</td>\n",
       "      <td>0.0</td>\n",
       "      <td>0.019130</td>\n",
       "      <td>0.507179</td>\n",
       "    </tr>\n",
       "    <tr>\n",
       "      <th>XMR/USDT</th>\n",
       "      <td>0.813294</td>\n",
       "      <td>2.023262e-04</td>\n",
       "      <td>0.688071</td>\n",
       "      <td>0.0</td>\n",
       "      <td>0.016212</td>\n",
       "      <td>0.473442</td>\n",
       "    </tr>\n",
       "  </tbody>\n",
       "</table>\n",
       "</div>"
      ],
      "text/plain": [
       "               slope     intercept    rvalue  p-value    stderr       r^2\n",
       "pair                                                                     \n",
       "ETH/USDT    0.906108  2.908121e-06  0.928845      0.0  0.006831  0.862752\n",
       "MATIC/USDT  1.173012 -7.264773e-05  0.901573      0.0  0.010639  0.812834\n",
       "BNB/USDT    0.770888 -1.925795e-05  0.898382      0.0  0.007124  0.807090\n",
       "BTC/USDT    0.703572 -1.721211e-07  0.896294      0.0  0.006580  0.803344\n",
       "DOT/USDT    1.087747 -1.761859e-05  0.888269      0.0  0.010632  0.789022\n",
       "LTC/USDT    0.896029 -1.666653e-05  0.887566      0.0  0.008791  0.787774\n",
       "LINK/USDT   1.154746 -2.489467e-05  0.885753      0.0  0.011438  0.784559\n",
       "VET/USDT    1.214135 -8.032441e-06  0.880382      0.0  0.012363  0.775073\n",
       "FTT/USDT    0.859149  1.052961e-04  0.872987      0.0  0.009073  0.762106\n",
       "UNI/USDT    1.123302 -1.192977e-04  0.871420      0.0  0.011952  0.759373\n",
       "XLM/USDT    0.902095 -2.997745e-05  0.869015      0.0  0.009708  0.755187\n",
       "SOL/USDT    1.181986 -5.912205e-05  0.867024      0.0  0.012839  0.751730\n",
       "BCH/USDT    0.840080 -2.974620e-05  0.861297      0.0  0.009367  0.741832\n",
       "SAND/USDT   1.194815 -1.256790e-04  0.854998      0.0  0.013699  0.731021\n",
       "ALGO/USDT   1.075136 -1.449626e-04  0.854607      0.0  0.012348  0.730353\n",
       "ADA/USDT    1.015110 -4.379520e-05  0.853901      0.0  0.011694  0.729146\n",
       "AVAX/USDT   1.215320  2.848557e-05  0.847518      0.0  0.014386  0.718288\n",
       "MANA/USDT   1.150499 -4.453808e-05  0.844097      0.0  0.013814  0.712501\n",
       "XRP/USDT    0.858339  2.523209e-05  0.836239      0.0  0.010639  0.699296\n",
       "XTZ/USDT    1.060279 -2.258745e-05  0.827034      0.0  0.013622  0.683985\n",
       "AAVE/USDT   1.228179  1.130668e-05  0.824328      0.0  0.015943  0.679516\n",
       "FIL/USDT    1.016925 -1.150507e-04  0.818725      0.0  0.013480  0.670311\n",
       "EOS/USDT    0.881837  3.902248e-06  0.818651      0.0  0.011693  0.670190\n",
       "HBAR/USDT   0.945865 -4.833373e-05  0.818422      0.0  0.012552  0.669814\n",
       "FTM/USDT    1.311845 -3.706828e-05  0.816078      0.0  0.017560  0.665984\n",
       "AXS/USDT    1.138083 -1.312239e-04  0.815971      0.0  0.015240  0.665808\n",
       "EGLD/USDT   1.124760 -2.469304e-05  0.813119      0.0  0.015219  0.661163\n",
       "THETA/USDT  1.209988 -6.595734e-06  0.810251      0.0  0.016543  0.656507\n",
       "ICP/USDT    1.198318  3.872090e-06  0.808925      0.0  0.016462  0.654360\n",
       "SHIB/USDT   1.135511  1.513565e-05  0.795577      0.0  0.016345  0.632943\n",
       "TRX/USDT    0.650636  1.806652e-05  0.791057      0.0  0.009510  0.625771\n",
       "ETC/USDT    1.037264  1.333711e-04  0.779418      0.0  0.015759  0.607492\n",
       "ATOM/USDT   1.167102  1.057141e-04  0.776584      0.0  0.017897  0.603083\n",
       "DOGE/USDT   0.874360  1.297332e-05  0.771915      0.0  0.013611  0.595853\n",
       "LUNA/USDT   1.144022  1.747209e-04  0.766412      0.0  0.018123  0.587387\n",
       "KLAY/USDT   0.655675 -4.784348e-05  0.757675      0.0  0.010675  0.574072\n",
       "CAKE/USDT   0.912404  2.281275e-05  0.755786      0.0  0.014942  0.571213\n",
       "NEAR/USDT   1.255515  2.377532e-04  0.749054      0.0  0.020989  0.561082\n",
       "RUNE/USDT   1.278333  2.427310e-04  0.728158      0.0  0.022744  0.530215\n",
       "ZEC/USDT    1.026702  1.283643e-04  0.712165      0.0  0.019130  0.507179\n",
       "XMR/USDT    0.813294  2.023262e-04  0.688071      0.0  0.016212  0.473442"
      ]
     },
     "execution_count": 30,
     "metadata": {},
     "output_type": "execute_result"
    }
   ],
   "source": [
    "regression_market#['ZRX/USDT']"
   ]
  },
  {
   "cell_type": "code",
   "execution_count": 33,
   "id": "4117259b",
   "metadata": {},
   "outputs": [
    {
     "data": {
      "text/html": [
       "<div>\n",
       "<style scoped>\n",
       "    .dataframe tbody tr th:only-of-type {\n",
       "        vertical-align: middle;\n",
       "    }\n",
       "\n",
       "    .dataframe tbody tr th {\n",
       "        vertical-align: top;\n",
       "    }\n",
       "\n",
       "    .dataframe thead th {\n",
       "        text-align: right;\n",
       "    }\n",
       "</style>\n",
       "<table border=\"1\" class=\"dataframe\">\n",
       "  <thead>\n",
       "    <tr style=\"text-align: right;\">\n",
       "      <th></th>\n",
       "      <th>name</th>\n",
       "      <th>symbol</th>\n",
       "      <th>slug</th>\n",
       "      <th>num_market_pairs</th>\n",
       "      <th>date_added</th>\n",
       "      <th>tags</th>\n",
       "      <th>max_supply</th>\n",
       "      <th>circulating_supply</th>\n",
       "      <th>total_supply</th>\n",
       "      <th>platform</th>\n",
       "      <th>...</th>\n",
       "      <th>request_time</th>\n",
       "      <th>is_stable_coin</th>\n",
       "      <th>is_meme</th>\n",
       "      <th>is_wrapped_token</th>\n",
       "      <th>datetime_issue</th>\n",
       "      <th>market_cap</th>\n",
       "      <th>fully_diluted_market_cap</th>\n",
       "      <th>fdv_mc_ratio</th>\n",
       "      <th>market_cap_rank</th>\n",
       "      <th>total_market_value_ratio_cumsum</th>\n",
       "    </tr>\n",
       "    <tr>\n",
       "      <th>id</th>\n",
       "      <th></th>\n",
       "      <th></th>\n",
       "      <th></th>\n",
       "      <th></th>\n",
       "      <th></th>\n",
       "      <th></th>\n",
       "      <th></th>\n",
       "      <th></th>\n",
       "      <th></th>\n",
       "      <th></th>\n",
       "      <th></th>\n",
       "      <th></th>\n",
       "      <th></th>\n",
       "      <th></th>\n",
       "      <th></th>\n",
       "      <th></th>\n",
       "      <th></th>\n",
       "      <th></th>\n",
       "      <th></th>\n",
       "      <th></th>\n",
       "      <th></th>\n",
       "    </tr>\n",
       "  </thead>\n",
       "  <tbody>\n",
       "    <tr>\n",
       "      <th>1</th>\n",
       "      <td>Bitcoin</td>\n",
       "      <td>BTC</td>\n",
       "      <td>bitcoin</td>\n",
       "      <td>9364</td>\n",
       "      <td>2013-04-28T00:00:00.000Z</td>\n",
       "      <td>[mineable, pow, sha-256, store-of-value, state...</td>\n",
       "      <td>2.100000e+07</td>\n",
       "      <td>1.902336e+07</td>\n",
       "      <td>1.902336e+07</td>\n",
       "      <td>None</td>\n",
       "      <td>...</td>\n",
       "      <td>2022-04-27 00:42:16.853460</td>\n",
       "      <td>False</td>\n",
       "      <td>False</td>\n",
       "      <td>False</td>\n",
       "      <td>2013-04-28</td>\n",
       "      <td>7.310842e+11</td>\n",
       "      <td>8.070481e+11</td>\n",
       "      <td>1.103906</td>\n",
       "      <td>1.0</td>\n",
       "      <td>0.467729</td>\n",
       "    </tr>\n",
       "    <tr>\n",
       "      <th>1027</th>\n",
       "      <td>Ethereum</td>\n",
       "      <td>ETH</td>\n",
       "      <td>ethereum</td>\n",
       "      <td>5663</td>\n",
       "      <td>2015-08-07T00:00:00.000Z</td>\n",
       "      <td>[mineable, pow, smart-contracts, ethereum-ecos...</td>\n",
       "      <td>NaN</td>\n",
       "      <td>1.205442e+08</td>\n",
       "      <td>1.205442e+08</td>\n",
       "      <td>None</td>\n",
       "      <td>...</td>\n",
       "      <td>2022-04-27 00:42:16.853460</td>\n",
       "      <td>False</td>\n",
       "      <td>False</td>\n",
       "      <td>False</td>\n",
       "      <td>2015-08-07</td>\n",
       "      <td>3.430507e+11</td>\n",
       "      <td>3.430507e+11</td>\n",
       "      <td>1.000000</td>\n",
       "      <td>2.0</td>\n",
       "      <td>0.687204</td>\n",
       "    </tr>\n",
       "    <tr>\n",
       "      <th>1839</th>\n",
       "      <td>BNB</td>\n",
       "      <td>BNB</td>\n",
       "      <td>bnb</td>\n",
       "      <td>818</td>\n",
       "      <td>2017-07-25T00:00:00.000Z</td>\n",
       "      <td>[marketplace, centralized-exchange, payments, ...</td>\n",
       "      <td>1.651168e+08</td>\n",
       "      <td>1.632770e+08</td>\n",
       "      <td>1.632770e+08</td>\n",
       "      <td>None</td>\n",
       "      <td>...</td>\n",
       "      <td>2022-04-27 00:42:16.853460</td>\n",
       "      <td>False</td>\n",
       "      <td>False</td>\n",
       "      <td>False</td>\n",
       "      <td>2017-07-25</td>\n",
       "      <td>6.362547e+10</td>\n",
       "      <td>6.434239e+10</td>\n",
       "      <td>1.011268</td>\n",
       "      <td>4.0</td>\n",
       "      <td>0.727910</td>\n",
       "    </tr>\n",
       "    <tr>\n",
       "      <th>5426</th>\n",
       "      <td>Solana</td>\n",
       "      <td>SOL</td>\n",
       "      <td>solana</td>\n",
       "      <td>297</td>\n",
       "      <td>2020-04-10T00:00:00.000Z</td>\n",
       "      <td>[pos, platform, solana-ecosystem, cms-holdings...</td>\n",
       "      <td>NaN</td>\n",
       "      <td>3.337035e+08</td>\n",
       "      <td>5.116169e+08</td>\n",
       "      <td>None</td>\n",
       "      <td>...</td>\n",
       "      <td>2022-04-27 00:42:16.853460</td>\n",
       "      <td>False</td>\n",
       "      <td>False</td>\n",
       "      <td>False</td>\n",
       "      <td>2020-04-10</td>\n",
       "      <td>3.240334e+10</td>\n",
       "      <td>4.967913e+10</td>\n",
       "      <td>1.533148</td>\n",
       "      <td>6.0</td>\n",
       "      <td>0.748640</td>\n",
       "    </tr>\n",
       "    <tr>\n",
       "      <th>52</th>\n",
       "      <td>XRP</td>\n",
       "      <td>XRP</td>\n",
       "      <td>xrp</td>\n",
       "      <td>713</td>\n",
       "      <td>2013-08-04T00:00:00.000Z</td>\n",
       "      <td>[medium-of-exchange, enterprise-solutions, bin...</td>\n",
       "      <td>1.000000e+11</td>\n",
       "      <td>4.810523e+10</td>\n",
       "      <td>9.998959e+10</td>\n",
       "      <td>None</td>\n",
       "      <td>...</td>\n",
       "      <td>2022-04-27 00:42:16.853460</td>\n",
       "      <td>False</td>\n",
       "      <td>False</td>\n",
       "      <td>False</td>\n",
       "      <td>2013-08-04</td>\n",
       "      <td>3.138582e+10</td>\n",
       "      <td>6.524408e+10</td>\n",
       "      <td>2.078776</td>\n",
       "      <td>7.0</td>\n",
       "      <td>0.768720</td>\n",
       "    </tr>\n",
       "    <tr>\n",
       "      <th>...</th>\n",
       "      <td>...</td>\n",
       "      <td>...</td>\n",
       "      <td>...</td>\n",
       "      <td>...</td>\n",
       "      <td>...</td>\n",
       "      <td>...</td>\n",
       "      <td>...</td>\n",
       "      <td>...</td>\n",
       "      <td>...</td>\n",
       "      <td>...</td>\n",
       "      <td>...</td>\n",
       "      <td>...</td>\n",
       "      <td>...</td>\n",
       "      <td>...</td>\n",
       "      <td>...</td>\n",
       "      <td>...</td>\n",
       "      <td>...</td>\n",
       "      <td>...</td>\n",
       "      <td>...</td>\n",
       "      <td>...</td>\n",
       "      <td>...</td>\n",
       "    </tr>\n",
       "    <tr>\n",
       "      <th>9040</th>\n",
       "      <td>Pundi X (New)</td>\n",
       "      <td>PUNDIX</td>\n",
       "      <td>pundix-new</td>\n",
       "      <td>37</td>\n",
       "      <td>2021-03-31T00:00:00.000Z</td>\n",
       "      <td>[]</td>\n",
       "      <td>2.585266e+08</td>\n",
       "      <td>2.584916e+08</td>\n",
       "      <td>2.584916e+08</td>\n",
       "      <td>{'id': 1027, 'name': 'Ethereum', 'symbol': 'ET...</td>\n",
       "      <td>...</td>\n",
       "      <td>2022-04-27 00:42:16.853460</td>\n",
       "      <td>False</td>\n",
       "      <td>False</td>\n",
       "      <td>False</td>\n",
       "      <td>2021-03-31</td>\n",
       "      <td>2.132198e+08</td>\n",
       "      <td>2.132487e+08</td>\n",
       "      <td>1.000135</td>\n",
       "      <td>196.0</td>\n",
       "      <td>0.999467</td>\n",
       "    </tr>\n",
       "    <tr>\n",
       "      <th>5161</th>\n",
       "      <td>WazirX</td>\n",
       "      <td>WRX</td>\n",
       "      <td>wazirx</td>\n",
       "      <td>66</td>\n",
       "      <td>2020-02-06T00:00:00.000Z</td>\n",
       "      <td>[centralized-exchange, algorand-ecosystem, bin...</td>\n",
       "      <td>NaN</td>\n",
       "      <td>3.818569e+08</td>\n",
       "      <td>9.626467e+08</td>\n",
       "      <td>{'id': 1839, 'name': 'BNB Beacon Chain (BEP2)'...</td>\n",
       "      <td>...</td>\n",
       "      <td>2022-04-27 00:42:16.853460</td>\n",
       "      <td>False</td>\n",
       "      <td>False</td>\n",
       "      <td>False</td>\n",
       "      <td>2020-02-06</td>\n",
       "      <td>2.105503e+08</td>\n",
       "      <td>5.307892e+08</td>\n",
       "      <td>2.520962</td>\n",
       "      <td>197.0</td>\n",
       "      <td>0.999602</td>\n",
       "    </tr>\n",
       "    <tr>\n",
       "      <th>2071</th>\n",
       "      <td>Request</td>\n",
       "      <td>REQ</td>\n",
       "      <td>request</td>\n",
       "      <td>69</td>\n",
       "      <td>2017-10-20T00:00:00.000Z</td>\n",
       "      <td>[medium-of-exchange, defi, payments, smart-con...</td>\n",
       "      <td>9.998771e+08</td>\n",
       "      <td>9.998760e+08</td>\n",
       "      <td>9.998771e+08</td>\n",
       "      <td>{'id': 1027, 'name': 'Ethereum', 'symbol': 'ET...</td>\n",
       "      <td>...</td>\n",
       "      <td>2022-04-27 00:42:16.853460</td>\n",
       "      <td>False</td>\n",
       "      <td>False</td>\n",
       "      <td>False</td>\n",
       "      <td>2017-10-20</td>\n",
       "      <td>2.079806e+08</td>\n",
       "      <td>2.079808e+08</td>\n",
       "      <td>1.000001</td>\n",
       "      <td>198.0</td>\n",
       "      <td>0.999735</td>\n",
       "    </tr>\n",
       "    <tr>\n",
       "      <th>8290</th>\n",
       "      <td>SuperFarm</td>\n",
       "      <td>SUPER</td>\n",
       "      <td>superfarm</td>\n",
       "      <td>64</td>\n",
       "      <td>2021-01-20T00:00:00.000Z</td>\n",
       "      <td>[collectibles-nfts, launchpad, polkastarter, e...</td>\n",
       "      <td>1.000000e+09</td>\n",
       "      <td>4.024109e+08</td>\n",
       "      <td>9.999981e+08</td>\n",
       "      <td>{'id': 1027, 'name': 'Ethereum', 'symbol': 'ET...</td>\n",
       "      <td>...</td>\n",
       "      <td>2022-04-27 00:42:16.853460</td>\n",
       "      <td>False</td>\n",
       "      <td>False</td>\n",
       "      <td>False</td>\n",
       "      <td>2021-01-20</td>\n",
       "      <td>2.075513e+08</td>\n",
       "      <td>5.157695e+08</td>\n",
       "      <td>2.485022</td>\n",
       "      <td>199.0</td>\n",
       "      <td>0.999868</td>\n",
       "    </tr>\n",
       "    <tr>\n",
       "      <th>3217</th>\n",
       "      <td>Ontology Gas</td>\n",
       "      <td>ONG</td>\n",
       "      <td>ontology-gas</td>\n",
       "      <td>51</td>\n",
       "      <td>2018-08-23T00:00:00.000Z</td>\n",
       "      <td>[ontology-ecosystem]</td>\n",
       "      <td>1.000000e+09</td>\n",
       "      <td>3.069264e+08</td>\n",
       "      <td>1.000000e+09</td>\n",
       "      <td>None</td>\n",
       "      <td>...</td>\n",
       "      <td>2022-04-27 00:42:16.853460</td>\n",
       "      <td>False</td>\n",
       "      <td>False</td>\n",
       "      <td>False</td>\n",
       "      <td>2018-08-23</td>\n",
       "      <td>2.068581e+08</td>\n",
       "      <td>6.739666e+08</td>\n",
       "      <td>3.258110</td>\n",
       "      <td>200.0</td>\n",
       "      <td>1.000000</td>\n",
       "    </tr>\n",
       "  </tbody>\n",
       "</table>\n",
       "<p>187 rows × 25 columns</p>\n",
       "</div>"
      ],
      "text/plain": [
       "               name  symbol          slug  num_market_pairs  \\\n",
       "id                                                            \n",
       "1           Bitcoin     BTC       bitcoin              9364   \n",
       "1027       Ethereum     ETH      ethereum              5663   \n",
       "1839            BNB     BNB           bnb               818   \n",
       "5426         Solana     SOL        solana               297   \n",
       "52              XRP     XRP           xrp               713   \n",
       "...             ...     ...           ...               ...   \n",
       "9040  Pundi X (New)  PUNDIX    pundix-new                37   \n",
       "5161         WazirX     WRX        wazirx                66   \n",
       "2071        Request     REQ       request                69   \n",
       "8290      SuperFarm   SUPER     superfarm                64   \n",
       "3217   Ontology Gas     ONG  ontology-gas                51   \n",
       "\n",
       "                    date_added  \\\n",
       "id                               \n",
       "1     2013-04-28T00:00:00.000Z   \n",
       "1027  2015-08-07T00:00:00.000Z   \n",
       "1839  2017-07-25T00:00:00.000Z   \n",
       "5426  2020-04-10T00:00:00.000Z   \n",
       "52    2013-08-04T00:00:00.000Z   \n",
       "...                        ...   \n",
       "9040  2021-03-31T00:00:00.000Z   \n",
       "5161  2020-02-06T00:00:00.000Z   \n",
       "2071  2017-10-20T00:00:00.000Z   \n",
       "8290  2021-01-20T00:00:00.000Z   \n",
       "3217  2018-08-23T00:00:00.000Z   \n",
       "\n",
       "                                                   tags    max_supply  \\\n",
       "id                                                                      \n",
       "1     [mineable, pow, sha-256, store-of-value, state...  2.100000e+07   \n",
       "1027  [mineable, pow, smart-contracts, ethereum-ecos...           NaN   \n",
       "1839  [marketplace, centralized-exchange, payments, ...  1.651168e+08   \n",
       "5426  [pos, platform, solana-ecosystem, cms-holdings...           NaN   \n",
       "52    [medium-of-exchange, enterprise-solutions, bin...  1.000000e+11   \n",
       "...                                                 ...           ...   \n",
       "9040                                                 []  2.585266e+08   \n",
       "5161  [centralized-exchange, algorand-ecosystem, bin...           NaN   \n",
       "2071  [medium-of-exchange, defi, payments, smart-con...  9.998771e+08   \n",
       "8290  [collectibles-nfts, launchpad, polkastarter, e...  1.000000e+09   \n",
       "3217                               [ontology-ecosystem]  1.000000e+09   \n",
       "\n",
       "      circulating_supply  total_supply  \\\n",
       "id                                       \n",
       "1           1.902336e+07  1.902336e+07   \n",
       "1027        1.205442e+08  1.205442e+08   \n",
       "1839        1.632770e+08  1.632770e+08   \n",
       "5426        3.337035e+08  5.116169e+08   \n",
       "52          4.810523e+10  9.998959e+10   \n",
       "...                  ...           ...   \n",
       "9040        2.584916e+08  2.584916e+08   \n",
       "5161        3.818569e+08  9.626467e+08   \n",
       "2071        9.998760e+08  9.998771e+08   \n",
       "8290        4.024109e+08  9.999981e+08   \n",
       "3217        3.069264e+08  1.000000e+09   \n",
       "\n",
       "                                               platform  ...  \\\n",
       "id                                                       ...   \n",
       "1                                                  None  ...   \n",
       "1027                                               None  ...   \n",
       "1839                                               None  ...   \n",
       "5426                                               None  ...   \n",
       "52                                                 None  ...   \n",
       "...                                                 ...  ...   \n",
       "9040  {'id': 1027, 'name': 'Ethereum', 'symbol': 'ET...  ...   \n",
       "5161  {'id': 1839, 'name': 'BNB Beacon Chain (BEP2)'...  ...   \n",
       "2071  {'id': 1027, 'name': 'Ethereum', 'symbol': 'ET...  ...   \n",
       "8290  {'id': 1027, 'name': 'Ethereum', 'symbol': 'ET...  ...   \n",
       "3217                                               None  ...   \n",
       "\n",
       "                   request_time  is_stable_coin  is_meme is_wrapped_token  \\\n",
       "id                                                                          \n",
       "1    2022-04-27 00:42:16.853460           False    False            False   \n",
       "1027 2022-04-27 00:42:16.853460           False    False            False   \n",
       "1839 2022-04-27 00:42:16.853460           False    False            False   \n",
       "5426 2022-04-27 00:42:16.853460           False    False            False   \n",
       "52   2022-04-27 00:42:16.853460           False    False            False   \n",
       "...                         ...             ...      ...              ...   \n",
       "9040 2022-04-27 00:42:16.853460           False    False            False   \n",
       "5161 2022-04-27 00:42:16.853460           False    False            False   \n",
       "2071 2022-04-27 00:42:16.853460           False    False            False   \n",
       "8290 2022-04-27 00:42:16.853460           False    False            False   \n",
       "3217 2022-04-27 00:42:16.853460           False    False            False   \n",
       "\n",
       "     datetime_issue    market_cap  fully_diluted_market_cap  fdv_mc_ratio  \\\n",
       "id                                                                          \n",
       "1        2013-04-28  7.310842e+11              8.070481e+11      1.103906   \n",
       "1027     2015-08-07  3.430507e+11              3.430507e+11      1.000000   \n",
       "1839     2017-07-25  6.362547e+10              6.434239e+10      1.011268   \n",
       "5426     2020-04-10  3.240334e+10              4.967913e+10      1.533148   \n",
       "52       2013-08-04  3.138582e+10              6.524408e+10      2.078776   \n",
       "...             ...           ...                       ...           ...   \n",
       "9040     2021-03-31  2.132198e+08              2.132487e+08      1.000135   \n",
       "5161     2020-02-06  2.105503e+08              5.307892e+08      2.520962   \n",
       "2071     2017-10-20  2.079806e+08              2.079808e+08      1.000001   \n",
       "8290     2021-01-20  2.075513e+08              5.157695e+08      2.485022   \n",
       "3217     2018-08-23  2.068581e+08              6.739666e+08      3.258110   \n",
       "\n",
       "      market_cap_rank total_market_value_ratio_cumsum  \n",
       "id                                                     \n",
       "1                 1.0                        0.467729  \n",
       "1027              2.0                        0.687204  \n",
       "1839              4.0                        0.727910  \n",
       "5426              6.0                        0.748640  \n",
       "52                7.0                        0.768720  \n",
       "...               ...                             ...  \n",
       "9040            196.0                        0.999467  \n",
       "5161            197.0                        0.999602  \n",
       "2071            198.0                        0.999735  \n",
       "8290            199.0                        0.999868  \n",
       "3217            200.0                        1.000000  \n",
       "\n",
       "[187 rows x 25 columns]"
      ]
     },
     "execution_count": 33,
     "metadata": {},
     "output_type": "execute_result"
    }
   ],
   "source": [
    "shit_coin_info_df"
   ]
  },
  {
   "cell_type": "code",
   "execution_count": 32,
   "id": "10a825e4",
   "metadata": {},
   "outputs": [
    {
     "ename": "KeyError",
     "evalue": "'Requested level (date) does not match index name (id)'",
     "output_type": "error",
     "traceback": [
      "\u001b[0;31m---------------------------------------------------------------------------\u001b[0m",
      "\u001b[0;31mKeyError\u001b[0m                                  Traceback (most recent call last)",
      "\u001b[0;32m/var/folders/c1/_mpw_d1x7zl9q4td_m6xzl100000gn/T/ipykernel_23679/504611392.py\u001b[0m in \u001b[0;36m<module>\u001b[0;34m\u001b[0m\n\u001b[0;32m----> 1\u001b[0;31m \u001b[0mshit_coin_info_df_rolling_sample\u001b[0m \u001b[0;34m=\u001b[0m \u001b[0mshit_coin_info_df\u001b[0m\u001b[0;34m.\u001b[0m\u001b[0mloc\u001b[0m\u001b[0;34m[\u001b[0m\u001b[0;34m(\u001b[0m\u001b[0mshit_coin_info_df\u001b[0m\u001b[0;34m.\u001b[0m\u001b[0mindex\u001b[0m\u001b[0;34m.\u001b[0m\u001b[0mget_level_values\u001b[0m\u001b[0;34m(\u001b[0m\u001b[0;34m'date'\u001b[0m\u001b[0;34m)\u001b[0m \u001b[0;34m>\u001b[0m \u001b[0mtimewinodw_start\u001b[0m\u001b[0;34m)\u001b[0m\u001b[0;34m]\u001b[0m\u001b[0;34m\u001b[0m\u001b[0;34m\u001b[0m\u001b[0m\n\u001b[0m",
      "\u001b[0;32m~/PycharmProjects/helix_crypto/venv/lib/python3.8/site-packages/pandas/core/indexes/base.py\u001b[0m in \u001b[0;36m_get_level_values\u001b[0;34m(self, level)\u001b[0m\n\u001b[1;32m   2006\u001b[0m         \u001b[0mIndex\u001b[0m\u001b[0;34m(\u001b[0m\u001b[0;34m[\u001b[0m\u001b[0;34m'a'\u001b[0m\u001b[0;34m,\u001b[0m \u001b[0;34m'b'\u001b[0m\u001b[0;34m,\u001b[0m \u001b[0;34m'c'\u001b[0m\u001b[0;34m]\u001b[0m\u001b[0;34m,\u001b[0m \u001b[0mdtype\u001b[0m\u001b[0;34m=\u001b[0m\u001b[0;34m'object'\u001b[0m\u001b[0;34m)\u001b[0m\u001b[0;34m\u001b[0m\u001b[0;34m\u001b[0m\u001b[0m\n\u001b[1;32m   2007\u001b[0m         \"\"\"\n\u001b[0;32m-> 2008\u001b[0;31m         \u001b[0mself\u001b[0m\u001b[0;34m.\u001b[0m\u001b[0m_validate_index_level\u001b[0m\u001b[0;34m(\u001b[0m\u001b[0mlevel\u001b[0m\u001b[0;34m)\u001b[0m\u001b[0;34m\u001b[0m\u001b[0;34m\u001b[0m\u001b[0m\n\u001b[0m\u001b[1;32m   2009\u001b[0m         \u001b[0;32mreturn\u001b[0m \u001b[0mself\u001b[0m\u001b[0;34m\u001b[0m\u001b[0;34m\u001b[0m\u001b[0m\n\u001b[1;32m   2010\u001b[0m \u001b[0;34m\u001b[0m\u001b[0m\n",
      "\u001b[0;32m~/PycharmProjects/helix_crypto/venv/lib/python3.8/site-packages/pandas/core/indexes/base.py\u001b[0m in \u001b[0;36m_validate_index_level\u001b[0;34m(self, level)\u001b[0m\n\u001b[1;32m   1929\u001b[0m                 )\n\u001b[1;32m   1930\u001b[0m         \u001b[0;32melif\u001b[0m \u001b[0mlevel\u001b[0m \u001b[0;34m!=\u001b[0m \u001b[0mself\u001b[0m\u001b[0;34m.\u001b[0m\u001b[0mname\u001b[0m\u001b[0;34m:\u001b[0m\u001b[0;34m\u001b[0m\u001b[0;34m\u001b[0m\u001b[0m\n\u001b[0;32m-> 1931\u001b[0;31m             raise KeyError(\n\u001b[0m\u001b[1;32m   1932\u001b[0m                 \u001b[0;34mf\"Requested level ({level}) does not match index name ({self.name})\"\u001b[0m\u001b[0;34m\u001b[0m\u001b[0;34m\u001b[0m\u001b[0m\n\u001b[1;32m   1933\u001b[0m             )\n",
      "\u001b[0;31mKeyError\u001b[0m: 'Requested level (date) does not match index name (id)'"
     ]
    }
   ],
   "source": [
    "shit_coin_info_df_rolling_sample = shit_coin_info_df.loc[(shit_coin_info_df.index.get_level_values('date') > timewinodw_start)]"
   ]
  },
  {
   "cell_type": "code",
   "execution_count": null,
   "id": "d26f0bd0",
   "metadata": {},
   "outputs": [],
   "source": [
    "2.023262e-04"
   ]
  },
  {
   "cell_type": "code",
   "execution_count": 247,
   "id": "6e1cfafe",
   "metadata": {},
   "outputs": [
    {
     "data": {
      "text/html": [
       "<div>\n",
       "<style scoped>\n",
       "    .dataframe tbody tr th:only-of-type {\n",
       "        vertical-align: middle;\n",
       "    }\n",
       "\n",
       "    .dataframe tbody tr th {\n",
       "        vertical-align: top;\n",
       "    }\n",
       "\n",
       "    .dataframe thead th {\n",
       "        text-align: right;\n",
       "    }\n",
       "</style>\n",
       "<table border=\"1\" class=\"dataframe\">\n",
       "  <thead>\n",
       "    <tr style=\"text-align: right;\">\n",
       "      <th></th>\n",
       "      <th>slope</th>\n",
       "      <th>intercept</th>\n",
       "      <th>rvalue</th>\n",
       "      <th>p-value</th>\n",
       "      <th>stderr</th>\n",
       "      <th>r^2</th>\n",
       "    </tr>\n",
       "    <tr>\n",
       "      <th>pair</th>\n",
       "      <th></th>\n",
       "      <th></th>\n",
       "      <th></th>\n",
       "      <th></th>\n",
       "      <th></th>\n",
       "      <th></th>\n",
       "    </tr>\n",
       "  </thead>\n",
       "  <tbody>\n",
       "    <tr>\n",
       "      <th>RUNE/USDT</th>\n",
       "      <td>1.285306</td>\n",
       "      <td>2.448299e-04</td>\n",
       "      <td>0.727878</td>\n",
       "      <td>0.0</td>\n",
       "      <td>0.022567</td>\n",
       "      <td>0.529806</td>\n",
       "    </tr>\n",
       "    <tr>\n",
       "      <th>XMR/USDT</th>\n",
       "      <td>0.813687</td>\n",
       "      <td>2.162460e-04</td>\n",
       "      <td>0.686565</td>\n",
       "      <td>0.0</td>\n",
       "      <td>0.016059</td>\n",
       "      <td>0.471371</td>\n",
       "    </tr>\n",
       "    <tr>\n",
       "      <th>NEAR/USDT</th>\n",
       "      <td>1.250615</td>\n",
       "      <td>2.013493e-04</td>\n",
       "      <td>0.741609</td>\n",
       "      <td>0.0</td>\n",
       "      <td>0.021083</td>\n",
       "      <td>0.549984</td>\n",
       "    </tr>\n",
       "    <tr>\n",
       "      <th>LUNA/USDT</th>\n",
       "      <td>1.140747</td>\n",
       "      <td>1.520568e-04</td>\n",
       "      <td>0.762641</td>\n",
       "      <td>0.0</td>\n",
       "      <td>0.018032</td>\n",
       "      <td>0.581622</td>\n",
       "    </tr>\n",
       "    <tr>\n",
       "      <th>ZEC/USDT</th>\n",
       "      <td>1.027068</td>\n",
       "      <td>1.239843e-04</td>\n",
       "      <td>0.712736</td>\n",
       "      <td>0.0</td>\n",
       "      <td>0.018838</td>\n",
       "      <td>0.507992</td>\n",
       "    </tr>\n",
       "    <tr>\n",
       "      <th>ETC/USDT</th>\n",
       "      <td>1.036351</td>\n",
       "      <td>1.199346e-04</td>\n",
       "      <td>0.780162</td>\n",
       "      <td>0.0</td>\n",
       "      <td>0.015488</td>\n",
       "      <td>0.608653</td>\n",
       "    </tr>\n",
       "    <tr>\n",
       "      <th>ATOM/USDT</th>\n",
       "      <td>1.170581</td>\n",
       "      <td>1.071860e-04</td>\n",
       "      <td>0.773132</td>\n",
       "      <td>0.0</td>\n",
       "      <td>0.017897</td>\n",
       "      <td>0.597732</td>\n",
       "    </tr>\n",
       "    <tr>\n",
       "      <th>FTT/USDT</th>\n",
       "      <td>0.857740</td>\n",
       "      <td>8.801074e-05</td>\n",
       "      <td>0.872749</td>\n",
       "      <td>0.0</td>\n",
       "      <td>0.008942</td>\n",
       "      <td>0.761691</td>\n",
       "    </tr>\n",
       "    <tr>\n",
       "      <th>THETA/USDT</th>\n",
       "      <td>1.215682</td>\n",
       "      <td>3.804976e-05</td>\n",
       "      <td>0.803573</td>\n",
       "      <td>0.0</td>\n",
       "      <td>0.016782</td>\n",
       "      <td>0.645730</td>\n",
       "    </tr>\n",
       "    <tr>\n",
       "      <th>CAKE/USDT</th>\n",
       "      <td>0.909668</td>\n",
       "      <td>3.208590e-05</td>\n",
       "      <td>0.751940</td>\n",
       "      <td>0.0</td>\n",
       "      <td>0.014863</td>\n",
       "      <td>0.565414</td>\n",
       "    </tr>\n",
       "    <tr>\n",
       "      <th>AAVE/USDT</th>\n",
       "      <td>1.227284</td>\n",
       "      <td>2.447159e-05</td>\n",
       "      <td>0.818242</td>\n",
       "      <td>0.0</td>\n",
       "      <td>0.016070</td>\n",
       "      <td>0.669520</td>\n",
       "    </tr>\n",
       "    <tr>\n",
       "      <th>SHIB/USDT</th>\n",
       "      <td>1.136013</td>\n",
       "      <td>1.332570e-05</td>\n",
       "      <td>0.794261</td>\n",
       "      <td>0.0</td>\n",
       "      <td>0.016196</td>\n",
       "      <td>0.630851</td>\n",
       "    </tr>\n",
       "    <tr>\n",
       "      <th>TRX/USDT</th>\n",
       "      <td>0.650849</td>\n",
       "      <td>8.675698e-06</td>\n",
       "      <td>0.791740</td>\n",
       "      <td>0.0</td>\n",
       "      <td>0.009359</td>\n",
       "      <td>0.626852</td>\n",
       "    </tr>\n",
       "    <tr>\n",
       "      <th>XRP/USDT</th>\n",
       "      <td>0.860977</td>\n",
       "      <td>7.908318e-06</td>\n",
       "      <td>0.835884</td>\n",
       "      <td>0.0</td>\n",
       "      <td>0.010537</td>\n",
       "      <td>0.698703</td>\n",
       "    </tr>\n",
       "    <tr>\n",
       "      <th>AVAX/USDT</th>\n",
       "      <td>1.216379</td>\n",
       "      <td>3.278495e-07</td>\n",
       "      <td>0.846435</td>\n",
       "      <td>0.0</td>\n",
       "      <td>0.014262</td>\n",
       "      <td>0.716452</td>\n",
       "    </tr>\n",
       "    <tr>\n",
       "      <th>XTZ/USDT</th>\n",
       "      <td>1.060709</td>\n",
       "      <td>-3.017482e-06</td>\n",
       "      <td>0.820671</td>\n",
       "      <td>0.0</td>\n",
       "      <td>0.013764</td>\n",
       "      <td>0.673501</td>\n",
       "    </tr>\n",
       "    <tr>\n",
       "      <th>VET/USDT</th>\n",
       "      <td>1.214493</td>\n",
       "      <td>-4.440910e-06</td>\n",
       "      <td>0.879089</td>\n",
       "      <td>0.0</td>\n",
       "      <td>0.012273</td>\n",
       "      <td>0.772798</td>\n",
       "    </tr>\n",
       "    <tr>\n",
       "      <th>DOGE/USDT</th>\n",
       "      <td>0.877335</td>\n",
       "      <td>-5.649773e-06</td>\n",
       "      <td>0.772781</td>\n",
       "      <td>0.0</td>\n",
       "      <td>0.013429</td>\n",
       "      <td>0.597190</td>\n",
       "    </tr>\n",
       "    <tr>\n",
       "      <th>DOT/USDT</th>\n",
       "      <td>1.092366</td>\n",
       "      <td>-6.190746e-06</td>\n",
       "      <td>0.885190</td>\n",
       "      <td>0.0</td>\n",
       "      <td>0.010700</td>\n",
       "      <td>0.783562</td>\n",
       "    </tr>\n",
       "    <tr>\n",
       "      <th>ETH/USDT</th>\n",
       "      <td>0.903357</td>\n",
       "      <td>-7.401467e-06</td>\n",
       "      <td>0.927834</td>\n",
       "      <td>0.0</td>\n",
       "      <td>0.006768</td>\n",
       "      <td>0.860876</td>\n",
       "    </tr>\n",
       "    <tr>\n",
       "      <th>BTC/USDT</th>\n",
       "      <td>0.702842</td>\n",
       "      <td>-9.116258e-06</td>\n",
       "      <td>0.895316</td>\n",
       "      <td>0.0</td>\n",
       "      <td>0.006517</td>\n",
       "      <td>0.801591</td>\n",
       "    </tr>\n",
       "    <tr>\n",
       "      <th>ICP/USDT</th>\n",
       "      <td>1.202905</td>\n",
       "      <td>-9.825172e-06</td>\n",
       "      <td>0.807810</td>\n",
       "      <td>0.0</td>\n",
       "      <td>0.016358</td>\n",
       "      <td>0.652557</td>\n",
       "    </tr>\n",
       "    <tr>\n",
       "      <th>EOS/USDT</th>\n",
       "      <td>0.882029</td>\n",
       "      <td>-1.042295e-05</td>\n",
       "      <td>0.819414</td>\n",
       "      <td>0.0</td>\n",
       "      <td>0.011499</td>\n",
       "      <td>0.671440</td>\n",
       "    </tr>\n",
       "    <tr>\n",
       "      <th>BNB/USDT</th>\n",
       "      <td>0.769122</td>\n",
       "      <td>-1.522533e-05</td>\n",
       "      <td>0.897210</td>\n",
       "      <td>0.0</td>\n",
       "      <td>0.007055</td>\n",
       "      <td>0.804985</td>\n",
       "    </tr>\n",
       "    <tr>\n",
       "      <th>EGLD/USDT</th>\n",
       "      <td>1.125479</td>\n",
       "      <td>-1.551703e-05</td>\n",
       "      <td>0.810753</td>\n",
       "      <td>0.0</td>\n",
       "      <td>0.015145</td>\n",
       "      <td>0.657320</td>\n",
       "    </tr>\n",
       "    <tr>\n",
       "      <th>XLM/USDT</th>\n",
       "      <td>0.902230</td>\n",
       "      <td>-1.879150e-05</td>\n",
       "      <td>0.866080</td>\n",
       "      <td>0.0</td>\n",
       "      <td>0.009706</td>\n",
       "      <td>0.750095</td>\n",
       "    </tr>\n",
       "    <tr>\n",
       "      <th>LINK/USDT</th>\n",
       "      <td>1.157644</td>\n",
       "      <td>-2.074650e-05</td>\n",
       "      <td>0.883463</td>\n",
       "      <td>0.0</td>\n",
       "      <td>0.011441</td>\n",
       "      <td>0.780508</td>\n",
       "    </tr>\n",
       "    <tr>\n",
       "      <th>BCH/USDT</th>\n",
       "      <td>0.838448</td>\n",
       "      <td>-2.613472e-05</td>\n",
       "      <td>0.859336</td>\n",
       "      <td>0.0</td>\n",
       "      <td>0.009300</td>\n",
       "      <td>0.738459</td>\n",
       "    </tr>\n",
       "    <tr>\n",
       "      <th>ADA/USDT</th>\n",
       "      <td>1.015526</td>\n",
       "      <td>-3.114604e-05</td>\n",
       "      <td>0.851842</td>\n",
       "      <td>0.0</td>\n",
       "      <td>0.011638</td>\n",
       "      <td>0.725634</td>\n",
       "    </tr>\n",
       "    <tr>\n",
       "      <th>FTM/USDT</th>\n",
       "      <td>1.311492</td>\n",
       "      <td>-3.316104e-05</td>\n",
       "      <td>0.809414</td>\n",
       "      <td>0.0</td>\n",
       "      <td>0.017733</td>\n",
       "      <td>0.655151</td>\n",
       "    </tr>\n",
       "    <tr>\n",
       "      <th>MANA/USDT</th>\n",
       "      <td>1.154788</td>\n",
       "      <td>-3.814596e-05</td>\n",
       "      <td>0.842264</td>\n",
       "      <td>0.0</td>\n",
       "      <td>0.013774</td>\n",
       "      <td>0.709408</td>\n",
       "    </tr>\n",
       "    <tr>\n",
       "      <th>LTC/USDT</th>\n",
       "      <td>0.896421</td>\n",
       "      <td>-3.927267e-05</td>\n",
       "      <td>0.885763</td>\n",
       "      <td>0.0</td>\n",
       "      <td>0.008754</td>\n",
       "      <td>0.784577</td>\n",
       "    </tr>\n",
       "    <tr>\n",
       "      <th>KLAY/USDT</th>\n",
       "      <td>0.656506</td>\n",
       "      <td>-4.253010e-05</td>\n",
       "      <td>0.756315</td>\n",
       "      <td>0.0</td>\n",
       "      <td>0.010584</td>\n",
       "      <td>0.572012</td>\n",
       "    </tr>\n",
       "    <tr>\n",
       "      <th>HBAR/USDT</th>\n",
       "      <td>0.946736</td>\n",
       "      <td>-5.685056e-05</td>\n",
       "      <td>0.817679</td>\n",
       "      <td>0.0</td>\n",
       "      <td>0.012422</td>\n",
       "      <td>0.668599</td>\n",
       "    </tr>\n",
       "    <tr>\n",
       "      <th>MATIC/USDT</th>\n",
       "      <td>1.175390</td>\n",
       "      <td>-5.774347e-05</td>\n",
       "      <td>0.896326</td>\n",
       "      <td>0.0</td>\n",
       "      <td>0.010836</td>\n",
       "      <td>0.803400</td>\n",
       "    </tr>\n",
       "    <tr>\n",
       "      <th>SOL/USDT</th>\n",
       "      <td>1.182770</td>\n",
       "      <td>-6.234685e-05</td>\n",
       "      <td>0.866524</td>\n",
       "      <td>0.0</td>\n",
       "      <td>0.012697</td>\n",
       "      <td>0.750864</td>\n",
       "    </tr>\n",
       "    <tr>\n",
       "      <th>UNI/USDT</th>\n",
       "      <td>1.124006</td>\n",
       "      <td>-8.873014e-05</td>\n",
       "      <td>0.867714</td>\n",
       "      <td>0.0</td>\n",
       "      <td>0.012000</td>\n",
       "      <td>0.752928</td>\n",
       "    </tr>\n",
       "    <tr>\n",
       "      <th>FIL/USDT</th>\n",
       "      <td>1.015526</td>\n",
       "      <td>-9.043077e-05</td>\n",
       "      <td>0.816969</td>\n",
       "      <td>0.0</td>\n",
       "      <td>0.013360</td>\n",
       "      <td>0.667438</td>\n",
       "    </tr>\n",
       "    <tr>\n",
       "      <th>SAND/USDT</th>\n",
       "      <td>1.198569</td>\n",
       "      <td>-1.092179e-04</td>\n",
       "      <td>0.848984</td>\n",
       "      <td>0.0</td>\n",
       "      <td>0.013903</td>\n",
       "      <td>0.720773</td>\n",
       "    </tr>\n",
       "    <tr>\n",
       "      <th>AXS/USDT</th>\n",
       "      <td>1.137144</td>\n",
       "      <td>-1.344786e-04</td>\n",
       "      <td>0.815938</td>\n",
       "      <td>0.0</td>\n",
       "      <td>0.015017</td>\n",
       "      <td>0.665754</td>\n",
       "    </tr>\n",
       "    <tr>\n",
       "      <th>ALGO/USDT</th>\n",
       "      <td>1.077525</td>\n",
       "      <td>-1.419294e-04</td>\n",
       "      <td>0.850389</td>\n",
       "      <td>0.0</td>\n",
       "      <td>0.012425</td>\n",
       "      <td>0.723162</td>\n",
       "    </tr>\n",
       "  </tbody>\n",
       "</table>\n",
       "</div>"
      ],
      "text/plain": [
       "               slope     intercept    rvalue  p-value    stderr       r^2\n",
       "pair                                                                     \n",
       "RUNE/USDT   1.285306  2.448299e-04  0.727878      0.0  0.022567  0.529806\n",
       "XMR/USDT    0.813687  2.162460e-04  0.686565      0.0  0.016059  0.471371\n",
       "NEAR/USDT   1.250615  2.013493e-04  0.741609      0.0  0.021083  0.549984\n",
       "LUNA/USDT   1.140747  1.520568e-04  0.762641      0.0  0.018032  0.581622\n",
       "ZEC/USDT    1.027068  1.239843e-04  0.712736      0.0  0.018838  0.507992\n",
       "ETC/USDT    1.036351  1.199346e-04  0.780162      0.0  0.015488  0.608653\n",
       "ATOM/USDT   1.170581  1.071860e-04  0.773132      0.0  0.017897  0.597732\n",
       "FTT/USDT    0.857740  8.801074e-05  0.872749      0.0  0.008942  0.761691\n",
       "THETA/USDT  1.215682  3.804976e-05  0.803573      0.0  0.016782  0.645730\n",
       "CAKE/USDT   0.909668  3.208590e-05  0.751940      0.0  0.014863  0.565414\n",
       "AAVE/USDT   1.227284  2.447159e-05  0.818242      0.0  0.016070  0.669520\n",
       "SHIB/USDT   1.136013  1.332570e-05  0.794261      0.0  0.016196  0.630851\n",
       "TRX/USDT    0.650849  8.675698e-06  0.791740      0.0  0.009359  0.626852\n",
       "XRP/USDT    0.860977  7.908318e-06  0.835884      0.0  0.010537  0.698703\n",
       "AVAX/USDT   1.216379  3.278495e-07  0.846435      0.0  0.014262  0.716452\n",
       "XTZ/USDT    1.060709 -3.017482e-06  0.820671      0.0  0.013764  0.673501\n",
       "VET/USDT    1.214493 -4.440910e-06  0.879089      0.0  0.012273  0.772798\n",
       "DOGE/USDT   0.877335 -5.649773e-06  0.772781      0.0  0.013429  0.597190\n",
       "DOT/USDT    1.092366 -6.190746e-06  0.885190      0.0  0.010700  0.783562\n",
       "ETH/USDT    0.903357 -7.401467e-06  0.927834      0.0  0.006768  0.860876\n",
       "BTC/USDT    0.702842 -9.116258e-06  0.895316      0.0  0.006517  0.801591\n",
       "ICP/USDT    1.202905 -9.825172e-06  0.807810      0.0  0.016358  0.652557\n",
       "EOS/USDT    0.882029 -1.042295e-05  0.819414      0.0  0.011499  0.671440\n",
       "BNB/USDT    0.769122 -1.522533e-05  0.897210      0.0  0.007055  0.804985\n",
       "EGLD/USDT   1.125479 -1.551703e-05  0.810753      0.0  0.015145  0.657320\n",
       "XLM/USDT    0.902230 -1.879150e-05  0.866080      0.0  0.009706  0.750095\n",
       "LINK/USDT   1.157644 -2.074650e-05  0.883463      0.0  0.011441  0.780508\n",
       "BCH/USDT    0.838448 -2.613472e-05  0.859336      0.0  0.009300  0.738459\n",
       "ADA/USDT    1.015526 -3.114604e-05  0.851842      0.0  0.011638  0.725634\n",
       "FTM/USDT    1.311492 -3.316104e-05  0.809414      0.0  0.017733  0.655151\n",
       "MANA/USDT   1.154788 -3.814596e-05  0.842264      0.0  0.013774  0.709408\n",
       "LTC/USDT    0.896421 -3.927267e-05  0.885763      0.0  0.008754  0.784577\n",
       "KLAY/USDT   0.656506 -4.253010e-05  0.756315      0.0  0.010584  0.572012\n",
       "HBAR/USDT   0.946736 -5.685056e-05  0.817679      0.0  0.012422  0.668599\n",
       "MATIC/USDT  1.175390 -5.774347e-05  0.896326      0.0  0.010836  0.803400\n",
       "SOL/USDT    1.182770 -6.234685e-05  0.866524      0.0  0.012697  0.750864\n",
       "UNI/USDT    1.124006 -8.873014e-05  0.867714      0.0  0.012000  0.752928\n",
       "FIL/USDT    1.015526 -9.043077e-05  0.816969      0.0  0.013360  0.667438\n",
       "SAND/USDT   1.198569 -1.092179e-04  0.848984      0.0  0.013903  0.720773\n",
       "AXS/USDT    1.137144 -1.344786e-04  0.815938      0.0  0.015017  0.665754\n",
       "ALGO/USDT   1.077525 -1.419294e-04  0.850389      0.0  0.012425  0.723162"
      ]
     },
     "execution_count": 247,
     "metadata": {},
     "output_type": "execute_result"
    }
   ],
   "source": [
    "regression_market.sort_values('intercept',ascending=False)"
   ]
  },
  {
   "cell_type": "code",
   "execution_count": 256,
   "id": "91427c7a",
   "metadata": {},
   "outputs": [],
   "source": [
    "regression_market['index'] = regression_market.index"
   ]
  },
  {
   "cell_type": "code",
   "execution_count": 258,
   "id": "a27bc8c7",
   "metadata": {},
   "outputs": [
    {
     "data": {
      "application/vnd.plotly.v1+json": {
       "config": {
        "plotlyServerURL": "https://plot.ly"
       },
       "data": [
        {
         "hovertemplate": "symbol=ETH/USDT<br>x=%{x}<br>y=%{y}<extra></extra>",
         "legendgroup": "ETH/USDT",
         "marker": {
          "color": "#636efa",
          "symbol": "circle"
         },
         "mode": "markers",
         "name": "ETH/USDT",
         "orientation": "v",
         "showlegend": true,
         "type": "scatter",
         "x": [
          0.8608755352118265
         ],
         "xaxis": "x",
         "y": [
          -7.401466874436713e-06
         ],
         "yaxis": "y"
        },
        {
         "hovertemplate": "symbol=BNB/USDT<br>x=%{x}<br>y=%{y}<extra></extra>",
         "legendgroup": "BNB/USDT",
         "marker": {
          "color": "#636efa",
          "symbol": "diamond"
         },
         "mode": "markers",
         "name": "BNB/USDT",
         "orientation": "v",
         "showlegend": true,
         "type": "scatter",
         "x": [
          0.8049849076434168
         ],
         "xaxis": "x",
         "y": [
          -1.5225325891230117e-05
         ],
         "yaxis": "y"
        },
        {
         "hovertemplate": "symbol=MATIC/USDT<br>x=%{x}<br>y=%{y}<extra></extra>",
         "legendgroup": "MATIC/USDT",
         "marker": {
          "color": "#636efa",
          "symbol": "square"
         },
         "mode": "markers",
         "name": "MATIC/USDT",
         "orientation": "v",
         "showlegend": true,
         "type": "scatter",
         "x": [
          0.803400463703204
         ],
         "xaxis": "x",
         "y": [
          -5.774346846193314e-05
         ],
         "yaxis": "y"
        },
        {
         "hovertemplate": "symbol=BTC/USDT<br>x=%{x}<br>y=%{y}<extra></extra>",
         "legendgroup": "BTC/USDT",
         "marker": {
          "color": "#636efa",
          "symbol": "x"
         },
         "mode": "markers",
         "name": "BTC/USDT",
         "orientation": "v",
         "showlegend": true,
         "type": "scatter",
         "x": [
          0.8015906032573308
         ],
         "xaxis": "x",
         "y": [
          -9.116257892291458e-06
         ],
         "yaxis": "y"
        },
        {
         "hovertemplate": "symbol=LTC/USDT<br>x=%{x}<br>y=%{y}<extra></extra>",
         "legendgroup": "LTC/USDT",
         "marker": {
          "color": "#636efa",
          "symbol": "cross"
         },
         "mode": "markers",
         "name": "LTC/USDT",
         "orientation": "v",
         "showlegend": true,
         "type": "scatter",
         "x": [
          0.7845766990172754
         ],
         "xaxis": "x",
         "y": [
          -3.927267306278861e-05
         ],
         "yaxis": "y"
        },
        {
         "hovertemplate": "symbol=DOT/USDT<br>x=%{x}<br>y=%{y}<extra></extra>",
         "legendgroup": "DOT/USDT",
         "marker": {
          "color": "#636efa",
          "symbol": "circle"
         },
         "mode": "markers",
         "name": "DOT/USDT",
         "orientation": "v",
         "showlegend": true,
         "type": "scatter",
         "x": [
          0.7835619242365772
         ],
         "xaxis": "x",
         "y": [
          -6.1907459472565805e-06
         ],
         "yaxis": "y"
        },
        {
         "hovertemplate": "symbol=LINK/USDT<br>x=%{x}<br>y=%{y}<extra></extra>",
         "legendgroup": "LINK/USDT",
         "marker": {
          "color": "#636efa",
          "symbol": "diamond"
         },
         "mode": "markers",
         "name": "LINK/USDT",
         "orientation": "v",
         "showlegend": true,
         "type": "scatter",
         "x": [
          0.7805076413207831
         ],
         "xaxis": "x",
         "y": [
          -2.0746495756988068e-05
         ],
         "yaxis": "y"
        },
        {
         "hovertemplate": "symbol=VET/USDT<br>x=%{x}<br>y=%{y}<extra></extra>",
         "legendgroup": "VET/USDT",
         "marker": {
          "color": "#636efa",
          "symbol": "square"
         },
         "mode": "markers",
         "name": "VET/USDT",
         "orientation": "v",
         "showlegend": true,
         "type": "scatter",
         "x": [
          0.7727978550105236
         ],
         "xaxis": "x",
         "y": [
          -4.440910047943367e-06
         ],
         "yaxis": "y"
        },
        {
         "hovertemplate": "symbol=FTT/USDT<br>x=%{x}<br>y=%{y}<extra></extra>",
         "legendgroup": "FTT/USDT",
         "marker": {
          "color": "#636efa",
          "symbol": "x"
         },
         "mode": "markers",
         "name": "FTT/USDT",
         "orientation": "v",
         "showlegend": true,
         "type": "scatter",
         "x": [
          0.761691148765098
         ],
         "xaxis": "x",
         "y": [
          8.801073851061696e-05
         ],
         "yaxis": "y"
        },
        {
         "hovertemplate": "symbol=UNI/USDT<br>x=%{x}<br>y=%{y}<extra></extra>",
         "legendgroup": "UNI/USDT",
         "marker": {
          "color": "#636efa",
          "symbol": "cross"
         },
         "mode": "markers",
         "name": "UNI/USDT",
         "orientation": "v",
         "showlegend": true,
         "type": "scatter",
         "x": [
          0.7529284128985205
         ],
         "xaxis": "x",
         "y": [
          -8.873014197925648e-05
         ],
         "yaxis": "y"
        },
        {
         "hovertemplate": "symbol=SOL/USDT<br>x=%{x}<br>y=%{y}<extra></extra>",
         "legendgroup": "SOL/USDT",
         "marker": {
          "color": "#636efa",
          "symbol": "circle"
         },
         "mode": "markers",
         "name": "SOL/USDT",
         "orientation": "v",
         "showlegend": true,
         "type": "scatter",
         "x": [
          0.7508636189706089
         ],
         "xaxis": "x",
         "y": [
          -6.234684900041176e-05
         ],
         "yaxis": "y"
        },
        {
         "hovertemplate": "symbol=XLM/USDT<br>x=%{x}<br>y=%{y}<extra></extra>",
         "legendgroup": "XLM/USDT",
         "marker": {
          "color": "#636efa",
          "symbol": "diamond"
         },
         "mode": "markers",
         "name": "XLM/USDT",
         "orientation": "v",
         "showlegend": true,
         "type": "scatter",
         "x": [
          0.7500951047185714
         ],
         "xaxis": "x",
         "y": [
          -1.8791502897325498e-05
         ],
         "yaxis": "y"
        },
        {
         "hovertemplate": "symbol=BCH/USDT<br>x=%{x}<br>y=%{y}<extra></extra>",
         "legendgroup": "BCH/USDT",
         "marker": {
          "color": "#636efa",
          "symbol": "square"
         },
         "mode": "markers",
         "name": "BCH/USDT",
         "orientation": "v",
         "showlegend": true,
         "type": "scatter",
         "x": [
          0.7384590595733923
         ],
         "xaxis": "x",
         "y": [
          -2.6134723988469427e-05
         ],
         "yaxis": "y"
        },
        {
         "hovertemplate": "symbol=ADA/USDT<br>x=%{x}<br>y=%{y}<extra></extra>",
         "legendgroup": "ADA/USDT",
         "marker": {
          "color": "#636efa",
          "symbol": "x"
         },
         "mode": "markers",
         "name": "ADA/USDT",
         "orientation": "v",
         "showlegend": true,
         "type": "scatter",
         "x": [
          0.7256344278309927
         ],
         "xaxis": "x",
         "y": [
          -3.114603559759558e-05
         ],
         "yaxis": "y"
        },
        {
         "hovertemplate": "symbol=ALGO/USDT<br>x=%{x}<br>y=%{y}<extra></extra>",
         "legendgroup": "ALGO/USDT",
         "marker": {
          "color": "#636efa",
          "symbol": "cross"
         },
         "mode": "markers",
         "name": "ALGO/USDT",
         "orientation": "v",
         "showlegend": true,
         "type": "scatter",
         "x": [
          0.7231622114042922
         ],
         "xaxis": "x",
         "y": [
          -0.00014192937803913404
         ],
         "yaxis": "y"
        },
        {
         "hovertemplate": "symbol=SAND/USDT<br>x=%{x}<br>y=%{y}<extra></extra>",
         "legendgroup": "SAND/USDT",
         "marker": {
          "color": "#636efa",
          "symbol": "circle"
         },
         "mode": "markers",
         "name": "SAND/USDT",
         "orientation": "v",
         "showlegend": true,
         "type": "scatter",
         "x": [
          0.7207734230461835
         ],
         "xaxis": "x",
         "y": [
          -0.00010921788404840472
         ],
         "yaxis": "y"
        },
        {
         "hovertemplate": "symbol=AVAX/USDT<br>x=%{x}<br>y=%{y}<extra></extra>",
         "legendgroup": "AVAX/USDT",
         "marker": {
          "color": "#636efa",
          "symbol": "diamond"
         },
         "mode": "markers",
         "name": "AVAX/USDT",
         "orientation": "v",
         "showlegend": true,
         "type": "scatter",
         "x": [
          0.7164520308604437
         ],
         "xaxis": "x",
         "y": [
          3.27849468768817e-07
         ],
         "yaxis": "y"
        },
        {
         "hovertemplate": "symbol=MANA/USDT<br>x=%{x}<br>y=%{y}<extra></extra>",
         "legendgroup": "MANA/USDT",
         "marker": {
          "color": "#636efa",
          "symbol": "square"
         },
         "mode": "markers",
         "name": "MANA/USDT",
         "orientation": "v",
         "showlegend": true,
         "type": "scatter",
         "x": [
          0.7094078081320628
         ],
         "xaxis": "x",
         "y": [
          -3.814595831523779e-05
         ],
         "yaxis": "y"
        },
        {
         "hovertemplate": "symbol=XRP/USDT<br>x=%{x}<br>y=%{y}<extra></extra>",
         "legendgroup": "XRP/USDT",
         "marker": {
          "color": "#636efa",
          "symbol": "x"
         },
         "mode": "markers",
         "name": "XRP/USDT",
         "orientation": "v",
         "showlegend": true,
         "type": "scatter",
         "x": [
          0.6987028431508724
         ],
         "xaxis": "x",
         "y": [
          7.908317709065388e-06
         ],
         "yaxis": "y"
        },
        {
         "hovertemplate": "symbol=XTZ/USDT<br>x=%{x}<br>y=%{y}<extra></extra>",
         "legendgroup": "XTZ/USDT",
         "marker": {
          "color": "#636efa",
          "symbol": "cross"
         },
         "mode": "markers",
         "name": "XTZ/USDT",
         "orientation": "v",
         "showlegend": true,
         "type": "scatter",
         "x": [
          0.6735005809835752
         ],
         "xaxis": "x",
         "y": [
          -3.0174822119410878e-06
         ],
         "yaxis": "y"
        },
        {
         "hovertemplate": "symbol=EOS/USDT<br>x=%{x}<br>y=%{y}<extra></extra>",
         "legendgroup": "EOS/USDT",
         "marker": {
          "color": "#636efa",
          "symbol": "circle"
         },
         "mode": "markers",
         "name": "EOS/USDT",
         "orientation": "v",
         "showlegend": true,
         "type": "scatter",
         "x": [
          0.6714398016911245
         ],
         "xaxis": "x",
         "y": [
          -1.0422945246362929e-05
         ],
         "yaxis": "y"
        },
        {
         "hovertemplate": "symbol=AAVE/USDT<br>x=%{x}<br>y=%{y}<extra></extra>",
         "legendgroup": "AAVE/USDT",
         "marker": {
          "color": "#636efa",
          "symbol": "diamond"
         },
         "mode": "markers",
         "name": "AAVE/USDT",
         "orientation": "v",
         "showlegend": true,
         "type": "scatter",
         "x": [
          0.6695203331835274
         ],
         "xaxis": "x",
         "y": [
          2.447159223579223e-05
         ],
         "yaxis": "y"
        },
        {
         "hovertemplate": "symbol=HBAR/USDT<br>x=%{x}<br>y=%{y}<extra></extra>",
         "legendgroup": "HBAR/USDT",
         "marker": {
          "color": "#636efa",
          "symbol": "square"
         },
         "mode": "markers",
         "name": "HBAR/USDT",
         "orientation": "v",
         "showlegend": true,
         "type": "scatter",
         "x": [
          0.6685991413467133
         ],
         "xaxis": "x",
         "y": [
          -5.685055948318587e-05
         ],
         "yaxis": "y"
        },
        {
         "hovertemplate": "symbol=FIL/USDT<br>x=%{x}<br>y=%{y}<extra></extra>",
         "legendgroup": "FIL/USDT",
         "marker": {
          "color": "#636efa",
          "symbol": "x"
         },
         "mode": "markers",
         "name": "FIL/USDT",
         "orientation": "v",
         "showlegend": true,
         "type": "scatter",
         "x": [
          0.6674375367242872
         ],
         "xaxis": "x",
         "y": [
          -9.043076937694562e-05
         ],
         "yaxis": "y"
        },
        {
         "hovertemplate": "symbol=AXS/USDT<br>x=%{x}<br>y=%{y}<extra></extra>",
         "legendgroup": "AXS/USDT",
         "marker": {
          "color": "#636efa",
          "symbol": "cross"
         },
         "mode": "markers",
         "name": "AXS/USDT",
         "orientation": "v",
         "showlegend": true,
         "type": "scatter",
         "x": [
          0.6657541386529964
         ],
         "xaxis": "x",
         "y": [
          -0.00013447859855065646
         ],
         "yaxis": "y"
        },
        {
         "hovertemplate": "symbol=EGLD/USDT<br>x=%{x}<br>y=%{y}<extra></extra>",
         "legendgroup": "EGLD/USDT",
         "marker": {
          "color": "#636efa",
          "symbol": "circle"
         },
         "mode": "markers",
         "name": "EGLD/USDT",
         "orientation": "v",
         "showlegend": true,
         "type": "scatter",
         "x": [
          0.657319735810733
         ],
         "xaxis": "x",
         "y": [
          -1.55170250712902e-05
         ],
         "yaxis": "y"
        },
        {
         "hovertemplate": "symbol=FTM/USDT<br>x=%{x}<br>y=%{y}<extra></extra>",
         "legendgroup": "FTM/USDT",
         "marker": {
          "color": "#636efa",
          "symbol": "diamond"
         },
         "mode": "markers",
         "name": "FTM/USDT",
         "orientation": "v",
         "showlegend": true,
         "type": "scatter",
         "x": [
          0.6551505583671213
         ],
         "xaxis": "x",
         "y": [
          -3.316103911466504e-05
         ],
         "yaxis": "y"
        },
        {
         "hovertemplate": "symbol=ICP/USDT<br>x=%{x}<br>y=%{y}<extra></extra>",
         "legendgroup": "ICP/USDT",
         "marker": {
          "color": "#636efa",
          "symbol": "square"
         },
         "mode": "markers",
         "name": "ICP/USDT",
         "orientation": "v",
         "showlegend": true,
         "type": "scatter",
         "x": [
          0.6525574156693352
         ],
         "xaxis": "x",
         "y": [
          -9.82517179612669e-06
         ],
         "yaxis": "y"
        },
        {
         "hovertemplate": "symbol=THETA/USDT<br>x=%{x}<br>y=%{y}<extra></extra>",
         "legendgroup": "THETA/USDT",
         "marker": {
          "color": "#636efa",
          "symbol": "x"
         },
         "mode": "markers",
         "name": "THETA/USDT",
         "orientation": "v",
         "showlegend": true,
         "type": "scatter",
         "x": [
          0.6457295910016424
         ],
         "xaxis": "x",
         "y": [
          3.804975662718739e-05
         ],
         "yaxis": "y"
        },
        {
         "hovertemplate": "symbol=SHIB/USDT<br>x=%{x}<br>y=%{y}<extra></extra>",
         "legendgroup": "SHIB/USDT",
         "marker": {
          "color": "#636efa",
          "symbol": "cross"
         },
         "mode": "markers",
         "name": "SHIB/USDT",
         "orientation": "v",
         "showlegend": true,
         "type": "scatter",
         "x": [
          0.6308508682849873
         ],
         "xaxis": "x",
         "y": [
          1.3325704578933051e-05
         ],
         "yaxis": "y"
        },
        {
         "hovertemplate": "symbol=TRX/USDT<br>x=%{x}<br>y=%{y}<extra></extra>",
         "legendgroup": "TRX/USDT",
         "marker": {
          "color": "#636efa",
          "symbol": "circle"
         },
         "mode": "markers",
         "name": "TRX/USDT",
         "orientation": "v",
         "showlegend": true,
         "type": "scatter",
         "x": [
          0.626851504905372
         ],
         "xaxis": "x",
         "y": [
          8.675697535141566e-06
         ],
         "yaxis": "y"
        },
        {
         "hovertemplate": "symbol=ETC/USDT<br>x=%{x}<br>y=%{y}<extra></extra>",
         "legendgroup": "ETC/USDT",
         "marker": {
          "color": "#636efa",
          "symbol": "diamond"
         },
         "mode": "markers",
         "name": "ETC/USDT",
         "orientation": "v",
         "showlegend": true,
         "type": "scatter",
         "x": [
          0.6086525805598885
         ],
         "xaxis": "x",
         "y": [
          0.00011993455911161403
         ],
         "yaxis": "y"
        },
        {
         "hovertemplate": "symbol=ATOM/USDT<br>x=%{x}<br>y=%{y}<extra></extra>",
         "legendgroup": "ATOM/USDT",
         "marker": {
          "color": "#636efa",
          "symbol": "square"
         },
         "mode": "markers",
         "name": "ATOM/USDT",
         "orientation": "v",
         "showlegend": true,
         "type": "scatter",
         "x": [
          0.5977324233919503
         ],
         "xaxis": "x",
         "y": [
          0.0001071859809862487
         ],
         "yaxis": "y"
        },
        {
         "hovertemplate": "symbol=DOGE/USDT<br>x=%{x}<br>y=%{y}<extra></extra>",
         "legendgroup": "DOGE/USDT",
         "marker": {
          "color": "#636efa",
          "symbol": "x"
         },
         "mode": "markers",
         "name": "DOGE/USDT",
         "orientation": "v",
         "showlegend": true,
         "type": "scatter",
         "x": [
          0.597190442733589
         ],
         "xaxis": "x",
         "y": [
          -5.649773297369294e-06
         ],
         "yaxis": "y"
        },
        {
         "hovertemplate": "symbol=LUNA/USDT<br>x=%{x}<br>y=%{y}<extra></extra>",
         "legendgroup": "LUNA/USDT",
         "marker": {
          "color": "#636efa",
          "symbol": "cross"
         },
         "mode": "markers",
         "name": "LUNA/USDT",
         "orientation": "v",
         "showlegend": true,
         "type": "scatter",
         "x": [
          0.5816216712505726
         ],
         "xaxis": "x",
         "y": [
          0.00015205679738070028
         ],
         "yaxis": "y"
        },
        {
         "hovertemplate": "symbol=KLAY/USDT<br>x=%{x}<br>y=%{y}<extra></extra>",
         "legendgroup": "KLAY/USDT",
         "marker": {
          "color": "#636efa",
          "symbol": "circle"
         },
         "mode": "markers",
         "name": "KLAY/USDT",
         "orientation": "v",
         "showlegend": true,
         "type": "scatter",
         "x": [
          0.5720119485686208
         ],
         "xaxis": "x",
         "y": [
          -4.2530101873021135e-05
         ],
         "yaxis": "y"
        },
        {
         "hovertemplate": "symbol=CAKE/USDT<br>x=%{x}<br>y=%{y}<extra></extra>",
         "legendgroup": "CAKE/USDT",
         "marker": {
          "color": "#636efa",
          "symbol": "diamond"
         },
         "mode": "markers",
         "name": "CAKE/USDT",
         "orientation": "v",
         "showlegend": true,
         "type": "scatter",
         "x": [
          0.5654136214508044
         ],
         "xaxis": "x",
         "y": [
          3.2085904972440825e-05
         ],
         "yaxis": "y"
        },
        {
         "hovertemplate": "symbol=NEAR/USDT<br>x=%{x}<br>y=%{y}<extra></extra>",
         "legendgroup": "NEAR/USDT",
         "marker": {
          "color": "#636efa",
          "symbol": "square"
         },
         "mode": "markers",
         "name": "NEAR/USDT",
         "orientation": "v",
         "showlegend": true,
         "type": "scatter",
         "x": [
          0.5499843640268076
         ],
         "xaxis": "x",
         "y": [
          0.0002013492850914576
         ],
         "yaxis": "y"
        },
        {
         "hovertemplate": "symbol=RUNE/USDT<br>x=%{x}<br>y=%{y}<extra></extra>",
         "legendgroup": "RUNE/USDT",
         "marker": {
          "color": "#636efa",
          "symbol": "x"
         },
         "mode": "markers",
         "name": "RUNE/USDT",
         "orientation": "v",
         "showlegend": true,
         "type": "scatter",
         "x": [
          0.5298057942352731
         ],
         "xaxis": "x",
         "y": [
          0.0002448298702706696
         ],
         "yaxis": "y"
        },
        {
         "hovertemplate": "symbol=ZEC/USDT<br>x=%{x}<br>y=%{y}<extra></extra>",
         "legendgroup": "ZEC/USDT",
         "marker": {
          "color": "#636efa",
          "symbol": "cross"
         },
         "mode": "markers",
         "name": "ZEC/USDT",
         "orientation": "v",
         "showlegend": true,
         "type": "scatter",
         "x": [
          0.5079921049348533
         ],
         "xaxis": "x",
         "y": [
          0.000123984255062733
         ],
         "yaxis": "y"
        },
        {
         "hovertemplate": "symbol=XMR/USDT<br>x=%{x}<br>y=%{y}<extra></extra>",
         "legendgroup": "XMR/USDT",
         "marker": {
          "color": "#636efa",
          "symbol": "circle"
         },
         "mode": "markers",
         "name": "XMR/USDT",
         "orientation": "v",
         "showlegend": true,
         "type": "scatter",
         "x": [
          0.471371208317151
         ],
         "xaxis": "x",
         "y": [
          0.0002162459810157773
         ],
         "yaxis": "y"
        }
       ],
       "layout": {
        "legend": {
         "title": {
          "text": "symbol"
         },
         "tracegroupgap": 0
        },
        "margin": {
         "t": 60
        },
        "template": {
         "data": {
          "bar": [
           {
            "error_x": {
             "color": "#2a3f5f"
            },
            "error_y": {
             "color": "#2a3f5f"
            },
            "marker": {
             "line": {
              "color": "#E5ECF6",
              "width": 0.5
             },
             "pattern": {
              "fillmode": "overlay",
              "size": 10,
              "solidity": 0.2
             }
            },
            "type": "bar"
           }
          ],
          "barpolar": [
           {
            "marker": {
             "line": {
              "color": "#E5ECF6",
              "width": 0.5
             },
             "pattern": {
              "fillmode": "overlay",
              "size": 10,
              "solidity": 0.2
             }
            },
            "type": "barpolar"
           }
          ],
          "carpet": [
           {
            "aaxis": {
             "endlinecolor": "#2a3f5f",
             "gridcolor": "white",
             "linecolor": "white",
             "minorgridcolor": "white",
             "startlinecolor": "#2a3f5f"
            },
            "baxis": {
             "endlinecolor": "#2a3f5f",
             "gridcolor": "white",
             "linecolor": "white",
             "minorgridcolor": "white",
             "startlinecolor": "#2a3f5f"
            },
            "type": "carpet"
           }
          ],
          "choropleth": [
           {
            "colorbar": {
             "outlinewidth": 0,
             "ticks": ""
            },
            "type": "choropleth"
           }
          ],
          "contour": [
           {
            "colorbar": {
             "outlinewidth": 0,
             "ticks": ""
            },
            "colorscale": [
             [
              0,
              "#0d0887"
             ],
             [
              0.1111111111111111,
              "#46039f"
             ],
             [
              0.2222222222222222,
              "#7201a8"
             ],
             [
              0.3333333333333333,
              "#9c179e"
             ],
             [
              0.4444444444444444,
              "#bd3786"
             ],
             [
              0.5555555555555556,
              "#d8576b"
             ],
             [
              0.6666666666666666,
              "#ed7953"
             ],
             [
              0.7777777777777778,
              "#fb9f3a"
             ],
             [
              0.8888888888888888,
              "#fdca26"
             ],
             [
              1,
              "#f0f921"
             ]
            ],
            "type": "contour"
           }
          ],
          "contourcarpet": [
           {
            "colorbar": {
             "outlinewidth": 0,
             "ticks": ""
            },
            "type": "contourcarpet"
           }
          ],
          "heatmap": [
           {
            "colorbar": {
             "outlinewidth": 0,
             "ticks": ""
            },
            "colorscale": [
             [
              0,
              "#0d0887"
             ],
             [
              0.1111111111111111,
              "#46039f"
             ],
             [
              0.2222222222222222,
              "#7201a8"
             ],
             [
              0.3333333333333333,
              "#9c179e"
             ],
             [
              0.4444444444444444,
              "#bd3786"
             ],
             [
              0.5555555555555556,
              "#d8576b"
             ],
             [
              0.6666666666666666,
              "#ed7953"
             ],
             [
              0.7777777777777778,
              "#fb9f3a"
             ],
             [
              0.8888888888888888,
              "#fdca26"
             ],
             [
              1,
              "#f0f921"
             ]
            ],
            "type": "heatmap"
           }
          ],
          "heatmapgl": [
           {
            "colorbar": {
             "outlinewidth": 0,
             "ticks": ""
            },
            "colorscale": [
             [
              0,
              "#0d0887"
             ],
             [
              0.1111111111111111,
              "#46039f"
             ],
             [
              0.2222222222222222,
              "#7201a8"
             ],
             [
              0.3333333333333333,
              "#9c179e"
             ],
             [
              0.4444444444444444,
              "#bd3786"
             ],
             [
              0.5555555555555556,
              "#d8576b"
             ],
             [
              0.6666666666666666,
              "#ed7953"
             ],
             [
              0.7777777777777778,
              "#fb9f3a"
             ],
             [
              0.8888888888888888,
              "#fdca26"
             ],
             [
              1,
              "#f0f921"
             ]
            ],
            "type": "heatmapgl"
           }
          ],
          "histogram": [
           {
            "marker": {
             "pattern": {
              "fillmode": "overlay",
              "size": 10,
              "solidity": 0.2
             }
            },
            "type": "histogram"
           }
          ],
          "histogram2d": [
           {
            "colorbar": {
             "outlinewidth": 0,
             "ticks": ""
            },
            "colorscale": [
             [
              0,
              "#0d0887"
             ],
             [
              0.1111111111111111,
              "#46039f"
             ],
             [
              0.2222222222222222,
              "#7201a8"
             ],
             [
              0.3333333333333333,
              "#9c179e"
             ],
             [
              0.4444444444444444,
              "#bd3786"
             ],
             [
              0.5555555555555556,
              "#d8576b"
             ],
             [
              0.6666666666666666,
              "#ed7953"
             ],
             [
              0.7777777777777778,
              "#fb9f3a"
             ],
             [
              0.8888888888888888,
              "#fdca26"
             ],
             [
              1,
              "#f0f921"
             ]
            ],
            "type": "histogram2d"
           }
          ],
          "histogram2dcontour": [
           {
            "colorbar": {
             "outlinewidth": 0,
             "ticks": ""
            },
            "colorscale": [
             [
              0,
              "#0d0887"
             ],
             [
              0.1111111111111111,
              "#46039f"
             ],
             [
              0.2222222222222222,
              "#7201a8"
             ],
             [
              0.3333333333333333,
              "#9c179e"
             ],
             [
              0.4444444444444444,
              "#bd3786"
             ],
             [
              0.5555555555555556,
              "#d8576b"
             ],
             [
              0.6666666666666666,
              "#ed7953"
             ],
             [
              0.7777777777777778,
              "#fb9f3a"
             ],
             [
              0.8888888888888888,
              "#fdca26"
             ],
             [
              1,
              "#f0f921"
             ]
            ],
            "type": "histogram2dcontour"
           }
          ],
          "mesh3d": [
           {
            "colorbar": {
             "outlinewidth": 0,
             "ticks": ""
            },
            "type": "mesh3d"
           }
          ],
          "parcoords": [
           {
            "line": {
             "colorbar": {
              "outlinewidth": 0,
              "ticks": ""
             }
            },
            "type": "parcoords"
           }
          ],
          "pie": [
           {
            "automargin": true,
            "type": "pie"
           }
          ],
          "scatter": [
           {
            "marker": {
             "colorbar": {
              "outlinewidth": 0,
              "ticks": ""
             }
            },
            "type": "scatter"
           }
          ],
          "scatter3d": [
           {
            "line": {
             "colorbar": {
              "outlinewidth": 0,
              "ticks": ""
             }
            },
            "marker": {
             "colorbar": {
              "outlinewidth": 0,
              "ticks": ""
             }
            },
            "type": "scatter3d"
           }
          ],
          "scattercarpet": [
           {
            "marker": {
             "colorbar": {
              "outlinewidth": 0,
              "ticks": ""
             }
            },
            "type": "scattercarpet"
           }
          ],
          "scattergeo": [
           {
            "marker": {
             "colorbar": {
              "outlinewidth": 0,
              "ticks": ""
             }
            },
            "type": "scattergeo"
           }
          ],
          "scattergl": [
           {
            "marker": {
             "colorbar": {
              "outlinewidth": 0,
              "ticks": ""
             }
            },
            "type": "scattergl"
           }
          ],
          "scattermapbox": [
           {
            "marker": {
             "colorbar": {
              "outlinewidth": 0,
              "ticks": ""
             }
            },
            "type": "scattermapbox"
           }
          ],
          "scatterpolar": [
           {
            "marker": {
             "colorbar": {
              "outlinewidth": 0,
              "ticks": ""
             }
            },
            "type": "scatterpolar"
           }
          ],
          "scatterpolargl": [
           {
            "marker": {
             "colorbar": {
              "outlinewidth": 0,
              "ticks": ""
             }
            },
            "type": "scatterpolargl"
           }
          ],
          "scatterternary": [
           {
            "marker": {
             "colorbar": {
              "outlinewidth": 0,
              "ticks": ""
             }
            },
            "type": "scatterternary"
           }
          ],
          "surface": [
           {
            "colorbar": {
             "outlinewidth": 0,
             "ticks": ""
            },
            "colorscale": [
             [
              0,
              "#0d0887"
             ],
             [
              0.1111111111111111,
              "#46039f"
             ],
             [
              0.2222222222222222,
              "#7201a8"
             ],
             [
              0.3333333333333333,
              "#9c179e"
             ],
             [
              0.4444444444444444,
              "#bd3786"
             ],
             [
              0.5555555555555556,
              "#d8576b"
             ],
             [
              0.6666666666666666,
              "#ed7953"
             ],
             [
              0.7777777777777778,
              "#fb9f3a"
             ],
             [
              0.8888888888888888,
              "#fdca26"
             ],
             [
              1,
              "#f0f921"
             ]
            ],
            "type": "surface"
           }
          ],
          "table": [
           {
            "cells": {
             "fill": {
              "color": "#EBF0F8"
             },
             "line": {
              "color": "white"
             }
            },
            "header": {
             "fill": {
              "color": "#C8D4E3"
             },
             "line": {
              "color": "white"
             }
            },
            "type": "table"
           }
          ]
         },
         "layout": {
          "annotationdefaults": {
           "arrowcolor": "#2a3f5f",
           "arrowhead": 0,
           "arrowwidth": 1
          },
          "autotypenumbers": "strict",
          "coloraxis": {
           "colorbar": {
            "outlinewidth": 0,
            "ticks": ""
           }
          },
          "colorscale": {
           "diverging": [
            [
             0,
             "#8e0152"
            ],
            [
             0.1,
             "#c51b7d"
            ],
            [
             0.2,
             "#de77ae"
            ],
            [
             0.3,
             "#f1b6da"
            ],
            [
             0.4,
             "#fde0ef"
            ],
            [
             0.5,
             "#f7f7f7"
            ],
            [
             0.6,
             "#e6f5d0"
            ],
            [
             0.7,
             "#b8e186"
            ],
            [
             0.8,
             "#7fbc41"
            ],
            [
             0.9,
             "#4d9221"
            ],
            [
             1,
             "#276419"
            ]
           ],
           "sequential": [
            [
             0,
             "#0d0887"
            ],
            [
             0.1111111111111111,
             "#46039f"
            ],
            [
             0.2222222222222222,
             "#7201a8"
            ],
            [
             0.3333333333333333,
             "#9c179e"
            ],
            [
             0.4444444444444444,
             "#bd3786"
            ],
            [
             0.5555555555555556,
             "#d8576b"
            ],
            [
             0.6666666666666666,
             "#ed7953"
            ],
            [
             0.7777777777777778,
             "#fb9f3a"
            ],
            [
             0.8888888888888888,
             "#fdca26"
            ],
            [
             1,
             "#f0f921"
            ]
           ],
           "sequentialminus": [
            [
             0,
             "#0d0887"
            ],
            [
             0.1111111111111111,
             "#46039f"
            ],
            [
             0.2222222222222222,
             "#7201a8"
            ],
            [
             0.3333333333333333,
             "#9c179e"
            ],
            [
             0.4444444444444444,
             "#bd3786"
            ],
            [
             0.5555555555555556,
             "#d8576b"
            ],
            [
             0.6666666666666666,
             "#ed7953"
            ],
            [
             0.7777777777777778,
             "#fb9f3a"
            ],
            [
             0.8888888888888888,
             "#fdca26"
            ],
            [
             1,
             "#f0f921"
            ]
           ]
          },
          "colorway": [
           "#636efa",
           "#EF553B",
           "#00cc96",
           "#ab63fa",
           "#FFA15A",
           "#19d3f3",
           "#FF6692",
           "#B6E880",
           "#FF97FF",
           "#FECB52"
          ],
          "font": {
           "color": "#2a3f5f"
          },
          "geo": {
           "bgcolor": "white",
           "lakecolor": "white",
           "landcolor": "#E5ECF6",
           "showlakes": true,
           "showland": true,
           "subunitcolor": "white"
          },
          "hoverlabel": {
           "align": "left"
          },
          "hovermode": "closest",
          "mapbox": {
           "style": "light"
          },
          "paper_bgcolor": "white",
          "plot_bgcolor": "#E5ECF6",
          "polar": {
           "angularaxis": {
            "gridcolor": "white",
            "linecolor": "white",
            "ticks": ""
           },
           "bgcolor": "#E5ECF6",
           "radialaxis": {
            "gridcolor": "white",
            "linecolor": "white",
            "ticks": ""
           }
          },
          "scene": {
           "xaxis": {
            "backgroundcolor": "#E5ECF6",
            "gridcolor": "white",
            "gridwidth": 2,
            "linecolor": "white",
            "showbackground": true,
            "ticks": "",
            "zerolinecolor": "white"
           },
           "yaxis": {
            "backgroundcolor": "#E5ECF6",
            "gridcolor": "white",
            "gridwidth": 2,
            "linecolor": "white",
            "showbackground": true,
            "ticks": "",
            "zerolinecolor": "white"
           },
           "zaxis": {
            "backgroundcolor": "#E5ECF6",
            "gridcolor": "white",
            "gridwidth": 2,
            "linecolor": "white",
            "showbackground": true,
            "ticks": "",
            "zerolinecolor": "white"
           }
          },
          "shapedefaults": {
           "line": {
            "color": "#2a3f5f"
           }
          },
          "ternary": {
           "aaxis": {
            "gridcolor": "white",
            "linecolor": "white",
            "ticks": ""
           },
           "baxis": {
            "gridcolor": "white",
            "linecolor": "white",
            "ticks": ""
           },
           "bgcolor": "#E5ECF6",
           "caxis": {
            "gridcolor": "white",
            "linecolor": "white",
            "ticks": ""
           }
          },
          "title": {
           "x": 0.05
          },
          "xaxis": {
           "automargin": true,
           "gridcolor": "white",
           "linecolor": "white",
           "ticks": "",
           "title": {
            "standoff": 15
           },
           "zerolinecolor": "white",
           "zerolinewidth": 2
          },
          "yaxis": {
           "automargin": true,
           "gridcolor": "white",
           "linecolor": "white",
           "ticks": "",
           "title": {
            "standoff": 15
           },
           "zerolinecolor": "white",
           "zerolinewidth": 2
          }
         }
        },
        "xaxis": {
         "anchor": "y",
         "domain": [
          0,
          1
         ],
         "title": {
          "text": "x"
         }
        },
        "yaxis": {
         "anchor": "x",
         "domain": [
          0,
          1
         ],
         "title": {
          "text": "y"
         }
        }
       }
      },
      "text/html": [
       "<div>                            <div id=\"4a45e166-67fa-4265-90f0-195a692b8d4d\" class=\"plotly-graph-div\" style=\"height:525px; width:100%;\"></div>            <script type=\"text/javascript\">                require([\"plotly\"], function(Plotly) {                    window.PLOTLYENV=window.PLOTLYENV || {};                                    if (document.getElementById(\"4a45e166-67fa-4265-90f0-195a692b8d4d\")) {                    Plotly.newPlot(                        \"4a45e166-67fa-4265-90f0-195a692b8d4d\",                        [{\"hovertemplate\":\"symbol=ETH/USDT<br>x=%{x}<br>y=%{y}<extra></extra>\",\"legendgroup\":\"ETH/USDT\",\"marker\":{\"color\":\"#636efa\",\"symbol\":\"circle\"},\"mode\":\"markers\",\"name\":\"ETH/USDT\",\"orientation\":\"v\",\"showlegend\":true,\"type\":\"scatter\",\"x\":[0.8608755352118265],\"xaxis\":\"x\",\"y\":[-7.401466874436713e-06],\"yaxis\":\"y\"},{\"hovertemplate\":\"symbol=BNB/USDT<br>x=%{x}<br>y=%{y}<extra></extra>\",\"legendgroup\":\"BNB/USDT\",\"marker\":{\"color\":\"#636efa\",\"symbol\":\"diamond\"},\"mode\":\"markers\",\"name\":\"BNB/USDT\",\"orientation\":\"v\",\"showlegend\":true,\"type\":\"scatter\",\"x\":[0.8049849076434168],\"xaxis\":\"x\",\"y\":[-1.5225325891230117e-05],\"yaxis\":\"y\"},{\"hovertemplate\":\"symbol=MATIC/USDT<br>x=%{x}<br>y=%{y}<extra></extra>\",\"legendgroup\":\"MATIC/USDT\",\"marker\":{\"color\":\"#636efa\",\"symbol\":\"square\"},\"mode\":\"markers\",\"name\":\"MATIC/USDT\",\"orientation\":\"v\",\"showlegend\":true,\"type\":\"scatter\",\"x\":[0.803400463703204],\"xaxis\":\"x\",\"y\":[-5.774346846193314e-05],\"yaxis\":\"y\"},{\"hovertemplate\":\"symbol=BTC/USDT<br>x=%{x}<br>y=%{y}<extra></extra>\",\"legendgroup\":\"BTC/USDT\",\"marker\":{\"color\":\"#636efa\",\"symbol\":\"x\"},\"mode\":\"markers\",\"name\":\"BTC/USDT\",\"orientation\":\"v\",\"showlegend\":true,\"type\":\"scatter\",\"x\":[0.8015906032573308],\"xaxis\":\"x\",\"y\":[-9.116257892291458e-06],\"yaxis\":\"y\"},{\"hovertemplate\":\"symbol=LTC/USDT<br>x=%{x}<br>y=%{y}<extra></extra>\",\"legendgroup\":\"LTC/USDT\",\"marker\":{\"color\":\"#636efa\",\"symbol\":\"cross\"},\"mode\":\"markers\",\"name\":\"LTC/USDT\",\"orientation\":\"v\",\"showlegend\":true,\"type\":\"scatter\",\"x\":[0.7845766990172754],\"xaxis\":\"x\",\"y\":[-3.927267306278861e-05],\"yaxis\":\"y\"},{\"hovertemplate\":\"symbol=DOT/USDT<br>x=%{x}<br>y=%{y}<extra></extra>\",\"legendgroup\":\"DOT/USDT\",\"marker\":{\"color\":\"#636efa\",\"symbol\":\"circle\"},\"mode\":\"markers\",\"name\":\"DOT/USDT\",\"orientation\":\"v\",\"showlegend\":true,\"type\":\"scatter\",\"x\":[0.7835619242365772],\"xaxis\":\"x\",\"y\":[-6.1907459472565805e-06],\"yaxis\":\"y\"},{\"hovertemplate\":\"symbol=LINK/USDT<br>x=%{x}<br>y=%{y}<extra></extra>\",\"legendgroup\":\"LINK/USDT\",\"marker\":{\"color\":\"#636efa\",\"symbol\":\"diamond\"},\"mode\":\"markers\",\"name\":\"LINK/USDT\",\"orientation\":\"v\",\"showlegend\":true,\"type\":\"scatter\",\"x\":[0.7805076413207831],\"xaxis\":\"x\",\"y\":[-2.0746495756988068e-05],\"yaxis\":\"y\"},{\"hovertemplate\":\"symbol=VET/USDT<br>x=%{x}<br>y=%{y}<extra></extra>\",\"legendgroup\":\"VET/USDT\",\"marker\":{\"color\":\"#636efa\",\"symbol\":\"square\"},\"mode\":\"markers\",\"name\":\"VET/USDT\",\"orientation\":\"v\",\"showlegend\":true,\"type\":\"scatter\",\"x\":[0.7727978550105236],\"xaxis\":\"x\",\"y\":[-4.440910047943367e-06],\"yaxis\":\"y\"},{\"hovertemplate\":\"symbol=FTT/USDT<br>x=%{x}<br>y=%{y}<extra></extra>\",\"legendgroup\":\"FTT/USDT\",\"marker\":{\"color\":\"#636efa\",\"symbol\":\"x\"},\"mode\":\"markers\",\"name\":\"FTT/USDT\",\"orientation\":\"v\",\"showlegend\":true,\"type\":\"scatter\",\"x\":[0.761691148765098],\"xaxis\":\"x\",\"y\":[8.801073851061696e-05],\"yaxis\":\"y\"},{\"hovertemplate\":\"symbol=UNI/USDT<br>x=%{x}<br>y=%{y}<extra></extra>\",\"legendgroup\":\"UNI/USDT\",\"marker\":{\"color\":\"#636efa\",\"symbol\":\"cross\"},\"mode\":\"markers\",\"name\":\"UNI/USDT\",\"orientation\":\"v\",\"showlegend\":true,\"type\":\"scatter\",\"x\":[0.7529284128985205],\"xaxis\":\"x\",\"y\":[-8.873014197925648e-05],\"yaxis\":\"y\"},{\"hovertemplate\":\"symbol=SOL/USDT<br>x=%{x}<br>y=%{y}<extra></extra>\",\"legendgroup\":\"SOL/USDT\",\"marker\":{\"color\":\"#636efa\",\"symbol\":\"circle\"},\"mode\":\"markers\",\"name\":\"SOL/USDT\",\"orientation\":\"v\",\"showlegend\":true,\"type\":\"scatter\",\"x\":[0.7508636189706089],\"xaxis\":\"x\",\"y\":[-6.234684900041176e-05],\"yaxis\":\"y\"},{\"hovertemplate\":\"symbol=XLM/USDT<br>x=%{x}<br>y=%{y}<extra></extra>\",\"legendgroup\":\"XLM/USDT\",\"marker\":{\"color\":\"#636efa\",\"symbol\":\"diamond\"},\"mode\":\"markers\",\"name\":\"XLM/USDT\",\"orientation\":\"v\",\"showlegend\":true,\"type\":\"scatter\",\"x\":[0.7500951047185714],\"xaxis\":\"x\",\"y\":[-1.8791502897325498e-05],\"yaxis\":\"y\"},{\"hovertemplate\":\"symbol=BCH/USDT<br>x=%{x}<br>y=%{y}<extra></extra>\",\"legendgroup\":\"BCH/USDT\",\"marker\":{\"color\":\"#636efa\",\"symbol\":\"square\"},\"mode\":\"markers\",\"name\":\"BCH/USDT\",\"orientation\":\"v\",\"showlegend\":true,\"type\":\"scatter\",\"x\":[0.7384590595733923],\"xaxis\":\"x\",\"y\":[-2.6134723988469427e-05],\"yaxis\":\"y\"},{\"hovertemplate\":\"symbol=ADA/USDT<br>x=%{x}<br>y=%{y}<extra></extra>\",\"legendgroup\":\"ADA/USDT\",\"marker\":{\"color\":\"#636efa\",\"symbol\":\"x\"},\"mode\":\"markers\",\"name\":\"ADA/USDT\",\"orientation\":\"v\",\"showlegend\":true,\"type\":\"scatter\",\"x\":[0.7256344278309927],\"xaxis\":\"x\",\"y\":[-3.114603559759558e-05],\"yaxis\":\"y\"},{\"hovertemplate\":\"symbol=ALGO/USDT<br>x=%{x}<br>y=%{y}<extra></extra>\",\"legendgroup\":\"ALGO/USDT\",\"marker\":{\"color\":\"#636efa\",\"symbol\":\"cross\"},\"mode\":\"markers\",\"name\":\"ALGO/USDT\",\"orientation\":\"v\",\"showlegend\":true,\"type\":\"scatter\",\"x\":[0.7231622114042922],\"xaxis\":\"x\",\"y\":[-0.00014192937803913404],\"yaxis\":\"y\"},{\"hovertemplate\":\"symbol=SAND/USDT<br>x=%{x}<br>y=%{y}<extra></extra>\",\"legendgroup\":\"SAND/USDT\",\"marker\":{\"color\":\"#636efa\",\"symbol\":\"circle\"},\"mode\":\"markers\",\"name\":\"SAND/USDT\",\"orientation\":\"v\",\"showlegend\":true,\"type\":\"scatter\",\"x\":[0.7207734230461835],\"xaxis\":\"x\",\"y\":[-0.00010921788404840472],\"yaxis\":\"y\"},{\"hovertemplate\":\"symbol=AVAX/USDT<br>x=%{x}<br>y=%{y}<extra></extra>\",\"legendgroup\":\"AVAX/USDT\",\"marker\":{\"color\":\"#636efa\",\"symbol\":\"diamond\"},\"mode\":\"markers\",\"name\":\"AVAX/USDT\",\"orientation\":\"v\",\"showlegend\":true,\"type\":\"scatter\",\"x\":[0.7164520308604437],\"xaxis\":\"x\",\"y\":[3.27849468768817e-07],\"yaxis\":\"y\"},{\"hovertemplate\":\"symbol=MANA/USDT<br>x=%{x}<br>y=%{y}<extra></extra>\",\"legendgroup\":\"MANA/USDT\",\"marker\":{\"color\":\"#636efa\",\"symbol\":\"square\"},\"mode\":\"markers\",\"name\":\"MANA/USDT\",\"orientation\":\"v\",\"showlegend\":true,\"type\":\"scatter\",\"x\":[0.7094078081320628],\"xaxis\":\"x\",\"y\":[-3.814595831523779e-05],\"yaxis\":\"y\"},{\"hovertemplate\":\"symbol=XRP/USDT<br>x=%{x}<br>y=%{y}<extra></extra>\",\"legendgroup\":\"XRP/USDT\",\"marker\":{\"color\":\"#636efa\",\"symbol\":\"x\"},\"mode\":\"markers\",\"name\":\"XRP/USDT\",\"orientation\":\"v\",\"showlegend\":true,\"type\":\"scatter\",\"x\":[0.6987028431508724],\"xaxis\":\"x\",\"y\":[7.908317709065388e-06],\"yaxis\":\"y\"},{\"hovertemplate\":\"symbol=XTZ/USDT<br>x=%{x}<br>y=%{y}<extra></extra>\",\"legendgroup\":\"XTZ/USDT\",\"marker\":{\"color\":\"#636efa\",\"symbol\":\"cross\"},\"mode\":\"markers\",\"name\":\"XTZ/USDT\",\"orientation\":\"v\",\"showlegend\":true,\"type\":\"scatter\",\"x\":[0.6735005809835752],\"xaxis\":\"x\",\"y\":[-3.0174822119410878e-06],\"yaxis\":\"y\"},{\"hovertemplate\":\"symbol=EOS/USDT<br>x=%{x}<br>y=%{y}<extra></extra>\",\"legendgroup\":\"EOS/USDT\",\"marker\":{\"color\":\"#636efa\",\"symbol\":\"circle\"},\"mode\":\"markers\",\"name\":\"EOS/USDT\",\"orientation\":\"v\",\"showlegend\":true,\"type\":\"scatter\",\"x\":[0.6714398016911245],\"xaxis\":\"x\",\"y\":[-1.0422945246362929e-05],\"yaxis\":\"y\"},{\"hovertemplate\":\"symbol=AAVE/USDT<br>x=%{x}<br>y=%{y}<extra></extra>\",\"legendgroup\":\"AAVE/USDT\",\"marker\":{\"color\":\"#636efa\",\"symbol\":\"diamond\"},\"mode\":\"markers\",\"name\":\"AAVE/USDT\",\"orientation\":\"v\",\"showlegend\":true,\"type\":\"scatter\",\"x\":[0.6695203331835274],\"xaxis\":\"x\",\"y\":[2.447159223579223e-05],\"yaxis\":\"y\"},{\"hovertemplate\":\"symbol=HBAR/USDT<br>x=%{x}<br>y=%{y}<extra></extra>\",\"legendgroup\":\"HBAR/USDT\",\"marker\":{\"color\":\"#636efa\",\"symbol\":\"square\"},\"mode\":\"markers\",\"name\":\"HBAR/USDT\",\"orientation\":\"v\",\"showlegend\":true,\"type\":\"scatter\",\"x\":[0.6685991413467133],\"xaxis\":\"x\",\"y\":[-5.685055948318587e-05],\"yaxis\":\"y\"},{\"hovertemplate\":\"symbol=FIL/USDT<br>x=%{x}<br>y=%{y}<extra></extra>\",\"legendgroup\":\"FIL/USDT\",\"marker\":{\"color\":\"#636efa\",\"symbol\":\"x\"},\"mode\":\"markers\",\"name\":\"FIL/USDT\",\"orientation\":\"v\",\"showlegend\":true,\"type\":\"scatter\",\"x\":[0.6674375367242872],\"xaxis\":\"x\",\"y\":[-9.043076937694562e-05],\"yaxis\":\"y\"},{\"hovertemplate\":\"symbol=AXS/USDT<br>x=%{x}<br>y=%{y}<extra></extra>\",\"legendgroup\":\"AXS/USDT\",\"marker\":{\"color\":\"#636efa\",\"symbol\":\"cross\"},\"mode\":\"markers\",\"name\":\"AXS/USDT\",\"orientation\":\"v\",\"showlegend\":true,\"type\":\"scatter\",\"x\":[0.6657541386529964],\"xaxis\":\"x\",\"y\":[-0.00013447859855065646],\"yaxis\":\"y\"},{\"hovertemplate\":\"symbol=EGLD/USDT<br>x=%{x}<br>y=%{y}<extra></extra>\",\"legendgroup\":\"EGLD/USDT\",\"marker\":{\"color\":\"#636efa\",\"symbol\":\"circle\"},\"mode\":\"markers\",\"name\":\"EGLD/USDT\",\"orientation\":\"v\",\"showlegend\":true,\"type\":\"scatter\",\"x\":[0.657319735810733],\"xaxis\":\"x\",\"y\":[-1.55170250712902e-05],\"yaxis\":\"y\"},{\"hovertemplate\":\"symbol=FTM/USDT<br>x=%{x}<br>y=%{y}<extra></extra>\",\"legendgroup\":\"FTM/USDT\",\"marker\":{\"color\":\"#636efa\",\"symbol\":\"diamond\"},\"mode\":\"markers\",\"name\":\"FTM/USDT\",\"orientation\":\"v\",\"showlegend\":true,\"type\":\"scatter\",\"x\":[0.6551505583671213],\"xaxis\":\"x\",\"y\":[-3.316103911466504e-05],\"yaxis\":\"y\"},{\"hovertemplate\":\"symbol=ICP/USDT<br>x=%{x}<br>y=%{y}<extra></extra>\",\"legendgroup\":\"ICP/USDT\",\"marker\":{\"color\":\"#636efa\",\"symbol\":\"square\"},\"mode\":\"markers\",\"name\":\"ICP/USDT\",\"orientation\":\"v\",\"showlegend\":true,\"type\":\"scatter\",\"x\":[0.6525574156693352],\"xaxis\":\"x\",\"y\":[-9.82517179612669e-06],\"yaxis\":\"y\"},{\"hovertemplate\":\"symbol=THETA/USDT<br>x=%{x}<br>y=%{y}<extra></extra>\",\"legendgroup\":\"THETA/USDT\",\"marker\":{\"color\":\"#636efa\",\"symbol\":\"x\"},\"mode\":\"markers\",\"name\":\"THETA/USDT\",\"orientation\":\"v\",\"showlegend\":true,\"type\":\"scatter\",\"x\":[0.6457295910016424],\"xaxis\":\"x\",\"y\":[3.804975662718739e-05],\"yaxis\":\"y\"},{\"hovertemplate\":\"symbol=SHIB/USDT<br>x=%{x}<br>y=%{y}<extra></extra>\",\"legendgroup\":\"SHIB/USDT\",\"marker\":{\"color\":\"#636efa\",\"symbol\":\"cross\"},\"mode\":\"markers\",\"name\":\"SHIB/USDT\",\"orientation\":\"v\",\"showlegend\":true,\"type\":\"scatter\",\"x\":[0.6308508682849873],\"xaxis\":\"x\",\"y\":[1.3325704578933051e-05],\"yaxis\":\"y\"},{\"hovertemplate\":\"symbol=TRX/USDT<br>x=%{x}<br>y=%{y}<extra></extra>\",\"legendgroup\":\"TRX/USDT\",\"marker\":{\"color\":\"#636efa\",\"symbol\":\"circle\"},\"mode\":\"markers\",\"name\":\"TRX/USDT\",\"orientation\":\"v\",\"showlegend\":true,\"type\":\"scatter\",\"x\":[0.626851504905372],\"xaxis\":\"x\",\"y\":[8.675697535141566e-06],\"yaxis\":\"y\"},{\"hovertemplate\":\"symbol=ETC/USDT<br>x=%{x}<br>y=%{y}<extra></extra>\",\"legendgroup\":\"ETC/USDT\",\"marker\":{\"color\":\"#636efa\",\"symbol\":\"diamond\"},\"mode\":\"markers\",\"name\":\"ETC/USDT\",\"orientation\":\"v\",\"showlegend\":true,\"type\":\"scatter\",\"x\":[0.6086525805598885],\"xaxis\":\"x\",\"y\":[0.00011993455911161403],\"yaxis\":\"y\"},{\"hovertemplate\":\"symbol=ATOM/USDT<br>x=%{x}<br>y=%{y}<extra></extra>\",\"legendgroup\":\"ATOM/USDT\",\"marker\":{\"color\":\"#636efa\",\"symbol\":\"square\"},\"mode\":\"markers\",\"name\":\"ATOM/USDT\",\"orientation\":\"v\",\"showlegend\":true,\"type\":\"scatter\",\"x\":[0.5977324233919503],\"xaxis\":\"x\",\"y\":[0.0001071859809862487],\"yaxis\":\"y\"},{\"hovertemplate\":\"symbol=DOGE/USDT<br>x=%{x}<br>y=%{y}<extra></extra>\",\"legendgroup\":\"DOGE/USDT\",\"marker\":{\"color\":\"#636efa\",\"symbol\":\"x\"},\"mode\":\"markers\",\"name\":\"DOGE/USDT\",\"orientation\":\"v\",\"showlegend\":true,\"type\":\"scatter\",\"x\":[0.597190442733589],\"xaxis\":\"x\",\"y\":[-5.649773297369294e-06],\"yaxis\":\"y\"},{\"hovertemplate\":\"symbol=LUNA/USDT<br>x=%{x}<br>y=%{y}<extra></extra>\",\"legendgroup\":\"LUNA/USDT\",\"marker\":{\"color\":\"#636efa\",\"symbol\":\"cross\"},\"mode\":\"markers\",\"name\":\"LUNA/USDT\",\"orientation\":\"v\",\"showlegend\":true,\"type\":\"scatter\",\"x\":[0.5816216712505726],\"xaxis\":\"x\",\"y\":[0.00015205679738070028],\"yaxis\":\"y\"},{\"hovertemplate\":\"symbol=KLAY/USDT<br>x=%{x}<br>y=%{y}<extra></extra>\",\"legendgroup\":\"KLAY/USDT\",\"marker\":{\"color\":\"#636efa\",\"symbol\":\"circle\"},\"mode\":\"markers\",\"name\":\"KLAY/USDT\",\"orientation\":\"v\",\"showlegend\":true,\"type\":\"scatter\",\"x\":[0.5720119485686208],\"xaxis\":\"x\",\"y\":[-4.2530101873021135e-05],\"yaxis\":\"y\"},{\"hovertemplate\":\"symbol=CAKE/USDT<br>x=%{x}<br>y=%{y}<extra></extra>\",\"legendgroup\":\"CAKE/USDT\",\"marker\":{\"color\":\"#636efa\",\"symbol\":\"diamond\"},\"mode\":\"markers\",\"name\":\"CAKE/USDT\",\"orientation\":\"v\",\"showlegend\":true,\"type\":\"scatter\",\"x\":[0.5654136214508044],\"xaxis\":\"x\",\"y\":[3.2085904972440825e-05],\"yaxis\":\"y\"},{\"hovertemplate\":\"symbol=NEAR/USDT<br>x=%{x}<br>y=%{y}<extra></extra>\",\"legendgroup\":\"NEAR/USDT\",\"marker\":{\"color\":\"#636efa\",\"symbol\":\"square\"},\"mode\":\"markers\",\"name\":\"NEAR/USDT\",\"orientation\":\"v\",\"showlegend\":true,\"type\":\"scatter\",\"x\":[0.5499843640268076],\"xaxis\":\"x\",\"y\":[0.0002013492850914576],\"yaxis\":\"y\"},{\"hovertemplate\":\"symbol=RUNE/USDT<br>x=%{x}<br>y=%{y}<extra></extra>\",\"legendgroup\":\"RUNE/USDT\",\"marker\":{\"color\":\"#636efa\",\"symbol\":\"x\"},\"mode\":\"markers\",\"name\":\"RUNE/USDT\",\"orientation\":\"v\",\"showlegend\":true,\"type\":\"scatter\",\"x\":[0.5298057942352731],\"xaxis\":\"x\",\"y\":[0.0002448298702706696],\"yaxis\":\"y\"},{\"hovertemplate\":\"symbol=ZEC/USDT<br>x=%{x}<br>y=%{y}<extra></extra>\",\"legendgroup\":\"ZEC/USDT\",\"marker\":{\"color\":\"#636efa\",\"symbol\":\"cross\"},\"mode\":\"markers\",\"name\":\"ZEC/USDT\",\"orientation\":\"v\",\"showlegend\":true,\"type\":\"scatter\",\"x\":[0.5079921049348533],\"xaxis\":\"x\",\"y\":[0.000123984255062733],\"yaxis\":\"y\"},{\"hovertemplate\":\"symbol=XMR/USDT<br>x=%{x}<br>y=%{y}<extra></extra>\",\"legendgroup\":\"XMR/USDT\",\"marker\":{\"color\":\"#636efa\",\"symbol\":\"circle\"},\"mode\":\"markers\",\"name\":\"XMR/USDT\",\"orientation\":\"v\",\"showlegend\":true,\"type\":\"scatter\",\"x\":[0.471371208317151],\"xaxis\":\"x\",\"y\":[0.0002162459810157773],\"yaxis\":\"y\"}],                        {\"legend\":{\"title\":{\"text\":\"symbol\"},\"tracegroupgap\":0},\"margin\":{\"t\":60},\"template\":{\"data\":{\"bar\":[{\"error_x\":{\"color\":\"#2a3f5f\"},\"error_y\":{\"color\":\"#2a3f5f\"},\"marker\":{\"line\":{\"color\":\"#E5ECF6\",\"width\":0.5},\"pattern\":{\"fillmode\":\"overlay\",\"size\":10,\"solidity\":0.2}},\"type\":\"bar\"}],\"barpolar\":[{\"marker\":{\"line\":{\"color\":\"#E5ECF6\",\"width\":0.5},\"pattern\":{\"fillmode\":\"overlay\",\"size\":10,\"solidity\":0.2}},\"type\":\"barpolar\"}],\"carpet\":[{\"aaxis\":{\"endlinecolor\":\"#2a3f5f\",\"gridcolor\":\"white\",\"linecolor\":\"white\",\"minorgridcolor\":\"white\",\"startlinecolor\":\"#2a3f5f\"},\"baxis\":{\"endlinecolor\":\"#2a3f5f\",\"gridcolor\":\"white\",\"linecolor\":\"white\",\"minorgridcolor\":\"white\",\"startlinecolor\":\"#2a3f5f\"},\"type\":\"carpet\"}],\"choropleth\":[{\"colorbar\":{\"outlinewidth\":0,\"ticks\":\"\"},\"type\":\"choropleth\"}],\"contour\":[{\"colorbar\":{\"outlinewidth\":0,\"ticks\":\"\"},\"colorscale\":[[0.0,\"#0d0887\"],[0.1111111111111111,\"#46039f\"],[0.2222222222222222,\"#7201a8\"],[0.3333333333333333,\"#9c179e\"],[0.4444444444444444,\"#bd3786\"],[0.5555555555555556,\"#d8576b\"],[0.6666666666666666,\"#ed7953\"],[0.7777777777777778,\"#fb9f3a\"],[0.8888888888888888,\"#fdca26\"],[1.0,\"#f0f921\"]],\"type\":\"contour\"}],\"contourcarpet\":[{\"colorbar\":{\"outlinewidth\":0,\"ticks\":\"\"},\"type\":\"contourcarpet\"}],\"heatmap\":[{\"colorbar\":{\"outlinewidth\":0,\"ticks\":\"\"},\"colorscale\":[[0.0,\"#0d0887\"],[0.1111111111111111,\"#46039f\"],[0.2222222222222222,\"#7201a8\"],[0.3333333333333333,\"#9c179e\"],[0.4444444444444444,\"#bd3786\"],[0.5555555555555556,\"#d8576b\"],[0.6666666666666666,\"#ed7953\"],[0.7777777777777778,\"#fb9f3a\"],[0.8888888888888888,\"#fdca26\"],[1.0,\"#f0f921\"]],\"type\":\"heatmap\"}],\"heatmapgl\":[{\"colorbar\":{\"outlinewidth\":0,\"ticks\":\"\"},\"colorscale\":[[0.0,\"#0d0887\"],[0.1111111111111111,\"#46039f\"],[0.2222222222222222,\"#7201a8\"],[0.3333333333333333,\"#9c179e\"],[0.4444444444444444,\"#bd3786\"],[0.5555555555555556,\"#d8576b\"],[0.6666666666666666,\"#ed7953\"],[0.7777777777777778,\"#fb9f3a\"],[0.8888888888888888,\"#fdca26\"],[1.0,\"#f0f921\"]],\"type\":\"heatmapgl\"}],\"histogram\":[{\"marker\":{\"pattern\":{\"fillmode\":\"overlay\",\"size\":10,\"solidity\":0.2}},\"type\":\"histogram\"}],\"histogram2d\":[{\"colorbar\":{\"outlinewidth\":0,\"ticks\":\"\"},\"colorscale\":[[0.0,\"#0d0887\"],[0.1111111111111111,\"#46039f\"],[0.2222222222222222,\"#7201a8\"],[0.3333333333333333,\"#9c179e\"],[0.4444444444444444,\"#bd3786\"],[0.5555555555555556,\"#d8576b\"],[0.6666666666666666,\"#ed7953\"],[0.7777777777777778,\"#fb9f3a\"],[0.8888888888888888,\"#fdca26\"],[1.0,\"#f0f921\"]],\"type\":\"histogram2d\"}],\"histogram2dcontour\":[{\"colorbar\":{\"outlinewidth\":0,\"ticks\":\"\"},\"colorscale\":[[0.0,\"#0d0887\"],[0.1111111111111111,\"#46039f\"],[0.2222222222222222,\"#7201a8\"],[0.3333333333333333,\"#9c179e\"],[0.4444444444444444,\"#bd3786\"],[0.5555555555555556,\"#d8576b\"],[0.6666666666666666,\"#ed7953\"],[0.7777777777777778,\"#fb9f3a\"],[0.8888888888888888,\"#fdca26\"],[1.0,\"#f0f921\"]],\"type\":\"histogram2dcontour\"}],\"mesh3d\":[{\"colorbar\":{\"outlinewidth\":0,\"ticks\":\"\"},\"type\":\"mesh3d\"}],\"parcoords\":[{\"line\":{\"colorbar\":{\"outlinewidth\":0,\"ticks\":\"\"}},\"type\":\"parcoords\"}],\"pie\":[{\"automargin\":true,\"type\":\"pie\"}],\"scatter\":[{\"marker\":{\"colorbar\":{\"outlinewidth\":0,\"ticks\":\"\"}},\"type\":\"scatter\"}],\"scatter3d\":[{\"line\":{\"colorbar\":{\"outlinewidth\":0,\"ticks\":\"\"}},\"marker\":{\"colorbar\":{\"outlinewidth\":0,\"ticks\":\"\"}},\"type\":\"scatter3d\"}],\"scattercarpet\":[{\"marker\":{\"colorbar\":{\"outlinewidth\":0,\"ticks\":\"\"}},\"type\":\"scattercarpet\"}],\"scattergeo\":[{\"marker\":{\"colorbar\":{\"outlinewidth\":0,\"ticks\":\"\"}},\"type\":\"scattergeo\"}],\"scattergl\":[{\"marker\":{\"colorbar\":{\"outlinewidth\":0,\"ticks\":\"\"}},\"type\":\"scattergl\"}],\"scattermapbox\":[{\"marker\":{\"colorbar\":{\"outlinewidth\":0,\"ticks\":\"\"}},\"type\":\"scattermapbox\"}],\"scatterpolar\":[{\"marker\":{\"colorbar\":{\"outlinewidth\":0,\"ticks\":\"\"}},\"type\":\"scatterpolar\"}],\"scatterpolargl\":[{\"marker\":{\"colorbar\":{\"outlinewidth\":0,\"ticks\":\"\"}},\"type\":\"scatterpolargl\"}],\"scatterternary\":[{\"marker\":{\"colorbar\":{\"outlinewidth\":0,\"ticks\":\"\"}},\"type\":\"scatterternary\"}],\"surface\":[{\"colorbar\":{\"outlinewidth\":0,\"ticks\":\"\"},\"colorscale\":[[0.0,\"#0d0887\"],[0.1111111111111111,\"#46039f\"],[0.2222222222222222,\"#7201a8\"],[0.3333333333333333,\"#9c179e\"],[0.4444444444444444,\"#bd3786\"],[0.5555555555555556,\"#d8576b\"],[0.6666666666666666,\"#ed7953\"],[0.7777777777777778,\"#fb9f3a\"],[0.8888888888888888,\"#fdca26\"],[1.0,\"#f0f921\"]],\"type\":\"surface\"}],\"table\":[{\"cells\":{\"fill\":{\"color\":\"#EBF0F8\"},\"line\":{\"color\":\"white\"}},\"header\":{\"fill\":{\"color\":\"#C8D4E3\"},\"line\":{\"color\":\"white\"}},\"type\":\"table\"}]},\"layout\":{\"annotationdefaults\":{\"arrowcolor\":\"#2a3f5f\",\"arrowhead\":0,\"arrowwidth\":1},\"autotypenumbers\":\"strict\",\"coloraxis\":{\"colorbar\":{\"outlinewidth\":0,\"ticks\":\"\"}},\"colorscale\":{\"diverging\":[[0,\"#8e0152\"],[0.1,\"#c51b7d\"],[0.2,\"#de77ae\"],[0.3,\"#f1b6da\"],[0.4,\"#fde0ef\"],[0.5,\"#f7f7f7\"],[0.6,\"#e6f5d0\"],[0.7,\"#b8e186\"],[0.8,\"#7fbc41\"],[0.9,\"#4d9221\"],[1,\"#276419\"]],\"sequential\":[[0.0,\"#0d0887\"],[0.1111111111111111,\"#46039f\"],[0.2222222222222222,\"#7201a8\"],[0.3333333333333333,\"#9c179e\"],[0.4444444444444444,\"#bd3786\"],[0.5555555555555556,\"#d8576b\"],[0.6666666666666666,\"#ed7953\"],[0.7777777777777778,\"#fb9f3a\"],[0.8888888888888888,\"#fdca26\"],[1.0,\"#f0f921\"]],\"sequentialminus\":[[0.0,\"#0d0887\"],[0.1111111111111111,\"#46039f\"],[0.2222222222222222,\"#7201a8\"],[0.3333333333333333,\"#9c179e\"],[0.4444444444444444,\"#bd3786\"],[0.5555555555555556,\"#d8576b\"],[0.6666666666666666,\"#ed7953\"],[0.7777777777777778,\"#fb9f3a\"],[0.8888888888888888,\"#fdca26\"],[1.0,\"#f0f921\"]]},\"colorway\":[\"#636efa\",\"#EF553B\",\"#00cc96\",\"#ab63fa\",\"#FFA15A\",\"#19d3f3\",\"#FF6692\",\"#B6E880\",\"#FF97FF\",\"#FECB52\"],\"font\":{\"color\":\"#2a3f5f\"},\"geo\":{\"bgcolor\":\"white\",\"lakecolor\":\"white\",\"landcolor\":\"#E5ECF6\",\"showlakes\":true,\"showland\":true,\"subunitcolor\":\"white\"},\"hoverlabel\":{\"align\":\"left\"},\"hovermode\":\"closest\",\"mapbox\":{\"style\":\"light\"},\"paper_bgcolor\":\"white\",\"plot_bgcolor\":\"#E5ECF6\",\"polar\":{\"angularaxis\":{\"gridcolor\":\"white\",\"linecolor\":\"white\",\"ticks\":\"\"},\"bgcolor\":\"#E5ECF6\",\"radialaxis\":{\"gridcolor\":\"white\",\"linecolor\":\"white\",\"ticks\":\"\"}},\"scene\":{\"xaxis\":{\"backgroundcolor\":\"#E5ECF6\",\"gridcolor\":\"white\",\"gridwidth\":2,\"linecolor\":\"white\",\"showbackground\":true,\"ticks\":\"\",\"zerolinecolor\":\"white\"},\"yaxis\":{\"backgroundcolor\":\"#E5ECF6\",\"gridcolor\":\"white\",\"gridwidth\":2,\"linecolor\":\"white\",\"showbackground\":true,\"ticks\":\"\",\"zerolinecolor\":\"white\"},\"zaxis\":{\"backgroundcolor\":\"#E5ECF6\",\"gridcolor\":\"white\",\"gridwidth\":2,\"linecolor\":\"white\",\"showbackground\":true,\"ticks\":\"\",\"zerolinecolor\":\"white\"}},\"shapedefaults\":{\"line\":{\"color\":\"#2a3f5f\"}},\"ternary\":{\"aaxis\":{\"gridcolor\":\"white\",\"linecolor\":\"white\",\"ticks\":\"\"},\"baxis\":{\"gridcolor\":\"white\",\"linecolor\":\"white\",\"ticks\":\"\"},\"bgcolor\":\"#E5ECF6\",\"caxis\":{\"gridcolor\":\"white\",\"linecolor\":\"white\",\"ticks\":\"\"}},\"title\":{\"x\":0.05},\"xaxis\":{\"automargin\":true,\"gridcolor\":\"white\",\"linecolor\":\"white\",\"ticks\":\"\",\"title\":{\"standoff\":15},\"zerolinecolor\":\"white\",\"zerolinewidth\":2},\"yaxis\":{\"automargin\":true,\"gridcolor\":\"white\",\"linecolor\":\"white\",\"ticks\":\"\",\"title\":{\"standoff\":15},\"zerolinecolor\":\"white\",\"zerolinewidth\":2}}},\"xaxis\":{\"anchor\":\"y\",\"domain\":[0.0,1.0],\"title\":{\"text\":\"x\"}},\"yaxis\":{\"anchor\":\"x\",\"domain\":[0.0,1.0],\"title\":{\"text\":\"y\"}}},                        {\"responsive\": true}                    ).then(function(){\n",
       "                            \n",
       "var gd = document.getElementById('4a45e166-67fa-4265-90f0-195a692b8d4d');\n",
       "var x = new MutationObserver(function (mutations, observer) {{\n",
       "        var display = window.getComputedStyle(gd).display;\n",
       "        if (!display || display === 'none') {{\n",
       "            console.log([gd, 'removed!']);\n",
       "            Plotly.purge(gd);\n",
       "            observer.disconnect();\n",
       "        }}\n",
       "}});\n",
       "\n",
       "// Listen for the removal of the full notebook cells\n",
       "var notebookContainer = gd.closest('#notebook-container');\n",
       "if (notebookContainer) {{\n",
       "    x.observe(notebookContainer, {childList: true});\n",
       "}}\n",
       "\n",
       "// Listen for the clearing of the current output cell\n",
       "var outputEl = gd.closest('.output');\n",
       "if (outputEl) {{\n",
       "    x.observe(outputEl, {childList: true});\n",
       "}}\n",
       "\n",
       "                        })                };                });            </script>        </div>"
      ]
     },
     "metadata": {},
     "output_type": "display_data"
    }
   ],
   "source": [
    "import plotly.express as px\n",
    "fig = px.scatter(x=regression_market['r^2'], y=regression_market['intercept'], symbol=regression_market['index'])\n",
    "fig.show()"
   ]
  },
  {
   "cell_type": "code",
   "execution_count": 119,
   "id": "b9777858",
   "metadata": {},
   "outputs": [],
   "source": [
    "dino_coins = ['ETC', 'ZEC', 'LTC', 'NEO', 'BCH', 'XRP', 'OMG', 'EOS', 'DASH']\n",
    "dino_coins_cmc = [cmc_id_mapping[d] for d in dino_coins]"
   ]
  },
  {
   "cell_type": "code",
   "execution_count": 120,
   "id": "ab78ba71",
   "metadata": {},
   "outputs": [
    {
     "data": {
      "text/html": [
       "<div>\n",
       "<style scoped>\n",
       "    .dataframe tbody tr th:only-of-type {\n",
       "        vertical-align: middle;\n",
       "    }\n",
       "\n",
       "    .dataframe tbody tr th {\n",
       "        vertical-align: top;\n",
       "    }\n",
       "\n",
       "    .dataframe thead th {\n",
       "        text-align: right;\n",
       "    }\n",
       "</style>\n",
       "<table border=\"1\" class=\"dataframe\">\n",
       "  <thead>\n",
       "    <tr style=\"text-align: right;\">\n",
       "      <th></th>\n",
       "      <th>name</th>\n",
       "      <th>symbol</th>\n",
       "      <th>slug</th>\n",
       "      <th>num_market_pairs</th>\n",
       "      <th>date_added</th>\n",
       "      <th>tags</th>\n",
       "      <th>max_supply</th>\n",
       "      <th>circulating_supply</th>\n",
       "      <th>total_supply</th>\n",
       "      <th>platform</th>\n",
       "      <th>cmc_rank</th>\n",
       "      <th>self_reported_circulating_supply</th>\n",
       "      <th>self_reported_market_cap</th>\n",
       "      <th>last_updated</th>\n",
       "      <th>quote</th>\n",
       "      <th>request_time</th>\n",
       "      <th>is_stable_coin</th>\n",
       "      <th>is_meme</th>\n",
       "      <th>datetime_issue</th>\n",
       "    </tr>\n",
       "    <tr>\n",
       "      <th>id</th>\n",
       "      <th></th>\n",
       "      <th></th>\n",
       "      <th></th>\n",
       "      <th></th>\n",
       "      <th></th>\n",
       "      <th></th>\n",
       "      <th></th>\n",
       "      <th></th>\n",
       "      <th></th>\n",
       "      <th></th>\n",
       "      <th></th>\n",
       "      <th></th>\n",
       "      <th></th>\n",
       "      <th></th>\n",
       "      <th></th>\n",
       "      <th></th>\n",
       "      <th></th>\n",
       "      <th></th>\n",
       "      <th></th>\n",
       "    </tr>\n",
       "  </thead>\n",
       "  <tbody>\n",
       "    <tr>\n",
       "      <th>1321</th>\n",
       "      <td>Ethereum Classic</td>\n",
       "      <td>ETC</td>\n",
       "      <td>ethereum-classic</td>\n",
       "      <td>296</td>\n",
       "      <td>2016-07-24T00:00:00.000Z</td>\n",
       "      <td>[mineable, pow, ethash, platform, smart-contra...</td>\n",
       "      <td>2.107000e+08</td>\n",
       "      <td>1.343879e+08</td>\n",
       "      <td>2.107000e+08</td>\n",
       "      <td>None</td>\n",
       "      <td>33</td>\n",
       "      <td>NaN</td>\n",
       "      <td>NaN</td>\n",
       "      <td>2022-04-23T04:24:00.000Z</td>\n",
       "      <td>{'USD': {'price': 34.88049675020711, 'volume_2...</td>\n",
       "      <td>2022-04-23 00:26:12.469069</td>\n",
       "      <td>False</td>\n",
       "      <td>False</td>\n",
       "      <td>2016-07-24</td>\n",
       "    </tr>\n",
       "    <tr>\n",
       "      <th>1437</th>\n",
       "      <td>Zcash</td>\n",
       "      <td>ZEC</td>\n",
       "      <td>zcash</td>\n",
       "      <td>249</td>\n",
       "      <td>2016-10-29T00:00:00.000Z</td>\n",
       "      <td>[mineable, pow, equihash, medium-of-exchange, ...</td>\n",
       "      <td>2.100000e+07</td>\n",
       "      <td>1.422823e+07</td>\n",
       "      <td>1.422823e+07</td>\n",
       "      <td>None</td>\n",
       "      <td>50</td>\n",
       "      <td>NaN</td>\n",
       "      <td>NaN</td>\n",
       "      <td>2022-04-23T04:24:00.000Z</td>\n",
       "      <td>{'USD': {'price': 154.51880745066703, 'volume_...</td>\n",
       "      <td>2022-04-23 00:26:12.469069</td>\n",
       "      <td>False</td>\n",
       "      <td>False</td>\n",
       "      <td>2016-10-29</td>\n",
       "    </tr>\n",
       "    <tr>\n",
       "      <th>2</th>\n",
       "      <td>Litecoin</td>\n",
       "      <td>LTC</td>\n",
       "      <td>litecoin</td>\n",
       "      <td>765</td>\n",
       "      <td>2013-04-28T00:00:00.000Z</td>\n",
       "      <td>[mineable, pow, scrypt, medium-of-exchange, bi...</td>\n",
       "      <td>8.400000e+07</td>\n",
       "      <td>7.012854e+07</td>\n",
       "      <td>8.400000e+07</td>\n",
       "      <td>None</td>\n",
       "      <td>21</td>\n",
       "      <td>NaN</td>\n",
       "      <td>NaN</td>\n",
       "      <td>2022-04-23T04:25:00.000Z</td>\n",
       "      <td>{'USD': {'price': 105.48630683407303, 'volume_...</td>\n",
       "      <td>2022-04-23 00:26:12.469069</td>\n",
       "      <td>False</td>\n",
       "      <td>False</td>\n",
       "      <td>2013-04-28</td>\n",
       "    </tr>\n",
       "    <tr>\n",
       "      <th>1376</th>\n",
       "      <td>Neo</td>\n",
       "      <td>NEO</td>\n",
       "      <td>neo</td>\n",
       "      <td>245</td>\n",
       "      <td>2016-09-08T00:00:00.000Z</td>\n",
       "      <td>[platform, enterprise-solutions, smart-contracts]</td>\n",
       "      <td>1.000000e+08</td>\n",
       "      <td>7.053883e+07</td>\n",
       "      <td>1.000000e+08</td>\n",
       "      <td>None</td>\n",
       "      <td>63</td>\n",
       "      <td>NaN</td>\n",
       "      <td>NaN</td>\n",
       "      <td>2022-04-23T04:24:00.000Z</td>\n",
       "      <td>{'USD': {'price': 20.96085542280521, 'volume_2...</td>\n",
       "      <td>2022-04-23 00:26:12.469069</td>\n",
       "      <td>False</td>\n",
       "      <td>False</td>\n",
       "      <td>2016-09-08</td>\n",
       "    </tr>\n",
       "    <tr>\n",
       "      <th>1831</th>\n",
       "      <td>Bitcoin Cash</td>\n",
       "      <td>BCH</td>\n",
       "      <td>bitcoin-cash</td>\n",
       "      <td>589</td>\n",
       "      <td>2017-07-23T00:00:00.000Z</td>\n",
       "      <td>[mineable, pow, sha-256, marketplace, medium-o...</td>\n",
       "      <td>2.100000e+07</td>\n",
       "      <td>1.904393e+07</td>\n",
       "      <td>1.904393e+07</td>\n",
       "      <td>None</td>\n",
       "      <td>26</td>\n",
       "      <td>NaN</td>\n",
       "      <td>NaN</td>\n",
       "      <td>2022-04-23T04:24:00.000Z</td>\n",
       "      <td>{'USD': {'price': 317.84930094116623, 'volume_...</td>\n",
       "      <td>2022-04-23 00:26:12.469069</td>\n",
       "      <td>False</td>\n",
       "      <td>False</td>\n",
       "      <td>2017-07-23</td>\n",
       "    </tr>\n",
       "    <tr>\n",
       "      <th>52</th>\n",
       "      <td>XRP</td>\n",
       "      <td>XRP</td>\n",
       "      <td>xrp</td>\n",
       "      <td>712</td>\n",
       "      <td>2013-08-04T00:00:00.000Z</td>\n",
       "      <td>[medium-of-exchange, enterprise-solutions, bin...</td>\n",
       "      <td>1.000000e+11</td>\n",
       "      <td>4.810523e+10</td>\n",
       "      <td>9.998959e+10</td>\n",
       "      <td>None</td>\n",
       "      <td>6</td>\n",
       "      <td>NaN</td>\n",
       "      <td>NaN</td>\n",
       "      <td>2022-04-23T04:25:00.000Z</td>\n",
       "      <td>{'USD': {'price': 0.7098046223985148, 'volume_...</td>\n",
       "      <td>2022-04-23 00:26:12.469069</td>\n",
       "      <td>False</td>\n",
       "      <td>False</td>\n",
       "      <td>2013-08-04</td>\n",
       "    </tr>\n",
       "    <tr>\n",
       "      <th>1808</th>\n",
       "      <td>OMG Network</td>\n",
       "      <td>OMG</td>\n",
       "      <td>omg</td>\n",
       "      <td>283</td>\n",
       "      <td>2017-07-14T00:00:00.000Z</td>\n",
       "      <td>[medium-of-exchange, payments, scaling, state-...</td>\n",
       "      <td>1.402454e+08</td>\n",
       "      <td>1.402454e+08</td>\n",
       "      <td>1.402454e+08</td>\n",
       "      <td>{'id': 1027, 'name': 'Ethereum', 'symbol': 'ET...</td>\n",
       "      <td>106</td>\n",
       "      <td>NaN</td>\n",
       "      <td>NaN</td>\n",
       "      <td>2022-04-23T04:24:00.000Z</td>\n",
       "      <td>{'USD': {'price': 4.590066808617123, 'volume_2...</td>\n",
       "      <td>2022-04-23 00:26:12.469069</td>\n",
       "      <td>False</td>\n",
       "      <td>False</td>\n",
       "      <td>2017-07-14</td>\n",
       "    </tr>\n",
       "    <tr>\n",
       "      <th>1765</th>\n",
       "      <td>EOS</td>\n",
       "      <td>EOS</td>\n",
       "      <td>eos</td>\n",
       "      <td>434</td>\n",
       "      <td>2017-07-01T00:00:00.000Z</td>\n",
       "      <td>[medium-of-exchange, enterprise-solutions, sma...</td>\n",
       "      <td>NaN</td>\n",
       "      <td>9.876039e+08</td>\n",
       "      <td>1.052828e+09</td>\n",
       "      <td>None</td>\n",
       "      <td>49</td>\n",
       "      <td>NaN</td>\n",
       "      <td>NaN</td>\n",
       "      <td>2022-04-23T04:24:00.000Z</td>\n",
       "      <td>{'USD': {'price': 2.4045151742096604, 'volume_...</td>\n",
       "      <td>2022-04-23 00:26:12.469069</td>\n",
       "      <td>False</td>\n",
       "      <td>False</td>\n",
       "      <td>2017-07-01</td>\n",
       "    </tr>\n",
       "    <tr>\n",
       "      <th>131</th>\n",
       "      <td>Dash</td>\n",
       "      <td>DASH</td>\n",
       "      <td>dash</td>\n",
       "      <td>335</td>\n",
       "      <td>2014-02-14T00:00:00.000Z</td>\n",
       "      <td>[mineable, hybrid-pow-pos, x11, medium-of-exch...</td>\n",
       "      <td>1.890000e+07</td>\n",
       "      <td>1.068720e+07</td>\n",
       "      <td>1.068720e+07</td>\n",
       "      <td>None</td>\n",
       "      <td>79</td>\n",
       "      <td>NaN</td>\n",
       "      <td>NaN</td>\n",
       "      <td>2022-04-23T04:25:00.000Z</td>\n",
       "      <td>{'USD': {'price': 101.91688686198103, 'volume_...</td>\n",
       "      <td>2022-04-23 00:26:12.469069</td>\n",
       "      <td>False</td>\n",
       "      <td>False</td>\n",
       "      <td>2014-02-14</td>\n",
       "    </tr>\n",
       "  </tbody>\n",
       "</table>\n",
       "</div>"
      ],
      "text/plain": [
       "                  name symbol              slug  num_market_pairs  \\\n",
       "id                                                                  \n",
       "1321  Ethereum Classic    ETC  ethereum-classic               296   \n",
       "1437             Zcash    ZEC             zcash               249   \n",
       "2             Litecoin    LTC          litecoin               765   \n",
       "1376               Neo    NEO               neo               245   \n",
       "1831      Bitcoin Cash    BCH      bitcoin-cash               589   \n",
       "52                 XRP    XRP               xrp               712   \n",
       "1808       OMG Network    OMG               omg               283   \n",
       "1765               EOS    EOS               eos               434   \n",
       "131               Dash   DASH              dash               335   \n",
       "\n",
       "                    date_added  \\\n",
       "id                               \n",
       "1321  2016-07-24T00:00:00.000Z   \n",
       "1437  2016-10-29T00:00:00.000Z   \n",
       "2     2013-04-28T00:00:00.000Z   \n",
       "1376  2016-09-08T00:00:00.000Z   \n",
       "1831  2017-07-23T00:00:00.000Z   \n",
       "52    2013-08-04T00:00:00.000Z   \n",
       "1808  2017-07-14T00:00:00.000Z   \n",
       "1765  2017-07-01T00:00:00.000Z   \n",
       "131   2014-02-14T00:00:00.000Z   \n",
       "\n",
       "                                                   tags    max_supply  \\\n",
       "id                                                                      \n",
       "1321  [mineable, pow, ethash, platform, smart-contra...  2.107000e+08   \n",
       "1437  [mineable, pow, equihash, medium-of-exchange, ...  2.100000e+07   \n",
       "2     [mineable, pow, scrypt, medium-of-exchange, bi...  8.400000e+07   \n",
       "1376  [platform, enterprise-solutions, smart-contracts]  1.000000e+08   \n",
       "1831  [mineable, pow, sha-256, marketplace, medium-o...  2.100000e+07   \n",
       "52    [medium-of-exchange, enterprise-solutions, bin...  1.000000e+11   \n",
       "1808  [medium-of-exchange, payments, scaling, state-...  1.402454e+08   \n",
       "1765  [medium-of-exchange, enterprise-solutions, sma...           NaN   \n",
       "131   [mineable, hybrid-pow-pos, x11, medium-of-exch...  1.890000e+07   \n",
       "\n",
       "      circulating_supply  total_supply  \\\n",
       "id                                       \n",
       "1321        1.343879e+08  2.107000e+08   \n",
       "1437        1.422823e+07  1.422823e+07   \n",
       "2           7.012854e+07  8.400000e+07   \n",
       "1376        7.053883e+07  1.000000e+08   \n",
       "1831        1.904393e+07  1.904393e+07   \n",
       "52          4.810523e+10  9.998959e+10   \n",
       "1808        1.402454e+08  1.402454e+08   \n",
       "1765        9.876039e+08  1.052828e+09   \n",
       "131         1.068720e+07  1.068720e+07   \n",
       "\n",
       "                                               platform  cmc_rank  \\\n",
       "id                                                                  \n",
       "1321                                               None        33   \n",
       "1437                                               None        50   \n",
       "2                                                  None        21   \n",
       "1376                                               None        63   \n",
       "1831                                               None        26   \n",
       "52                                                 None         6   \n",
       "1808  {'id': 1027, 'name': 'Ethereum', 'symbol': 'ET...       106   \n",
       "1765                                               None        49   \n",
       "131                                                None        79   \n",
       "\n",
       "      self_reported_circulating_supply  self_reported_market_cap  \\\n",
       "id                                                                 \n",
       "1321                               NaN                       NaN   \n",
       "1437                               NaN                       NaN   \n",
       "2                                  NaN                       NaN   \n",
       "1376                               NaN                       NaN   \n",
       "1831                               NaN                       NaN   \n",
       "52                                 NaN                       NaN   \n",
       "1808                               NaN                       NaN   \n",
       "1765                               NaN                       NaN   \n",
       "131                                NaN                       NaN   \n",
       "\n",
       "                  last_updated  \\\n",
       "id                               \n",
       "1321  2022-04-23T04:24:00.000Z   \n",
       "1437  2022-04-23T04:24:00.000Z   \n",
       "2     2022-04-23T04:25:00.000Z   \n",
       "1376  2022-04-23T04:24:00.000Z   \n",
       "1831  2022-04-23T04:24:00.000Z   \n",
       "52    2022-04-23T04:25:00.000Z   \n",
       "1808  2022-04-23T04:24:00.000Z   \n",
       "1765  2022-04-23T04:24:00.000Z   \n",
       "131   2022-04-23T04:25:00.000Z   \n",
       "\n",
       "                                                  quote  \\\n",
       "id                                                        \n",
       "1321  {'USD': {'price': 34.88049675020711, 'volume_2...   \n",
       "1437  {'USD': {'price': 154.51880745066703, 'volume_...   \n",
       "2     {'USD': {'price': 105.48630683407303, 'volume_...   \n",
       "1376  {'USD': {'price': 20.96085542280521, 'volume_2...   \n",
       "1831  {'USD': {'price': 317.84930094116623, 'volume_...   \n",
       "52    {'USD': {'price': 0.7098046223985148, 'volume_...   \n",
       "1808  {'USD': {'price': 4.590066808617123, 'volume_2...   \n",
       "1765  {'USD': {'price': 2.4045151742096604, 'volume_...   \n",
       "131   {'USD': {'price': 101.91688686198103, 'volume_...   \n",
       "\n",
       "                   request_time  is_stable_coin  is_meme datetime_issue  \n",
       "id                                                                       \n",
       "1321 2022-04-23 00:26:12.469069           False    False     2016-07-24  \n",
       "1437 2022-04-23 00:26:12.469069           False    False     2016-10-29  \n",
       "2    2022-04-23 00:26:12.469069           False    False     2013-04-28  \n",
       "1376 2022-04-23 00:26:12.469069           False    False     2016-09-08  \n",
       "1831 2022-04-23 00:26:12.469069           False    False     2017-07-23  \n",
       "52   2022-04-23 00:26:12.469069           False    False     2013-08-04  \n",
       "1808 2022-04-23 00:26:12.469069           False    False     2017-07-14  \n",
       "1765 2022-04-23 00:26:12.469069           False    False     2017-07-01  \n",
       "131  2022-04-23 00:26:12.469069           False    False     2014-02-14  "
      ]
     },
     "execution_count": 120,
     "metadata": {},
     "output_type": "execute_result"
    }
   ],
   "source": [
    "shit_coin_info_df.loc[dino_coins_cmc]"
   ]
  },
  {
   "cell_type": "markdown",
   "id": "e41f4fdd",
   "metadata": {},
   "source": [
    "ltc >bch >=etc>zec > xrp\n",
    "\n",
    "ltc bch very cointegration\n",
    "\n",
    "xrp is dead"
   ]
  },
  {
   "cell_type": "code",
   "execution_count": 114,
   "id": "a3561ac0",
   "metadata": {
    "scrolled": false
   },
   "outputs": [
    {
     "data": {
      "text/html": [
       "<div>\n",
       "<style scoped>\n",
       "    .dataframe tbody tr th:only-of-type {\n",
       "        vertical-align: middle;\n",
       "    }\n",
       "\n",
       "    .dataframe tbody tr th {\n",
       "        vertical-align: top;\n",
       "    }\n",
       "\n",
       "    .dataframe thead th {\n",
       "        text-align: right;\n",
       "    }\n",
       "</style>\n",
       "<table border=\"1\" class=\"dataframe\">\n",
       "  <thead>\n",
       "    <tr style=\"text-align: right;\">\n",
       "      <th></th>\n",
       "      <th>name</th>\n",
       "      <th>symbol</th>\n",
       "      <th>slug</th>\n",
       "      <th>num_market_pairs</th>\n",
       "      <th>date_added</th>\n",
       "      <th>tags</th>\n",
       "      <th>max_supply</th>\n",
       "      <th>circulating_supply</th>\n",
       "      <th>total_supply</th>\n",
       "      <th>platform</th>\n",
       "      <th>cmc_rank</th>\n",
       "      <th>self_reported_circulating_supply</th>\n",
       "      <th>self_reported_market_cap</th>\n",
       "      <th>last_updated</th>\n",
       "      <th>quote</th>\n",
       "      <th>request_time</th>\n",
       "      <th>is_stable_coin</th>\n",
       "      <th>datetime_issue</th>\n",
       "      <th>is_meme</th>\n",
       "    </tr>\n",
       "    <tr>\n",
       "      <th>id</th>\n",
       "      <th></th>\n",
       "      <th></th>\n",
       "      <th></th>\n",
       "      <th></th>\n",
       "      <th></th>\n",
       "      <th></th>\n",
       "      <th></th>\n",
       "      <th></th>\n",
       "      <th></th>\n",
       "      <th></th>\n",
       "      <th></th>\n",
       "      <th></th>\n",
       "      <th></th>\n",
       "      <th></th>\n",
       "      <th></th>\n",
       "      <th></th>\n",
       "      <th></th>\n",
       "      <th></th>\n",
       "      <th></th>\n",
       "    </tr>\n",
       "  </thead>\n",
       "  <tbody>\n",
       "    <tr>\n",
       "      <th>1</th>\n",
       "      <td>Bitcoin</td>\n",
       "      <td>BTC</td>\n",
       "      <td>bitcoin</td>\n",
       "      <td>9357</td>\n",
       "      <td>2013-04-28T00:00:00.000Z</td>\n",
       "      <td>[mineable, pow, sha-256, store-of-value, state...</td>\n",
       "      <td>2.100000e+07</td>\n",
       "      <td>1.901941e+07</td>\n",
       "      <td>1.901941e+07</td>\n",
       "      <td>None</td>\n",
       "      <td>1</td>\n",
       "      <td>NaN</td>\n",
       "      <td>NaN</td>\n",
       "      <td>2022-04-23T04:03:00.000Z</td>\n",
       "      <td>{'USD': {'price': 39482.053435971604, 'volume_...</td>\n",
       "      <td>2022-04-23 00:04:05.244269</td>\n",
       "      <td>False</td>\n",
       "      <td>2013-04-28</td>\n",
       "      <td>False</td>\n",
       "    </tr>\n",
       "    <tr>\n",
       "      <th>1027</th>\n",
       "      <td>Ethereum</td>\n",
       "      <td>ETH</td>\n",
       "      <td>ethereum</td>\n",
       "      <td>5659</td>\n",
       "      <td>2015-08-07T00:00:00.000Z</td>\n",
       "      <td>[mineable, pow, smart-contracts, ethereum-ecos...</td>\n",
       "      <td>NaN</td>\n",
       "      <td>1.204898e+08</td>\n",
       "      <td>1.204898e+08</td>\n",
       "      <td>None</td>\n",
       "      <td>2</td>\n",
       "      <td>NaN</td>\n",
       "      <td>NaN</td>\n",
       "      <td>2022-04-23T04:02:00.000Z</td>\n",
       "      <td>{'USD': {'price': 2949.370472685365, 'volume_2...</td>\n",
       "      <td>2022-04-23 00:04:05.244269</td>\n",
       "      <td>False</td>\n",
       "      <td>2015-08-07</td>\n",
       "      <td>False</td>\n",
       "    </tr>\n",
       "    <tr>\n",
       "      <th>1839</th>\n",
       "      <td>BNB</td>\n",
       "      <td>BNB</td>\n",
       "      <td>bnb</td>\n",
       "      <td>813</td>\n",
       "      <td>2017-07-25T00:00:00.000Z</td>\n",
       "      <td>[marketplace, centralized-exchange, payments, ...</td>\n",
       "      <td>1.651168e+08</td>\n",
       "      <td>1.632770e+08</td>\n",
       "      <td>1.632770e+08</td>\n",
       "      <td>None</td>\n",
       "      <td>4</td>\n",
       "      <td>NaN</td>\n",
       "      <td>NaN</td>\n",
       "      <td>2022-04-23T04:02:00.000Z</td>\n",
       "      <td>{'USD': {'price': 403.44419264531916, 'volume_...</td>\n",
       "      <td>2022-04-23 00:04:05.244269</td>\n",
       "      <td>False</td>\n",
       "      <td>2017-07-25</td>\n",
       "      <td>False</td>\n",
       "    </tr>\n",
       "    <tr>\n",
       "      <th>52</th>\n",
       "      <td>XRP</td>\n",
       "      <td>XRP</td>\n",
       "      <td>xrp</td>\n",
       "      <td>712</td>\n",
       "      <td>2013-08-04T00:00:00.000Z</td>\n",
       "      <td>[medium-of-exchange, enterprise-solutions, bin...</td>\n",
       "      <td>1.000000e+11</td>\n",
       "      <td>4.810523e+10</td>\n",
       "      <td>9.998959e+10</td>\n",
       "      <td>None</td>\n",
       "      <td>6</td>\n",
       "      <td>NaN</td>\n",
       "      <td>NaN</td>\n",
       "      <td>2022-04-23T04:02:00.000Z</td>\n",
       "      <td>{'USD': {'price': 0.7133355993747462, 'volume_...</td>\n",
       "      <td>2022-04-23 00:04:05.244269</td>\n",
       "      <td>False</td>\n",
       "      <td>2013-08-04</td>\n",
       "      <td>False</td>\n",
       "    </tr>\n",
       "    <tr>\n",
       "      <th>2010</th>\n",
       "      <td>Cardano</td>\n",
       "      <td>ADA</td>\n",
       "      <td>cardano</td>\n",
       "      <td>426</td>\n",
       "      <td>2017-10-01T00:00:00.000Z</td>\n",
       "      <td>[mineable, dpos, pos, platform, research, smar...</td>\n",
       "      <td>4.500000e+10</td>\n",
       "      <td>3.375257e+10</td>\n",
       "      <td>3.427770e+10</td>\n",
       "      <td>None</td>\n",
       "      <td>9</td>\n",
       "      <td>NaN</td>\n",
       "      <td>NaN</td>\n",
       "      <td>2022-04-23T04:02:00.000Z</td>\n",
       "      <td>{'USD': {'price': 0.8932131524727057, 'volume_...</td>\n",
       "      <td>2022-04-23 00:04:05.244269</td>\n",
       "      <td>False</td>\n",
       "      <td>2017-10-01</td>\n",
       "      <td>False</td>\n",
       "    </tr>\n",
       "    <tr>\n",
       "      <th>74</th>\n",
       "      <td>Dogecoin</td>\n",
       "      <td>DOGE</td>\n",
       "      <td>dogecoin</td>\n",
       "      <td>466</td>\n",
       "      <td>2013-12-15T00:00:00.000Z</td>\n",
       "      <td>[mineable, pow, scrypt, medium-of-exchange, me...</td>\n",
       "      <td>NaN</td>\n",
       "      <td>1.326708e+11</td>\n",
       "      <td>1.326708e+11</td>\n",
       "      <td>None</td>\n",
       "      <td>13</td>\n",
       "      <td>NaN</td>\n",
       "      <td>NaN</td>\n",
       "      <td>2022-04-23T04:02:00.000Z</td>\n",
       "      <td>{'USD': {'price': 0.13494603692699958, 'volume...</td>\n",
       "      <td>2022-04-23 00:04:05.244269</td>\n",
       "      <td>False</td>\n",
       "      <td>2013-12-15</td>\n",
       "      <td>True</td>\n",
       "    </tr>\n",
       "    <tr>\n",
       "      <th>2</th>\n",
       "      <td>Litecoin</td>\n",
       "      <td>LTC</td>\n",
       "      <td>litecoin</td>\n",
       "      <td>765</td>\n",
       "      <td>2013-04-28T00:00:00.000Z</td>\n",
       "      <td>[mineable, pow, scrypt, medium-of-exchange, bi...</td>\n",
       "      <td>8.400000e+07</td>\n",
       "      <td>7.012854e+07</td>\n",
       "      <td>8.400000e+07</td>\n",
       "      <td>None</td>\n",
       "      <td>21</td>\n",
       "      <td>NaN</td>\n",
       "      <td>NaN</td>\n",
       "      <td>2022-04-23T04:03:00.000Z</td>\n",
       "      <td>{'USD': {'price': 105.617472937166, 'volume_24...</td>\n",
       "      <td>2022-04-23 00:04:05.244269</td>\n",
       "      <td>False</td>\n",
       "      <td>2013-04-28</td>\n",
       "      <td>False</td>\n",
       "    </tr>\n",
       "    <tr>\n",
       "      <th>1958</th>\n",
       "      <td>TRON</td>\n",
       "      <td>TRX</td>\n",
       "      <td>tron</td>\n",
       "      <td>593</td>\n",
       "      <td>2017-09-13T00:00:00.000Z</td>\n",
       "      <td>[media, payments, tron-ecosystem, bnb-chain]</td>\n",
       "      <td>NaN</td>\n",
       "      <td>1.016346e+11</td>\n",
       "      <td>1.016346e+11</td>\n",
       "      <td>None</td>\n",
       "      <td>22</td>\n",
       "      <td>7.165966e+10</td>\n",
       "      <td>4.915263e+09</td>\n",
       "      <td>2022-04-23T04:02:00.000Z</td>\n",
       "      <td>{'USD': {'price': 0.06859177330028401, 'volume...</td>\n",
       "      <td>2022-04-23 00:04:05.244269</td>\n",
       "      <td>False</td>\n",
       "      <td>2017-09-13</td>\n",
       "      <td>False</td>\n",
       "    </tr>\n",
       "    <tr>\n",
       "      <th>1975</th>\n",
       "      <td>Chainlink</td>\n",
       "      <td>LINK</td>\n",
       "      <td>chainlink</td>\n",
       "      <td>633</td>\n",
       "      <td>2017-09-20T00:00:00.000Z</td>\n",
       "      <td>[platform, defi, oracles, smart-contracts, sub...</td>\n",
       "      <td>1.000000e+09</td>\n",
       "      <td>4.670095e+08</td>\n",
       "      <td>1.000000e+09</td>\n",
       "      <td>{'id': 1027, 'name': 'Ethereum', 'symbol': 'ET...</td>\n",
       "      <td>24</td>\n",
       "      <td>NaN</td>\n",
       "      <td>NaN</td>\n",
       "      <td>2022-04-23T04:02:00.000Z</td>\n",
       "      <td>{'USD': {'price': 13.455287542142084, 'volume_...</td>\n",
       "      <td>2022-04-23 00:04:05.244269</td>\n",
       "      <td>False</td>\n",
       "      <td>2017-09-20</td>\n",
       "      <td>False</td>\n",
       "    </tr>\n",
       "    <tr>\n",
       "      <th>1831</th>\n",
       "      <td>Bitcoin Cash</td>\n",
       "      <td>BCH</td>\n",
       "      <td>bitcoin-cash</td>\n",
       "      <td>589</td>\n",
       "      <td>2017-07-23T00:00:00.000Z</td>\n",
       "      <td>[mineable, pow, sha-256, marketplace, medium-o...</td>\n",
       "      <td>2.100000e+07</td>\n",
       "      <td>1.904387e+07</td>\n",
       "      <td>1.904387e+07</td>\n",
       "      <td>None</td>\n",
       "      <td>26</td>\n",
       "      <td>NaN</td>\n",
       "      <td>NaN</td>\n",
       "      <td>2022-04-23T04:02:00.000Z</td>\n",
       "      <td>{'USD': {'price': 318.4843502682241, 'volume_2...</td>\n",
       "      <td>2022-04-23 00:04:05.244269</td>\n",
       "      <td>False</td>\n",
       "      <td>2017-07-23</td>\n",
       "      <td>False</td>\n",
       "    </tr>\n",
       "    <tr>\n",
       "      <th>328</th>\n",
       "      <td>Monero</td>\n",
       "      <td>XMR</td>\n",
       "      <td>monero</td>\n",
       "      <td>174</td>\n",
       "      <td>2014-05-21T00:00:00.000Z</td>\n",
       "      <td>[mineable, pow, medium-of-exchange, privacy, r...</td>\n",
       "      <td>NaN</td>\n",
       "      <td>1.811128e+07</td>\n",
       "      <td>1.811128e+07</td>\n",
       "      <td>None</td>\n",
       "      <td>29</td>\n",
       "      <td>NaN</td>\n",
       "      <td>NaN</td>\n",
       "      <td>2022-04-23T04:02:00.000Z</td>\n",
       "      <td>{'USD': {'price': 267.58639594943395, 'volume_...</td>\n",
       "      <td>2022-04-23 00:04:05.244269</td>\n",
       "      <td>False</td>\n",
       "      <td>2014-05-21</td>\n",
       "      <td>False</td>\n",
       "    </tr>\n",
       "    <tr>\n",
       "      <th>512</th>\n",
       "      <td>Stellar</td>\n",
       "      <td>XLM</td>\n",
       "      <td>stellar</td>\n",
       "      <td>420</td>\n",
       "      <td>2014-08-05T00:00:00.000Z</td>\n",
       "      <td>[medium-of-exchange, enterprise-solutions, dec...</td>\n",
       "      <td>5.000181e+10</td>\n",
       "      <td>2.479172e+10</td>\n",
       "      <td>5.000179e+10</td>\n",
       "      <td>None</td>\n",
       "      <td>31</td>\n",
       "      <td>NaN</td>\n",
       "      <td>NaN</td>\n",
       "      <td>2022-04-23T04:02:00.000Z</td>\n",
       "      <td>{'USD': {'price': 0.19286122282088872, 'volume...</td>\n",
       "      <td>2022-04-23 00:04:05.244269</td>\n",
       "      <td>False</td>\n",
       "      <td>2014-08-05</td>\n",
       "      <td>False</td>\n",
       "    </tr>\n",
       "    <tr>\n",
       "      <th>1321</th>\n",
       "      <td>Ethereum Classic</td>\n",
       "      <td>ETC</td>\n",
       "      <td>ethereum-classic</td>\n",
       "      <td>296</td>\n",
       "      <td>2016-07-24T00:00:00.000Z</td>\n",
       "      <td>[mineable, pow, ethash, platform, smart-contra...</td>\n",
       "      <td>2.107000e+08</td>\n",
       "      <td>1.343862e+08</td>\n",
       "      <td>2.107000e+08</td>\n",
       "      <td>None</td>\n",
       "      <td>33</td>\n",
       "      <td>NaN</td>\n",
       "      <td>NaN</td>\n",
       "      <td>2022-04-23T04:02:00.000Z</td>\n",
       "      <td>{'USD': {'price': 34.93807767017003, 'volume_2...</td>\n",
       "      <td>2022-04-23 00:04:05.244269</td>\n",
       "      <td>False</td>\n",
       "      <td>2016-07-24</td>\n",
       "      <td>False</td>\n",
       "    </tr>\n",
       "    <tr>\n",
       "      <th>1966</th>\n",
       "      <td>Decentraland</td>\n",
       "      <td>MANA</td>\n",
       "      <td>decentraland</td>\n",
       "      <td>261</td>\n",
       "      <td>2017-09-17T00:00:00.000Z</td>\n",
       "      <td>[platform, collectibles-nfts, gaming, payments...</td>\n",
       "      <td>NaN</td>\n",
       "      <td>1.842483e+09</td>\n",
       "      <td>2.193694e+09</td>\n",
       "      <td>{'id': 1027, 'name': 'Ethereum', 'symbol': 'ET...</td>\n",
       "      <td>35</td>\n",
       "      <td>NaN</td>\n",
       "      <td>NaN</td>\n",
       "      <td>2022-04-23T04:02:00.000Z</td>\n",
       "      <td>{'USD': {'price': 2.0163145929804727, 'volume_...</td>\n",
       "      <td>2022-04-23 00:04:05.244269</td>\n",
       "      <td>False</td>\n",
       "      <td>2017-09-17</td>\n",
       "      <td>False</td>\n",
       "    </tr>\n",
       "    <tr>\n",
       "      <th>3077</th>\n",
       "      <td>VeChain</td>\n",
       "      <td>VET</td>\n",
       "      <td>vechain</td>\n",
       "      <td>180</td>\n",
       "      <td>2017-08-22T00:00:00.000Z</td>\n",
       "      <td>[logistics, data-provenance, iot, smart-contra...</td>\n",
       "      <td>8.671263e+10</td>\n",
       "      <td>6.431558e+10</td>\n",
       "      <td>8.671263e+10</td>\n",
       "      <td>None</td>\n",
       "      <td>36</td>\n",
       "      <td>NaN</td>\n",
       "      <td>NaN</td>\n",
       "      <td>2022-04-23T04:02:00.000Z</td>\n",
       "      <td>{'USD': {'price': 0.05762150938576257, 'volume...</td>\n",
       "      <td>2022-04-23 00:04:05.244269</td>\n",
       "      <td>False</td>\n",
       "      <td>2017-08-22</td>\n",
       "      <td>False</td>\n",
       "    </tr>\n",
       "    <tr>\n",
       "      <th>2280</th>\n",
       "      <td>Filecoin</td>\n",
       "      <td>FIL</td>\n",
       "      <td>filecoin</td>\n",
       "      <td>198</td>\n",
       "      <td>2017-12-13T00:00:00.000Z</td>\n",
       "      <td>[mineable, distributed-computing, filesharing,...</td>\n",
       "      <td>NaN</td>\n",
       "      <td>1.935763e+08</td>\n",
       "      <td>1.935763e+08</td>\n",
       "      <td>None</td>\n",
       "      <td>37</td>\n",
       "      <td>NaN</td>\n",
       "      <td>NaN</td>\n",
       "      <td>2022-04-23T04:02:00.000Z</td>\n",
       "      <td>{'USD': {'price': 19.126341076993683, 'volume_...</td>\n",
       "      <td>2022-04-23 00:04:05.244269</td>\n",
       "      <td>False</td>\n",
       "      <td>2017-12-13</td>\n",
       "      <td>False</td>\n",
       "    </tr>\n",
       "    <tr>\n",
       "      <th>2011</th>\n",
       "      <td>Tezos</td>\n",
       "      <td>XTZ</td>\n",
       "      <td>tezos</td>\n",
       "      <td>211</td>\n",
       "      <td>2017-10-06T00:00:00.000Z</td>\n",
       "      <td>[pos, platform, enterprise-solutions, collecti...</td>\n",
       "      <td>NaN</td>\n",
       "      <td>8.920752e+08</td>\n",
       "      <td>9.136976e+08</td>\n",
       "      <td>None</td>\n",
       "      <td>45</td>\n",
       "      <td>NaN</td>\n",
       "      <td>NaN</td>\n",
       "      <td>2022-04-23T04:02:00.000Z</td>\n",
       "      <td>{'USD': {'price': 3.0231922913852958, 'volume_...</td>\n",
       "      <td>2022-04-23 00:04:05.244269</td>\n",
       "      <td>False</td>\n",
       "      <td>2017-10-06</td>\n",
       "      <td>False</td>\n",
       "    </tr>\n",
       "    <tr>\n",
       "      <th>1765</th>\n",
       "      <td>EOS</td>\n",
       "      <td>EOS</td>\n",
       "      <td>eos</td>\n",
       "      <td>434</td>\n",
       "      <td>2017-07-01T00:00:00.000Z</td>\n",
       "      <td>[medium-of-exchange, enterprise-solutions, sma...</td>\n",
       "      <td>NaN</td>\n",
       "      <td>9.875979e+08</td>\n",
       "      <td>1.052822e+09</td>\n",
       "      <td>None</td>\n",
       "      <td>49</td>\n",
       "      <td>NaN</td>\n",
       "      <td>NaN</td>\n",
       "      <td>2022-04-23T04:02:00.000Z</td>\n",
       "      <td>{'USD': {'price': 2.4153259040104635, 'volume_...</td>\n",
       "      <td>2022-04-23 00:04:05.244269</td>\n",
       "      <td>False</td>\n",
       "      <td>2017-07-01</td>\n",
       "      <td>False</td>\n",
       "    </tr>\n",
       "    <tr>\n",
       "      <th>1437</th>\n",
       "      <td>Zcash</td>\n",
       "      <td>ZEC</td>\n",
       "      <td>zcash</td>\n",
       "      <td>249</td>\n",
       "      <td>2016-10-29T00:00:00.000Z</td>\n",
       "      <td>[mineable, pow, equihash, medium-of-exchange, ...</td>\n",
       "      <td>2.100000e+07</td>\n",
       "      <td>1.422767e+07</td>\n",
       "      <td>1.422767e+07</td>\n",
       "      <td>None</td>\n",
       "      <td>50</td>\n",
       "      <td>NaN</td>\n",
       "      <td>NaN</td>\n",
       "      <td>2022-04-23T04:02:00.000Z</td>\n",
       "      <td>{'USD': {'price': 154.7133627970565, 'volume_2...</td>\n",
       "      <td>2022-04-23 00:04:05.244269</td>\n",
       "      <td>False</td>\n",
       "      <td>2016-10-29</td>\n",
       "      <td>False</td>\n",
       "    </tr>\n",
       "    <tr>\n",
       "      <th>1274</th>\n",
       "      <td>Waves</td>\n",
       "      <td>WAVES</td>\n",
       "      <td>waves</td>\n",
       "      <td>174</td>\n",
       "      <td>2016-06-02T00:00:00.000Z</td>\n",
       "      <td>[lpos, platform, smart-contracts]</td>\n",
       "      <td>NaN</td>\n",
       "      <td>1.080753e+08</td>\n",
       "      <td>1.080753e+08</td>\n",
       "      <td>None</td>\n",
       "      <td>52</td>\n",
       "      <td>NaN</td>\n",
       "      <td>NaN</td>\n",
       "      <td>2022-04-23T04:02:00.000Z</td>\n",
       "      <td>{'USD': {'price': 18.97552813578985, 'volume_2...</td>\n",
       "      <td>2022-04-23 00:04:05.244269</td>\n",
       "      <td>False</td>\n",
       "      <td>2016-06-02</td>\n",
       "      <td>False</td>\n",
       "    </tr>\n",
       "  </tbody>\n",
       "</table>\n",
       "</div>"
      ],
      "text/plain": [
       "                  name symbol              slug  num_market_pairs  \\\n",
       "id                                                                  \n",
       "1              Bitcoin    BTC           bitcoin              9357   \n",
       "1027          Ethereum    ETH          ethereum              5659   \n",
       "1839               BNB    BNB               bnb               813   \n",
       "52                 XRP    XRP               xrp               712   \n",
       "2010           Cardano    ADA           cardano               426   \n",
       "74            Dogecoin   DOGE          dogecoin               466   \n",
       "2             Litecoin    LTC          litecoin               765   \n",
       "1958              TRON    TRX              tron               593   \n",
       "1975         Chainlink   LINK         chainlink               633   \n",
       "1831      Bitcoin Cash    BCH      bitcoin-cash               589   \n",
       "328             Monero    XMR            monero               174   \n",
       "512            Stellar    XLM           stellar               420   \n",
       "1321  Ethereum Classic    ETC  ethereum-classic               296   \n",
       "1966      Decentraland   MANA      decentraland               261   \n",
       "3077           VeChain    VET           vechain               180   \n",
       "2280          Filecoin    FIL          filecoin               198   \n",
       "2011             Tezos    XTZ             tezos               211   \n",
       "1765               EOS    EOS               eos               434   \n",
       "1437             Zcash    ZEC             zcash               249   \n",
       "1274             Waves  WAVES             waves               174   \n",
       "\n",
       "                    date_added  \\\n",
       "id                               \n",
       "1     2013-04-28T00:00:00.000Z   \n",
       "1027  2015-08-07T00:00:00.000Z   \n",
       "1839  2017-07-25T00:00:00.000Z   \n",
       "52    2013-08-04T00:00:00.000Z   \n",
       "2010  2017-10-01T00:00:00.000Z   \n",
       "74    2013-12-15T00:00:00.000Z   \n",
       "2     2013-04-28T00:00:00.000Z   \n",
       "1958  2017-09-13T00:00:00.000Z   \n",
       "1975  2017-09-20T00:00:00.000Z   \n",
       "1831  2017-07-23T00:00:00.000Z   \n",
       "328   2014-05-21T00:00:00.000Z   \n",
       "512   2014-08-05T00:00:00.000Z   \n",
       "1321  2016-07-24T00:00:00.000Z   \n",
       "1966  2017-09-17T00:00:00.000Z   \n",
       "3077  2017-08-22T00:00:00.000Z   \n",
       "2280  2017-12-13T00:00:00.000Z   \n",
       "2011  2017-10-06T00:00:00.000Z   \n",
       "1765  2017-07-01T00:00:00.000Z   \n",
       "1437  2016-10-29T00:00:00.000Z   \n",
       "1274  2016-06-02T00:00:00.000Z   \n",
       "\n",
       "                                                   tags    max_supply  \\\n",
       "id                                                                      \n",
       "1     [mineable, pow, sha-256, store-of-value, state...  2.100000e+07   \n",
       "1027  [mineable, pow, smart-contracts, ethereum-ecos...           NaN   \n",
       "1839  [marketplace, centralized-exchange, payments, ...  1.651168e+08   \n",
       "52    [medium-of-exchange, enterprise-solutions, bin...  1.000000e+11   \n",
       "2010  [mineable, dpos, pos, platform, research, smar...  4.500000e+10   \n",
       "74    [mineable, pow, scrypt, medium-of-exchange, me...           NaN   \n",
       "2     [mineable, pow, scrypt, medium-of-exchange, bi...  8.400000e+07   \n",
       "1958       [media, payments, tron-ecosystem, bnb-chain]           NaN   \n",
       "1975  [platform, defi, oracles, smart-contracts, sub...  1.000000e+09   \n",
       "1831  [mineable, pow, sha-256, marketplace, medium-o...  2.100000e+07   \n",
       "328   [mineable, pow, medium-of-exchange, privacy, r...           NaN   \n",
       "512   [medium-of-exchange, enterprise-solutions, dec...  5.000181e+10   \n",
       "1321  [mineable, pow, ethash, platform, smart-contra...  2.107000e+08   \n",
       "1966  [platform, collectibles-nfts, gaming, payments...           NaN   \n",
       "3077  [logistics, data-provenance, iot, smart-contra...  8.671263e+10   \n",
       "2280  [mineable, distributed-computing, filesharing,...           NaN   \n",
       "2011  [pos, platform, enterprise-solutions, collecti...           NaN   \n",
       "1765  [medium-of-exchange, enterprise-solutions, sma...           NaN   \n",
       "1437  [mineable, pow, equihash, medium-of-exchange, ...  2.100000e+07   \n",
       "1274                  [lpos, platform, smart-contracts]           NaN   \n",
       "\n",
       "      circulating_supply  total_supply  \\\n",
       "id                                       \n",
       "1           1.901941e+07  1.901941e+07   \n",
       "1027        1.204898e+08  1.204898e+08   \n",
       "1839        1.632770e+08  1.632770e+08   \n",
       "52          4.810523e+10  9.998959e+10   \n",
       "2010        3.375257e+10  3.427770e+10   \n",
       "74          1.326708e+11  1.326708e+11   \n",
       "2           7.012854e+07  8.400000e+07   \n",
       "1958        1.016346e+11  1.016346e+11   \n",
       "1975        4.670095e+08  1.000000e+09   \n",
       "1831        1.904387e+07  1.904387e+07   \n",
       "328         1.811128e+07  1.811128e+07   \n",
       "512         2.479172e+10  5.000179e+10   \n",
       "1321        1.343862e+08  2.107000e+08   \n",
       "1966        1.842483e+09  2.193694e+09   \n",
       "3077        6.431558e+10  8.671263e+10   \n",
       "2280        1.935763e+08  1.935763e+08   \n",
       "2011        8.920752e+08  9.136976e+08   \n",
       "1765        9.875979e+08  1.052822e+09   \n",
       "1437        1.422767e+07  1.422767e+07   \n",
       "1274        1.080753e+08  1.080753e+08   \n",
       "\n",
       "                                               platform  cmc_rank  \\\n",
       "id                                                                  \n",
       "1                                                  None         1   \n",
       "1027                                               None         2   \n",
       "1839                                               None         4   \n",
       "52                                                 None         6   \n",
       "2010                                               None         9   \n",
       "74                                                 None        13   \n",
       "2                                                  None        21   \n",
       "1958                                               None        22   \n",
       "1975  {'id': 1027, 'name': 'Ethereum', 'symbol': 'ET...        24   \n",
       "1831                                               None        26   \n",
       "328                                                None        29   \n",
       "512                                                None        31   \n",
       "1321                                               None        33   \n",
       "1966  {'id': 1027, 'name': 'Ethereum', 'symbol': 'ET...        35   \n",
       "3077                                               None        36   \n",
       "2280                                               None        37   \n",
       "2011                                               None        45   \n",
       "1765                                               None        49   \n",
       "1437                                               None        50   \n",
       "1274                                               None        52   \n",
       "\n",
       "      self_reported_circulating_supply  self_reported_market_cap  \\\n",
       "id                                                                 \n",
       "1                                  NaN                       NaN   \n",
       "1027                               NaN                       NaN   \n",
       "1839                               NaN                       NaN   \n",
       "52                                 NaN                       NaN   \n",
       "2010                               NaN                       NaN   \n",
       "74                                 NaN                       NaN   \n",
       "2                                  NaN                       NaN   \n",
       "1958                      7.165966e+10              4.915263e+09   \n",
       "1975                               NaN                       NaN   \n",
       "1831                               NaN                       NaN   \n",
       "328                                NaN                       NaN   \n",
       "512                                NaN                       NaN   \n",
       "1321                               NaN                       NaN   \n",
       "1966                               NaN                       NaN   \n",
       "3077                               NaN                       NaN   \n",
       "2280                               NaN                       NaN   \n",
       "2011                               NaN                       NaN   \n",
       "1765                               NaN                       NaN   \n",
       "1437                               NaN                       NaN   \n",
       "1274                               NaN                       NaN   \n",
       "\n",
       "                  last_updated  \\\n",
       "id                               \n",
       "1     2022-04-23T04:03:00.000Z   \n",
       "1027  2022-04-23T04:02:00.000Z   \n",
       "1839  2022-04-23T04:02:00.000Z   \n",
       "52    2022-04-23T04:02:00.000Z   \n",
       "2010  2022-04-23T04:02:00.000Z   \n",
       "74    2022-04-23T04:02:00.000Z   \n",
       "2     2022-04-23T04:03:00.000Z   \n",
       "1958  2022-04-23T04:02:00.000Z   \n",
       "1975  2022-04-23T04:02:00.000Z   \n",
       "1831  2022-04-23T04:02:00.000Z   \n",
       "328   2022-04-23T04:02:00.000Z   \n",
       "512   2022-04-23T04:02:00.000Z   \n",
       "1321  2022-04-23T04:02:00.000Z   \n",
       "1966  2022-04-23T04:02:00.000Z   \n",
       "3077  2022-04-23T04:02:00.000Z   \n",
       "2280  2022-04-23T04:02:00.000Z   \n",
       "2011  2022-04-23T04:02:00.000Z   \n",
       "1765  2022-04-23T04:02:00.000Z   \n",
       "1437  2022-04-23T04:02:00.000Z   \n",
       "1274  2022-04-23T04:02:00.000Z   \n",
       "\n",
       "                                                  quote  \\\n",
       "id                                                        \n",
       "1     {'USD': {'price': 39482.053435971604, 'volume_...   \n",
       "1027  {'USD': {'price': 2949.370472685365, 'volume_2...   \n",
       "1839  {'USD': {'price': 403.44419264531916, 'volume_...   \n",
       "52    {'USD': {'price': 0.7133355993747462, 'volume_...   \n",
       "2010  {'USD': {'price': 0.8932131524727057, 'volume_...   \n",
       "74    {'USD': {'price': 0.13494603692699958, 'volume...   \n",
       "2     {'USD': {'price': 105.617472937166, 'volume_24...   \n",
       "1958  {'USD': {'price': 0.06859177330028401, 'volume...   \n",
       "1975  {'USD': {'price': 13.455287542142084, 'volume_...   \n",
       "1831  {'USD': {'price': 318.4843502682241, 'volume_2...   \n",
       "328   {'USD': {'price': 267.58639594943395, 'volume_...   \n",
       "512   {'USD': {'price': 0.19286122282088872, 'volume...   \n",
       "1321  {'USD': {'price': 34.93807767017003, 'volume_2...   \n",
       "1966  {'USD': {'price': 2.0163145929804727, 'volume_...   \n",
       "3077  {'USD': {'price': 0.05762150938576257, 'volume...   \n",
       "2280  {'USD': {'price': 19.126341076993683, 'volume_...   \n",
       "2011  {'USD': {'price': 3.0231922913852958, 'volume_...   \n",
       "1765  {'USD': {'price': 2.4153259040104635, 'volume_...   \n",
       "1437  {'USD': {'price': 154.7133627970565, 'volume_2...   \n",
       "1274  {'USD': {'price': 18.97552813578985, 'volume_2...   \n",
       "\n",
       "                   request_time  is_stable_coin datetime_issue  is_meme  \n",
       "id                                                                       \n",
       "1    2022-04-23 00:04:05.244269           False     2013-04-28    False  \n",
       "1027 2022-04-23 00:04:05.244269           False     2015-08-07    False  \n",
       "1839 2022-04-23 00:04:05.244269           False     2017-07-25    False  \n",
       "52   2022-04-23 00:04:05.244269           False     2013-08-04    False  \n",
       "2010 2022-04-23 00:04:05.244269           False     2017-10-01    False  \n",
       "74   2022-04-23 00:04:05.244269           False     2013-12-15     True  \n",
       "2    2022-04-23 00:04:05.244269           False     2013-04-28    False  \n",
       "1958 2022-04-23 00:04:05.244269           False     2017-09-13    False  \n",
       "1975 2022-04-23 00:04:05.244269           False     2017-09-20    False  \n",
       "1831 2022-04-23 00:04:05.244269           False     2017-07-23    False  \n",
       "328  2022-04-23 00:04:05.244269           False     2014-05-21    False  \n",
       "512  2022-04-23 00:04:05.244269           False     2014-08-05    False  \n",
       "1321 2022-04-23 00:04:05.244269           False     2016-07-24    False  \n",
       "1966 2022-04-23 00:04:05.244269           False     2017-09-17    False  \n",
       "3077 2022-04-23 00:04:05.244269           False     2017-08-22    False  \n",
       "2280 2022-04-23 00:04:05.244269           False     2017-12-13    False  \n",
       "2011 2022-04-23 00:04:05.244269           False     2017-10-06    False  \n",
       "1765 2022-04-23 00:04:05.244269           False     2017-07-01    False  \n",
       "1437 2022-04-23 00:04:05.244269           False     2016-10-29    False  \n",
       "1274 2022-04-23 00:04:05.244269           False     2016-06-02    False  "
      ]
     },
     "execution_count": 114,
     "metadata": {},
     "output_type": "execute_result"
    }
   ],
   "source": [
    "shit_coin_info_df.loc[shit_coin_info_df['datetime_issue']<=datetime(2017, 12, 31)].head(20)"
   ]
  },
  {
   "cell_type": "code",
   "execution_count": 60,
   "id": "27806d3f",
   "metadata": {},
   "outputs": [
    {
     "data": {
      "text/plain": [
       "['cosmos-ecosystem',\n",
       " 'stablecoin',\n",
       " 'terra-ecosystem',\n",
       " 'injective-ecosystem',\n",
       " 'bnb-chain',\n",
       " 'usd-stablecoin']"
      ]
     },
     "execution_count": 60,
     "metadata": {},
     "output_type": "execute_result"
    }
   ],
   "source": [
    "cryptocurrency_listings_df.loc[7129, 'tags']"
   ]
  },
  {
   "cell_type": "code",
   "execution_count": 37,
   "id": "dfe0bec8",
   "metadata": {},
   "outputs": [],
   "source": [
    "cryptocurrency_trending_latest = cmc.cryptocurrency_listings_latest()"
   ]
  },
  {
   "cell_type": "code",
   "execution_count": 83,
   "id": "1fc87bed",
   "metadata": {},
   "outputs": [
    {
     "data": {
      "text/plain": [
       "['medium-of-exchange',\n",
       " 'enterprise-solutions',\n",
       " 'binance-chain',\n",
       " 'arrington-xrp-capital-portfolio',\n",
       " 'galaxy-digital-portfolio',\n",
       " 'a16z-portfolio',\n",
       " 'pantera-capital-portfolio']"
      ]
     },
     "execution_count": 83,
     "metadata": {},
     "output_type": "execute_result"
    }
   ],
   "source": [
    "shit_coin_info_df.loc[cmc_id_mapping['XRP']]['tags']"
   ]
  },
  {
   "cell_type": "code",
   "execution_count": 91,
   "id": "d859a953",
   "metadata": {},
   "outputs": [],
   "source": []
  },
  {
   "cell_type": "code",
   "execution_count": null,
   "id": "8a5a9f9e",
   "metadata": {},
   "outputs": [],
   "source": []
  }
 ],
 "metadata": {
  "kernelspec": {
   "display_name": "Python 3 (ipykernel)",
   "language": "python",
   "name": "python3"
  },
  "language_info": {
   "codemirror_mode": {
    "name": "ipython",
    "version": 3
   },
   "file_extension": ".py",
   "mimetype": "text/x-python",
   "name": "python",
   "nbconvert_exporter": "python",
   "pygments_lexer": "ipython3",
   "version": "3.8.9"
  }
 },
 "nbformat": 4,
 "nbformat_minor": 5
}
