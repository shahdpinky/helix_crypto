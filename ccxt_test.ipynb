{
 "cells": [
  {
   "cell_type": "code",
   "execution_count": 1,
   "metadata": {
    "pycharm": {
     "name": "#%%\n"
    }
   },
   "outputs": [],
   "source": [
    "# ftx\n",
    "API_KEY = 'QxlgFYZjNJ1zGdx2wmNCquPqrEkF6pFePmulQhfp'\n",
    "API_SECRET = 'Erca0sLmjhveBl-STPpRdVd5ply27WO2Y7tDwC7V'"
   ]
  },
  {
   "cell_type": "code",
   "execution_count": 2,
   "metadata": {
    "pycharm": {
     "name": "#%%\n"
    }
   },
   "outputs": [],
   "source": [
    "import ccxt"
   ]
  },
  {
   "cell_type": "code",
   "execution_count": 3,
   "metadata": {
    "pycharm": {
     "name": "#%%\n"
    }
   },
   "outputs": [],
   "source": [
    "from datetime import datetime\n",
    "import time\n",
    "import pandas as pd"
   ]
  },
  {
   "cell_type": "code",
   "execution_count": 3,
   "metadata": {
    "pycharm": {
     "name": "#%%\n"
    }
   },
   "outputs": [],
   "source": []
  },
  {
   "cell_type": "code",
   "execution_count": 4,
   "metadata": {
    "pycharm": {
     "name": "#%%\n"
    }
   },
   "outputs": [
    {
     "name": "stdout",
     "output_type": "stream",
     "text": [
      "['aax', 'aofex', 'ascendex', 'bequant', 'bibox', 'bigone', 'binance', 'binancecoinm', 'binanceus', 'binanceusdm', 'bit2c', 'bitbank', 'bitbay', 'bitbns', 'bitcoincom', 'bitfinex', 'bitfinex2', 'bitflyer', 'bitforex', 'bitget', 'bithumb', 'bitmart', 'bitmex', 'bitpanda', 'bitrue', 'bitso', 'bitstamp', 'bitstamp1', 'bittrex', 'bitvavo', 'bl3p', 'btcbox', 'btcmarkets', 'btctradeua', 'btcturk', 'buda', 'bw', 'bybit', 'bytetrade', 'cdax', 'cex', 'coinbase', 'coinbaseprime', 'coinbasepro', 'coincheck', 'coinex', 'coinfalcon', 'coinmarketcap', 'coinmate', 'coinone', 'coinspot', 'crex24', 'currencycom', 'delta', 'deribit', 'digifinex', 'eqonex', 'equos', 'exmo', 'flowbtc', 'ftx', 'ftxus', 'gateio', 'gemini', 'hitbtc', 'hitbtc3', 'hollaex', 'huobi', 'huobijp', 'huobipro', 'idex', 'independentreserve', 'indodax', 'itbit', 'kraken', 'kucoin', 'kuna', 'latoken', 'latoken1', 'lbank', 'liquid', 'luno', 'lykke', 'mercado', 'mexc', 'ndax', 'novadax', 'oceanex', 'okcoin', 'okex', 'okex3', 'okex5', 'paymium', 'phemex', 'poloniex', 'probit', 'qtrade', 'ripio', 'stex', 'therock', 'tidebit', 'tidex', 'timex', 'upbit', 'vcc', 'wavesexchange', 'whitebit', 'xena', 'yobit', 'zaif', 'zb']\n"
     ]
    }
   ],
   "source": [
    "print(ccxt.exchanges)"
   ]
  },
  {
   "cell_type": "code",
   "execution_count": 5,
   "metadata": {
    "pycharm": {
     "name": "#%%\n"
    }
   },
   "outputs": [],
   "source": [
    "\n",
    "exchange = ccxt.binance()"
   ]
  },
  {
   "cell_type": "code",
   "execution_count": 5,
   "metadata": {
    "pycharm": {
     "name": "#%%\n"
    }
   },
   "outputs": [],
   "source": []
  },
  {
   "cell_type": "code",
   "execution_count": 6,
   "metadata": {
    "pycharm": {
     "name": "#%%\n"
    }
   },
   "outputs": [],
   "source": [
    "# exchange can be instantiated like\n",
    "ftx_exchange = ccxt.ftx({\n",
    "    'rateLimit': 10000,  # unified exchange property\n",
    "    'headers': {\n",
    "        'YOUR_CUSTOM_HTTP_HEADER': 'YOUR_CUSTOM_VALUE',\n",
    "    },\n",
    "    'options': {\n",
    "        'adjustForTimeDifference': True,  # exchange-specific option\n",
    "    }\n",
    "})\n",
    "ftx_exchange.options['adjustForTimeDifference'] = False"
   ]
  },
  {
   "cell_type": "code",
   "execution_count": 7,
   "metadata": {
    "pycharm": {
     "name": "#%%\n"
    }
   },
   "outputs": [],
   "source": [
    "ftx_exchange = ccxt.ftx()"
   ]
  },
  {
   "cell_type": "code",
   "execution_count": 8,
   "metadata": {
    "pycharm": {
     "name": "#%%\n"
    }
   },
   "outputs": [],
   "source": [
    "binance_exchange = ccxt.binance()"
   ]
  },
  {
   "cell_type": "code",
   "execution_count": 9,
   "metadata": {
    "pycharm": {
     "name": "#%%\n"
    }
   },
   "outputs": [],
   "source": [
    "binance_markets = binance_exchange.load_markets()"
   ]
  },
  {
   "cell_type": "code",
   "execution_count": 10,
   "metadata": {
    "pycharm": {
     "name": "#%%\n"
    }
   },
   "outputs": [
    {
     "data": {
      "text/plain": "[41326.13, 0.00437]"
     },
     "execution_count": 10,
     "metadata": {},
     "output_type": "execute_result"
    }
   ],
   "source": [
    "btc_order_book = binance_exchange.fetch_order_book('BTC/USDT', limit=50000)\n",
    "# binance only 5000 orders\n",
    "\n",
    "btc_order_book['asks'][-1]"
   ]
  },
  {
   "cell_type": "code",
   "execution_count": 11,
   "metadata": {
    "pycharm": {
     "name": "#%%\n"
    }
   },
   "outputs": [
    {
     "data": {
      "text/plain": "dict_keys(['symbol', 'bids', 'asks', 'timestamp', 'datetime', 'nonce'])"
     },
     "execution_count": 11,
     "metadata": {},
     "output_type": "execute_result"
    }
   ],
   "source": [
    "btc_order_book.keys()"
   ]
  },
  {
   "cell_type": "code",
   "execution_count": 12,
   "metadata": {
    "pycharm": {
     "name": "#%%\n"
    }
   },
   "outputs": [],
   "source": [
    "btc_order_book['timestamp']"
   ]
  },
  {
   "cell_type": "code",
   "execution_count": 13,
   "metadata": {
    "pycharm": {
     "name": "#%%\n"
    }
   },
   "outputs": [
    {
     "data": {
      "text/plain": "        symbol                 bids                 asks timestamp datetime  \\\n0     BTC/USDT   [40550.0, 0.35782]  [40550.01, 9.30151]      None     None   \n1     BTC/USDT    [40549.65, 0.005]  [40550.75, 0.33295]      None     None   \n2     BTC/USDT  [40549.22, 0.01826]  [40550.76, 0.81599]      None     None   \n3     BTC/USDT   [40548.52, 0.0025]     [40551.32, 0.88]      None     None   \n4     BTC/USDT     [40548.34, 0.06]  [40551.44, 0.24854]      None     None   \n...        ...                  ...                  ...       ...      ...   \n4995  BTC/USDT  [39455.69, 0.00074]  [41325.86, 0.00192]      None     None   \n4996  BTC/USDT    [39455.5, 0.0007]  [41325.99, 0.00074]      None     None   \n4997  BTC/USDT  [39455.21, 0.00231]   [41326.0, 0.01975]      None     None   \n4998  BTC/USDT  [39455.17, 0.00594]   [41326.08, 0.0007]      None     None   \n4999  BTC/USDT  [39455.14, 0.00047]  [41326.13, 0.00437]      None     None   \n\n            nonce  \n0     18729685205  \n1     18729685205  \n2     18729685205  \n3     18729685205  \n4     18729685205  \n...           ...  \n4995  18729685205  \n4996  18729685205  \n4997  18729685205  \n4998  18729685205  \n4999  18729685205  \n\n[5000 rows x 6 columns]",
      "text/html": "<div>\n<style scoped>\n    .dataframe tbody tr th:only-of-type {\n        vertical-align: middle;\n    }\n\n    .dataframe tbody tr th {\n        vertical-align: top;\n    }\n\n    .dataframe thead th {\n        text-align: right;\n    }\n</style>\n<table border=\"1\" class=\"dataframe\">\n  <thead>\n    <tr style=\"text-align: right;\">\n      <th></th>\n      <th>symbol</th>\n      <th>bids</th>\n      <th>asks</th>\n      <th>timestamp</th>\n      <th>datetime</th>\n      <th>nonce</th>\n    </tr>\n  </thead>\n  <tbody>\n    <tr>\n      <th>0</th>\n      <td>BTC/USDT</td>\n      <td>[40550.0, 0.35782]</td>\n      <td>[40550.01, 9.30151]</td>\n      <td>None</td>\n      <td>None</td>\n      <td>18729685205</td>\n    </tr>\n    <tr>\n      <th>1</th>\n      <td>BTC/USDT</td>\n      <td>[40549.65, 0.005]</td>\n      <td>[40550.75, 0.33295]</td>\n      <td>None</td>\n      <td>None</td>\n      <td>18729685205</td>\n    </tr>\n    <tr>\n      <th>2</th>\n      <td>BTC/USDT</td>\n      <td>[40549.22, 0.01826]</td>\n      <td>[40550.76, 0.81599]</td>\n      <td>None</td>\n      <td>None</td>\n      <td>18729685205</td>\n    </tr>\n    <tr>\n      <th>3</th>\n      <td>BTC/USDT</td>\n      <td>[40548.52, 0.0025]</td>\n      <td>[40551.32, 0.88]</td>\n      <td>None</td>\n      <td>None</td>\n      <td>18729685205</td>\n    </tr>\n    <tr>\n      <th>4</th>\n      <td>BTC/USDT</td>\n      <td>[40548.34, 0.06]</td>\n      <td>[40551.44, 0.24854]</td>\n      <td>None</td>\n      <td>None</td>\n      <td>18729685205</td>\n    </tr>\n    <tr>\n      <th>...</th>\n      <td>...</td>\n      <td>...</td>\n      <td>...</td>\n      <td>...</td>\n      <td>...</td>\n      <td>...</td>\n    </tr>\n    <tr>\n      <th>4995</th>\n      <td>BTC/USDT</td>\n      <td>[39455.69, 0.00074]</td>\n      <td>[41325.86, 0.00192]</td>\n      <td>None</td>\n      <td>None</td>\n      <td>18729685205</td>\n    </tr>\n    <tr>\n      <th>4996</th>\n      <td>BTC/USDT</td>\n      <td>[39455.5, 0.0007]</td>\n      <td>[41325.99, 0.00074]</td>\n      <td>None</td>\n      <td>None</td>\n      <td>18729685205</td>\n    </tr>\n    <tr>\n      <th>4997</th>\n      <td>BTC/USDT</td>\n      <td>[39455.21, 0.00231]</td>\n      <td>[41326.0, 0.01975]</td>\n      <td>None</td>\n      <td>None</td>\n      <td>18729685205</td>\n    </tr>\n    <tr>\n      <th>4998</th>\n      <td>BTC/USDT</td>\n      <td>[39455.17, 0.00594]</td>\n      <td>[41326.08, 0.0007]</td>\n      <td>None</td>\n      <td>None</td>\n      <td>18729685205</td>\n    </tr>\n    <tr>\n      <th>4999</th>\n      <td>BTC/USDT</td>\n      <td>[39455.14, 0.00047]</td>\n      <td>[41326.13, 0.00437]</td>\n      <td>None</td>\n      <td>None</td>\n      <td>18729685205</td>\n    </tr>\n  </tbody>\n</table>\n<p>5000 rows × 6 columns</p>\n</div>"
     },
     "execution_count": 13,
     "metadata": {},
     "output_type": "execute_result"
    }
   ],
   "source": [
    "pd.DataFrame(btc_order_book)"
   ]
  },
  {
   "cell_type": "code",
   "execution_count": 14,
   "metadata": {
    "pycharm": {
     "name": "#%%\n"
    }
   },
   "outputs": [
    {
     "data": {
      "text/plain": "dict_keys(['symbol', 'bids', 'asks', 'timestamp', 'datetime', 'nonce'])"
     },
     "execution_count": 14,
     "metadata": {},
     "output_type": "execute_result"
    }
   ],
   "source": [
    "btc_order_book.keys()"
   ]
  },
  {
   "cell_type": "code",
   "execution_count": 15,
   "metadata": {
    "pycharm": {
     "name": "#%%\n"
    }
   },
   "outputs": [
    {
     "data": {
      "text/plain": "{'percentage': True,\n 'feeSide': 'get',\n 'tierBased': False,\n 'taker': 0.001,\n 'maker': 0.001,\n 'precision': {'base': 8, 'quote': 8, 'amount': 5, 'price': 2},\n 'limits': {'amount': {'min': 1e-05, 'max': 9000.0},\n  'price': {'min': 0.01, 'max': 1000000.0},\n  'cost': {'min': 10.0, 'max': None},\n  'market': {'min': 0.0, 'max': 129.46547078}},\n 'id': 'BTCUSDT',\n 'lowercaseId': 'btcusdt',\n 'symbol': 'BTC/USDT',\n 'base': 'BTC',\n 'quote': 'USDT',\n 'baseId': 'BTC',\n 'quoteId': 'USDT',\n 'info': {'symbol': 'BTCUSDT',\n  'status': 'TRADING',\n  'baseAsset': 'BTC',\n  'baseAssetPrecision': '8',\n  'quoteAsset': 'USDT',\n  'quotePrecision': '8',\n  'quoteAssetPrecision': '8',\n  'baseCommissionPrecision': '8',\n  'quoteCommissionPrecision': '8',\n  'orderTypes': ['LIMIT',\n   'LIMIT_MAKER',\n   'MARKET',\n   'STOP_LOSS_LIMIT',\n   'TAKE_PROFIT_LIMIT'],\n  'icebergAllowed': True,\n  'ocoAllowed': True,\n  'quoteOrderQtyMarketAllowed': True,\n  'allowTrailingStop': True,\n  'isSpotTradingAllowed': True,\n  'isMarginTradingAllowed': True,\n  'filters': [{'filterType': 'PRICE_FILTER',\n    'minPrice': '0.01000000',\n    'maxPrice': '1000000.00000000',\n    'tickSize': '0.01000000'},\n   {'filterType': 'PERCENT_PRICE',\n    'multiplierUp': '5',\n    'multiplierDown': '0.2',\n    'avgPriceMins': '5'},\n   {'filterType': 'LOT_SIZE',\n    'minQty': '0.00001000',\n    'maxQty': '9000.00000000',\n    'stepSize': '0.00001000'},\n   {'filterType': 'MIN_NOTIONAL',\n    'minNotional': '10.00000000',\n    'applyToMarket': True,\n    'avgPriceMins': '5'},\n   {'filterType': 'ICEBERG_PARTS', 'limit': '10'},\n   {'filterType': 'MARKET_LOT_SIZE',\n    'minQty': '0.00000000',\n    'maxQty': '129.46547078',\n    'stepSize': '0.00000000'},\n   {'filterType': 'TRAILING_DELTA',\n    'minTrailingAboveDelta': '10',\n    'maxTrailingAboveDelta': '2000',\n    'minTrailingBelowDelta': '10',\n    'maxTrailingBelowDelta': '2000'},\n   {'filterType': 'MAX_NUM_ORDERS', 'maxNumOrders': '200'},\n   {'filterType': 'MAX_NUM_ALGO_ORDERS', 'maxNumAlgoOrders': '5'}],\n  'permissions': ['SPOT', 'MARGIN']},\n 'spot': True,\n 'type': 'spot',\n 'margin': True,\n 'future': False,\n 'delivery': False,\n 'linear': False,\n 'inverse': False,\n 'expiry': None,\n 'expiryDatetime': None,\n 'settleId': None,\n 'settle': None,\n 'active': True,\n 'contractSize': None}"
     },
     "execution_count": 15,
     "metadata": {},
     "output_type": "execute_result"
    }
   ],
   "source": [
    "binance_markets['BTC/USDT']"
   ]
  },
  {
   "cell_type": "code",
   "execution_count": 15,
   "metadata": {
    "pycharm": {
     "name": "#%%\n"
    }
   },
   "outputs": [],
   "source": []
  },
  {
   "cell_type": "code",
   "execution_count": 16,
   "metadata": {
    "pycharm": {
     "name": "#%%\n"
    }
   },
   "outputs": [],
   "source": [
    "# ftx has no sandbox api\n",
    "# exchange specific properties and methods by passing a dict to constructor"
   ]
  },
  {
   "cell_type": "code",
   "execution_count": 17,
   "metadata": {
    "pycharm": {
     "name": "#%%\n"
    }
   },
   "outputs": [
    {
     "data": {
      "text/plain": "{'loadMarkets': True,\n 'cancelAllOrders': True,\n 'cancelOrder': True,\n 'cancelOrders': False,\n 'CORS': False,\n 'createDepositAddress': False,\n 'createLimitOrder': True,\n 'createMarketOrder': True,\n 'createOrder': True,\n 'deposit': False,\n 'editOrder': True,\n 'fetchBalance': True,\n 'fetchClosedOrders': None,\n 'fetchCurrencies': True,\n 'fetchDepositAddress': True,\n 'fetchDeposits': True,\n 'fetchL2OrderBook': True,\n 'fetchLedger': False,\n 'fetchMarkets': True,\n 'fetchMyTrades': True,\n 'fetchOHLCV': True,\n 'fetchOpenOrders': True,\n 'fetchOrder': True,\n 'fetchOrderBook': True,\n 'fetchOrderBooks': False,\n 'fetchOrders': True,\n 'fetchOrderTrades': False,\n 'fetchStatus': 'emulated',\n 'fetchTicker': True,\n 'fetchTickers': True,\n 'fetchTime': False,\n 'fetchTrades': True,\n 'fetchTradingFee': False,\n 'fetchTradingFees': True,\n 'fetchFundingFee': False,\n 'fetchFundingFees': None,\n 'fetchTradingLimits': False,\n 'fetchTransactions': False,\n 'fetchWithdrawals': True,\n 'privateAPI': True,\n 'publicAPI': True,\n 'signIn': False,\n 'withdraw': True,\n 'fetchFundingRate': True,\n 'fetchFundingHistory': True,\n 'fetchFundingRateHistory': True,\n 'fetchFundingRates': None,\n 'fetchIndexOHLCV': True,\n 'fetchMarkOHLCV': False,\n 'fetchPositions': True,\n 'fetchPremiumIndexOHLCV': False,\n 'setLeverage': True,\n 'setMarginMode': False}"
     },
     "execution_count": 17,
     "metadata": {},
     "output_type": "execute_result"
    }
   ],
   "source": [
    "# what ftx has as capabilities\n",
    "ftx_exchange.has"
   ]
  },
  {
   "cell_type": "code",
   "execution_count": 18,
   "metadata": {
    "pycharm": {
     "name": "#%%\n"
    }
   },
   "outputs": [],
   "source": [
    "ftx_markets = ftx_exchange.load_markets()"
   ]
  },
  {
   "cell_type": "code",
   "execution_count": 19,
   "metadata": {
    "pycharm": {
     "name": "#%%\n"
    }
   },
   "outputs": [],
   "source": [
    "binance_markets = binance_exchange.load_markets()"
   ]
  },
  {
   "cell_type": "code",
   "execution_count": 20,
   "metadata": {
    "pycharm": {
     "name": "#%%\n"
    }
   },
   "outputs": [],
   "source": [
    "binance_symbols = binance_exchange.symbols"
   ]
  },
  {
   "cell_type": "code",
   "execution_count": 21,
   "metadata": {
    "pycharm": {
     "name": "#%%\n"
    }
   },
   "outputs": [],
   "source": [
    "binance_pairs = [s for s in binance_symbols if 'USDT' in s]"
   ]
  },
  {
   "cell_type": "code",
   "execution_count": 22,
   "metadata": {
    "pycharm": {
     "name": "#%%\n"
    }
   },
   "outputs": [
    {
     "data": {
      "text/plain": "['1INCH/USDT',\n '1INCHDOWN/USDT',\n '1INCHUP/USDT',\n 'AAVE/USDT',\n 'AAVEDOWN/USDT',\n 'AAVEUP/USDT',\n 'ACA/USDT',\n 'ACH/USDT',\n 'ACM/USDT',\n 'ADA/USDT',\n 'ADADOWN/USDT',\n 'ADAUP/USDT',\n 'ADX/USDT',\n 'AGLD/USDT',\n 'AION/USDT',\n 'AKRO/USDT',\n 'ALCX/USDT',\n 'ALGO/USDT',\n 'ALICE/USDT',\n 'ALPACA/USDT',\n 'ALPHA/USDT',\n 'ALPINE/USDT',\n 'AMP/USDT',\n 'ANC/USDT',\n 'ANKR/USDT',\n 'ANT/USDT',\n 'ANY/USDT',\n 'APE/USDT',\n 'API3/USDT',\n 'AR/USDT',\n 'ARDR/USDT',\n 'ARPA/USDT',\n 'ASR/USDT',\n 'ASTR/USDT',\n 'ATA/USDT',\n 'ATM/USDT',\n 'ATOM/USDT',\n 'AUCTION/USDT',\n 'AUD/USDT',\n 'AUDIO/USDT',\n 'AUTO/USDT',\n 'AVA/USDT',\n 'AVAX/USDT',\n 'AXS/USDT',\n 'BADGER/USDT',\n 'BAKE/USDT',\n 'BAL/USDT',\n 'BAND/USDT',\n 'BAR/USDT',\n 'BAT/USDT',\n 'BCC/USDT',\n 'BCH/USDT',\n 'BCHDOWN/USDT',\n 'BCHUP/USDT',\n 'BEAM/USDT',\n 'BEAR/USDT',\n 'BEL/USDT',\n 'BETA/USDT',\n 'BICO/USDT',\n 'BIFI/USDT',\n 'BKRW/USDT',\n 'BLZ/USDT',\n 'BNB/USDT',\n 'BNBBEAR/USDT',\n 'BNBBULL/USDT',\n 'BNBDOWN/USDT',\n 'BNBUP/USDT',\n 'BNT/USDT',\n 'BNX/USDT',\n 'BOND/USDT',\n 'BSV/USDT',\n 'BSW/USDT',\n 'BTC/USDT',\n 'BTCDOWN/USDT',\n 'BTCST/USDT',\n 'BTCUP/USDT',\n 'BTG/USDT',\n 'BTS/USDT',\n 'BTT/USDT',\n 'BTTC/USDT',\n 'BULL/USDT',\n 'BURGER/USDT',\n 'BUSD/USDT',\n 'BZRX/USDT',\n 'C98/USDT',\n 'CAKE/USDT',\n 'CELO/USDT',\n 'CELR/USDT',\n 'CFX/USDT',\n 'CHESS/USDT',\n 'CHR/USDT',\n 'CHZ/USDT',\n 'CITY/USDT',\n 'CKB/USDT',\n 'CLV/USDT',\n 'COCOS/USDT',\n 'COMP/USDT',\n 'COS/USDT',\n 'COTI/USDT',\n 'CRV/USDT',\n 'CTK/USDT',\n 'CTSI/USDT',\n 'CTXC/USDT',\n 'CVC/USDT',\n 'CVP/USDT',\n 'CVX/USDT',\n 'DAI/USDT',\n 'DAR/USDT',\n 'DASH/USDT',\n 'DATA/USDT',\n 'DCR/USDT',\n 'DEGO/USDT',\n 'DENT/USDT',\n 'DEXE/USDT',\n 'DF/USDT',\n 'DGB/USDT',\n 'DIA/USDT',\n 'DNT/USDT',\n 'DOCK/USDT',\n 'DODO/USDT',\n 'DOGE/USDT',\n 'DOT/USDT',\n 'DOTDOWN/USDT',\n 'DOTUP/USDT',\n 'DREP/USDT',\n 'DUSK/USDT',\n 'DYDX/USDT',\n 'EGLD/USDT',\n 'ELF/USDT',\n 'ENJ/USDT',\n 'ENS/USDT',\n 'EOS/USDT',\n 'EOSBEAR/USDT',\n 'EOSBULL/USDT',\n 'EOSDOWN/USDT',\n 'EOSUP/USDT',\n 'EPS/USDT',\n 'ERD/USDT',\n 'ERN/USDT',\n 'ETC/USDT',\n 'ETH/USDT',\n 'ETHBEAR/USDT',\n 'ETHBULL/USDT',\n 'ETHDOWN/USDT',\n 'ETHUP/USDT',\n 'EUR/USDT',\n 'FARM/USDT',\n 'FET/USDT',\n 'FIDA/USDT',\n 'FIL/USDT',\n 'FILDOWN/USDT',\n 'FILUP/USDT',\n 'FIO/USDT',\n 'FIRO/USDT',\n 'FIS/USDT',\n 'FLM/USDT',\n 'FLOW/USDT',\n 'FLUX/USDT',\n 'FOR/USDT',\n 'FORTH/USDT',\n 'FRONT/USDT',\n 'FTM/USDT',\n 'FTT/USDT',\n 'FUN/USDT',\n 'FXS/USDT',\n 'GALA/USDT',\n 'GBP/USDT',\n 'GHST/USDT',\n 'GLMR/USDT',\n 'GMT/USDT',\n 'GNO/USDT',\n 'GRT/USDT',\n 'GTC/USDT',\n 'GTO/USDT',\n 'GXS/USDT',\n 'HARD/USDT',\n 'HBAR/USDT',\n 'HC/USDT',\n 'HIGH/USDT',\n 'HIVE/USDT',\n 'HNT/USDT',\n 'HOT/USDT',\n 'ICP/USDT',\n 'ICX/USDT',\n 'IDEX/USDT',\n 'ILV/USDT',\n 'IMX/USDT',\n 'INJ/USDT',\n 'IOST/USDT',\n 'IOTA/USDT',\n 'IOTX/USDT',\n 'IRIS/USDT',\n 'JASMY/USDT',\n 'JOE/USDT',\n 'JST/USDT',\n 'JUV/USDT',\n 'KAVA/USDT',\n 'KDA/USDT',\n 'KEEP/USDT',\n 'KEY/USDT',\n 'KLAY/USDT',\n 'KMD/USDT',\n 'KNC/USDT',\n 'KP3R/USDT',\n 'KSM/USDT',\n 'LAZIO/USDT',\n 'LEND/USDT',\n 'LINA/USDT',\n 'LINK/USDT',\n 'LINKDOWN/USDT',\n 'LINKUP/USDT',\n 'LIT/USDT',\n 'LOKA/USDT',\n 'LPT/USDT',\n 'LRC/USDT',\n 'LSK/USDT',\n 'LTC/USDT',\n 'LTCDOWN/USDT',\n 'LTCUP/USDT',\n 'LTO/USDT',\n 'LUNA/USDT',\n 'MANA/USDT',\n 'MASK/USDT',\n 'MATIC/USDT',\n 'MBL/USDT',\n 'MBOX/USDT',\n 'MC/USDT',\n 'MCO/USDT',\n 'MDT/USDT',\n 'MDX/USDT',\n 'MFT/USDT',\n 'MINA/USDT',\n 'MIR/USDT',\n 'MITH/USDT',\n 'MKR/USDT',\n 'MLN/USDT',\n 'MOVR/USDT',\n 'MTL/USDT',\n 'MULTI/USDT',\n 'NANO/USDT',\n 'NBS/USDT',\n 'NBT/USDT',\n 'NEAR/USDT',\n 'NEO/USDT',\n 'NKN/USDT',\n 'NMR/USDT',\n 'NPXS/USDT',\n 'NU/USDT',\n 'NULS/USDT',\n 'OCEAN/USDT',\n 'OG/USDT',\n 'OGN/USDT',\n 'OM/USDT',\n 'OMG/USDT',\n 'ONE/USDT',\n 'ONG/USDT',\n 'ONT/USDT',\n 'OOKI/USDT',\n 'ORN/USDT',\n 'OXT/USDT',\n 'PAX/USDT',\n 'PAXG/USDT',\n 'PEOPLE/USDT',\n 'PERL/USDT',\n 'PERP/USDT',\n 'PHA/USDT',\n 'PLA/USDT',\n 'PNT/USDT',\n 'POLS/USDT',\n 'POLY/USDT',\n 'POND/USDT',\n 'PORTO/USDT',\n 'POWR/USDT',\n 'PSG/USDT',\n 'PUNDIX/USDT',\n 'PYR/USDT',\n 'QI/USDT',\n 'QNT/USDT',\n 'QTUM/USDT',\n 'QUICK/USDT',\n 'RAD/USDT',\n 'RAMP/USDT',\n 'RARE/USDT',\n 'RAY/USDT',\n 'REEF/USDT',\n 'REN/USDT',\n 'REP/USDT',\n 'REQ/USDT',\n 'RGT/USDT',\n 'RIF/USDT',\n 'RLC/USDT',\n 'RNDR/USDT',\n 'ROSE/USDT',\n 'RSR/USDT',\n 'RUNE/USDT',\n 'RVN/USDT',\n 'SAND/USDT',\n 'SANTOS/USDT',\n 'SC/USDT',\n 'SCRT/USDT',\n 'SFP/USDT',\n 'SHIB/USDT',\n 'SKL/USDT',\n 'SLP/USDT',\n 'SNX/USDT',\n 'SOL/USDT',\n 'SPELL/USDT',\n 'SRM/USDT',\n 'STEEM/USDT',\n 'STMX/USDT',\n 'STORJ/USDT',\n 'STORM/USDT',\n 'STPT/USDT',\n 'STRAT/USDT',\n 'STRAX/USDT',\n 'STX/USDT',\n 'SUN/USDT',\n 'SUPER/USDT',\n 'SUSD/USDT',\n 'SUSHI/USDT',\n 'SUSHIDOWN/USDT',\n 'SUSHIUP/USDT',\n 'SXP/USDT',\n 'SXPDOWN/USDT',\n 'SXPUP/USDT',\n 'SYS/USDT',\n 'T/USDT',\n 'TCT/USDT',\n 'TFUEL/USDT',\n 'THETA/USDT',\n 'TKO/USDT',\n 'TLM/USDT',\n 'TOMO/USDT',\n 'TORN/USDT',\n 'TRB/USDT',\n 'TRIBE/USDT',\n 'TROY/USDT',\n 'TRU/USDT',\n 'TRX/USDT',\n 'TRXDOWN/USDT',\n 'TRXUP/USDT',\n 'TUSD/USDT',\n 'TVK/USDT',\n 'TWT/USDT',\n 'UMA/USDT',\n 'UNFI/USDT',\n 'UNI/USDT',\n 'UNIDOWN/USDT',\n 'UNIUP/USDT',\n 'USDC/USDT',\n 'USDP/USDT',\n 'USDS/USDT',\n 'USDSB/USDT',\n 'USDT/BIDR',\n 'USDT/BKRW',\n 'USDT/BRL',\n 'USDT/BVND',\n 'USDT/DAI',\n 'USDT/GYEN',\n 'USDT/IDRT',\n 'USDT/NGN',\n 'USDT/RUB',\n 'USDT/TRY',\n 'USDT/UAH',\n 'USDT/ZAR',\n 'UST/USDT',\n 'UTK/USDT',\n 'VEN/USDT',\n 'VET/USDT',\n 'VGX/USDT',\n 'VIDT/USDT',\n 'VITE/USDT',\n 'VOXEL/USDT',\n 'VTHO/USDT',\n 'WAN/USDT',\n 'WAVES/USDT',\n 'WAXP/USDT',\n 'WIN/USDT',\n 'WING/USDT',\n 'WNXM/USDT',\n 'WOO/USDT',\n 'WRX/USDT',\n 'WTC/USDT',\n 'XEC/USDT',\n 'XEM/USDT',\n 'XLM/USDT',\n 'XLMDOWN/USDT',\n 'XLMUP/USDT',\n 'XMR/USDT',\n 'XNO/USDT',\n 'XRP/USDT',\n 'XRPBEAR/USDT',\n 'XRPBULL/USDT',\n 'XRPDOWN/USDT',\n 'XRPUP/USDT',\n 'XTZ/USDT',\n 'XTZDOWN/USDT',\n 'XTZUP/USDT',\n 'XVG/USDT',\n 'XVS/USDT',\n 'XZC/USDT',\n 'YFI/USDT',\n 'YFIDOWN/USDT',\n 'YFII/USDT',\n 'YFIUP/USDT',\n 'YGG/USDT',\n 'ZEC/USDT',\n 'ZEN/USDT',\n 'ZIL/USDT',\n 'ZRX/USDT']"
     },
     "execution_count": 22,
     "metadata": {},
     "output_type": "execute_result"
    }
   ],
   "source": [
    "binance_pairs"
   ]
  },
  {
   "cell_type": "code",
   "execution_count": 23,
   "metadata": {
    "pycharm": {
     "name": "#%%\n"
    }
   },
   "outputs": [
    {
     "ename": "NameError",
     "evalue": "name 'coin_name' is not defined",
     "output_type": "error",
     "traceback": [
      "\u001B[0;31m---------------------------------------------------------------------------\u001B[0m",
      "\u001B[0;31mNameError\u001B[0m                                 Traceback (most recent call last)",
      "\u001B[0;32m/var/folders/c1/_mpw_d1x7zl9q4td_m6xzl100000gn/T/ipykernel_23303/3431331972.py\u001B[0m in \u001B[0;36m<module>\u001B[0;34m\u001B[0m\n\u001B[0;32m----> 1\u001B[0;31m \u001B[0mbinance_pairs_unique\u001B[0m \u001B[0;34m=\u001B[0m \u001B[0;34m[\u001B[0m\u001B[0mcoin\u001B[0m \u001B[0;32mfor\u001B[0m \u001B[0mcoin\u001B[0m \u001B[0;32min\u001B[0m \u001B[0mbinance_pairs\u001B[0m \u001B[0;32mif\u001B[0m \u001B[0;34m(\u001B[0m\u001B[0mcoin\u001B[0m\u001B[0;34m[\u001B[0m\u001B[0;34m:\u001B[0m\u001B[0;34m-\u001B[0m\u001B[0;36m5\u001B[0m\u001B[0;34m]\u001B[0m \u001B[0;32mnot\u001B[0m \u001B[0;32min\u001B[0m \u001B[0mcoin_name\u001B[0m\u001B[0;34m)\u001B[0m \u001B[0;32mand\u001B[0m \u001B[0;34m(\u001B[0m\u001B[0;34m'UP'\u001B[0m \u001B[0;32mnot\u001B[0m \u001B[0;32min\u001B[0m \u001B[0mcoin\u001B[0m\u001B[0;34m[\u001B[0m\u001B[0;34m:\u001B[0m\u001B[0;34m-\u001B[0m\u001B[0;36m5\u001B[0m\u001B[0;34m]\u001B[0m\u001B[0;34m)\u001B[0m \u001B[0;32mand\u001B[0m \u001B[0;34m(\u001B[0m\u001B[0;34m'DOWN'\u001B[0m \u001B[0;32mnot\u001B[0m \u001B[0;32min\u001B[0m \u001B[0mcoin\u001B[0m\u001B[0;34m[\u001B[0m\u001B[0;34m:\u001B[0m\u001B[0;34m-\u001B[0m\u001B[0;36m5\u001B[0m\u001B[0;34m]\u001B[0m\u001B[0;34m)\u001B[0m\u001B[0;34m]\u001B[0m\u001B[0;34m\u001B[0m\u001B[0;34m\u001B[0m\u001B[0m\n\u001B[0m\u001B[1;32m      2\u001B[0m \u001B[0mbinance_pairs_unique\u001B[0m \u001B[0;34m=\u001B[0m \u001B[0;34m[\u001B[0m\u001B[0mcoin\u001B[0m \u001B[0;32mfor\u001B[0m \u001B[0mcoin\u001B[0m \u001B[0;32min\u001B[0m \u001B[0mbinance_pairs_unique\u001B[0m \u001B[0;32mif\u001B[0m \u001B[0;34m(\u001B[0m\u001B[0;34m'BULL'\u001B[0m \u001B[0;32mnot\u001B[0m \u001B[0;32min\u001B[0m \u001B[0mcoin\u001B[0m\u001B[0;34m)\u001B[0m \u001B[0;32mand\u001B[0m \u001B[0;34m(\u001B[0m\u001B[0;34m'BEAR'\u001B[0m \u001B[0;32mnot\u001B[0m \u001B[0;32min\u001B[0m \u001B[0mcoin\u001B[0m\u001B[0;34m)\u001B[0m \u001B[0;34m]\u001B[0m\u001B[0;34m\u001B[0m\u001B[0;34m\u001B[0m\u001B[0m\n",
      "\u001B[0;32m/var/folders/c1/_mpw_d1x7zl9q4td_m6xzl100000gn/T/ipykernel_23303/3431331972.py\u001B[0m in \u001B[0;36m<listcomp>\u001B[0;34m(.0)\u001B[0m\n\u001B[0;32m----> 1\u001B[0;31m \u001B[0mbinance_pairs_unique\u001B[0m \u001B[0;34m=\u001B[0m \u001B[0;34m[\u001B[0m\u001B[0mcoin\u001B[0m \u001B[0;32mfor\u001B[0m \u001B[0mcoin\u001B[0m \u001B[0;32min\u001B[0m \u001B[0mbinance_pairs\u001B[0m \u001B[0;32mif\u001B[0m \u001B[0;34m(\u001B[0m\u001B[0mcoin\u001B[0m\u001B[0;34m[\u001B[0m\u001B[0;34m:\u001B[0m\u001B[0;34m-\u001B[0m\u001B[0;36m5\u001B[0m\u001B[0;34m]\u001B[0m \u001B[0;32mnot\u001B[0m \u001B[0;32min\u001B[0m \u001B[0mcoin_name\u001B[0m\u001B[0;34m)\u001B[0m \u001B[0;32mand\u001B[0m \u001B[0;34m(\u001B[0m\u001B[0;34m'UP'\u001B[0m \u001B[0;32mnot\u001B[0m \u001B[0;32min\u001B[0m \u001B[0mcoin\u001B[0m\u001B[0;34m[\u001B[0m\u001B[0;34m:\u001B[0m\u001B[0;34m-\u001B[0m\u001B[0;36m5\u001B[0m\u001B[0;34m]\u001B[0m\u001B[0;34m)\u001B[0m \u001B[0;32mand\u001B[0m \u001B[0;34m(\u001B[0m\u001B[0;34m'DOWN'\u001B[0m \u001B[0;32mnot\u001B[0m \u001B[0;32min\u001B[0m \u001B[0mcoin\u001B[0m\u001B[0;34m[\u001B[0m\u001B[0;34m:\u001B[0m\u001B[0;34m-\u001B[0m\u001B[0;36m5\u001B[0m\u001B[0;34m]\u001B[0m\u001B[0;34m)\u001B[0m\u001B[0;34m]\u001B[0m\u001B[0;34m\u001B[0m\u001B[0;34m\u001B[0m\u001B[0m\n\u001B[0m\u001B[1;32m      2\u001B[0m \u001B[0mbinance_pairs_unique\u001B[0m \u001B[0;34m=\u001B[0m \u001B[0;34m[\u001B[0m\u001B[0mcoin\u001B[0m \u001B[0;32mfor\u001B[0m \u001B[0mcoin\u001B[0m \u001B[0;32min\u001B[0m \u001B[0mbinance_pairs_unique\u001B[0m \u001B[0;32mif\u001B[0m \u001B[0;34m(\u001B[0m\u001B[0;34m'BULL'\u001B[0m \u001B[0;32mnot\u001B[0m \u001B[0;32min\u001B[0m \u001B[0mcoin\u001B[0m\u001B[0;34m)\u001B[0m \u001B[0;32mand\u001B[0m \u001B[0;34m(\u001B[0m\u001B[0;34m'BEAR'\u001B[0m \u001B[0;32mnot\u001B[0m \u001B[0;32min\u001B[0m \u001B[0mcoin\u001B[0m\u001B[0;34m)\u001B[0m \u001B[0;34m]\u001B[0m\u001B[0;34m\u001B[0m\u001B[0;34m\u001B[0m\u001B[0m\n",
      "\u001B[0;31mNameError\u001B[0m: name 'coin_name' is not defined"
     ]
    }
   ],
   "source": [
    "binance_pairs_unique = [coin for coin in binance_pairs if (coin[:-5] not in coin_name) and ('UP' not in coin[:-5]) and ('DOWN' not in coin[:-5])]\n",
    "binance_pairs_unique = [coin for coin in binance_pairs_unique if ('BULL' not in coin) and ('BEAR' not in coin) ]"
   ]
  },
  {
   "cell_type": "code",
   "execution_count": null,
   "metadata": {
    "pycharm": {
     "name": "#%%\n"
    }
   },
   "outputs": [],
   "source": [
    "binance_pairs_unique"
   ]
  },
  {
   "cell_type": "code",
   "execution_count": null,
   "metadata": {
    "pycharm": {
     "name": "#%%\n"
    }
   },
   "outputs": [],
   "source": [
    "binance_pairs_unique"
   ]
  },
  {
   "cell_type": "code",
   "execution_count": null,
   "metadata": {
    "pycharm": {
     "name": "#%%\n"
    }
   },
   "outputs": [],
   "source": [
    "binance_all_res_df = pd.DataFrame()\n",
    "for symbol in binance_pairs_unique:\n",
    "    time.sleep (binance_exchange.rateLimit / 1000) # time.sleep wants seconds\n",
    "    print(symbol)\n",
    "    symbol_res = binance_exchange.fetch_ohlcv (symbol, timeframe='5m', since =since)\n",
    "    symbol_res_df = pd.DataFrame(symbol_res, columns = header)\n",
    "    symbol_res_df['symbol'] = symbol\n",
    "    binance_all_res_df = binance_all_res_df.append(symbol_res_df)"
   ]
  },
  {
   "cell_type": "code",
   "execution_count": null,
   "metadata": {
    "pycharm": {
     "name": "#%%\n"
    }
   },
   "outputs": [],
   "source": [
    "binance_all_res_df = binance_all_res_df.dropna()"
   ]
  },
  {
   "cell_type": "code",
   "execution_count": null,
   "metadata": {
    "pycharm": {
     "name": "#%%\n"
    }
   },
   "outputs": [],
   "source": [
    "all_symbols = ftx_exchange.symbols"
   ]
  },
  {
   "cell_type": "code",
   "execution_count": null,
   "metadata": {
    "pycharm": {
     "name": "#%%\n"
    }
   },
   "outputs": [],
   "source": [
    "perp_pairs = [s for s in all_symbols if 'PERP' in s]"
   ]
  },
  {
   "cell_type": "code",
   "execution_count": null,
   "metadata": {
    "pycharm": {
     "name": "#%%\n"
    }
   },
   "outputs": [],
   "source": [
    "perp_pairs"
   ]
  },
  {
   "cell_type": "code",
   "execution_count": null,
   "metadata": {
    "pycharm": {
     "name": "#%%\n"
    }
   },
   "outputs": [],
   "source": [
    "from datetime import datetime\n",
    "import time\n",
    "import pandas as pd"
   ]
  },
  {
   "cell_type": "code",
   "execution_count": null,
   "metadata": {
    "pycharm": {
     "name": "#%%\n"
    }
   },
   "outputs": [],
   "source": [
    "day = '2021-12-04 00:20:00'\n",
    "since = round(datetime.strptime(str(day), '%Y-%m-%d %H:%M:%S').timestamp()*1000)\n",
    "header = ['time', 'open', 'high', 'low', 'close', 'volume']"
   ]
  },
  {
   "cell_type": "code",
   "execution_count": null,
   "metadata": {
    "pycharm": {
     "name": "#%%\n"
    }
   },
   "outputs": [],
   "source": [
    "all_res_df = pd.DataFrame()\n",
    "for symbol in perp_pairs:\n",
    "    time.sleep (ftx_exchange.rateLimit / 1000) # time.sleep wants seconds\n",
    "    print(symbol)\n",
    "    symbol_res = ftx_exchange.fetch_ohlcv (symbol, timeframe='5m', since =since)\n",
    "    symbol_res_df = pd.DataFrame(symbol_res, columns = header)\n",
    "    symbol_res_df['symbol'] = symbol\n",
    "    all_res_df = all_res_df.append(symbol_res_df)"
   ]
  },
  {
   "cell_type": "code",
   "execution_count": null,
   "metadata": {
    "pycharm": {
     "name": "#%%\n"
    }
   },
   "outputs": [],
   "source": [
    "all_res_df.to_pickle('big_bounce.pickle')"
   ]
  },
  {
   "cell_type": "code",
   "execution_count": null,
   "metadata": {
    "pycharm": {
     "name": "#%%\n"
    }
   },
   "outputs": [],
   "source": [
    "all_res_df = pd.read_pickle('big_bounce.pickle')"
   ]
  },
  {
   "cell_type": "code",
   "execution_count": null,
   "metadata": {
    "pycharm": {
     "name": "#%%\n"
    }
   },
   "outputs": [],
   "source": [
    "all_res_df.head()"
   ]
  },
  {
   "cell_type": "code",
   "execution_count": null,
   "metadata": {
    "pycharm": {
     "name": "#%%\n"
    }
   },
   "outputs": [],
   "source": [
    "all_res_df = all_res_df.append(binance_all_res_df)"
   ]
  },
  {
   "cell_type": "code",
   "execution_count": null,
   "metadata": {
    "pycharm": {
     "name": "#%%\n"
    }
   },
   "outputs": [],
   "source": [
    "all_res_df['datetime'] = all_res_df['time'].apply(lambda x: datetime.utcfromtimestamp(x/1000))"
   ]
  },
  {
   "cell_type": "code",
   "execution_count": null,
   "metadata": {
    "pycharm": {
     "name": "#%%\n"
    }
   },
   "outputs": [],
   "source": [
    "all_res_df_cleaned = all_res_df.set_index(['symbol', 'datetime'])"
   ]
  },
  {
   "cell_type": "code",
   "execution_count": null,
   "metadata": {
    "pycharm": {
     "name": "#%%\n"
    }
   },
   "outputs": [],
   "source": [
    "gb_sym_obj = all_res_df_cleaned.groupby('symbol')"
   ]
  },
  {
   "cell_type": "code",
   "execution_count": null,
   "metadata": {
    "pycharm": {
     "name": "#%%\n"
    }
   },
   "outputs": [],
   "source": [
    "def gb_find_bounce(x):\n",
    "    bottom_time = x['close'].idxmin()\n",
    "    low_price = x.loc[bottom_time]['close']\n",
    "    right_side_df = x[bottom_time:]\n",
    "    high_time = right_side_df['close'].idxmax()\n",
    "    high_price = right_side_df.loc[high_time]['close']\n",
    "    bounce_diff = high_price - low_price\n",
    "    bounce_pct = bounce_diff / low_price\n",
    "    return [low_price, bottom_time[1], high_price, high_time[1], bounce_diff, bounce_pct]"
   ]
  },
  {
   "cell_type": "code",
   "execution_count": null,
   "metadata": {
    "pycharm": {
     "name": "#%%\n"
    }
   },
   "outputs": [],
   "source": [
    "res = gb_sym_obj.apply(gb_find_bounce)\n",
    "res_dict = res.to_dict()"
   ]
  },
  {
   "cell_type": "code",
   "execution_count": null,
   "metadata": {
    "pycharm": {
     "name": "#%%\n"
    }
   },
   "outputs": [],
   "source": [
    "bounce_df = pd.DataFrame(res_dict).T"
   ]
  },
  {
   "cell_type": "code",
   "execution_count": null,
   "metadata": {
    "pycharm": {
     "name": "#%%\n"
    }
   },
   "outputs": [],
   "source": [
    "bounce_df.columns = ['low', 'low_time', 'high', 'high_time', 'bounce_diff', 'bounce_pct']"
   ]
  },
  {
   "cell_type": "code",
   "execution_count": null,
   "metadata": {
    "pycharm": {
     "name": "#%%\n"
    }
   },
   "outputs": [],
   "source": [
    "bounce_df = bounce_df.sort_values(by = 'bounce_pct', ascending=False)\n",
    "bounce_df['valid'] = bounce_df['high_time'] >=bounce_df['low_time']"
   ]
  },
  {
   "cell_type": "code",
   "execution_count": null,
   "metadata": {
    "pycharm": {
     "name": "#%%\n"
    }
   },
   "outputs": [],
   "source": [
    "bounce_df.to_csv('bounce_sort.xlsx')"
   ]
  },
  {
   "cell_type": "code",
   "execution_count": null,
   "metadata": {
    "pycharm": {
     "name": "#%%\n"
    }
   },
   "outputs": [],
   "source": [
    "import os"
   ]
  },
  {
   "cell_type": "code",
   "execution_count": null,
   "metadata": {
    "pycharm": {
     "name": "#%%\n"
    }
   },
   "outputs": [],
   "source": [
    "os.getcwd()"
   ]
  },
  {
   "cell_type": "code",
   "execution_count": null,
   "metadata": {
    "pycharm": {
     "name": "#%%\n"
    }
   },
   "outputs": [],
   "source": [
    "bounce_df"
   ]
  },
  {
   "cell_type": "code",
   "execution_count": null,
   "metadata": {
    "pycharm": {
     "name": "#%%\n"
    }
   },
   "outputs": [],
   "source": [
    "bounce_df.loc['DYDX-PERP']"
   ]
  },
  {
   "cell_type": "code",
   "execution_count": null,
   "metadata": {
    "pycharm": {
     "name": "#%%\n"
    }
   },
   "outputs": [],
   "source": [
    "bounce_df.head(50)"
   ]
  },
  {
   "cell_type": "code",
   "execution_count": null,
   "metadata": {
    "pycharm": {
     "name": "#%%\n"
    }
   },
   "outputs": [],
   "source": [
    "all_res_df_cleaned[all_res_df_cleaned['volume']==0] # interesting"
   ]
  },
  {
   "cell_type": "code",
   "execution_count": null,
   "metadata": {
    "pycharm": {
     "name": "#%%\n"
    }
   },
   "outputs": [],
   "source": [
    "gb_sym_obj.min()"
   ]
  },
  {
   "cell_type": "code",
   "execution_count": null,
   "metadata": {
    "pycharm": {
     "name": "#%%\n"
    }
   },
   "outputs": [],
   "source": [
    "# get market structure by symbol\n",
    "sol_perp = ftx_exchange.markets['SOL-PERP']"
   ]
  },
  {
   "cell_type": "code",
   "execution_count": null,
   "metadata": {
    "pycharm": {
     "name": "#%%\n"
    }
   },
   "outputs": [],
   "source": [
    "ftx_exchange.fetch_ohlcv (symbol, '1d')"
   ]
  },
  {
   "cell_type": "code",
   "execution_count": null,
   "metadata": {
    "pycharm": {
     "name": "#%%\n"
    }
   },
   "outputs": [],
   "source": [
    "sol_perp_book = ftx_exchange.fetch_order_book ('SOL-PERP', params={})\n",
    "# limit of depth of one side\n",
    "\n",
    "#sol_perp_book_l2 = ftx_exchange.fetch_l2_order_book ('SOL-PERP') # ftx no l1 and l3 order book"
   ]
  },
  {
   "cell_type": "code",
   "execution_count": null,
   "metadata": {
    "pycharm": {
     "name": "#%%\n"
    }
   },
   "outputs": [],
   "source": [
    "import plotly\n",
    "import plotly.express as px\n",
    "\n",
    "import pandas as pd"
   ]
  },
  {
   "cell_type": "code",
   "execution_count": null,
   "metadata": {
    "pycharm": {
     "name": "#%%\n"
    }
   },
   "outputs": [],
   "source": [
    "SOL_PERP = 'SOL-PERP'"
   ]
  },
  {
   "cell_type": "code",
   "execution_count": null,
   "metadata": {
    "pycharm": {
     "name": "#%%\n"
    }
   },
   "outputs": [],
   "source": [
    "bids_df = pd.DataFrame(sol_perp_book['bids'])"
   ]
  },
  {
   "cell_type": "code",
   "execution_count": null,
   "metadata": {
    "pycharm": {
     "name": "#%%\n"
    }
   },
   "outputs": [],
   "source": [
    "bids_df['dollar_value'] =bids_df[0]*bids_df[1]"
   ]
  },
  {
   "cell_type": "code",
   "execution_count": null,
   "metadata": {
    "pycharm": {
     "name": "#%%\n"
    }
   },
   "outputs": [],
   "source": [
    "ftx_markets"
   ]
  },
  {
   "cell_type": "code",
   "execution_count": null,
   "metadata": {
    "pycharm": {
     "name": "#%%\n"
    }
   },
   "outputs": [],
   "source": [
    "sol_ohlcv = ftx_exchange.fetch_ohlcv(SOL_PERP, timeframe='15m')"
   ]
  },
  {
   "cell_type": "code",
   "execution_count": null,
   "metadata": {
    "pycharm": {
     "name": "#%%\n"
    }
   },
   "outputs": [],
   "source": [
    "sol_ohlcv"
   ]
  },
  {
   "cell_type": "code",
   "execution_count": null,
   "metadata": {
    "pycharm": {
     "name": "#%%\n"
    }
   },
   "outputs": [],
   "source": [
    "ftx_exchange.fetch_status()"
   ]
  },
  {
   "cell_type": "code",
   "execution_count": null,
   "metadata": {
    "pycharm": {
     "name": "#%%\n"
    }
   },
   "outputs": [],
   "source": [
    "#fig = px.histogram(bids_df, x=0)\n",
    "#fig.show()"
   ]
  },
  {
   "cell_type": "code",
   "execution_count": null,
   "metadata": {
    "pycharm": {
     "name": "#%%\n"
    }
   },
   "outputs": [],
   "source": [
    "# market price\n",
    "orderbook = sol_perp_book\n",
    "bid = orderbook['bids'][0][0] if len (orderbook['bids']) > 0 else None\n",
    "ask = orderbook['asks'][0][0] if len (orderbook['asks']) > 0 else None\n",
    "spread = (ask - bid) if (bid and ask) else None\n",
    "print (ftx_exchange.id, 'market price', { 'bid': bid, 'ask': ask, 'spread': spread })"
   ]
  },
  {
   "cell_type": "markdown",
   "metadata": {
    "pycharm": {
     "name": "#%% md\n"
    }
   },
   "source": [
    "All fields in the ticker represent the past 24 hours prior to timestamp.\n",
    "The bidVolume is the volume (amount) of current best bid in the orderbook.\n",
    "The askVolume is the volume (amount) of current best ask in the orderbook.\n",
    "The baseVolume is the amount of base currency traded (bought or sold) in last 24 hours.\n",
    "The quoteVolume is the amount of quote currency traded (bought or sold) in last 24 hours."
   ]
  },
  {
   "cell_type": "code",
   "execution_count": null,
   "metadata": {
    "pycharm": {
     "name": "#%%\n"
    }
   },
   "outputs": [],
   "source": [
    "# price ticker\n",
    "ftx_exchange.fetch_ticker('SOL-PERP')"
   ]
  },
  {
   "cell_type": "code",
   "execution_count": null,
   "metadata": {
    "pycharm": {
     "name": "#%%\n"
    }
   },
   "outputs": [],
   "source": [
    "import time\n",
    "delay = 2 # seconds\n",
    "for symbol in ftx_exchange.markets:\n",
    "    print (ftx_exchange.fetch_order_book (symbol))\n",
    "    time.sleep (delay) # rate limit"
   ]
  },
  {
   "cell_type": "code",
   "execution_count": null,
   "metadata": {
    "pycharm": {
     "name": "#%%\n"
    }
   },
   "outputs": [],
   "source": [
    "solusd['active']"
   ]
  },
  {
   "cell_type": "code",
   "execution_count": null,
   "metadata": {
    "pycharm": {
     "name": "#%%\n"
    }
   },
   "outputs": [],
   "source": [
    "# The recommended way of working with exchanges is not using exchange-specific implicit methods but using the unified ccxt methods instead."
   ]
  },
  {
   "cell_type": "code",
   "execution_count": null,
   "metadata": {
    "pycharm": {
     "name": "#%%\n"
    }
   },
   "outputs": [],
   "source": [
    "# To get a list of all available methods with an exchange instance\n",
    "dir(ccxt.ftx())"
   ]
  },
  {
   "cell_type": "code",
   "execution_count": null,
   "metadata": {
    "pycharm": {
     "name": "#%%\n"
    }
   },
   "outputs": [],
   "source": [
    "ftx_exchange.public_get_funding_rates({'future': 'SOL-PERP'})"
   ]
  },
  {
   "cell_type": "code",
   "execution_count": null,
   "metadata": {
    "pycharm": {
     "name": "#%%\n"
    }
   },
   "outputs": [],
   "source": []
  }
 ],
 "metadata": {
  "kernelspec": {
   "display_name": "Python 3 (ipykernel)",
   "language": "python",
   "name": "python3"
  },
  "language_info": {
   "codemirror_mode": {
    "name": "ipython",
    "version": 3
   },
   "file_extension": ".py",
   "mimetype": "text/x-python",
   "name": "python",
   "nbconvert_exporter": "python",
   "pygments_lexer": "ipython3",
   "version": "3.8.9"
  }
 },
 "nbformat": 4,
 "nbformat_minor": 1
}