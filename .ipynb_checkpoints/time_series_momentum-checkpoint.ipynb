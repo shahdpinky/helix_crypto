{
 "cells": [
  {
   "cell_type": "code",
   "execution_count": 110,
   "metadata": {
    "pycharm": {
     "is_executing": true,
     "name": "#%%\n"
    }
   },
   "outputs": [],
   "source": [
    "import ccxt\n",
    "from datetime import datetime, timedelta\n",
    "import time\n",
    "import pandas as pd"
   ]
  },
  {
   "cell_type": "code",
   "execution_count": 78,
   "metadata": {},
   "outputs": [],
   "source": [
    "from data_provider.market_data_provider import get_ccxt_ohlcv\n",
    "from data_provider.coinmarketcap import get_cmc_listing_info_latest"
   ]
  },
  {
   "cell_type": "code",
   "execution_count": 79,
   "metadata": {},
   "outputs": [],
   "source": [
    "cryptocurrency_listings_df, cmc_id_mapping = get_cmc_listing_info_latest()\n",
    "cryptocurrency_listings_df = cryptocurrency_listings_df[~cryptocurrency_listings_df['is_stable_coin']]\n",
    "cryptocurrency_listings_df = cryptocurrency_listings_df[~cryptocurrency_listings_df['is_wrapped_token']].copy()"
   ]
  },
  {
   "cell_type": "code",
   "execution_count": 80,
   "metadata": {},
   "outputs": [],
   "source": [
    "all_coin_pair = [f'{c}/USDT' for c in cryptocurrency_listings_df['symbol'].values.tolist()]"
   ]
  },
  {
   "cell_type": "code",
   "execution_count": 81,
   "metadata": {},
   "outputs": [],
   "source": [
    "binance_exchange = ccxt.binance()\n",
    "binance_market = binance_exchange.load_markets()\n",
    "\n",
    "binance_pairs = list(set(all_coin_pair) & set(binance_exchange.symbols))\n",
    "\n",
    "rest_list = list(set(all_coin_pair) - set(binance_pairs)) # \n",
    "rest_list = [f\"{c[:c.find('/')]}/USD\" for c in rest_list]\n",
    "\n",
    "ftx_exchange = ccxt.ftx()\n",
    "ftx_market = ftx_exchange.load_markets()\n",
    "ftx_pairs = list(set(rest_list) & set(ftx_exchange.symbols))\n",
    "rest_list = list(set(rest_list) - set(ftx_pairs)) # \n",
    "rest_list = [f\"{c[:c.find('/')]}/BTC\" for c in rest_list]\n",
    "binance_pairs = binance_pairs + list(set(rest_list) & set(binance_exchange.symbols))\n",
    "# rest_list = list(set(rest_list) - (set(rest_list) & set(binance_exchange.symbols)))"
   ]
  },
  {
   "cell_type": "code",
   "execution_count": 88,
   "metadata": {},
   "outputs": [],
   "source": [
    "time_frame = '5m'"
   ]
  },
  {
   "cell_type": "code",
   "execution_count": 89,
   "metadata": {},
   "outputs": [
    {
     "name": "stdout",
     "output_type": "stream",
     "text": [
      "FIL/USDT\n",
      "SC/USDT\n",
      "HNT/USDT\n",
      "ONG/USDT\n",
      "SOL/USDT\n",
      "SCRT/USDT\n",
      "PEOPLE/USDT\n",
      "IOST/USDT\n",
      "UMA/USDT\n",
      "NEAR/USDT\n",
      "UNI/USDT\n",
      "IOTX/USDT\n",
      "NU/USDT\n",
      "HBAR/USDT\n",
      "ADA/USDT\n",
      "JOE/USDT\n",
      "RUNE/USDT\n",
      "BAT/USDT\n",
      "ZIL/USDT\n",
      "CVX/USDT\n",
      "SYS/USDT\n",
      "FLOW/USDT\n",
      "DYDX/USDT\n",
      "BCH/USDT\n",
      "RAY/USDT\n",
      "ILV/USDT\n",
      "BNB/USDT\n",
      "FET/USDT\n",
      "SNX/USDT\n",
      "AMP/USDT\n",
      "PYR/USDT\n",
      "POLY/USDT\n",
      "ATOM/USDT\n",
      "JST/USDT\n",
      "REQ/USDT\n",
      "ICX/USDT\n",
      "DCR/USDT\n",
      "XEC/USDT\n",
      "CHZ/USDT\n",
      "GALA/USDT\n",
      "OMG/USDT\n",
      "ZRX/USDT\n",
      "ENJ/USDT\n",
      "SAND/USDT\n",
      "XTZ/USDT\n",
      "ZEN/USDT\n",
      "TRX/USDT\n",
      "ACA/USDT\n",
      "WOO/USDT\n",
      "SUSHI/USDT\n",
      "GLMR/USDT\n",
      "ENS/USDT\n",
      "SXP/USDT\n",
      "XLM/USDT\n",
      "COMP/USDT\n",
      "MKR/USDT\n",
      "KLAY/USDT\n",
      "DENT/USDT\n",
      "AUDIO/USDT\n",
      "SPELL/USDT\n",
      "NEO/USDT\n",
      "IMX/USDT\n",
      "PERP/USDT\n",
      "CKB/USDT\n",
      "YFI/USDT\n",
      "MINA/USDT\n",
      "GMT/USDT\n",
      "BNT/USDT\n",
      "TFUEL/USDT\n",
      "ETH/USDT\n",
      "XNO/USDT\n",
      "XRP/USDT\n",
      "WRX/USDT\n",
      "SHIB/USDT\n",
      "KDA/USDT\n",
      "FLUX/USDT\n",
      "ONE/USDT\n",
      "STX/USDT\n",
      "CFX/USDT\n",
      "FTT/USDT\n",
      "STORJ/USDT\n",
      "SRM/USDT\n",
      "HIVE/USDT\n",
      "KSM/USDT\n",
      "DOGE/USDT\n",
      "KEEP/USDT\n",
      "ZEC/USDT\n",
      "CHR/USDT\n",
      "LTC/USDT\n",
      "THETA/USDT\n",
      "LPT/USDT\n",
      "RNDR/USDT\n",
      "CELR/USDT\n",
      "EOS/USDT\n",
      "AAVE/USDT\n",
      "BSV/USDT\n",
      "QTUM/USDT\n",
      "KAVA/USDT\n",
      "AXS/USDT\n",
      "FXS/USDT\n",
      "QNT/USDT\n",
      "REN/USDT\n",
      "BTT/USDT\n",
      "WAXP/USDT\n",
      "ROSE/USDT\n",
      "DGB/USDT\n",
      "EGLD/USDT\n",
      "RVN/USDT\n",
      "CRV/USDT\n",
      "PLA/USDT\n",
      "KNC/USDT\n",
      "ALGO/USDT\n",
      "ONT/USDT\n",
      "CELO/USDT\n",
      "ANC/USDT\n",
      "XMR/USDT\n",
      "GNO/USDT\n",
      "LUNA/USDT\n",
      "CAKE/USDT\n",
      "BTC/USDT\n",
      "VET/USDT\n",
      "TWT/USDT\n",
      "OCEAN/USDT\n",
      "LINK/USDT\n",
      "VGX/USDT\n",
      "SKL/USDT\n",
      "PUNDIX/USDT\n",
      "INJ/USDT\n",
      "WAVES/USDT\n",
      "POWR/USDT\n",
      "ANKR/USDT\n",
      "AR/USDT\n",
      "DASH/USDT\n",
      "HOT/USDT\n",
      "GRT/USDT\n",
      "ICP/USDT\n",
      "1INCH/USDT\n",
      "OGN/USDT\n",
      "APE/USDT\n",
      "COTI/USDT\n",
      "MANA/USDT\n",
      "ETC/USDT\n",
      "C98/USDT\n",
      "DOT/USDT\n",
      "FTM/USDT\n",
      "WIN/USDT\n",
      "AVAX/USDT\n",
      "LRC/USDT\n",
      "BTG/USDT\n",
      "LSK/USDT\n",
      "MATIC/USDT\n",
      "XEM/USDT\n",
      "PAXG/USDT\n",
      "GLM/BTC\n",
      "LEO/USD\n",
      "NEXO/USD\n",
      "HT/USD\n",
      "OKB/USD\n",
      "CRO/USD\n",
      "CEL/USD\n",
      "ORBS/USD\n",
      "GT/USD\n"
     ]
    }
   ],
   "source": [
    "binance_date_df = get_ccxt_ohlcv(binance_pairs, binance_exchange, time_frame)\n",
    "ftx_data_df = get_ccxt_ohlcv(ftx_pairs, ftx_exchange, time_frame)\n",
    "\n",
    "all_ohlcv_data_df = pd.concat([binance_date_df, ftx_data_df])"
   ]
  },
  {
   "cell_type": "code",
   "execution_count": null,
   "metadata": {},
   "outputs": [],
   "source": [
    "btc_usdt_df.dropna(axis=1, 'all')"
   ]
  },
  {
   "cell_type": "code",
   "execution_count": 95,
   "metadata": {},
   "outputs": [],
   "source": [
    "btc_usdt_df = all_ohlcv_data_df.loc['BTC/USDT']"
   ]
  },
  {
   "cell_type": "code",
   "execution_count": 107,
   "metadata": {},
   "outputs": [],
   "source": [
    "max_before_dump_time = btc_usdt_df['high'].idxmax()\n",
    "min_dump_time = btc_usdt_df['low'].idxmin()\n",
    "btc_after_dump_df = btc_usdt_df.loc[min_dump_time:].copy()\n",
    "max_bounce_time = btc_after_dump_df['high'].idxmax()"
   ]
  },
  {
   "cell_type": "code",
   "execution_count": 162,
   "metadata": {},
   "outputs": [],
   "source": [
    "def get_time_window_data(df, datetime_start, datetime_end):\n",
    "    logic = df.index.get_level_values(1) >= datetime_start\n",
    "    logic = logic & (df.index.get_level_values(1) <= datetime_end)\n",
    "    return df.loc[logic]"
   ]
  },
  {
   "cell_type": "code",
   "execution_count": 163,
   "metadata": {},
   "outputs": [],
   "source": [
    "max_before_dump_time_df = get_time_window_data(all_ohlcv_data_df, max_before_dump_time - timedelta(minutes=5), max_before_dump_time + timedelta(minutes=5))\n",
    "max_price_before_dump_time = max_before_dump_time_df.groupby('symbol')['high'].max()"
   ]
  },
  {
   "cell_type": "code",
   "execution_count": 164,
   "metadata": {},
   "outputs": [],
   "source": [
    "min_dump_time_df = get_time_window_data(all_ohlcv_data_df, min_dump_time - timedelta(minutes=5), min_dump_time + timedelta(minutes=5))\n",
    "min_price_dump = min_dump_time_df.groupby('symbol')['low'].min()"
   ]
  },
  {
   "cell_type": "code",
   "execution_count": 165,
   "metadata": {},
   "outputs": [],
   "source": [
    "max_bounce_time_df = get_time_window_data(all_ohlcv_data_df, max_bounce_time - timedelta(minutes=5), max_bounce_time + timedelta(minutes=5))\n",
    "max_price_bounce = max_bounce_time_df.groupby('symbol')['high'].max()"
   ]
  },
  {
   "cell_type": "code",
   "execution_count": 166,
   "metadata": {},
   "outputs": [],
   "source": [
    "max_dump_return = (min_price_dump - max_price_before_dump_time)/max_price_before_dump_time\n",
    "max_bounce_return = (max_price_bounce - min_price_dump)/min_price_dump"
   ]
  },
  {
   "cell_type": "code",
   "execution_count": 178,
   "metadata": {},
   "outputs": [],
   "source": [
    "dump_and_pump_stat_df = pd.concat([max_dump_return, max_bounce_return], axis=1)\n",
    "dump_and_pump_stat_df.columns = ['dump_return', 'bounce_return']\n",
    "dump_time_range_df = get_time_window_data(all_ohlcv_data_df, max_before_dump_time, min_dump_time)"
   ]
  },
  {
   "cell_type": "code",
   "execution_count": 180,
   "metadata": {},
   "outputs": [],
   "source": [
    "bounce_time_range_df = get_time_window_data(all_ohlcv_data_df, min_dump_time, max_bounce_time)"
   ]
  },
  {
   "cell_type": "code",
   "execution_count": 182,
   "metadata": {},
   "outputs": [],
   "source": [
    "dump_and_pump_stat_df['dump_time_avg_vol'] = dump_time_range_df.groupby('symbol')['volume'].mean()\n",
    "dump_and_pump_stat_df['bounce_time_avg_vol'] = bounce_time_range_df.groupby('symbol')['volume'].mean()"
   ]
  },
  {
   "cell_type": "code",
   "execution_count": 186,
   "metadata": {},
   "outputs": [],
   "source": [
    "dump_and_pump_stat_df = dump_and_pump_stat_df.sort_values('bounce_return',ascending=False)"
   ]
  },
  {
   "cell_type": "code",
   "execution_count": 190,
   "metadata": {},
   "outputs": [],
   "source": [
    "dump_and_pump_stat_df['trip_return'] = (1 + dump_and_pump_stat_df['dump_return'])*(1 + dump_and_pump_stat_df['bounce_return'])"
   ]
  },
  {
   "cell_type": "code",
   "execution_count": 193,
   "metadata": {},
   "outputs": [
    {
     "data": {
      "text/html": [
       "<div>\n",
       "<style scoped>\n",
       "    .dataframe tbody tr th:only-of-type {\n",
       "        vertical-align: middle;\n",
       "    }\n",
       "\n",
       "    .dataframe tbody tr th {\n",
       "        vertical-align: top;\n",
       "    }\n",
       "\n",
       "    .dataframe thead th {\n",
       "        text-align: right;\n",
       "    }\n",
       "</style>\n",
       "<table border=\"1\" class=\"dataframe\">\n",
       "  <thead>\n",
       "    <tr style=\"text-align: right;\">\n",
       "      <th></th>\n",
       "      <th>dump_return</th>\n",
       "      <th>bounce_return</th>\n",
       "      <th>dump_time_avg_vol</th>\n",
       "      <th>bounce_time_avg_vol</th>\n",
       "      <th>trip_return</th>\n",
       "    </tr>\n",
       "    <tr>\n",
       "      <th>symbol</th>\n",
       "      <th></th>\n",
       "      <th></th>\n",
       "      <th></th>\n",
       "      <th></th>\n",
       "      <th></th>\n",
       "    </tr>\n",
       "  </thead>\n",
       "  <tbody>\n",
       "    <tr>\n",
       "      <th>ZRX/USDT</th>\n",
       "      <td>0.071149</td>\n",
       "      <td>0.040463</td>\n",
       "      <td>4.219715e+05</td>\n",
       "      <td>4.420982e+05</td>\n",
       "      <td>1.114491</td>\n",
       "    </tr>\n",
       "    <tr>\n",
       "      <th>ORBS/USD</th>\n",
       "      <td>-0.046634</td>\n",
       "      <td>0.059281</td>\n",
       "      <td>6.704723e+02</td>\n",
       "      <td>9.324788e+02</td>\n",
       "      <td>1.009883</td>\n",
       "    </tr>\n",
       "    <tr>\n",
       "      <th>PAXG/USDT</th>\n",
       "      <td>-0.003145</td>\n",
       "      <td>0.001577</td>\n",
       "      <td>1.373955e+01</td>\n",
       "      <td>7.990410e+00</td>\n",
       "      <td>0.998428</td>\n",
       "    </tr>\n",
       "    <tr>\n",
       "      <th>APE/USDT</th>\n",
       "      <td>-0.026249</td>\n",
       "      <td>0.017169</td>\n",
       "      <td>1.113536e+05</td>\n",
       "      <td>8.174551e+04</td>\n",
       "      <td>0.990469</td>\n",
       "    </tr>\n",
       "    <tr>\n",
       "      <th>GMT/USDT</th>\n",
       "      <td>-0.046021</td>\n",
       "      <td>0.024935</td>\n",
       "      <td>6.713409e+05</td>\n",
       "      <td>5.541903e+05</td>\n",
       "      <td>0.977767</td>\n",
       "    </tr>\n",
       "    <tr>\n",
       "      <th>...</th>\n",
       "      <td>...</td>\n",
       "      <td>...</td>\n",
       "      <td>...</td>\n",
       "      <td>...</td>\n",
       "      <td>...</td>\n",
       "    </tr>\n",
       "    <tr>\n",
       "      <th>CRV/USDT</th>\n",
       "      <td>-0.148148</td>\n",
       "      <td>0.034527</td>\n",
       "      <td>4.654107e+04</td>\n",
       "      <td>2.915091e+04</td>\n",
       "      <td>0.881264</td>\n",
       "    </tr>\n",
       "    <tr>\n",
       "      <th>NEAR/USDT</th>\n",
       "      <td>-0.173718</td>\n",
       "      <td>0.055007</td>\n",
       "      <td>6.515121e+04</td>\n",
       "      <td>8.215896e+04</td>\n",
       "      <td>0.871733</td>\n",
       "    </tr>\n",
       "    <tr>\n",
       "      <th>ZEC/USDT</th>\n",
       "      <td>-0.160704</td>\n",
       "      <td>0.035639</td>\n",
       "      <td>7.826525e+02</td>\n",
       "      <td>5.803206e+02</td>\n",
       "      <td>0.869208</td>\n",
       "    </tr>\n",
       "    <tr>\n",
       "      <th>XMR/USDT</th>\n",
       "      <td>-0.137158</td>\n",
       "      <td>0.004844</td>\n",
       "      <td>6.143574e+02</td>\n",
       "      <td>5.850610e+02</td>\n",
       "      <td>0.867021</td>\n",
       "    </tr>\n",
       "    <tr>\n",
       "      <th>DOGE/USDT</th>\n",
       "      <td>-0.185809</td>\n",
       "      <td>0.037666</td>\n",
       "      <td>2.392231e+07</td>\n",
       "      <td>1.240313e+07</td>\n",
       "      <td>0.844859</td>\n",
       "    </tr>\n",
       "  </tbody>\n",
       "</table>\n",
       "<p>158 rows × 5 columns</p>\n",
       "</div>"
      ],
      "text/plain": [
       "           dump_return  bounce_return  dump_time_avg_vol  bounce_time_avg_vol  \\\n",
       "symbol                                                                          \n",
       "ZRX/USDT      0.071149       0.040463       4.219715e+05         4.420982e+05   \n",
       "ORBS/USD     -0.046634       0.059281       6.704723e+02         9.324788e+02   \n",
       "PAXG/USDT    -0.003145       0.001577       1.373955e+01         7.990410e+00   \n",
       "APE/USDT     -0.026249       0.017169       1.113536e+05         8.174551e+04   \n",
       "GMT/USDT     -0.046021       0.024935       6.713409e+05         5.541903e+05   \n",
       "...                ...            ...                ...                  ...   \n",
       "CRV/USDT     -0.148148       0.034527       4.654107e+04         2.915091e+04   \n",
       "NEAR/USDT    -0.173718       0.055007       6.515121e+04         8.215896e+04   \n",
       "ZEC/USDT     -0.160704       0.035639       7.826525e+02         5.803206e+02   \n",
       "XMR/USDT     -0.137158       0.004844       6.143574e+02         5.850610e+02   \n",
       "DOGE/USDT    -0.185809       0.037666       2.392231e+07         1.240313e+07   \n",
       "\n",
       "           trip_return  \n",
       "symbol                  \n",
       "ZRX/USDT      1.114491  \n",
       "ORBS/USD      1.009883  \n",
       "PAXG/USDT     0.998428  \n",
       "APE/USDT      0.990469  \n",
       "GMT/USDT      0.977767  \n",
       "...                ...  \n",
       "CRV/USDT      0.881264  \n",
       "NEAR/USDT     0.871733  \n",
       "ZEC/USDT      0.869208  \n",
       "XMR/USDT      0.867021  \n",
       "DOGE/USDT     0.844859  \n",
       "\n",
       "[158 rows x 5 columns]"
      ]
     },
     "execution_count": 193,
     "metadata": {},
     "output_type": "execute_result"
    }
   ],
   "source": [
    "dump_and_pump_stat_df.sort_values('trip_return',ascending=False)"
   ]
  },
  {
   "cell_type": "code",
   "execution_count": 196,
   "metadata": {},
   "outputs": [],
   "source": [
    "dump_and_pump_stat_df['pair'] = dump_and_pump_stat_df.index"
   ]
  },
  {
   "cell_type": "code",
   "execution_count": 225,
   "metadata": {},
   "outputs": [],
   "source": [
    "before_dump_time_range_df = get_time_window_data(all_ohlcv_data_df, binance_date_df.index.get_level_values(1)[0], max_before_dump_time)\n",
    "dump_and_pump_stat_df['avg_volume']=before_dump_time_range_df['volume'].unstack().T.mean()\n",
    "\n",
    "dump_and_pump_stat_df['bounce_time_avg_vol_normalized'] = dump_and_pump_stat_df['bounce_time_avg_vol']/ dump_and_pump_stat_df['avg_volume']\n",
    "dump_and_pump_stat_df['dump_time_avg_vol_normalized'] = dump_and_pump_stat_df['dump_time_avg_vol']/ dump_and_pump_stat_df['avg_volume']\n",
    "\n",
    "before_dump_time_range_df_return = before_dump_time_range_df['close'].unstack().T.pct_change()\n",
    "\n",
    "dump_and_pump_stat_df['dump_return_scaled'] = dump_and_pump_stat_df['dump_return'] / before_dump_time_range_df_return.std()\n",
    "dump_and_pump_stat_df['bounce_return_scaled'] = dump_and_pump_stat_df['bounce_return'] / before_dump_time_range_df_return.std()"
   ]
  },
  {
   "cell_type": "code",
   "execution_count": 257,
   "metadata": {},
   "outputs": [
    {
     "data": {
      "application/vnd.plotly.v1+json": {
       "config": {
        "plotlyServerURL": "https://plot.ly"
       },
       "data": [
        {
         "customdata": [
          [
           "ROSE/USDT"
          ],
          [
           "OGN/USDT"
          ],
          [
           "AAVE/USDT"
          ],
          [
           "AR/USDT"
          ],
          [
           "ENS/USDT"
          ],
          [
           "IMX/USDT"
          ],
          [
           "REN/USDT"
          ],
          [
           "ORBS/USD"
          ],
          [
           "KAVA/USDT"
          ],
          [
           "WOO/USDT"
          ],
          [
           "ZIL/USDT"
          ],
          [
           "COTI/USDT"
          ],
          [
           "PEOPLE/USDT"
          ],
          [
           "CELR/USDT"
          ],
          [
           "NEAR/USDT"
          ],
          [
           "SKL/USDT"
          ],
          [
           "1INCH/USDT"
          ],
          [
           "ICP/USDT"
          ],
          [
           "LRC/USDT"
          ],
          [
           "AUDIO/USDT"
          ],
          [
           "FIL/USDT"
          ],
          [
           "FET/USDT"
          ],
          [
           "ACA/USDT"
          ],
          [
           "CELO/USDT"
          ],
          [
           "CHR/USDT"
          ],
          [
           "SCRT/USDT"
          ],
          [
           "MINA/USDT"
          ],
          [
           "GALA/USDT"
          ],
          [
           "SXP/USDT"
          ],
          [
           "DGB/USDT"
          ],
          [
           "ICX/USDT"
          ],
          [
           "KSM/USDT"
          ],
          [
           "BCH/USDT"
          ],
          [
           "PERP/USDT"
          ],
          [
           "FLOW/USDT"
          ],
          [
           "XEC/USDT"
          ],
          [
           "RVN/USDT"
          ],
          [
           "THETA/USDT"
          ],
          [
           "EOS/USDT"
          ],
          [
           "ZRX/USDT"
          ],
          [
           "UMA/USDT"
          ],
          [
           "SNX/USDT"
          ],
          [
           "DASH/USDT"
          ],
          [
           "HNT/USDT"
          ],
          [
           "FTM/USDT"
          ],
          [
           "SPELL/USDT"
          ],
          [
           "DENT/USDT"
          ],
          [
           "RNDR/USDT"
          ],
          [
           "SUSHI/USDT"
          ],
          [
           "ZEN/USDT"
          ],
          [
           "COMP/USDT"
          ],
          [
           "ANKR/USDT"
          ],
          [
           "DOGE/USDT"
          ],
          [
           "HBAR/USDT"
          ],
          [
           "REQ/USDT"
          ],
          [
           "SRM/USDT"
          ],
          [
           "ATOM/USDT"
          ],
          [
           "OCEAN/USDT"
          ],
          [
           "LINK/USDT"
          ],
          [
           "DYDX/USDT"
          ],
          [
           "STORJ/USDT"
          ],
          [
           "XRP/USDT"
          ],
          [
           "ZEC/USDT"
          ],
          [
           "AXS/USDT"
          ],
          [
           "FLUX/USDT"
          ],
          [
           "SC/USDT"
          ],
          [
           "ETC/USDT"
          ],
          [
           "OMG/USDT"
          ],
          [
           "SAND/USDT"
          ],
          [
           "CRV/USDT"
          ],
          [
           "LPT/USDT"
          ],
          [
           "UNI/USDT"
          ],
          [
           "SHIB/USDT"
          ],
          [
           "ONE/USDT"
          ],
          [
           "ONT/USDT"
          ],
          [
           "CHZ/USDT"
          ],
          [
           "PYR/USDT"
          ],
          [
           "HOT/USDT"
          ],
          [
           "IOST/USDT"
          ],
          [
           "MANA/USDT"
          ],
          [
           "MATIC/USDT"
          ],
          [
           "RUNE/USDT"
          ],
          [
           "ALGO/USDT"
          ],
          [
           "DOT/USDT"
          ],
          [
           "IOTX/USDT"
          ],
          [
           "XEM/USDT"
          ],
          [
           "LTC/USDT"
          ],
          [
           "GRT/USDT"
          ],
          [
           "EGLD/USDT"
          ],
          [
           "ETH/USDT"
          ],
          [
           "ENJ/USDT"
          ],
          [
           "NEO/USDT"
          ],
          [
           "WAXP/USDT"
          ],
          [
           "SOL/USDT"
          ],
          [
           "WAVES/USDT"
          ],
          [
           "VET/USDT"
          ],
          [
           "AVAX/USDT"
          ],
          [
           "XLM/USDT"
          ],
          [
           "NEXO/USD"
          ],
          [
           "ADA/USDT"
          ],
          [
           "GMT/USDT"
          ],
          [
           "RAY/USDT"
          ],
          [
           "WRX/USDT"
          ],
          [
           "BNT/USDT"
          ],
          [
           "QTUM/USDT"
          ],
          [
           "BAT/USDT"
          ],
          [
           "BNB/USDT"
          ],
          [
           "YFI/USDT"
          ],
          [
           "ANC/USDT"
          ],
          [
           "STX/USDT"
          ],
          [
           "INJ/USDT"
          ],
          [
           "AMP/USDT"
          ],
          [
           "BTC/USDT"
          ],
          [
           "DCR/USDT"
          ],
          [
           "CVX/USDT"
          ],
          [
           "FTT/USDT"
          ],
          [
           "KDA/USDT"
          ],
          [
           "MKR/USDT"
          ],
          [
           "ILV/USDT"
          ],
          [
           "TRX/USDT"
          ],
          [
           "HT/USD"
          ],
          [
           "APE/USDT"
          ],
          [
           "JOE/USDT"
          ],
          [
           "GLMR/USDT"
          ],
          [
           "OKB/USD"
          ],
          [
           "TFUEL/USDT"
          ],
          [
           "XNO/USDT"
          ],
          [
           "LUNA/USDT"
          ],
          [
           "BTG/USDT"
          ],
          [
           "CFX/USDT"
          ],
          [
           "CRO/USD"
          ],
          [
           "JST/USDT"
          ],
          [
           "PLA/USDT"
          ],
          [
           "KLAY/USDT"
          ],
          [
           "QNT/USDT"
          ],
          [
           "HIVE/USDT"
          ],
          [
           "C98/USDT"
          ],
          [
           "CKB/USDT"
          ],
          [
           "KNC/USDT"
          ],
          [
           "VGX/USDT"
          ],
          [
           "TWT/USDT"
          ],
          [
           "CEL/USD"
          ],
          [
           "LSK/USDT"
          ],
          [
           "POWR/USDT"
          ],
          [
           "ONG/USDT"
          ],
          [
           "FXS/USDT"
          ],
          [
           "XMR/USDT"
          ],
          [
           "CAKE/USDT"
          ],
          [
           "PUNDIX/USDT"
          ],
          [
           "POLY/USDT"
          ],
          [
           "LEO/USD"
          ],
          [
           "GNO/USDT"
          ],
          [
           "GT/USD"
          ],
          [
           "PAXG/USDT"
          ],
          [
           "WIN/USDT"
          ],
          [
           "XTZ/USDT"
          ],
          [
           "GLM/BTC"
          ],
          [
           "SYS/USDT"
          ]
         ],
         "hovertemplate": "dump_return_scaled=%{x}<br>bounce_return_scaled=%{y}<br>bounce_time_avg_vol_normalized=%{marker.size}<br>pair=%{customdata[0]}<extra></extra>",
         "legendgroup": "",
         "marker": {
          "color": "#636efa",
          "size": [
           0.9034569972330778,
           4.999455346439585,
           4.175566197710687,
           4.838433089990599,
           0.9235484829570594,
           1.8121328510608994,
           1.0657434841210938,
           1.6795609510152316,
           0.8909783150631913,
           0.6261799374832371,
           1.422022218878944,
           0.7816206045310374,
           1.2656297510578547,
           2.747467472832892,
           1.4624834136032068,
           1.9332645980868124,
           2.1542153528868306,
           1.6054343723930333,
           0.8719872169974386,
           0.6033978270967773,
           1.188539172910924,
           0.36180707099749937,
           0.638887949531446,
           1.3316335235106278,
           1.8591239608401695,
           2.89199415514826,
           0.7155266332688558,
           1.3438479333682993,
           1.3605268191344102,
           1.1335239844195706,
           1.387796014207046,
           0.8688021221029654,
           2.1730433793583157,
           0.7945683079977943,
           1.1353241840305244,
           1.1328890774673024,
           1.4261122256630965,
           1.4159041096980471,
           1.1862220415139786,
           9.077748201885802,
           2.4979480804939707,
           1.17339352054081,
           0.8417079601344035,
           1.3140860602599662,
           0.909015753621911,
           0.9244873476780525,
           0.9200221102232593,
           0.9162478317006638,
           1.126452692778765,
           1.7285852722513415,
           1.1416649655124866,
           1.6616409768506109,
           0.3468510159901322,
           1.153943252566269,
           0.6883736172535923,
           2.8929702671979434,
           1.9193659489893091,
           1.3459379245591698,
           1.1294682333382737,
           1.92209852714984,
           1.229005565665922,
           1.3527745918489251,
           1.1548435624240703,
           0.7936155604061813,
           0.8349380945670245,
           1.0442117215887485,
           1.3622036886646498,
           1.8901131438639347,
           1.3747514656945274,
           0.8242779107658538,
           0.9216760095330223,
           1.1377414133374413,
           0.8199918107430579,
           1.108022197146495,
           0.758711244876538,
           0.7626534723870687,
           0.5121916015936024,
           1.0480457603885962,
           1.0918994984320325,
           1.188146787799286,
           1.3376292327915662,
           0.641345529475786,
           0.9808851130067329,
           1.2210065558521346,
           1.0035111447034302,
           0.5939050349615552,
           1.067709429666108,
           1.307347963251711,
           0.6696549065496775,
           1.0403908460264084,
           1.3954618576694622,
           1.2268740414926027,
           1.5212529004020987,
           0.8199066798553236,
           1.040534590036434,
           1.1278965516250603,
           0.7694419459138946,
           1.672851017394567,
           0.6043313698305155,
           1.615793840506897,
           0.9687048242908859,
           1.2630657579613067,
           0.987942144902426,
           0.3351689911457025,
           0.8959607242458103,
           1.4392949643593256,
           0.85695532102195,
           0.9016861020587029,
           0.993840282111677,
           0.7523313942339375,
           0.33354376475712116,
           0.34418193039206224,
           0.8643896747476079,
           0.3751918021561334,
           2.157230371639265,
           1.1592207591779393,
           0.5243331662993699,
           1.894152792324098,
           1.1199547708976219,
           0.897687577722565,
           0.4230386047667558,
           0.5365633579156368,
           0.29915983446214,
           0.9234837117449924,
           2.1179012087531763,
           1.9254168795732411,
           0.30354882718530674,
           0.6345687823153797,
           1.8868273366218842,
           1.11236367524308,
           0.9787314284519139,
           1.4006806638679448,
           0.6913638387661827,
           1.8280825475098594,
           0.9660178294655007,
           2.132002119259864,
           4.66731886619796,
           0.5582170045785377,
           0.950810898111202,
           0.8905888787000732,
           0.43026725528530196,
           0.17381962819755972,
           0.568981097793446,
           0.8678177488352373,
           1.8050109773337315,
           0.2920932391634049,
           1.2642799960691076,
           1.2802948731254304,
           0.5851222713513279,
           0.4607176508233973,
           0.46253754184785645,
           0.15777140503906684,
           0.4381723987876345,
           0.42022447067219304,
           0.7119192034682766,
           1.7147625847742072,
           0.8799203801527234,
           0.73580222557607
          ],
          "sizemode": "area",
          "sizeref": 0.022694370504714505,
          "symbol": "circle"
         },
         "mode": "markers",
         "name": "",
         "orientation": "v",
         "showlegend": false,
         "type": "scatter",
         "x": [
          -15.154489140402786,
          -42.14011731512934,
          -35.71655621591207,
          -30.566418973926837,
          -40.9900199258657,
          -24.363758816605113,
          -42.59871325890143,
          -12.902515500872273,
          -33.725907782571376,
          -35.66659457400251,
          -43.8177891762387,
          -32.37782644682441,
          -45.56106302745847,
          -53.684630694355555,
          -48.31859241706279,
          -48.479463073518104,
          -58.996561112241054,
          -48.952478406379925,
          -39.20243789850442,
          -44.010810972557564,
          -43.53178735063975,
          -22.9829368829039,
          -25.571667515858586,
          -34.21785458149135,
          -51.78478954216658,
          -32.40017130700058,
          -26.332718992052715,
          -52.13459262849485,
          -52.58490641460568,
          -44.964767262102825,
          -40.41897583342972,
          -29.581969352701023,
          -42.07442509078205,
          -24.2050519181954,
          -33.322588782850424,
          -52.78723671352547,
          -46.81137038238246,
          -50.69385340412062,
          -50.51120843202543,
          26.28484133060887,
          -34.3048623963431,
          -24.375084271295854,
          -41.086856406559896,
          -39.65479208147277,
          -40.26353974133679,
          -34.247853555124095,
          -43.82680746296361,
          -44.87456172944634,
          -55.44013088527516,
          -53.4083579564328,
          -44.29699503515554,
          -41.20468489286914,
          -23.224731555140057,
          -47.03496818075945,
          -16.73501390042082,
          -45.88807288201332,
          -49.323876769796534,
          -43.664921844427525,
          -47.30871432342346,
          -50.85887004980465,
          -43.17781609216317,
          -42.35420119173072,
          -50.206005922072926,
          -49.15026570200659,
          -28.019561425222737,
          -39.58327317598153,
          -50.60787385802969,
          -53.218627963499216,
          -46.01959400260204,
          -54.714443864386276,
          -51.94646534962944,
          -45.745885347450965,
          -25.05001008335464,
          -52.812941073454006,
          -33.207392196545094,
          -38.51758373223396,
          -24.0113372877117,
          -42.02603948424877,
          -34.190596383680514,
          -42.22256881883875,
          -47.642170004854336,
          -25.63467652804215,
          -41.33078874272005,
          -42.25616995656915,
          -37.51299491737662,
          -35.66536585858465,
          -41.93646020811135,
          -43.593035639230614,
          -39.80858022906212,
          -45.42820364478616,
          -44.270085425963124,
          -54.77924736259364,
          -38.32767140251505,
          -29.050356546800874,
          -36.840571185276694,
          -43.990784913679754,
          -28.18787192805579,
          -34.72832813786435,
          -35.902365063277436,
          -42.94774078238063,
          -12.853171728501717,
          -47.4317482552587,
          -25.85817350395112,
          -16.848120543164008,
          -31.865270915390443,
          -49.275172810102234,
          -41.87848938063044,
          -45.05178842797089,
          -25.934891088419665,
          -39.228158178372226,
          -18.144022543828747,
          -19.982996570280992,
          -36.60649819569554,
          -22.28298656679494,
          -29.827987626322468,
          -57.63422082106872,
          -17.09325173440687,
          -42.494917554751794,
          -60.32243780920926,
          -35.856303057701005,
          -43.12224923908374,
          -4.780650595729809,
          -16.162546898152907,
          -24.70020283341895,
          -25.313095674758713,
          -33.36015794702589,
          -26.67490858602266,
          -33.37714650301257,
          -21.815788963419706,
          -43.77141728685306,
          -38.00774819212252,
          -25.65081408645175,
          -19.077625221237433,
          -48.09886812339857,
          -29.95934972867699,
          -28.93749301533673,
          -33.701642146472885,
          -38.4007657660357,
          -13.413310822260724,
          -18.092522015258293,
          -19.189002328674885,
          -27.161099159129428,
          -12.763007612706897,
          -29.213969643377204,
          -29.78128640126031,
          -6.717496974958186,
          -37.97712248812196,
          -34.1883999030127,
          -18.505927561238043,
          -26.590956851956154,
          -21.749985093944517,
          -33.77700324965562,
          -12.06723690817022,
          -4.4505242848350814,
          -41.221348792846655,
          -28.928905016334433,
          -7.316525958524919,
          -13.37350021500274
         ],
         "xaxis": "x",
         "y": [
          10.976282503605567,
          29.843095015313025,
          28.492333680331154,
          24.55924867923249,
          18.058835040158463,
          15.954921460548679,
          22.847949067358424,
          16.40169557469989,
          16.337782569016234,
          16.392561578002155,
          19.347582608528192,
          14.05773488053874,
          17.755414268053645,
          19.799887859506885,
          15.299907005137866,
          17.6125720334084,
          24.822653883484023,
          21.581042651222223,
          18.687265156844308,
          13.676315338331113,
          21.970749145205282,
          8.882747702495383,
          9.134752398144283,
          14.470310149485728,
          17.012897096978676,
          15.471503805614516,
          10.529272703039187,
          19.31210271745579,
          19.70591895471357,
          15.936375173216344,
          17.474959581663757,
          17.021756135734535,
          21.780397727625566,
          7.48924612922003,
          15.66133504925178,
          17.7373578292017,
          17.081953893257346,
          14.86421737126434,
          17.149040812043225,
          14.948483121099365,
          18.931175790839823,
          7.696582802926437,
          17.87067305134176,
          15.5293253023257,
          15.207155376038575,
          12.482324919768095,
          14.799004202156636,
          12.934166937109019,
          15.573886765076242,
          15.84590135529586,
          15.719944485198281,
          16.432948670918094,
          4.7079949075401695,
          16.540953149227196,
          10.578694109985376,
          16.53089417951099,
          17.256429492640628,
          14.891527861426445,
          17.248853327785838,
          15.50231096934809,
          15.03069352059791,
          16.618916955454292,
          11.134226091074707,
          14.783432559586368,
          14.124648808595598,
          14.717646120767563,
          15.190392076661968,
          15.373977398879532,
          15.636253609642715,
          12.751543982460866,
          13.565372996537537,
          15.758489298380802,
          10.218340329868692,
          15.030380315000338,
          10.153258493935189,
          11.509320530898734,
          7.74861011693606,
          11.424540929875423,
          11.574889967900598,
          12.955439895239376,
          16.692553029245197,
          7.174703499679591,
          12.23717857441513,
          13.939845755717904,
          11.048502704798159,
          11.970389451042498,
          14.873067560586396,
          8.906882970264872,
          12.866446076796755,
          15.179758495285197,
          11.230111818169219,
          13.950630243649316,
          11.365147755671254,
          11.306008659931823,
          7.969695438771527,
          10.094962484347834,
          11.616095766457097,
          13.764586759290017,
          9.845957683199323,
          11.853996996850494,
          6.964075617284409,
          12.22962346359856,
          10.226976028679113,
          4.746772955181853,
          7.845068610709703,
          11.99366346858957,
          16.78454873821911,
          10.564091592087046,
          10.06418725604382,
          10.089434029662366,
          3.6161850110960985,
          5.724765972316852,
          10.04172907640043,
          6.978936630801081,
          7.28324416040883,
          12.198701927628232,
          3.4264282261858914,
          7.929802022445798,
          10.575602441752466,
          11.180572253439482,
          16.809487081733458,
          3.126855314795371,
          3.98372028658643,
          3.8217214948629863,
          8.761013108934161,
          5.946739776515869,
          4.294326670080117,
          5.458989446715021,
          4.5153278982305975,
          8.224431025541323,
          7.482418948974865,
          5.126116246175567,
          3.752551109232061,
          8.299304888574376,
          5.261006776951129,
          5.504686707399676,
          4.988368129060002,
          6.530157416300758,
          2.5654935865967454,
          2.631793154428414,
          2.3170626785126713,
          3.8987400615163597,
          2.177204338660665,
          3.7597878986852,
          3.7161569526566964,
          1.4060605225967917,
          1.3411467122810694,
          1.1953698181875798,
          1.0086839805494983,
          1.5934125578841791,
          2.351132751262238,
          1.8660743550316254,
          0.9634980263292183,
          2.232281896810025,
          -0.22484184940513996,
          -2.7822613655042283,
          -1.8721698776225926,
          -3.555815066029192
         ],
         "yaxis": "y"
        }
       ],
       "layout": {
        "legend": {
         "itemsizing": "constant",
         "tracegroupgap": 0
        },
        "margin": {
         "t": 60
        },
        "template": {
         "data": {
          "bar": [
           {
            "error_x": {
             "color": "#2a3f5f"
            },
            "error_y": {
             "color": "#2a3f5f"
            },
            "marker": {
             "line": {
              "color": "#E5ECF6",
              "width": 0.5
             },
             "pattern": {
              "fillmode": "overlay",
              "size": 10,
              "solidity": 0.2
             }
            },
            "type": "bar"
           }
          ],
          "barpolar": [
           {
            "marker": {
             "line": {
              "color": "#E5ECF6",
              "width": 0.5
             },
             "pattern": {
              "fillmode": "overlay",
              "size": 10,
              "solidity": 0.2
             }
            },
            "type": "barpolar"
           }
          ],
          "carpet": [
           {
            "aaxis": {
             "endlinecolor": "#2a3f5f",
             "gridcolor": "white",
             "linecolor": "white",
             "minorgridcolor": "white",
             "startlinecolor": "#2a3f5f"
            },
            "baxis": {
             "endlinecolor": "#2a3f5f",
             "gridcolor": "white",
             "linecolor": "white",
             "minorgridcolor": "white",
             "startlinecolor": "#2a3f5f"
            },
            "type": "carpet"
           }
          ],
          "choropleth": [
           {
            "colorbar": {
             "outlinewidth": 0,
             "ticks": ""
            },
            "type": "choropleth"
           }
          ],
          "contour": [
           {
            "colorbar": {
             "outlinewidth": 0,
             "ticks": ""
            },
            "colorscale": [
             [
              0,
              "#0d0887"
             ],
             [
              0.1111111111111111,
              "#46039f"
             ],
             [
              0.2222222222222222,
              "#7201a8"
             ],
             [
              0.3333333333333333,
              "#9c179e"
             ],
             [
              0.4444444444444444,
              "#bd3786"
             ],
             [
              0.5555555555555556,
              "#d8576b"
             ],
             [
              0.6666666666666666,
              "#ed7953"
             ],
             [
              0.7777777777777778,
              "#fb9f3a"
             ],
             [
              0.8888888888888888,
              "#fdca26"
             ],
             [
              1,
              "#f0f921"
             ]
            ],
            "type": "contour"
           }
          ],
          "contourcarpet": [
           {
            "colorbar": {
             "outlinewidth": 0,
             "ticks": ""
            },
            "type": "contourcarpet"
           }
          ],
          "heatmap": [
           {
            "colorbar": {
             "outlinewidth": 0,
             "ticks": ""
            },
            "colorscale": [
             [
              0,
              "#0d0887"
             ],
             [
              0.1111111111111111,
              "#46039f"
             ],
             [
              0.2222222222222222,
              "#7201a8"
             ],
             [
              0.3333333333333333,
              "#9c179e"
             ],
             [
              0.4444444444444444,
              "#bd3786"
             ],
             [
              0.5555555555555556,
              "#d8576b"
             ],
             [
              0.6666666666666666,
              "#ed7953"
             ],
             [
              0.7777777777777778,
              "#fb9f3a"
             ],
             [
              0.8888888888888888,
              "#fdca26"
             ],
             [
              1,
              "#f0f921"
             ]
            ],
            "type": "heatmap"
           }
          ],
          "heatmapgl": [
           {
            "colorbar": {
             "outlinewidth": 0,
             "ticks": ""
            },
            "colorscale": [
             [
              0,
              "#0d0887"
             ],
             [
              0.1111111111111111,
              "#46039f"
             ],
             [
              0.2222222222222222,
              "#7201a8"
             ],
             [
              0.3333333333333333,
              "#9c179e"
             ],
             [
              0.4444444444444444,
              "#bd3786"
             ],
             [
              0.5555555555555556,
              "#d8576b"
             ],
             [
              0.6666666666666666,
              "#ed7953"
             ],
             [
              0.7777777777777778,
              "#fb9f3a"
             ],
             [
              0.8888888888888888,
              "#fdca26"
             ],
             [
              1,
              "#f0f921"
             ]
            ],
            "type": "heatmapgl"
           }
          ],
          "histogram": [
           {
            "marker": {
             "pattern": {
              "fillmode": "overlay",
              "size": 10,
              "solidity": 0.2
             }
            },
            "type": "histogram"
           }
          ],
          "histogram2d": [
           {
            "colorbar": {
             "outlinewidth": 0,
             "ticks": ""
            },
            "colorscale": [
             [
              0,
              "#0d0887"
             ],
             [
              0.1111111111111111,
              "#46039f"
             ],
             [
              0.2222222222222222,
              "#7201a8"
             ],
             [
              0.3333333333333333,
              "#9c179e"
             ],
             [
              0.4444444444444444,
              "#bd3786"
             ],
             [
              0.5555555555555556,
              "#d8576b"
             ],
             [
              0.6666666666666666,
              "#ed7953"
             ],
             [
              0.7777777777777778,
              "#fb9f3a"
             ],
             [
              0.8888888888888888,
              "#fdca26"
             ],
             [
              1,
              "#f0f921"
             ]
            ],
            "type": "histogram2d"
           }
          ],
          "histogram2dcontour": [
           {
            "colorbar": {
             "outlinewidth": 0,
             "ticks": ""
            },
            "colorscale": [
             [
              0,
              "#0d0887"
             ],
             [
              0.1111111111111111,
              "#46039f"
             ],
             [
              0.2222222222222222,
              "#7201a8"
             ],
             [
              0.3333333333333333,
              "#9c179e"
             ],
             [
              0.4444444444444444,
              "#bd3786"
             ],
             [
              0.5555555555555556,
              "#d8576b"
             ],
             [
              0.6666666666666666,
              "#ed7953"
             ],
             [
              0.7777777777777778,
              "#fb9f3a"
             ],
             [
              0.8888888888888888,
              "#fdca26"
             ],
             [
              1,
              "#f0f921"
             ]
            ],
            "type": "histogram2dcontour"
           }
          ],
          "mesh3d": [
           {
            "colorbar": {
             "outlinewidth": 0,
             "ticks": ""
            },
            "type": "mesh3d"
           }
          ],
          "parcoords": [
           {
            "line": {
             "colorbar": {
              "outlinewidth": 0,
              "ticks": ""
             }
            },
            "type": "parcoords"
           }
          ],
          "pie": [
           {
            "automargin": true,
            "type": "pie"
           }
          ],
          "scatter": [
           {
            "marker": {
             "colorbar": {
              "outlinewidth": 0,
              "ticks": ""
             }
            },
            "type": "scatter"
           }
          ],
          "scatter3d": [
           {
            "line": {
             "colorbar": {
              "outlinewidth": 0,
              "ticks": ""
             }
            },
            "marker": {
             "colorbar": {
              "outlinewidth": 0,
              "ticks": ""
             }
            },
            "type": "scatter3d"
           }
          ],
          "scattercarpet": [
           {
            "marker": {
             "colorbar": {
              "outlinewidth": 0,
              "ticks": ""
             }
            },
            "type": "scattercarpet"
           }
          ],
          "scattergeo": [
           {
            "marker": {
             "colorbar": {
              "outlinewidth": 0,
              "ticks": ""
             }
            },
            "type": "scattergeo"
           }
          ],
          "scattergl": [
           {
            "marker": {
             "colorbar": {
              "outlinewidth": 0,
              "ticks": ""
             }
            },
            "type": "scattergl"
           }
          ],
          "scattermapbox": [
           {
            "marker": {
             "colorbar": {
              "outlinewidth": 0,
              "ticks": ""
             }
            },
            "type": "scattermapbox"
           }
          ],
          "scatterpolar": [
           {
            "marker": {
             "colorbar": {
              "outlinewidth": 0,
              "ticks": ""
             }
            },
            "type": "scatterpolar"
           }
          ],
          "scatterpolargl": [
           {
            "marker": {
             "colorbar": {
              "outlinewidth": 0,
              "ticks": ""
             }
            },
            "type": "scatterpolargl"
           }
          ],
          "scatterternary": [
           {
            "marker": {
             "colorbar": {
              "outlinewidth": 0,
              "ticks": ""
             }
            },
            "type": "scatterternary"
           }
          ],
          "surface": [
           {
            "colorbar": {
             "outlinewidth": 0,
             "ticks": ""
            },
            "colorscale": [
             [
              0,
              "#0d0887"
             ],
             [
              0.1111111111111111,
              "#46039f"
             ],
             [
              0.2222222222222222,
              "#7201a8"
             ],
             [
              0.3333333333333333,
              "#9c179e"
             ],
             [
              0.4444444444444444,
              "#bd3786"
             ],
             [
              0.5555555555555556,
              "#d8576b"
             ],
             [
              0.6666666666666666,
              "#ed7953"
             ],
             [
              0.7777777777777778,
              "#fb9f3a"
             ],
             [
              0.8888888888888888,
              "#fdca26"
             ],
             [
              1,
              "#f0f921"
             ]
            ],
            "type": "surface"
           }
          ],
          "table": [
           {
            "cells": {
             "fill": {
              "color": "#EBF0F8"
             },
             "line": {
              "color": "white"
             }
            },
            "header": {
             "fill": {
              "color": "#C8D4E3"
             },
             "line": {
              "color": "white"
             }
            },
            "type": "table"
           }
          ]
         },
         "layout": {
          "annotationdefaults": {
           "arrowcolor": "#2a3f5f",
           "arrowhead": 0,
           "arrowwidth": 1
          },
          "autotypenumbers": "strict",
          "coloraxis": {
           "colorbar": {
            "outlinewidth": 0,
            "ticks": ""
           }
          },
          "colorscale": {
           "diverging": [
            [
             0,
             "#8e0152"
            ],
            [
             0.1,
             "#c51b7d"
            ],
            [
             0.2,
             "#de77ae"
            ],
            [
             0.3,
             "#f1b6da"
            ],
            [
             0.4,
             "#fde0ef"
            ],
            [
             0.5,
             "#f7f7f7"
            ],
            [
             0.6,
             "#e6f5d0"
            ],
            [
             0.7,
             "#b8e186"
            ],
            [
             0.8,
             "#7fbc41"
            ],
            [
             0.9,
             "#4d9221"
            ],
            [
             1,
             "#276419"
            ]
           ],
           "sequential": [
            [
             0,
             "#0d0887"
            ],
            [
             0.1111111111111111,
             "#46039f"
            ],
            [
             0.2222222222222222,
             "#7201a8"
            ],
            [
             0.3333333333333333,
             "#9c179e"
            ],
            [
             0.4444444444444444,
             "#bd3786"
            ],
            [
             0.5555555555555556,
             "#d8576b"
            ],
            [
             0.6666666666666666,
             "#ed7953"
            ],
            [
             0.7777777777777778,
             "#fb9f3a"
            ],
            [
             0.8888888888888888,
             "#fdca26"
            ],
            [
             1,
             "#f0f921"
            ]
           ],
           "sequentialminus": [
            [
             0,
             "#0d0887"
            ],
            [
             0.1111111111111111,
             "#46039f"
            ],
            [
             0.2222222222222222,
             "#7201a8"
            ],
            [
             0.3333333333333333,
             "#9c179e"
            ],
            [
             0.4444444444444444,
             "#bd3786"
            ],
            [
             0.5555555555555556,
             "#d8576b"
            ],
            [
             0.6666666666666666,
             "#ed7953"
            ],
            [
             0.7777777777777778,
             "#fb9f3a"
            ],
            [
             0.8888888888888888,
             "#fdca26"
            ],
            [
             1,
             "#f0f921"
            ]
           ]
          },
          "colorway": [
           "#636efa",
           "#EF553B",
           "#00cc96",
           "#ab63fa",
           "#FFA15A",
           "#19d3f3",
           "#FF6692",
           "#B6E880",
           "#FF97FF",
           "#FECB52"
          ],
          "font": {
           "color": "#2a3f5f"
          },
          "geo": {
           "bgcolor": "white",
           "lakecolor": "white",
           "landcolor": "#E5ECF6",
           "showlakes": true,
           "showland": true,
           "subunitcolor": "white"
          },
          "hoverlabel": {
           "align": "left"
          },
          "hovermode": "closest",
          "mapbox": {
           "style": "light"
          },
          "paper_bgcolor": "white",
          "plot_bgcolor": "#E5ECF6",
          "polar": {
           "angularaxis": {
            "gridcolor": "white",
            "linecolor": "white",
            "ticks": ""
           },
           "bgcolor": "#E5ECF6",
           "radialaxis": {
            "gridcolor": "white",
            "linecolor": "white",
            "ticks": ""
           }
          },
          "scene": {
           "xaxis": {
            "backgroundcolor": "#E5ECF6",
            "gridcolor": "white",
            "gridwidth": 2,
            "linecolor": "white",
            "showbackground": true,
            "ticks": "",
            "zerolinecolor": "white"
           },
           "yaxis": {
            "backgroundcolor": "#E5ECF6",
            "gridcolor": "white",
            "gridwidth": 2,
            "linecolor": "white",
            "showbackground": true,
            "ticks": "",
            "zerolinecolor": "white"
           },
           "zaxis": {
            "backgroundcolor": "#E5ECF6",
            "gridcolor": "white",
            "gridwidth": 2,
            "linecolor": "white",
            "showbackground": true,
            "ticks": "",
            "zerolinecolor": "white"
           }
          },
          "shapedefaults": {
           "line": {
            "color": "#2a3f5f"
           }
          },
          "ternary": {
           "aaxis": {
            "gridcolor": "white",
            "linecolor": "white",
            "ticks": ""
           },
           "baxis": {
            "gridcolor": "white",
            "linecolor": "white",
            "ticks": ""
           },
           "bgcolor": "#E5ECF6",
           "caxis": {
            "gridcolor": "white",
            "linecolor": "white",
            "ticks": ""
           }
          },
          "title": {
           "x": 0.05
          },
          "xaxis": {
           "automargin": true,
           "gridcolor": "white",
           "linecolor": "white",
           "ticks": "",
           "title": {
            "standoff": 15
           },
           "zerolinecolor": "white",
           "zerolinewidth": 2
          },
          "yaxis": {
           "automargin": true,
           "gridcolor": "white",
           "linecolor": "white",
           "ticks": "",
           "title": {
            "standoff": 15
           },
           "zerolinecolor": "white",
           "zerolinewidth": 2
          }
         }
        },
        "xaxis": {
         "anchor": "y",
         "domain": [
          0,
          1
         ],
         "title": {
          "text": "dump_return_scaled"
         }
        },
        "yaxis": {
         "anchor": "x",
         "domain": [
          0,
          1
         ],
         "title": {
          "text": "bounce_return_scaled"
         }
        }
       }
      },
      "text/html": [
       "<div>                            <div id=\"94de5d8e-9aef-4c44-8dc8-cfdfb355bb71\" class=\"plotly-graph-div\" style=\"height:525px; width:100%;\"></div>            <script type=\"text/javascript\">                require([\"plotly\"], function(Plotly) {                    window.PLOTLYENV=window.PLOTLYENV || {};                                    if (document.getElementById(\"94de5d8e-9aef-4c44-8dc8-cfdfb355bb71\")) {                    Plotly.newPlot(                        \"94de5d8e-9aef-4c44-8dc8-cfdfb355bb71\",                        [{\"customdata\":[[\"ROSE/USDT\"],[\"OGN/USDT\"],[\"AAVE/USDT\"],[\"AR/USDT\"],[\"ENS/USDT\"],[\"IMX/USDT\"],[\"REN/USDT\"],[\"ORBS/USD\"],[\"KAVA/USDT\"],[\"WOO/USDT\"],[\"ZIL/USDT\"],[\"COTI/USDT\"],[\"PEOPLE/USDT\"],[\"CELR/USDT\"],[\"NEAR/USDT\"],[\"SKL/USDT\"],[\"1INCH/USDT\"],[\"ICP/USDT\"],[\"LRC/USDT\"],[\"AUDIO/USDT\"],[\"FIL/USDT\"],[\"FET/USDT\"],[\"ACA/USDT\"],[\"CELO/USDT\"],[\"CHR/USDT\"],[\"SCRT/USDT\"],[\"MINA/USDT\"],[\"GALA/USDT\"],[\"SXP/USDT\"],[\"DGB/USDT\"],[\"ICX/USDT\"],[\"KSM/USDT\"],[\"BCH/USDT\"],[\"PERP/USDT\"],[\"FLOW/USDT\"],[\"XEC/USDT\"],[\"RVN/USDT\"],[\"THETA/USDT\"],[\"EOS/USDT\"],[\"ZRX/USDT\"],[\"UMA/USDT\"],[\"SNX/USDT\"],[\"DASH/USDT\"],[\"HNT/USDT\"],[\"FTM/USDT\"],[\"SPELL/USDT\"],[\"DENT/USDT\"],[\"RNDR/USDT\"],[\"SUSHI/USDT\"],[\"ZEN/USDT\"],[\"COMP/USDT\"],[\"ANKR/USDT\"],[\"DOGE/USDT\"],[\"HBAR/USDT\"],[\"REQ/USDT\"],[\"SRM/USDT\"],[\"ATOM/USDT\"],[\"OCEAN/USDT\"],[\"LINK/USDT\"],[\"DYDX/USDT\"],[\"STORJ/USDT\"],[\"XRP/USDT\"],[\"ZEC/USDT\"],[\"AXS/USDT\"],[\"FLUX/USDT\"],[\"SC/USDT\"],[\"ETC/USDT\"],[\"OMG/USDT\"],[\"SAND/USDT\"],[\"CRV/USDT\"],[\"LPT/USDT\"],[\"UNI/USDT\"],[\"SHIB/USDT\"],[\"ONE/USDT\"],[\"ONT/USDT\"],[\"CHZ/USDT\"],[\"PYR/USDT\"],[\"HOT/USDT\"],[\"IOST/USDT\"],[\"MANA/USDT\"],[\"MATIC/USDT\"],[\"RUNE/USDT\"],[\"ALGO/USDT\"],[\"DOT/USDT\"],[\"IOTX/USDT\"],[\"XEM/USDT\"],[\"LTC/USDT\"],[\"GRT/USDT\"],[\"EGLD/USDT\"],[\"ETH/USDT\"],[\"ENJ/USDT\"],[\"NEO/USDT\"],[\"WAXP/USDT\"],[\"SOL/USDT\"],[\"WAVES/USDT\"],[\"VET/USDT\"],[\"AVAX/USDT\"],[\"XLM/USDT\"],[\"NEXO/USD\"],[\"ADA/USDT\"],[\"GMT/USDT\"],[\"RAY/USDT\"],[\"WRX/USDT\"],[\"BNT/USDT\"],[\"QTUM/USDT\"],[\"BAT/USDT\"],[\"BNB/USDT\"],[\"YFI/USDT\"],[\"ANC/USDT\"],[\"STX/USDT\"],[\"INJ/USDT\"],[\"AMP/USDT\"],[\"BTC/USDT\"],[\"DCR/USDT\"],[\"CVX/USDT\"],[\"FTT/USDT\"],[\"KDA/USDT\"],[\"MKR/USDT\"],[\"ILV/USDT\"],[\"TRX/USDT\"],[\"HT/USD\"],[\"APE/USDT\"],[\"JOE/USDT\"],[\"GLMR/USDT\"],[\"OKB/USD\"],[\"TFUEL/USDT\"],[\"XNO/USDT\"],[\"LUNA/USDT\"],[\"BTG/USDT\"],[\"CFX/USDT\"],[\"CRO/USD\"],[\"JST/USDT\"],[\"PLA/USDT\"],[\"KLAY/USDT\"],[\"QNT/USDT\"],[\"HIVE/USDT\"],[\"C98/USDT\"],[\"CKB/USDT\"],[\"KNC/USDT\"],[\"VGX/USDT\"],[\"TWT/USDT\"],[\"CEL/USD\"],[\"LSK/USDT\"],[\"POWR/USDT\"],[\"ONG/USDT\"],[\"FXS/USDT\"],[\"XMR/USDT\"],[\"CAKE/USDT\"],[\"PUNDIX/USDT\"],[\"POLY/USDT\"],[\"LEO/USD\"],[\"GNO/USDT\"],[\"GT/USD\"],[\"PAXG/USDT\"],[\"WIN/USDT\"],[\"XTZ/USDT\"],[\"GLM/BTC\"],[\"SYS/USDT\"]],\"hovertemplate\":\"dump_return_scaled=%{x}<br>bounce_return_scaled=%{y}<br>bounce_time_avg_vol_normalized=%{marker.size}<br>pair=%{customdata[0]}<extra></extra>\",\"legendgroup\":\"\",\"marker\":{\"color\":\"#636efa\",\"size\":[0.9034569972330778,4.999455346439585,4.175566197710687,4.838433089990599,0.9235484829570594,1.8121328510608994,1.0657434841210938,1.6795609510152316,0.8909783150631913,0.6261799374832371,1.422022218878944,0.7816206045310374,1.2656297510578547,2.747467472832892,1.4624834136032068,1.9332645980868124,2.1542153528868306,1.6054343723930333,0.8719872169974386,0.6033978270967773,1.188539172910924,0.36180707099749937,0.638887949531446,1.3316335235106278,1.8591239608401695,2.89199415514826,0.7155266332688558,1.3438479333682993,1.3605268191344102,1.1335239844195706,1.387796014207046,0.8688021221029654,2.1730433793583157,0.7945683079977943,1.1353241840305244,1.1328890774673024,1.4261122256630965,1.4159041096980471,1.1862220415139786,9.077748201885802,2.4979480804939707,1.17339352054081,0.8417079601344035,1.3140860602599662,0.909015753621911,0.9244873476780525,0.9200221102232593,0.9162478317006638,1.126452692778765,1.7285852722513415,1.1416649655124866,1.6616409768506109,0.3468510159901322,1.153943252566269,0.6883736172535923,2.8929702671979434,1.9193659489893091,1.3459379245591698,1.1294682333382737,1.92209852714984,1.229005565665922,1.3527745918489251,1.1548435624240703,0.7936155604061813,0.8349380945670245,1.0442117215887485,1.3622036886646498,1.8901131438639347,1.3747514656945274,0.8242779107658538,0.9216760095330223,1.1377414133374413,0.8199918107430579,1.108022197146495,0.758711244876538,0.7626534723870687,0.5121916015936024,1.0480457603885962,1.0918994984320325,1.188146787799286,1.3376292327915662,0.641345529475786,0.9808851130067329,1.2210065558521346,1.0035111447034302,0.5939050349615552,1.067709429666108,1.307347963251711,0.6696549065496775,1.0403908460264084,1.3954618576694622,1.2268740414926027,1.5212529004020987,0.8199066798553236,1.040534590036434,1.1278965516250603,0.7694419459138946,1.672851017394567,0.6043313698305155,1.615793840506897,0.9687048242908859,1.2630657579613067,0.987942144902426,0.3351689911457025,0.8959607242458103,1.4392949643593256,0.85695532102195,0.9016861020587029,0.993840282111677,0.7523313942339375,0.33354376475712116,0.34418193039206224,0.8643896747476079,0.3751918021561334,2.157230371639265,1.1592207591779393,0.5243331662993699,1.894152792324098,1.1199547708976219,0.897687577722565,0.4230386047667558,0.5365633579156368,0.29915983446214,0.9234837117449924,2.1179012087531763,1.9254168795732411,0.30354882718530674,0.6345687823153797,1.8868273366218842,1.11236367524308,0.9787314284519139,1.4006806638679448,0.6913638387661827,1.8280825475098594,0.9660178294655007,2.132002119259864,4.66731886619796,0.5582170045785377,0.950810898111202,0.8905888787000732,0.43026725528530196,0.17381962819755972,0.568981097793446,0.8678177488352373,1.8050109773337315,0.2920932391634049,1.2642799960691076,1.2802948731254304,0.5851222713513279,0.4607176508233973,0.46253754184785645,0.15777140503906684,0.4381723987876345,0.42022447067219304,0.7119192034682766,1.7147625847742072,0.8799203801527234,0.73580222557607],\"sizemode\":\"area\",\"sizeref\":0.022694370504714505,\"symbol\":\"circle\"},\"mode\":\"markers\",\"name\":\"\",\"orientation\":\"v\",\"showlegend\":false,\"type\":\"scatter\",\"x\":[-15.154489140402786,-42.14011731512934,-35.71655621591207,-30.566418973926837,-40.9900199258657,-24.363758816605113,-42.59871325890143,-12.902515500872273,-33.725907782571376,-35.66659457400251,-43.8177891762387,-32.37782644682441,-45.56106302745847,-53.684630694355555,-48.31859241706279,-48.479463073518104,-58.996561112241054,-48.952478406379925,-39.20243789850442,-44.010810972557564,-43.53178735063975,-22.9829368829039,-25.571667515858586,-34.21785458149135,-51.78478954216658,-32.40017130700058,-26.332718992052715,-52.13459262849485,-52.58490641460568,-44.964767262102825,-40.41897583342972,-29.581969352701023,-42.07442509078205,-24.2050519181954,-33.322588782850424,-52.78723671352547,-46.81137038238246,-50.69385340412062,-50.51120843202543,26.28484133060887,-34.3048623963431,-24.375084271295854,-41.086856406559896,-39.65479208147277,-40.26353974133679,-34.247853555124095,-43.82680746296361,-44.87456172944634,-55.44013088527516,-53.4083579564328,-44.29699503515554,-41.20468489286914,-23.224731555140057,-47.03496818075945,-16.73501390042082,-45.88807288201332,-49.323876769796534,-43.664921844427525,-47.30871432342346,-50.85887004980465,-43.17781609216317,-42.35420119173072,-50.206005922072926,-49.15026570200659,-28.019561425222737,-39.58327317598153,-50.60787385802969,-53.218627963499216,-46.01959400260204,-54.714443864386276,-51.94646534962944,-45.745885347450965,-25.05001008335464,-52.812941073454006,-33.207392196545094,-38.51758373223396,-24.0113372877117,-42.02603948424877,-34.190596383680514,-42.22256881883875,-47.642170004854336,-25.63467652804215,-41.33078874272005,-42.25616995656915,-37.51299491737662,-35.66536585858465,-41.93646020811135,-43.593035639230614,-39.80858022906212,-45.42820364478616,-44.270085425963124,-54.77924736259364,-38.32767140251505,-29.050356546800874,-36.840571185276694,-43.990784913679754,-28.18787192805579,-34.72832813786435,-35.902365063277436,-42.94774078238063,-12.853171728501717,-47.4317482552587,-25.85817350395112,-16.848120543164008,-31.865270915390443,-49.275172810102234,-41.87848938063044,-45.05178842797089,-25.934891088419665,-39.228158178372226,-18.144022543828747,-19.982996570280992,-36.60649819569554,-22.28298656679494,-29.827987626322468,-57.63422082106872,-17.09325173440687,-42.494917554751794,-60.32243780920926,-35.856303057701005,-43.12224923908374,-4.780650595729809,-16.162546898152907,-24.70020283341895,-25.313095674758713,-33.36015794702589,-26.67490858602266,-33.37714650301257,-21.815788963419706,-43.77141728685306,-38.00774819212252,-25.65081408645175,-19.077625221237433,-48.09886812339857,-29.95934972867699,-28.93749301533673,-33.701642146472885,-38.4007657660357,-13.413310822260724,-18.092522015258293,-19.189002328674885,-27.161099159129428,-12.763007612706897,-29.213969643377204,-29.78128640126031,-6.717496974958186,-37.97712248812196,-34.1883999030127,-18.505927561238043,-26.590956851956154,-21.749985093944517,-33.77700324965562,-12.06723690817022,-4.4505242848350814,-41.221348792846655,-28.928905016334433,-7.316525958524919,-13.37350021500274],\"xaxis\":\"x\",\"y\":[10.976282503605567,29.843095015313025,28.492333680331154,24.55924867923249,18.058835040158463,15.954921460548679,22.847949067358424,16.40169557469989,16.337782569016234,16.392561578002155,19.347582608528192,14.05773488053874,17.755414268053645,19.799887859506885,15.299907005137866,17.6125720334084,24.822653883484023,21.581042651222223,18.687265156844308,13.676315338331113,21.970749145205282,8.882747702495383,9.134752398144283,14.470310149485728,17.012897096978676,15.471503805614516,10.529272703039187,19.31210271745579,19.70591895471357,15.936375173216344,17.474959581663757,17.021756135734535,21.780397727625566,7.48924612922003,15.66133504925178,17.7373578292017,17.081953893257346,14.86421737126434,17.149040812043225,14.948483121099365,18.931175790839823,7.696582802926437,17.87067305134176,15.5293253023257,15.207155376038575,12.482324919768095,14.799004202156636,12.934166937109019,15.573886765076242,15.84590135529586,15.719944485198281,16.432948670918094,4.7079949075401695,16.540953149227196,10.578694109985376,16.53089417951099,17.256429492640628,14.891527861426445,17.248853327785838,15.50231096934809,15.03069352059791,16.618916955454292,11.134226091074707,14.783432559586368,14.124648808595598,14.717646120767563,15.190392076661968,15.373977398879532,15.636253609642715,12.751543982460866,13.565372996537537,15.758489298380802,10.218340329868692,15.030380315000338,10.153258493935189,11.509320530898734,7.74861011693606,11.424540929875423,11.574889967900598,12.955439895239376,16.692553029245197,7.174703499679591,12.23717857441513,13.939845755717904,11.048502704798159,11.970389451042498,14.873067560586396,8.906882970264872,12.866446076796755,15.179758495285197,11.230111818169219,13.950630243649316,11.365147755671254,11.306008659931823,7.969695438771527,10.094962484347834,11.616095766457097,13.764586759290017,9.845957683199323,11.853996996850494,6.964075617284409,12.22962346359856,10.226976028679113,4.746772955181853,7.845068610709703,11.99366346858957,16.78454873821911,10.564091592087046,10.06418725604382,10.089434029662366,3.6161850110960985,5.724765972316852,10.04172907640043,6.978936630801081,7.28324416040883,12.198701927628232,3.4264282261858914,7.929802022445798,10.575602441752466,11.180572253439482,16.809487081733458,3.126855314795371,3.98372028658643,3.8217214948629863,8.761013108934161,5.946739776515869,4.294326670080117,5.458989446715021,4.5153278982305975,8.224431025541323,7.482418948974865,5.126116246175567,3.752551109232061,8.299304888574376,5.261006776951129,5.504686707399676,4.988368129060002,6.530157416300758,2.5654935865967454,2.631793154428414,2.3170626785126713,3.8987400615163597,2.177204338660665,3.7597878986852,3.7161569526566964,1.4060605225967917,1.3411467122810694,1.1953698181875798,1.0086839805494983,1.5934125578841791,2.351132751262238,1.8660743550316254,0.9634980263292183,2.232281896810025,-0.22484184940513996,-2.7822613655042283,-1.8721698776225926,-3.555815066029192],\"yaxis\":\"y\"}],                        {\"legend\":{\"itemsizing\":\"constant\",\"tracegroupgap\":0},\"margin\":{\"t\":60},\"template\":{\"data\":{\"bar\":[{\"error_x\":{\"color\":\"#2a3f5f\"},\"error_y\":{\"color\":\"#2a3f5f\"},\"marker\":{\"line\":{\"color\":\"#E5ECF6\",\"width\":0.5},\"pattern\":{\"fillmode\":\"overlay\",\"size\":10,\"solidity\":0.2}},\"type\":\"bar\"}],\"barpolar\":[{\"marker\":{\"line\":{\"color\":\"#E5ECF6\",\"width\":0.5},\"pattern\":{\"fillmode\":\"overlay\",\"size\":10,\"solidity\":0.2}},\"type\":\"barpolar\"}],\"carpet\":[{\"aaxis\":{\"endlinecolor\":\"#2a3f5f\",\"gridcolor\":\"white\",\"linecolor\":\"white\",\"minorgridcolor\":\"white\",\"startlinecolor\":\"#2a3f5f\"},\"baxis\":{\"endlinecolor\":\"#2a3f5f\",\"gridcolor\":\"white\",\"linecolor\":\"white\",\"minorgridcolor\":\"white\",\"startlinecolor\":\"#2a3f5f\"},\"type\":\"carpet\"}],\"choropleth\":[{\"colorbar\":{\"outlinewidth\":0,\"ticks\":\"\"},\"type\":\"choropleth\"}],\"contour\":[{\"colorbar\":{\"outlinewidth\":0,\"ticks\":\"\"},\"colorscale\":[[0.0,\"#0d0887\"],[0.1111111111111111,\"#46039f\"],[0.2222222222222222,\"#7201a8\"],[0.3333333333333333,\"#9c179e\"],[0.4444444444444444,\"#bd3786\"],[0.5555555555555556,\"#d8576b\"],[0.6666666666666666,\"#ed7953\"],[0.7777777777777778,\"#fb9f3a\"],[0.8888888888888888,\"#fdca26\"],[1.0,\"#f0f921\"]],\"type\":\"contour\"}],\"contourcarpet\":[{\"colorbar\":{\"outlinewidth\":0,\"ticks\":\"\"},\"type\":\"contourcarpet\"}],\"heatmap\":[{\"colorbar\":{\"outlinewidth\":0,\"ticks\":\"\"},\"colorscale\":[[0.0,\"#0d0887\"],[0.1111111111111111,\"#46039f\"],[0.2222222222222222,\"#7201a8\"],[0.3333333333333333,\"#9c179e\"],[0.4444444444444444,\"#bd3786\"],[0.5555555555555556,\"#d8576b\"],[0.6666666666666666,\"#ed7953\"],[0.7777777777777778,\"#fb9f3a\"],[0.8888888888888888,\"#fdca26\"],[1.0,\"#f0f921\"]],\"type\":\"heatmap\"}],\"heatmapgl\":[{\"colorbar\":{\"outlinewidth\":0,\"ticks\":\"\"},\"colorscale\":[[0.0,\"#0d0887\"],[0.1111111111111111,\"#46039f\"],[0.2222222222222222,\"#7201a8\"],[0.3333333333333333,\"#9c179e\"],[0.4444444444444444,\"#bd3786\"],[0.5555555555555556,\"#d8576b\"],[0.6666666666666666,\"#ed7953\"],[0.7777777777777778,\"#fb9f3a\"],[0.8888888888888888,\"#fdca26\"],[1.0,\"#f0f921\"]],\"type\":\"heatmapgl\"}],\"histogram\":[{\"marker\":{\"pattern\":{\"fillmode\":\"overlay\",\"size\":10,\"solidity\":0.2}},\"type\":\"histogram\"}],\"histogram2d\":[{\"colorbar\":{\"outlinewidth\":0,\"ticks\":\"\"},\"colorscale\":[[0.0,\"#0d0887\"],[0.1111111111111111,\"#46039f\"],[0.2222222222222222,\"#7201a8\"],[0.3333333333333333,\"#9c179e\"],[0.4444444444444444,\"#bd3786\"],[0.5555555555555556,\"#d8576b\"],[0.6666666666666666,\"#ed7953\"],[0.7777777777777778,\"#fb9f3a\"],[0.8888888888888888,\"#fdca26\"],[1.0,\"#f0f921\"]],\"type\":\"histogram2d\"}],\"histogram2dcontour\":[{\"colorbar\":{\"outlinewidth\":0,\"ticks\":\"\"},\"colorscale\":[[0.0,\"#0d0887\"],[0.1111111111111111,\"#46039f\"],[0.2222222222222222,\"#7201a8\"],[0.3333333333333333,\"#9c179e\"],[0.4444444444444444,\"#bd3786\"],[0.5555555555555556,\"#d8576b\"],[0.6666666666666666,\"#ed7953\"],[0.7777777777777778,\"#fb9f3a\"],[0.8888888888888888,\"#fdca26\"],[1.0,\"#f0f921\"]],\"type\":\"histogram2dcontour\"}],\"mesh3d\":[{\"colorbar\":{\"outlinewidth\":0,\"ticks\":\"\"},\"type\":\"mesh3d\"}],\"parcoords\":[{\"line\":{\"colorbar\":{\"outlinewidth\":0,\"ticks\":\"\"}},\"type\":\"parcoords\"}],\"pie\":[{\"automargin\":true,\"type\":\"pie\"}],\"scatter\":[{\"marker\":{\"colorbar\":{\"outlinewidth\":0,\"ticks\":\"\"}},\"type\":\"scatter\"}],\"scatter3d\":[{\"line\":{\"colorbar\":{\"outlinewidth\":0,\"ticks\":\"\"}},\"marker\":{\"colorbar\":{\"outlinewidth\":0,\"ticks\":\"\"}},\"type\":\"scatter3d\"}],\"scattercarpet\":[{\"marker\":{\"colorbar\":{\"outlinewidth\":0,\"ticks\":\"\"}},\"type\":\"scattercarpet\"}],\"scattergeo\":[{\"marker\":{\"colorbar\":{\"outlinewidth\":0,\"ticks\":\"\"}},\"type\":\"scattergeo\"}],\"scattergl\":[{\"marker\":{\"colorbar\":{\"outlinewidth\":0,\"ticks\":\"\"}},\"type\":\"scattergl\"}],\"scattermapbox\":[{\"marker\":{\"colorbar\":{\"outlinewidth\":0,\"ticks\":\"\"}},\"type\":\"scattermapbox\"}],\"scatterpolar\":[{\"marker\":{\"colorbar\":{\"outlinewidth\":0,\"ticks\":\"\"}},\"type\":\"scatterpolar\"}],\"scatterpolargl\":[{\"marker\":{\"colorbar\":{\"outlinewidth\":0,\"ticks\":\"\"}},\"type\":\"scatterpolargl\"}],\"scatterternary\":[{\"marker\":{\"colorbar\":{\"outlinewidth\":0,\"ticks\":\"\"}},\"type\":\"scatterternary\"}],\"surface\":[{\"colorbar\":{\"outlinewidth\":0,\"ticks\":\"\"},\"colorscale\":[[0.0,\"#0d0887\"],[0.1111111111111111,\"#46039f\"],[0.2222222222222222,\"#7201a8\"],[0.3333333333333333,\"#9c179e\"],[0.4444444444444444,\"#bd3786\"],[0.5555555555555556,\"#d8576b\"],[0.6666666666666666,\"#ed7953\"],[0.7777777777777778,\"#fb9f3a\"],[0.8888888888888888,\"#fdca26\"],[1.0,\"#f0f921\"]],\"type\":\"surface\"}],\"table\":[{\"cells\":{\"fill\":{\"color\":\"#EBF0F8\"},\"line\":{\"color\":\"white\"}},\"header\":{\"fill\":{\"color\":\"#C8D4E3\"},\"line\":{\"color\":\"white\"}},\"type\":\"table\"}]},\"layout\":{\"annotationdefaults\":{\"arrowcolor\":\"#2a3f5f\",\"arrowhead\":0,\"arrowwidth\":1},\"autotypenumbers\":\"strict\",\"coloraxis\":{\"colorbar\":{\"outlinewidth\":0,\"ticks\":\"\"}},\"colorscale\":{\"diverging\":[[0,\"#8e0152\"],[0.1,\"#c51b7d\"],[0.2,\"#de77ae\"],[0.3,\"#f1b6da\"],[0.4,\"#fde0ef\"],[0.5,\"#f7f7f7\"],[0.6,\"#e6f5d0\"],[0.7,\"#b8e186\"],[0.8,\"#7fbc41\"],[0.9,\"#4d9221\"],[1,\"#276419\"]],\"sequential\":[[0.0,\"#0d0887\"],[0.1111111111111111,\"#46039f\"],[0.2222222222222222,\"#7201a8\"],[0.3333333333333333,\"#9c179e\"],[0.4444444444444444,\"#bd3786\"],[0.5555555555555556,\"#d8576b\"],[0.6666666666666666,\"#ed7953\"],[0.7777777777777778,\"#fb9f3a\"],[0.8888888888888888,\"#fdca26\"],[1.0,\"#f0f921\"]],\"sequentialminus\":[[0.0,\"#0d0887\"],[0.1111111111111111,\"#46039f\"],[0.2222222222222222,\"#7201a8\"],[0.3333333333333333,\"#9c179e\"],[0.4444444444444444,\"#bd3786\"],[0.5555555555555556,\"#d8576b\"],[0.6666666666666666,\"#ed7953\"],[0.7777777777777778,\"#fb9f3a\"],[0.8888888888888888,\"#fdca26\"],[1.0,\"#f0f921\"]]},\"colorway\":[\"#636efa\",\"#EF553B\",\"#00cc96\",\"#ab63fa\",\"#FFA15A\",\"#19d3f3\",\"#FF6692\",\"#B6E880\",\"#FF97FF\",\"#FECB52\"],\"font\":{\"color\":\"#2a3f5f\"},\"geo\":{\"bgcolor\":\"white\",\"lakecolor\":\"white\",\"landcolor\":\"#E5ECF6\",\"showlakes\":true,\"showland\":true,\"subunitcolor\":\"white\"},\"hoverlabel\":{\"align\":\"left\"},\"hovermode\":\"closest\",\"mapbox\":{\"style\":\"light\"},\"paper_bgcolor\":\"white\",\"plot_bgcolor\":\"#E5ECF6\",\"polar\":{\"angularaxis\":{\"gridcolor\":\"white\",\"linecolor\":\"white\",\"ticks\":\"\"},\"bgcolor\":\"#E5ECF6\",\"radialaxis\":{\"gridcolor\":\"white\",\"linecolor\":\"white\",\"ticks\":\"\"}},\"scene\":{\"xaxis\":{\"backgroundcolor\":\"#E5ECF6\",\"gridcolor\":\"white\",\"gridwidth\":2,\"linecolor\":\"white\",\"showbackground\":true,\"ticks\":\"\",\"zerolinecolor\":\"white\"},\"yaxis\":{\"backgroundcolor\":\"#E5ECF6\",\"gridcolor\":\"white\",\"gridwidth\":2,\"linecolor\":\"white\",\"showbackground\":true,\"ticks\":\"\",\"zerolinecolor\":\"white\"},\"zaxis\":{\"backgroundcolor\":\"#E5ECF6\",\"gridcolor\":\"white\",\"gridwidth\":2,\"linecolor\":\"white\",\"showbackground\":true,\"ticks\":\"\",\"zerolinecolor\":\"white\"}},\"shapedefaults\":{\"line\":{\"color\":\"#2a3f5f\"}},\"ternary\":{\"aaxis\":{\"gridcolor\":\"white\",\"linecolor\":\"white\",\"ticks\":\"\"},\"baxis\":{\"gridcolor\":\"white\",\"linecolor\":\"white\",\"ticks\":\"\"},\"bgcolor\":\"#E5ECF6\",\"caxis\":{\"gridcolor\":\"white\",\"linecolor\":\"white\",\"ticks\":\"\"}},\"title\":{\"x\":0.05},\"xaxis\":{\"automargin\":true,\"gridcolor\":\"white\",\"linecolor\":\"white\",\"ticks\":\"\",\"title\":{\"standoff\":15},\"zerolinecolor\":\"white\",\"zerolinewidth\":2},\"yaxis\":{\"automargin\":true,\"gridcolor\":\"white\",\"linecolor\":\"white\",\"ticks\":\"\",\"title\":{\"standoff\":15},\"zerolinecolor\":\"white\",\"zerolinewidth\":2}}},\"xaxis\":{\"anchor\":\"y\",\"domain\":[0.0,1.0],\"title\":{\"text\":\"dump_return_scaled\"}},\"yaxis\":{\"anchor\":\"x\",\"domain\":[0.0,1.0],\"title\":{\"text\":\"bounce_return_scaled\"}}},                        {\"responsive\": true}                    ).then(function(){\n",
       "                            \n",
       "var gd = document.getElementById('94de5d8e-9aef-4c44-8dc8-cfdfb355bb71');\n",
       "var x = new MutationObserver(function (mutations, observer) {{\n",
       "        var display = window.getComputedStyle(gd).display;\n",
       "        if (!display || display === 'none') {{\n",
       "            console.log([gd, 'removed!']);\n",
       "            Plotly.purge(gd);\n",
       "            observer.disconnect();\n",
       "        }}\n",
       "}});\n",
       "\n",
       "// Listen for the removal of the full notebook cells\n",
       "var notebookContainer = gd.closest('#notebook-container');\n",
       "if (notebookContainer) {{\n",
       "    x.observe(notebookContainer, {childList: true});\n",
       "}}\n",
       "\n",
       "// Listen for the clearing of the current output cell\n",
       "var outputEl = gd.closest('.output');\n",
       "if (outputEl) {{\n",
       "    x.observe(outputEl, {childList: true});\n",
       "}}\n",
       "\n",
       "                        })                };                });            </script>        </div>"
      ]
     },
     "metadata": {},
     "output_type": "display_data"
    }
   ],
   "source": [
    "import plotly.express as px\n",
    "fig = px.scatter(dump_and_pump_stat_df, x=\"dump_return_scaled\", y=\"bounce_return_scaled\",\n",
    "                 size='bounce_time_avg_vol_normalized', hover_data=['pair'])\n",
    "fig.show()"
   ]
  },
  {
   "cell_type": "raw",
   "metadata": {},
   "source": [
    "# less info actually "
   ]
  },
  {
   "cell_type": "code",
   "execution_count": null,
   "metadata": {},
   "outputs": [],
   "source": [
    "ogn"
   ]
  },
  {
   "cell_type": "code",
   "execution_count": 230,
   "metadata": {},
   "outputs": [
    {
     "data": {
      "text/plain": [
       "Timestamp('2022-04-27 03:10:00')"
      ]
     },
     "execution_count": 230,
     "metadata": {},
     "output_type": "execute_result"
    }
   ],
   "source": [
    "max_bounce_time"
   ]
  },
  {
   "cell_type": "code",
   "execution_count": null,
   "metadata": {},
   "outputs": [],
   "source": [
    "zrx\n",
    "ar\n",
    "imx\n",
    "\n",
    "short\n",
    "\n",
    "doge\n",
    "xmr\n",
    "zec\n",
    "near"
   ]
  },
  {
   "cell_type": "code",
   "execution_count": 236,
   "metadata": {},
   "outputs": [
    {
     "data": {
      "text/html": [
       "<div>\n",
       "<style scoped>\n",
       "    .dataframe tbody tr th:only-of-type {\n",
       "        vertical-align: middle;\n",
       "    }\n",
       "\n",
       "    .dataframe tbody tr th {\n",
       "        vertical-align: top;\n",
       "    }\n",
       "\n",
       "    .dataframe thead th {\n",
       "        text-align: right;\n",
       "    }\n",
       "</style>\n",
       "<table border=\"1\" class=\"dataframe\">\n",
       "  <thead>\n",
       "    <tr style=\"text-align: right;\">\n",
       "      <th></th>\n",
       "      <th>dump_return</th>\n",
       "      <th>bounce_return</th>\n",
       "      <th>dump_time_avg_vol</th>\n",
       "      <th>bounce_time_avg_vol</th>\n",
       "      <th>trip_return</th>\n",
       "      <th>pair</th>\n",
       "      <th>avg_volume</th>\n",
       "      <th>bounce_time_avg_vol_normalized</th>\n",
       "      <th>dump_time_avg_vol_normalized</th>\n",
       "    </tr>\n",
       "    <tr>\n",
       "      <th>symbol</th>\n",
       "      <th></th>\n",
       "      <th></th>\n",
       "      <th></th>\n",
       "      <th></th>\n",
       "      <th></th>\n",
       "      <th></th>\n",
       "      <th></th>\n",
       "      <th></th>\n",
       "      <th></th>\n",
       "    </tr>\n",
       "  </thead>\n",
       "  <tbody>\n",
       "    <tr>\n",
       "      <th>DOGE/USDT</th>\n",
       "      <td>-0.185809</td>\n",
       "      <td>0.037666</td>\n",
       "      <td>2.392231e+07</td>\n",
       "      <td>1.240313e+07</td>\n",
       "      <td>0.844859</td>\n",
       "      <td>DOGE/USDT</td>\n",
       "      <td>3.575925e+07</td>\n",
       "      <td>0.346851</td>\n",
       "      <td>0.668983</td>\n",
       "    </tr>\n",
       "    <tr>\n",
       "      <th>XMR/USDT</th>\n",
       "      <td>-0.137158</td>\n",
       "      <td>0.004844</td>\n",
       "      <td>6.143574e+02</td>\n",
       "      <td>5.850610e+02</td>\n",
       "      <td>0.867021</td>\n",
       "      <td>XMR/USDT</td>\n",
       "      <td>4.627622e+02</td>\n",
       "      <td>1.264280</td>\n",
       "      <td>1.327587</td>\n",
       "    </tr>\n",
       "    <tr>\n",
       "      <th>ZEC/USDT</th>\n",
       "      <td>-0.160704</td>\n",
       "      <td>0.035639</td>\n",
       "      <td>7.826525e+02</td>\n",
       "      <td>5.803206e+02</td>\n",
       "      <td>0.869208</td>\n",
       "      <td>ZEC/USDT</td>\n",
       "      <td>5.025102e+02</td>\n",
       "      <td>1.154844</td>\n",
       "      <td>1.557486</td>\n",
       "    </tr>\n",
       "    <tr>\n",
       "      <th>NEAR/USDT</th>\n",
       "      <td>-0.173718</td>\n",
       "      <td>0.055007</td>\n",
       "      <td>6.515121e+04</td>\n",
       "      <td>8.215896e+04</td>\n",
       "      <td>0.871733</td>\n",
       "      <td>NEAR/USDT</td>\n",
       "      <td>5.617771e+04</td>\n",
       "      <td>1.462483</td>\n",
       "      <td>1.159734</td>\n",
       "    </tr>\n",
       "    <tr>\n",
       "      <th>CRV/USDT</th>\n",
       "      <td>-0.148148</td>\n",
       "      <td>0.034527</td>\n",
       "      <td>4.654107e+04</td>\n",
       "      <td>2.915091e+04</td>\n",
       "      <td>0.881264</td>\n",
       "      <td>CRV/USDT</td>\n",
       "      <td>3.536539e+04</td>\n",
       "      <td>0.824278</td>\n",
       "      <td>1.316006</td>\n",
       "    </tr>\n",
       "    <tr>\n",
       "      <th>GRT/USDT</th>\n",
       "      <td>-0.141505</td>\n",
       "      <td>0.028912</td>\n",
       "      <td>8.619148e+05</td>\n",
       "      <td>3.590978e+05</td>\n",
       "      <td>0.883316</td>\n",
       "      <td>GRT/USDT</td>\n",
       "      <td>2.746765e+05</td>\n",
       "      <td>1.307348</td>\n",
       "      <td>3.137927</td>\n",
       "    </tr>\n",
       "    <tr>\n",
       "      <th>AUDIO/USDT</th>\n",
       "      <td>-0.151288</td>\n",
       "      <td>0.047013</td>\n",
       "      <td>5.416708e+04</td>\n",
       "      <td>2.469294e+04</td>\n",
       "      <td>0.888612</td>\n",
       "      <td>AUDIO/USDT</td>\n",
       "      <td>4.092315e+04</td>\n",
       "      <td>0.603398</td>\n",
       "      <td>1.323629</td>\n",
       "    </tr>\n",
       "    <tr>\n",
       "      <th>CAKE/USDT</th>\n",
       "      <td>-0.113615</td>\n",
       "      <td>0.003972</td>\n",
       "      <td>3.242188e+04</td>\n",
       "      <td>2.872566e+04</td>\n",
       "      <td>0.889906</td>\n",
       "      <td>CAKE/USDT</td>\n",
       "      <td>2.243675e+04</td>\n",
       "      <td>1.280295</td>\n",
       "      <td>1.445035</td>\n",
       "    </tr>\n",
       "    <tr>\n",
       "      <th>THETA/USDT</th>\n",
       "      <td>-0.139490</td>\n",
       "      <td>0.040901</td>\n",
       "      <td>4.473198e+04</td>\n",
       "      <td>3.490249e+04</td>\n",
       "      <td>0.895706</td>\n",
       "      <td>THETA/USDT</td>\n",
       "      <td>2.465032e+04</td>\n",
       "      <td>1.415904</td>\n",
       "      <td>1.814661</td>\n",
       "    </tr>\n",
       "    <tr>\n",
       "      <th>CELR/USDT</th>\n",
       "      <td>-0.150115</td>\n",
       "      <td>0.055365</td>\n",
       "      <td>1.180958e+06</td>\n",
       "      <td>1.857280e+06</td>\n",
       "      <td>0.896939</td>\n",
       "      <td>CELR/USDT</td>\n",
       "      <td>6.759973e+05</td>\n",
       "      <td>2.747467</td>\n",
       "      <td>1.746987</td>\n",
       "    </tr>\n",
       "    <tr>\n",
       "      <th>SUSHI/USDT</th>\n",
       "      <td>-0.135814</td>\n",
       "      <td>0.038152</td>\n",
       "      <td>2.497733e+04</td>\n",
       "      <td>1.997863e+04</td>\n",
       "      <td>0.897157</td>\n",
       "      <td>SUSHI/USDT</td>\n",
       "      <td>1.773588e+04</td>\n",
       "      <td>1.126453</td>\n",
       "      <td>1.408294</td>\n",
       "    </tr>\n",
       "    <tr>\n",
       "      <th>LPT/USDT</th>\n",
       "      <td>-0.132160</td>\n",
       "      <td>0.034513</td>\n",
       "      <td>9.800149e+02</td>\n",
       "      <td>4.871804e+02</td>\n",
       "      <td>0.897791</td>\n",
       "      <td>LPT/USDT</td>\n",
       "      <td>5.285810e+02</td>\n",
       "      <td>0.921676</td>\n",
       "      <td>1.854049</td>\n",
       "    </tr>\n",
       "    <tr>\n",
       "      <th>WAVES/USDT</th>\n",
       "      <td>-0.123681</td>\n",
       "      <td>0.026756</td>\n",
       "      <td>9.491804e+03</td>\n",
       "      <td>1.056644e+04</td>\n",
       "      <td>0.899766</td>\n",
       "      <td>WAVES/USDT</td>\n",
       "      <td>1.015482e+04</td>\n",
       "      <td>1.040535</td>\n",
       "      <td>0.934710</td>\n",
       "    </tr>\n",
       "    <tr>\n",
       "      <th>RNDR/USDT</th>\n",
       "      <td>-0.132635</td>\n",
       "      <td>0.038229</td>\n",
       "      <td>1.305679e+04</td>\n",
       "      <td>6.741018e+03</td>\n",
       "      <td>0.900524</td>\n",
       "      <td>RNDR/USDT</td>\n",
       "      <td>7.357199e+03</td>\n",
       "      <td>0.916248</td>\n",
       "      <td>1.774696</td>\n",
       "    </tr>\n",
       "    <tr>\n",
       "      <th>SKL/USDT</th>\n",
       "      <td>-0.143175</td>\n",
       "      <td>0.052016</td>\n",
       "      <td>1.442708e+05</td>\n",
       "      <td>2.289118e+05</td>\n",
       "      <td>0.901393</td>\n",
       "      <td>SKL/USDT</td>\n",
       "      <td>1.184069e+05</td>\n",
       "      <td>1.933265</td>\n",
       "      <td>1.218433</td>\n",
       "    </tr>\n",
       "    <tr>\n",
       "      <th>PERP/USDT</th>\n",
       "      <td>-0.134293</td>\n",
       "      <td>0.041551</td>\n",
       "      <td>6.599833e+03</td>\n",
       "      <td>2.386904e+03</td>\n",
       "      <td>0.901679</td>\n",
       "      <td>PERP/USDT</td>\n",
       "      <td>3.004026e+03</td>\n",
       "      <td>0.794568</td>\n",
       "      <td>2.196996</td>\n",
       "    </tr>\n",
       "    <tr>\n",
       "      <th>CHR/USDT</th>\n",
       "      <td>-0.137133</td>\n",
       "      <td>0.045053</td>\n",
       "      <td>1.422666e+05</td>\n",
       "      <td>1.335728e+05</td>\n",
       "      <td>0.901741</td>\n",
       "      <td>CHR/USDT</td>\n",
       "      <td>7.184719e+04</td>\n",
       "      <td>1.859124</td>\n",
       "      <td>1.980128</td>\n",
       "    </tr>\n",
       "    <tr>\n",
       "      <th>ENS/USDT</th>\n",
       "      <td>-0.155422</td>\n",
       "      <td>0.068474</td>\n",
       "      <td>6.202036e+03</td>\n",
       "      <td>5.553479e+03</td>\n",
       "      <td>0.902410</td>\n",
       "      <td>ENS/USDT</td>\n",
       "      <td>6.013197e+03</td>\n",
       "      <td>0.923548</td>\n",
       "      <td>1.031404</td>\n",
       "    </tr>\n",
       "    <tr>\n",
       "      <th>PEOPLE/USDT</th>\n",
       "      <td>-0.144654</td>\n",
       "      <td>0.056373</td>\n",
       "      <td>1.611932e+06</td>\n",
       "      <td>1.533425e+06</td>\n",
       "      <td>0.903564</td>\n",
       "      <td>PEOPLE/USDT</td>\n",
       "      <td>1.211590e+06</td>\n",
       "      <td>1.265630</td>\n",
       "      <td>1.330427</td>\n",
       "    </tr>\n",
       "    <tr>\n",
       "      <th>ZEN/USDT</th>\n",
       "      <td>-0.128571</td>\n",
       "      <td>0.038146</td>\n",
       "      <td>5.960135e+02</td>\n",
       "      <td>5.455148e+02</td>\n",
       "      <td>0.904670</td>\n",
       "      <td>ZEN/USDT</td>\n",
       "      <td>3.155845e+02</td>\n",
       "      <td>1.728585</td>\n",
       "      <td>1.888602</td>\n",
       "    </tr>\n",
       "  </tbody>\n",
       "</table>\n",
       "</div>"
      ],
      "text/plain": [
       "             dump_return  bounce_return  dump_time_avg_vol  \\\n",
       "symbol                                                       \n",
       "DOGE/USDT      -0.185809       0.037666       2.392231e+07   \n",
       "XMR/USDT       -0.137158       0.004844       6.143574e+02   \n",
       "ZEC/USDT       -0.160704       0.035639       7.826525e+02   \n",
       "NEAR/USDT      -0.173718       0.055007       6.515121e+04   \n",
       "CRV/USDT       -0.148148       0.034527       4.654107e+04   \n",
       "GRT/USDT       -0.141505       0.028912       8.619148e+05   \n",
       "AUDIO/USDT     -0.151288       0.047013       5.416708e+04   \n",
       "CAKE/USDT      -0.113615       0.003972       3.242188e+04   \n",
       "THETA/USDT     -0.139490       0.040901       4.473198e+04   \n",
       "CELR/USDT      -0.150115       0.055365       1.180958e+06   \n",
       "SUSHI/USDT     -0.135814       0.038152       2.497733e+04   \n",
       "LPT/USDT       -0.132160       0.034513       9.800149e+02   \n",
       "WAVES/USDT     -0.123681       0.026756       9.491804e+03   \n",
       "RNDR/USDT      -0.132635       0.038229       1.305679e+04   \n",
       "SKL/USDT       -0.143175       0.052016       1.442708e+05   \n",
       "PERP/USDT      -0.134293       0.041551       6.599833e+03   \n",
       "CHR/USDT       -0.137133       0.045053       1.422666e+05   \n",
       "ENS/USDT       -0.155422       0.068474       6.202036e+03   \n",
       "PEOPLE/USDT    -0.144654       0.056373       1.611932e+06   \n",
       "ZEN/USDT       -0.128571       0.038146       5.960135e+02   \n",
       "\n",
       "             bounce_time_avg_vol  trip_return         pair    avg_volume  \\\n",
       "symbol                                                                     \n",
       "DOGE/USDT           1.240313e+07     0.844859    DOGE/USDT  3.575925e+07   \n",
       "XMR/USDT            5.850610e+02     0.867021     XMR/USDT  4.627622e+02   \n",
       "ZEC/USDT            5.803206e+02     0.869208     ZEC/USDT  5.025102e+02   \n",
       "NEAR/USDT           8.215896e+04     0.871733    NEAR/USDT  5.617771e+04   \n",
       "CRV/USDT            2.915091e+04     0.881264     CRV/USDT  3.536539e+04   \n",
       "GRT/USDT            3.590978e+05     0.883316     GRT/USDT  2.746765e+05   \n",
       "AUDIO/USDT          2.469294e+04     0.888612   AUDIO/USDT  4.092315e+04   \n",
       "CAKE/USDT           2.872566e+04     0.889906    CAKE/USDT  2.243675e+04   \n",
       "THETA/USDT          3.490249e+04     0.895706   THETA/USDT  2.465032e+04   \n",
       "CELR/USDT           1.857280e+06     0.896939    CELR/USDT  6.759973e+05   \n",
       "SUSHI/USDT          1.997863e+04     0.897157   SUSHI/USDT  1.773588e+04   \n",
       "LPT/USDT            4.871804e+02     0.897791     LPT/USDT  5.285810e+02   \n",
       "WAVES/USDT          1.056644e+04     0.899766   WAVES/USDT  1.015482e+04   \n",
       "RNDR/USDT           6.741018e+03     0.900524    RNDR/USDT  7.357199e+03   \n",
       "SKL/USDT            2.289118e+05     0.901393     SKL/USDT  1.184069e+05   \n",
       "PERP/USDT           2.386904e+03     0.901679    PERP/USDT  3.004026e+03   \n",
       "CHR/USDT            1.335728e+05     0.901741     CHR/USDT  7.184719e+04   \n",
       "ENS/USDT            5.553479e+03     0.902410     ENS/USDT  6.013197e+03   \n",
       "PEOPLE/USDT         1.533425e+06     0.903564  PEOPLE/USDT  1.211590e+06   \n",
       "ZEN/USDT            5.455148e+02     0.904670     ZEN/USDT  3.155845e+02   \n",
       "\n",
       "             bounce_time_avg_vol_normalized  dump_time_avg_vol_normalized  \n",
       "symbol                                                                     \n",
       "DOGE/USDT                          0.346851                      0.668983  \n",
       "XMR/USDT                           1.264280                      1.327587  \n",
       "ZEC/USDT                           1.154844                      1.557486  \n",
       "NEAR/USDT                          1.462483                      1.159734  \n",
       "CRV/USDT                           0.824278                      1.316006  \n",
       "GRT/USDT                           1.307348                      3.137927  \n",
       "AUDIO/USDT                         0.603398                      1.323629  \n",
       "CAKE/USDT                          1.280295                      1.445035  \n",
       "THETA/USDT                         1.415904                      1.814661  \n",
       "CELR/USDT                          2.747467                      1.746987  \n",
       "SUSHI/USDT                         1.126453                      1.408294  \n",
       "LPT/USDT                           0.921676                      1.854049  \n",
       "WAVES/USDT                         1.040535                      0.934710  \n",
       "RNDR/USDT                          0.916248                      1.774696  \n",
       "SKL/USDT                           1.933265                      1.218433  \n",
       "PERP/USDT                          0.794568                      2.196996  \n",
       "CHR/USDT                           1.859124                      1.980128  \n",
       "ENS/USDT                           0.923548                      1.031404  \n",
       "PEOPLE/USDT                        1.265630                      1.330427  \n",
       "ZEN/USDT                           1.728585                      1.888602  "
      ]
     },
     "execution_count": 236,
     "metadata": {},
     "output_type": "execute_result"
    }
   ],
   "source": [
    "dump_and_pump_stat_df.sort_values(['trip_return', 'bounce_time_avg_vol_normalized']).head(20)"
   ]
  },
  {
   "cell_type": "code",
   "execution_count": 237,
   "metadata": {},
   "outputs": [
    {
     "data": {
      "text/plain": [
       "(158, 9)"
      ]
     },
     "execution_count": 237,
     "metadata": {},
     "output_type": "execute_result"
    }
   ],
   "source": [
    "dump_and_pump_stat_df.shape"
   ]
  },
  {
   "cell_type": "code",
   "execution_count": 234,
   "metadata": {},
   "outputs": [
    {
     "data": {
      "text/html": [
       "<div>\n",
       "<style scoped>\n",
       "    .dataframe tbody tr th:only-of-type {\n",
       "        vertical-align: middle;\n",
       "    }\n",
       "\n",
       "    .dataframe tbody tr th {\n",
       "        vertical-align: top;\n",
       "    }\n",
       "\n",
       "    .dataframe thead th {\n",
       "        text-align: right;\n",
       "    }\n",
       "</style>\n",
       "<table border=\"1\" class=\"dataframe\">\n",
       "  <thead>\n",
       "    <tr style=\"text-align: right;\">\n",
       "      <th></th>\n",
       "      <th>dump_return</th>\n",
       "      <th>bounce_return</th>\n",
       "      <th>dump_time_avg_vol</th>\n",
       "      <th>bounce_time_avg_vol</th>\n",
       "      <th>trip_return</th>\n",
       "      <th>pair</th>\n",
       "      <th>avg_volume</th>\n",
       "      <th>bounce_time_avg_vol_normalized</th>\n",
       "      <th>dump_time_avg_vol_normalized</th>\n",
       "    </tr>\n",
       "    <tr>\n",
       "      <th>symbol</th>\n",
       "      <th></th>\n",
       "      <th></th>\n",
       "      <th></th>\n",
       "      <th></th>\n",
       "      <th></th>\n",
       "      <th></th>\n",
       "      <th></th>\n",
       "      <th></th>\n",
       "      <th></th>\n",
       "    </tr>\n",
       "  </thead>\n",
       "  <tbody>\n",
       "    <tr>\n",
       "      <th>ZRX/USDT</th>\n",
       "      <td>0.071149</td>\n",
       "      <td>0.040463</td>\n",
       "      <td>4.219715e+05</td>\n",
       "      <td>4.420982e+05</td>\n",
       "      <td>1.114491</td>\n",
       "      <td>ZRX/USDT</td>\n",
       "      <td>4.870131e+04</td>\n",
       "      <td>9.077748</td>\n",
       "      <td>8.664480</td>\n",
       "    </tr>\n",
       "    <tr>\n",
       "      <th>ORBS/USD</th>\n",
       "      <td>-0.046634</td>\n",
       "      <td>0.059281</td>\n",
       "      <td>6.704723e+02</td>\n",
       "      <td>9.324788e+02</td>\n",
       "      <td>1.009883</td>\n",
       "      <td>ORBS/USD</td>\n",
       "      <td>5.551920e+02</td>\n",
       "      <td>1.679561</td>\n",
       "      <td>1.207640</td>\n",
       "    </tr>\n",
       "    <tr>\n",
       "      <th>PAXG/USDT</th>\n",
       "      <td>-0.003145</td>\n",
       "      <td>0.001577</td>\n",
       "      <td>1.373955e+01</td>\n",
       "      <td>7.990410e+00</td>\n",
       "      <td>0.998428</td>\n",
       "      <td>PAXG/USDT</td>\n",
       "      <td>1.901462e+01</td>\n",
       "      <td>0.420224</td>\n",
       "      <td>0.722578</td>\n",
       "    </tr>\n",
       "    <tr>\n",
       "      <th>APE/USDT</th>\n",
       "      <td>-0.026249</td>\n",
       "      <td>0.017169</td>\n",
       "      <td>1.113536e+05</td>\n",
       "      <td>8.174551e+04</td>\n",
       "      <td>0.990469</td>\n",
       "      <td>APE/USDT</td>\n",
       "      <td>1.523502e+05</td>\n",
       "      <td>0.536563</td>\n",
       "      <td>0.730906</td>\n",
       "    </tr>\n",
       "    <tr>\n",
       "      <th>GMT/USDT</th>\n",
       "      <td>-0.046021</td>\n",
       "      <td>0.024935</td>\n",
       "      <td>6.713409e+05</td>\n",
       "      <td>5.541903e+05</td>\n",
       "      <td>0.977767</td>\n",
       "      <td>GMT/USDT</td>\n",
       "      <td>5.720941e+05</td>\n",
       "      <td>0.968705</td>\n",
       "      <td>1.173480</td>\n",
       "    </tr>\n",
       "    <tr>\n",
       "      <th>...</th>\n",
       "      <td>...</td>\n",
       "      <td>...</td>\n",
       "      <td>...</td>\n",
       "      <td>...</td>\n",
       "      <td>...</td>\n",
       "      <td>...</td>\n",
       "      <td>...</td>\n",
       "      <td>...</td>\n",
       "      <td>...</td>\n",
       "    </tr>\n",
       "    <tr>\n",
       "      <th>CRV/USDT</th>\n",
       "      <td>-0.148148</td>\n",
       "      <td>0.034527</td>\n",
       "      <td>4.654107e+04</td>\n",
       "      <td>2.915091e+04</td>\n",
       "      <td>0.881264</td>\n",
       "      <td>CRV/USDT</td>\n",
       "      <td>3.536539e+04</td>\n",
       "      <td>0.824278</td>\n",
       "      <td>1.316006</td>\n",
       "    </tr>\n",
       "    <tr>\n",
       "      <th>NEAR/USDT</th>\n",
       "      <td>-0.173718</td>\n",
       "      <td>0.055007</td>\n",
       "      <td>6.515121e+04</td>\n",
       "      <td>8.215896e+04</td>\n",
       "      <td>0.871733</td>\n",
       "      <td>NEAR/USDT</td>\n",
       "      <td>5.617771e+04</td>\n",
       "      <td>1.462483</td>\n",
       "      <td>1.159734</td>\n",
       "    </tr>\n",
       "    <tr>\n",
       "      <th>ZEC/USDT</th>\n",
       "      <td>-0.160704</td>\n",
       "      <td>0.035639</td>\n",
       "      <td>7.826525e+02</td>\n",
       "      <td>5.803206e+02</td>\n",
       "      <td>0.869208</td>\n",
       "      <td>ZEC/USDT</td>\n",
       "      <td>5.025102e+02</td>\n",
       "      <td>1.154844</td>\n",
       "      <td>1.557486</td>\n",
       "    </tr>\n",
       "    <tr>\n",
       "      <th>XMR/USDT</th>\n",
       "      <td>-0.137158</td>\n",
       "      <td>0.004844</td>\n",
       "      <td>6.143574e+02</td>\n",
       "      <td>5.850610e+02</td>\n",
       "      <td>0.867021</td>\n",
       "      <td>XMR/USDT</td>\n",
       "      <td>4.627622e+02</td>\n",
       "      <td>1.264280</td>\n",
       "      <td>1.327587</td>\n",
       "    </tr>\n",
       "    <tr>\n",
       "      <th>DOGE/USDT</th>\n",
       "      <td>-0.185809</td>\n",
       "      <td>0.037666</td>\n",
       "      <td>2.392231e+07</td>\n",
       "      <td>1.240313e+07</td>\n",
       "      <td>0.844859</td>\n",
       "      <td>DOGE/USDT</td>\n",
       "      <td>3.575925e+07</td>\n",
       "      <td>0.346851</td>\n",
       "      <td>0.668983</td>\n",
       "    </tr>\n",
       "  </tbody>\n",
       "</table>\n",
       "<p>158 rows × 9 columns</p>\n",
       "</div>"
      ],
      "text/plain": [
       "           dump_return  bounce_return  dump_time_avg_vol  bounce_time_avg_vol  \\\n",
       "symbol                                                                          \n",
       "ZRX/USDT      0.071149       0.040463       4.219715e+05         4.420982e+05   \n",
       "ORBS/USD     -0.046634       0.059281       6.704723e+02         9.324788e+02   \n",
       "PAXG/USDT    -0.003145       0.001577       1.373955e+01         7.990410e+00   \n",
       "APE/USDT     -0.026249       0.017169       1.113536e+05         8.174551e+04   \n",
       "GMT/USDT     -0.046021       0.024935       6.713409e+05         5.541903e+05   \n",
       "...                ...            ...                ...                  ...   \n",
       "CRV/USDT     -0.148148       0.034527       4.654107e+04         2.915091e+04   \n",
       "NEAR/USDT    -0.173718       0.055007       6.515121e+04         8.215896e+04   \n",
       "ZEC/USDT     -0.160704       0.035639       7.826525e+02         5.803206e+02   \n",
       "XMR/USDT     -0.137158       0.004844       6.143574e+02         5.850610e+02   \n",
       "DOGE/USDT    -0.185809       0.037666       2.392231e+07         1.240313e+07   \n",
       "\n",
       "           trip_return       pair    avg_volume  \\\n",
       "symbol                                            \n",
       "ZRX/USDT      1.114491   ZRX/USDT  4.870131e+04   \n",
       "ORBS/USD      1.009883   ORBS/USD  5.551920e+02   \n",
       "PAXG/USDT     0.998428  PAXG/USDT  1.901462e+01   \n",
       "APE/USDT      0.990469   APE/USDT  1.523502e+05   \n",
       "GMT/USDT      0.977767   GMT/USDT  5.720941e+05   \n",
       "...                ...        ...           ...   \n",
       "CRV/USDT      0.881264   CRV/USDT  3.536539e+04   \n",
       "NEAR/USDT     0.871733  NEAR/USDT  5.617771e+04   \n",
       "ZEC/USDT      0.869208   ZEC/USDT  5.025102e+02   \n",
       "XMR/USDT      0.867021   XMR/USDT  4.627622e+02   \n",
       "DOGE/USDT     0.844859  DOGE/USDT  3.575925e+07   \n",
       "\n",
       "           bounce_time_avg_vol_normalized  dump_time_avg_vol_normalized  \n",
       "symbol                                                                   \n",
       "ZRX/USDT                         9.077748                      8.664480  \n",
       "ORBS/USD                         1.679561                      1.207640  \n",
       "PAXG/USDT                        0.420224                      0.722578  \n",
       "APE/USDT                         0.536563                      0.730906  \n",
       "GMT/USDT                         0.968705                      1.173480  \n",
       "...                                   ...                           ...  \n",
       "CRV/USDT                         0.824278                      1.316006  \n",
       "NEAR/USDT                        1.462483                      1.159734  \n",
       "ZEC/USDT                         1.154844                      1.557486  \n",
       "XMR/USDT                         1.264280                      1.327587  \n",
       "DOGE/USDT                        0.346851                      0.668983  \n",
       "\n",
       "[158 rows x 9 columns]"
      ]
     },
     "execution_count": 234,
     "metadata": {},
     "output_type": "execute_result"
    }
   ],
   "source": [
    "dump_and_pump_stat_df.sort_values(['trip_return', 'bounce_time_avg_vol_normalized'], ascending=False)"
   ]
  },
  {
   "cell_type": "code",
   "execution_count": null,
   "metadata": {},
   "outputs": [],
   "source": [
    "all_ohlcv_data_df.index.get_level_values(1) >= datetime_point"
   ]
  },
  {
   "cell_type": "code",
   "execution_count": 167,
   "metadata": {},
   "outputs": [
    {
     "data": {
      "text/html": [
       "<div>\n",
       "<style scoped>\n",
       "    .dataframe tbody tr th:only-of-type {\n",
       "        vertical-align: middle;\n",
       "    }\n",
       "\n",
       "    .dataframe tbody tr th {\n",
       "        vertical-align: top;\n",
       "    }\n",
       "\n",
       "    .dataframe thead th {\n",
       "        text-align: right;\n",
       "    }\n",
       "</style>\n",
       "<table border=\"1\" class=\"dataframe\">\n",
       "  <thead>\n",
       "    <tr style=\"text-align: right;\">\n",
       "      <th></th>\n",
       "      <th>0</th>\n",
       "      <th>1</th>\n",
       "    </tr>\n",
       "    <tr>\n",
       "      <th>symbol</th>\n",
       "      <th></th>\n",
       "      <th></th>\n",
       "    </tr>\n",
       "  </thead>\n",
       "  <tbody>\n",
       "    <tr>\n",
       "      <th>1INCH/USDT</th>\n",
       "      <td>-0.119215</td>\n",
       "      <td>0.050159</td>\n",
       "    </tr>\n",
       "    <tr>\n",
       "      <th>AAVE/USDT</th>\n",
       "      <td>-0.117647</td>\n",
       "      <td>0.093851</td>\n",
       "    </tr>\n",
       "    <tr>\n",
       "      <th>ACA/USDT</th>\n",
       "      <td>-0.126307</td>\n",
       "      <td>0.045120</td>\n",
       "    </tr>\n",
       "    <tr>\n",
       "      <th>ADA/USDT</th>\n",
       "      <td>-0.090909</td>\n",
       "      <td>0.025092</td>\n",
       "    </tr>\n",
       "    <tr>\n",
       "      <th>ALGO/USDT</th>\n",
       "      <td>-0.103001</td>\n",
       "      <td>0.030496</td>\n",
       "    </tr>\n",
       "    <tr>\n",
       "      <th>...</th>\n",
       "      <td>...</td>\n",
       "      <td>...</td>\n",
       "    </tr>\n",
       "    <tr>\n",
       "      <th>YFI/USDT</th>\n",
       "      <td>-0.097660</td>\n",
       "      <td>0.022900</td>\n",
       "    </tr>\n",
       "    <tr>\n",
       "      <th>ZEC/USDT</th>\n",
       "      <td>-0.160704</td>\n",
       "      <td>0.035639</td>\n",
       "    </tr>\n",
       "    <tr>\n",
       "      <th>ZEN/USDT</th>\n",
       "      <td>-0.128571</td>\n",
       "      <td>0.038146</td>\n",
       "    </tr>\n",
       "    <tr>\n",
       "      <th>ZIL/USDT</th>\n",
       "      <td>-0.132852</td>\n",
       "      <td>0.058660</td>\n",
       "    </tr>\n",
       "    <tr>\n",
       "      <th>ZRX/USDT</th>\n",
       "      <td>0.071149</td>\n",
       "      <td>0.040463</td>\n",
       "    </tr>\n",
       "  </tbody>\n",
       "</table>\n",
       "<p>158 rows × 2 columns</p>\n",
       "</div>"
      ],
      "text/plain": [
       "                   0         1\n",
       "symbol                        \n",
       "1INCH/USDT -0.119215  0.050159\n",
       "AAVE/USDT  -0.117647  0.093851\n",
       "ACA/USDT   -0.126307  0.045120\n",
       "ADA/USDT   -0.090909  0.025092\n",
       "ALGO/USDT  -0.103001  0.030496\n",
       "...              ...       ...\n",
       "YFI/USDT   -0.097660  0.022900\n",
       "ZEC/USDT   -0.160704  0.035639\n",
       "ZEN/USDT   -0.128571  0.038146\n",
       "ZIL/USDT   -0.132852  0.058660\n",
       "ZRX/USDT    0.071149  0.040463\n",
       "\n",
       "[158 rows x 2 columns]"
      ]
     },
     "execution_count": 167,
     "metadata": {},
     "output_type": "execute_result"
    }
   ],
   "source": [
    "dump_and_pump_stat_df"
   ]
  },
  {
   "cell_type": "code",
   "execution_count": null,
   "metadata": {},
   "outputs": [],
   "source": []
  },
  {
   "cell_type": "code",
   "execution_count": null,
   "metadata": {},
   "outputs": [],
   "source": []
  },
  {
   "cell_type": "code",
   "execution_count": null,
   "metadata": {},
   "outputs": [],
   "source": []
  },
  {
   "cell_type": "code",
   "execution_count": 92,
   "metadata": {},
   "outputs": [
    {
     "data": {
      "text/html": [
       "<div>\n",
       "<style scoped>\n",
       "    .dataframe tbody tr th:only-of-type {\n",
       "        vertical-align: middle;\n",
       "    }\n",
       "\n",
       "    .dataframe tbody tr th {\n",
       "        vertical-align: top;\n",
       "    }\n",
       "\n",
       "    .dataframe thead th {\n",
       "        text-align: right;\n",
       "    }\n",
       "</style>\n",
       "<table border=\"1\" class=\"dataframe\">\n",
       "  <thead>\n",
       "    <tr style=\"text-align: right;\">\n",
       "      <th>symbol</th>\n",
       "      <th>1INCH/USDT</th>\n",
       "      <th>AAVE/USDT</th>\n",
       "      <th>ACA/USDT</th>\n",
       "      <th>ADA/USDT</th>\n",
       "      <th>ALGO/USDT</th>\n",
       "      <th>AMP/USDT</th>\n",
       "      <th>ANC/USDT</th>\n",
       "      <th>ANKR/USDT</th>\n",
       "      <th>APE/USDT</th>\n",
       "      <th>AR/USDT</th>\n",
       "      <th>...</th>\n",
       "      <th>XLM/USDT</th>\n",
       "      <th>XMR/USDT</th>\n",
       "      <th>XNO/USDT</th>\n",
       "      <th>XRP/USDT</th>\n",
       "      <th>XTZ/USDT</th>\n",
       "      <th>YFI/USDT</th>\n",
       "      <th>ZEC/USDT</th>\n",
       "      <th>ZEN/USDT</th>\n",
       "      <th>ZIL/USDT</th>\n",
       "      <th>ZRX/USDT</th>\n",
       "    </tr>\n",
       "    <tr>\n",
       "      <th>time_tick</th>\n",
       "      <th></th>\n",
       "      <th></th>\n",
       "      <th></th>\n",
       "      <th></th>\n",
       "      <th></th>\n",
       "      <th></th>\n",
       "      <th></th>\n",
       "      <th></th>\n",
       "      <th></th>\n",
       "      <th></th>\n",
       "      <th></th>\n",
       "      <th></th>\n",
       "      <th></th>\n",
       "      <th></th>\n",
       "      <th></th>\n",
       "      <th></th>\n",
       "      <th></th>\n",
       "      <th></th>\n",
       "      <th></th>\n",
       "      <th></th>\n",
       "      <th></th>\n",
       "    </tr>\n",
       "  </thead>\n",
       "  <tbody>\n",
       "    <tr>\n",
       "      <th>2019-04-20 16:20:00</th>\n",
       "      <td>NaN</td>\n",
       "      <td>NaN</td>\n",
       "      <td>NaN</td>\n",
       "      <td>NaN</td>\n",
       "      <td>NaN</td>\n",
       "      <td>NaN</td>\n",
       "      <td>NaN</td>\n",
       "      <td>NaN</td>\n",
       "      <td>NaN</td>\n",
       "      <td>NaN</td>\n",
       "      <td>...</td>\n",
       "      <td>NaN</td>\n",
       "      <td>NaN</td>\n",
       "      <td>NaN</td>\n",
       "      <td>NaN</td>\n",
       "      <td>NaN</td>\n",
       "      <td>NaN</td>\n",
       "      <td>NaN</td>\n",
       "      <td>NaN</td>\n",
       "      <td>NaN</td>\n",
       "      <td>NaN</td>\n",
       "    </tr>\n",
       "    <tr>\n",
       "      <th>2019-04-20 16:25:00</th>\n",
       "      <td>NaN</td>\n",
       "      <td>NaN</td>\n",
       "      <td>NaN</td>\n",
       "      <td>NaN</td>\n",
       "      <td>NaN</td>\n",
       "      <td>NaN</td>\n",
       "      <td>NaN</td>\n",
       "      <td>NaN</td>\n",
       "      <td>NaN</td>\n",
       "      <td>NaN</td>\n",
       "      <td>...</td>\n",
       "      <td>NaN</td>\n",
       "      <td>NaN</td>\n",
       "      <td>NaN</td>\n",
       "      <td>NaN</td>\n",
       "      <td>NaN</td>\n",
       "      <td>NaN</td>\n",
       "      <td>NaN</td>\n",
       "      <td>NaN</td>\n",
       "      <td>NaN</td>\n",
       "      <td>NaN</td>\n",
       "    </tr>\n",
       "    <tr>\n",
       "      <th>2019-04-20 16:30:00</th>\n",
       "      <td>NaN</td>\n",
       "      <td>NaN</td>\n",
       "      <td>NaN</td>\n",
       "      <td>NaN</td>\n",
       "      <td>NaN</td>\n",
       "      <td>NaN</td>\n",
       "      <td>NaN</td>\n",
       "      <td>NaN</td>\n",
       "      <td>NaN</td>\n",
       "      <td>NaN</td>\n",
       "      <td>...</td>\n",
       "      <td>NaN</td>\n",
       "      <td>NaN</td>\n",
       "      <td>NaN</td>\n",
       "      <td>NaN</td>\n",
       "      <td>NaN</td>\n",
       "      <td>NaN</td>\n",
       "      <td>NaN</td>\n",
       "      <td>NaN</td>\n",
       "      <td>NaN</td>\n",
       "      <td>NaN</td>\n",
       "    </tr>\n",
       "    <tr>\n",
       "      <th>2019-04-20 16:35:00</th>\n",
       "      <td>NaN</td>\n",
       "      <td>NaN</td>\n",
       "      <td>NaN</td>\n",
       "      <td>NaN</td>\n",
       "      <td>NaN</td>\n",
       "      <td>NaN</td>\n",
       "      <td>NaN</td>\n",
       "      <td>NaN</td>\n",
       "      <td>NaN</td>\n",
       "      <td>NaN</td>\n",
       "      <td>...</td>\n",
       "      <td>NaN</td>\n",
       "      <td>NaN</td>\n",
       "      <td>NaN</td>\n",
       "      <td>NaN</td>\n",
       "      <td>NaN</td>\n",
       "      <td>NaN</td>\n",
       "      <td>NaN</td>\n",
       "      <td>NaN</td>\n",
       "      <td>NaN</td>\n",
       "      <td>NaN</td>\n",
       "    </tr>\n",
       "    <tr>\n",
       "      <th>2019-04-20 16:40:00</th>\n",
       "      <td>NaN</td>\n",
       "      <td>NaN</td>\n",
       "      <td>NaN</td>\n",
       "      <td>NaN</td>\n",
       "      <td>NaN</td>\n",
       "      <td>NaN</td>\n",
       "      <td>NaN</td>\n",
       "      <td>NaN</td>\n",
       "      <td>NaN</td>\n",
       "      <td>NaN</td>\n",
       "      <td>...</td>\n",
       "      <td>NaN</td>\n",
       "      <td>NaN</td>\n",
       "      <td>NaN</td>\n",
       "      <td>NaN</td>\n",
       "      <td>NaN</td>\n",
       "      <td>NaN</td>\n",
       "      <td>NaN</td>\n",
       "      <td>NaN</td>\n",
       "      <td>NaN</td>\n",
       "      <td>NaN</td>\n",
       "    </tr>\n",
       "    <tr>\n",
       "      <th>...</th>\n",
       "      <td>...</td>\n",
       "      <td>...</td>\n",
       "      <td>...</td>\n",
       "      <td>...</td>\n",
       "      <td>...</td>\n",
       "      <td>...</td>\n",
       "      <td>...</td>\n",
       "      <td>...</td>\n",
       "      <td>...</td>\n",
       "      <td>...</td>\n",
       "      <td>...</td>\n",
       "      <td>...</td>\n",
       "      <td>...</td>\n",
       "      <td>...</td>\n",
       "      <td>...</td>\n",
       "      <td>...</td>\n",
       "      <td>...</td>\n",
       "      <td>...</td>\n",
       "      <td>...</td>\n",
       "      <td>...</td>\n",
       "      <td>...</td>\n",
       "    </tr>\n",
       "    <tr>\n",
       "      <th>2022-04-27 03:00:00</th>\n",
       "      <td>1.317</td>\n",
       "      <td>168.8</td>\n",
       "      <td>1.133</td>\n",
       "      <td>0.8357</td>\n",
       "      <td>0.6608</td>\n",
       "      <td>0.02089</td>\n",
       "      <td>1.875</td>\n",
       "      <td>0.06906</td>\n",
       "      <td>17.9619</td>\n",
       "      <td>27.38</td>\n",
       "      <td>...</td>\n",
       "      <td>0.1828</td>\n",
       "      <td>228.0</td>\n",
       "      <td>1.899</td>\n",
       "      <td>0.6494</td>\n",
       "      <td>2.750</td>\n",
       "      <td>17656.96</td>\n",
       "      <td>148.0</td>\n",
       "      <td>32.90</td>\n",
       "      <td>0.09472</td>\n",
       "      <td>0.8379</td>\n",
       "    </tr>\n",
       "    <tr>\n",
       "      <th>2022-04-27 03:05:00</th>\n",
       "      <td>1.314</td>\n",
       "      <td>166.7</td>\n",
       "      <td>1.132</td>\n",
       "      <td>0.8350</td>\n",
       "      <td>0.6593</td>\n",
       "      <td>0.02090</td>\n",
       "      <td>1.872</td>\n",
       "      <td>0.06899</td>\n",
       "      <td>17.8955</td>\n",
       "      <td>27.34</td>\n",
       "      <td>...</td>\n",
       "      <td>0.1828</td>\n",
       "      <td>227.7</td>\n",
       "      <td>1.895</td>\n",
       "      <td>0.6487</td>\n",
       "      <td>2.744</td>\n",
       "      <td>17643.38</td>\n",
       "      <td>147.4</td>\n",
       "      <td>32.77</td>\n",
       "      <td>0.09475</td>\n",
       "      <td>0.8359</td>\n",
       "    </tr>\n",
       "    <tr>\n",
       "      <th>2022-04-27 03:10:00</th>\n",
       "      <td>1.318</td>\n",
       "      <td>165.4</td>\n",
       "      <td>1.130</td>\n",
       "      <td>0.8368</td>\n",
       "      <td>0.6612</td>\n",
       "      <td>0.02096</td>\n",
       "      <td>1.874</td>\n",
       "      <td>0.06917</td>\n",
       "      <td>17.9779</td>\n",
       "      <td>27.19</td>\n",
       "      <td>...</td>\n",
       "      <td>0.1835</td>\n",
       "      <td>227.9</td>\n",
       "      <td>1.896</td>\n",
       "      <td>0.6495</td>\n",
       "      <td>2.750</td>\n",
       "      <td>17664.53</td>\n",
       "      <td>148.2</td>\n",
       "      <td>32.93</td>\n",
       "      <td>0.09520</td>\n",
       "      <td>0.8389</td>\n",
       "    </tr>\n",
       "    <tr>\n",
       "      <th>2022-04-27 03:15:00</th>\n",
       "      <td>1.317</td>\n",
       "      <td>163.8</td>\n",
       "      <td>1.134</td>\n",
       "      <td>0.8357</td>\n",
       "      <td>0.6603</td>\n",
       "      <td>0.02095</td>\n",
       "      <td>1.878</td>\n",
       "      <td>0.06896</td>\n",
       "      <td>18.0122</td>\n",
       "      <td>27.55</td>\n",
       "      <td>...</td>\n",
       "      <td>0.1827</td>\n",
       "      <td>227.6</td>\n",
       "      <td>1.896</td>\n",
       "      <td>0.6484</td>\n",
       "      <td>2.745</td>\n",
       "      <td>17640.84</td>\n",
       "      <td>147.6</td>\n",
       "      <td>32.85</td>\n",
       "      <td>0.09479</td>\n",
       "      <td>0.8487</td>\n",
       "    </tr>\n",
       "    <tr>\n",
       "      <th>2022-04-27 03:20:00</th>\n",
       "      <td>1.317</td>\n",
       "      <td>NaN</td>\n",
       "      <td>NaN</td>\n",
       "      <td>NaN</td>\n",
       "      <td>NaN</td>\n",
       "      <td>NaN</td>\n",
       "      <td>NaN</td>\n",
       "      <td>0.06896</td>\n",
       "      <td>18.0398</td>\n",
       "      <td>27.46</td>\n",
       "      <td>...</td>\n",
       "      <td>NaN</td>\n",
       "      <td>227.5</td>\n",
       "      <td>NaN</td>\n",
       "      <td>NaN</td>\n",
       "      <td>NaN</td>\n",
       "      <td>NaN</td>\n",
       "      <td>NaN</td>\n",
       "      <td>NaN</td>\n",
       "      <td>NaN</td>\n",
       "      <td>NaN</td>\n",
       "    </tr>\n",
       "  </tbody>\n",
       "</table>\n",
       "<p>3001 rows × 162 columns</p>\n",
       "</div>"
      ],
      "text/plain": [
       "symbol               1INCH/USDT  AAVE/USDT  ACA/USDT  ADA/USDT  ALGO/USDT  \\\n",
       "time_tick                                                                   \n",
       "2019-04-20 16:20:00         NaN        NaN       NaN       NaN        NaN   \n",
       "2019-04-20 16:25:00         NaN        NaN       NaN       NaN        NaN   \n",
       "2019-04-20 16:30:00         NaN        NaN       NaN       NaN        NaN   \n",
       "2019-04-20 16:35:00         NaN        NaN       NaN       NaN        NaN   \n",
       "2019-04-20 16:40:00         NaN        NaN       NaN       NaN        NaN   \n",
       "...                         ...        ...       ...       ...        ...   \n",
       "2022-04-27 03:00:00       1.317      168.8     1.133    0.8357     0.6608   \n",
       "2022-04-27 03:05:00       1.314      166.7     1.132    0.8350     0.6593   \n",
       "2022-04-27 03:10:00       1.318      165.4     1.130    0.8368     0.6612   \n",
       "2022-04-27 03:15:00       1.317      163.8     1.134    0.8357     0.6603   \n",
       "2022-04-27 03:20:00       1.317        NaN       NaN       NaN        NaN   \n",
       "\n",
       "symbol               AMP/USDT  ANC/USDT  ANKR/USDT  APE/USDT  AR/USDT  ...  \\\n",
       "time_tick                                                              ...   \n",
       "2019-04-20 16:20:00       NaN       NaN        NaN       NaN      NaN  ...   \n",
       "2019-04-20 16:25:00       NaN       NaN        NaN       NaN      NaN  ...   \n",
       "2019-04-20 16:30:00       NaN       NaN        NaN       NaN      NaN  ...   \n",
       "2019-04-20 16:35:00       NaN       NaN        NaN       NaN      NaN  ...   \n",
       "2019-04-20 16:40:00       NaN       NaN        NaN       NaN      NaN  ...   \n",
       "...                       ...       ...        ...       ...      ...  ...   \n",
       "2022-04-27 03:00:00   0.02089     1.875    0.06906   17.9619    27.38  ...   \n",
       "2022-04-27 03:05:00   0.02090     1.872    0.06899   17.8955    27.34  ...   \n",
       "2022-04-27 03:10:00   0.02096     1.874    0.06917   17.9779    27.19  ...   \n",
       "2022-04-27 03:15:00   0.02095     1.878    0.06896   18.0122    27.55  ...   \n",
       "2022-04-27 03:20:00       NaN       NaN    0.06896   18.0398    27.46  ...   \n",
       "\n",
       "symbol               XLM/USDT  XMR/USDT  XNO/USDT  XRP/USDT  XTZ/USDT  \\\n",
       "time_tick                                                               \n",
       "2019-04-20 16:20:00       NaN       NaN       NaN       NaN       NaN   \n",
       "2019-04-20 16:25:00       NaN       NaN       NaN       NaN       NaN   \n",
       "2019-04-20 16:30:00       NaN       NaN       NaN       NaN       NaN   \n",
       "2019-04-20 16:35:00       NaN       NaN       NaN       NaN       NaN   \n",
       "2019-04-20 16:40:00       NaN       NaN       NaN       NaN       NaN   \n",
       "...                       ...       ...       ...       ...       ...   \n",
       "2022-04-27 03:00:00    0.1828     228.0     1.899    0.6494     2.750   \n",
       "2022-04-27 03:05:00    0.1828     227.7     1.895    0.6487     2.744   \n",
       "2022-04-27 03:10:00    0.1835     227.9     1.896    0.6495     2.750   \n",
       "2022-04-27 03:15:00    0.1827     227.6     1.896    0.6484     2.745   \n",
       "2022-04-27 03:20:00       NaN     227.5       NaN       NaN       NaN   \n",
       "\n",
       "symbol               YFI/USDT  ZEC/USDT  ZEN/USDT  ZIL/USDT  ZRX/USDT  \n",
       "time_tick                                                              \n",
       "2019-04-20 16:20:00       NaN       NaN       NaN       NaN       NaN  \n",
       "2019-04-20 16:25:00       NaN       NaN       NaN       NaN       NaN  \n",
       "2019-04-20 16:30:00       NaN       NaN       NaN       NaN       NaN  \n",
       "2019-04-20 16:35:00       NaN       NaN       NaN       NaN       NaN  \n",
       "2019-04-20 16:40:00       NaN       NaN       NaN       NaN       NaN  \n",
       "...                       ...       ...       ...       ...       ...  \n",
       "2022-04-27 03:00:00  17656.96     148.0     32.90   0.09472    0.8379  \n",
       "2022-04-27 03:05:00  17643.38     147.4     32.77   0.09475    0.8359  \n",
       "2022-04-27 03:10:00  17664.53     148.2     32.93   0.09520    0.8389  \n",
       "2022-04-27 03:15:00  17640.84     147.6     32.85   0.09479    0.8487  \n",
       "2022-04-27 03:20:00       NaN       NaN       NaN       NaN       NaN  \n",
       "\n",
       "[3001 rows x 162 columns]"
      ]
     },
     "execution_count": 92,
     "metadata": {},
     "output_type": "execute_result"
    }
   ],
   "source": [
    "all_ohlcv_data_df['close'].unstack().T"
   ]
  },
  {
   "cell_type": "code",
   "execution_count": null,
   "metadata": {
    "pycharm": {
     "is_executing": true,
     "name": "#%%\n"
    }
   },
   "outputs": [],
   "source": [
    "gb_sym_obj = all_res_df_cleaned.groupby('symbol')\n",
    "\n",
    "def gb_find_bounce(x):\n",
    "    bottom_time = x['close'].idxmin()\n",
    "    low_price = x.loc[bottom_time]['close']\n",
    "    right_side_df = x[bottom_time:]\n",
    "    high_time = right_side_df['close'].idxmax()\n",
    "    high_price = right_side_df.loc[high_time]['close']\n",
    "    bounce_diff = high_price - low_price\n",
    "    bounce_pct = bounce_diff / low_price\n",
    "    return [low_price, bottom_time[1], high_price, high_time[1], bounce_diff, bounce_pct]"
   ]
  },
  {
   "cell_type": "code",
   "execution_count": 9,
   "metadata": {},
   "outputs": [],
   "source": [
    "exchange = 'binance'\n",
    "if exchange in ccxt.exchanges:\n",
    "    exchange_object = getattr(ccxt, exchange)\n",
    "    exchange_object = exchange_object()\n",
    "    market = binance_exchange.load_markets()\n"
   ]
  },
  {
   "cell_type": "code",
   "execution_count": 4,
   "metadata": {},
   "outputs": [
    {
     "data": {
      "text/plain": [
       "['aax',\n",
       " 'aofex',\n",
       " 'ascendex',\n",
       " 'bequant',\n",
       " 'bibox',\n",
       " 'bigone',\n",
       " 'binance',\n",
       " 'binancecoinm',\n",
       " 'binanceus',\n",
       " 'binanceusdm',\n",
       " 'bit2c',\n",
       " 'bitbank',\n",
       " 'bitbay',\n",
       " 'bitbns',\n",
       " 'bitcoincom',\n",
       " 'bitfinex',\n",
       " 'bitfinex2',\n",
       " 'bitflyer',\n",
       " 'bitforex',\n",
       " 'bitget',\n",
       " 'bithumb',\n",
       " 'bitmart',\n",
       " 'bitmex',\n",
       " 'bitpanda',\n",
       " 'bitrue',\n",
       " 'bitso',\n",
       " 'bitstamp',\n",
       " 'bitstamp1',\n",
       " 'bittrex',\n",
       " 'bitvavo',\n",
       " 'bl3p',\n",
       " 'btcbox',\n",
       " 'btcmarkets',\n",
       " 'btctradeua',\n",
       " 'btcturk',\n",
       " 'buda',\n",
       " 'bw',\n",
       " 'bybit',\n",
       " 'bytetrade',\n",
       " 'cdax',\n",
       " 'cex',\n",
       " 'coinbase',\n",
       " 'coinbaseprime',\n",
       " 'coinbasepro',\n",
       " 'coincheck',\n",
       " 'coinex',\n",
       " 'coinfalcon',\n",
       " 'coinmarketcap',\n",
       " 'coinmate',\n",
       " 'coinone',\n",
       " 'coinspot',\n",
       " 'crex24',\n",
       " 'currencycom',\n",
       " 'delta',\n",
       " 'deribit',\n",
       " 'digifinex',\n",
       " 'eqonex',\n",
       " 'equos',\n",
       " 'exmo',\n",
       " 'flowbtc',\n",
       " 'ftx',\n",
       " 'ftxus',\n",
       " 'gateio',\n",
       " 'gemini',\n",
       " 'hitbtc',\n",
       " 'hitbtc3',\n",
       " 'hollaex',\n",
       " 'huobi',\n",
       " 'huobijp',\n",
       " 'huobipro',\n",
       " 'idex',\n",
       " 'independentreserve',\n",
       " 'indodax',\n",
       " 'itbit',\n",
       " 'kraken',\n",
       " 'kucoin',\n",
       " 'kuna',\n",
       " 'latoken',\n",
       " 'latoken1',\n",
       " 'lbank',\n",
       " 'liquid',\n",
       " 'luno',\n",
       " 'lykke',\n",
       " 'mercado',\n",
       " 'mexc',\n",
       " 'ndax',\n",
       " 'novadax',\n",
       " 'oceanex',\n",
       " 'okcoin',\n",
       " 'okex',\n",
       " 'okex3',\n",
       " 'okex5',\n",
       " 'paymium',\n",
       " 'phemex',\n",
       " 'poloniex',\n",
       " 'probit',\n",
       " 'qtrade',\n",
       " 'ripio',\n",
       " 'stex',\n",
       " 'therock',\n",
       " 'tidebit',\n",
       " 'tidex',\n",
       " 'timex',\n",
       " 'upbit',\n",
       " 'vcc',\n",
       " 'wavesexchange',\n",
       " 'whitebit',\n",
       " 'xena',\n",
       " 'yobit',\n",
       " 'zaif',\n",
       " 'zb']"
      ]
     },
     "execution_count": 4,
     "metadata": {},
     "output_type": "execute_result"
    }
   ],
   "source": [
    "ccxt.exchanges"
   ]
  },
  {
   "cell_type": "code",
   "execution_count": null,
   "metadata": {
    "pycharm": {
     "is_executing": true,
     "name": "#%%\n"
    }
   },
   "outputs": [],
   "source": [
    "exchange = ccxt.binance()"
   ]
  },
  {
   "cell_type": "code",
   "execution_count": null,
   "metadata": {
    "pycharm": {
     "is_executing": true,
     "name": "#%%\n"
    }
   },
   "outputs": [],
   "source": [
    "ftx_exchange = ccxt.ftx()"
   ]
  },
  {
   "cell_type": "code",
   "execution_count": null,
   "metadata": {
    "pycharm": {
     "is_executing": true,
     "name": "#%%\n"
    }
   },
   "outputs": [],
   "source": [
    "binance_exchange = ccxt.binance()"
   ]
  },
  {
   "cell_type": "code",
   "execution_count": null,
   "metadata": {
    "pycharm": {
     "is_executing": true,
     "name": "#%%\n"
    }
   },
   "outputs": [],
   "source": [
    "binance_markets = binance_exchange.load_markets()"
   ]
  },
  {
   "cell_type": "code",
   "execution_count": null,
   "metadata": {
    "pycharm": {
     "is_executing": true,
     "name": "#%%\n"
    }
   },
   "outputs": [],
   "source": [
    "btc_order_book = binance_exchange.fetch_order_book('BTC/USDT', limit=50000)\n",
    "# binance only 5000 orders\n",
    "\n",
    "btc_order_book['asks'][-1]"
   ]
  },
  {
   "cell_type": "code",
   "execution_count": null,
   "metadata": {
    "pycharm": {
     "is_executing": true,
     "name": "#%%\n"
    }
   },
   "outputs": [],
   "source": [
    "btc_order_book.keys()"
   ]
  },
  {
   "cell_type": "code",
   "execution_count": null,
   "metadata": {
    "pycharm": {
     "is_executing": true,
     "name": "#%%\n"
    }
   },
   "outputs": [],
   "source": [
    "btc_order_book['timestamp']"
   ]
  },
  {
   "cell_type": "code",
   "execution_count": null,
   "metadata": {
    "pycharm": {
     "is_executing": true,
     "name": "#%%\n"
    }
   },
   "outputs": [],
   "source": [
    "pd.DataFrame(btc_order_book)"
   ]
  },
  {
   "cell_type": "code",
   "execution_count": null,
   "metadata": {
    "pycharm": {
     "is_executing": true,
     "name": "#%%\n"
    }
   },
   "outputs": [],
   "source": [
    "btc_order_book.keys()"
   ]
  },
  {
   "cell_type": "code",
   "execution_count": null,
   "metadata": {
    "pycharm": {
     "is_executing": true,
     "name": "#%%\n"
    }
   },
   "outputs": [],
   "source": [
    "binance_markets['BTC/USDT']"
   ]
  },
  {
   "cell_type": "code",
   "execution_count": null,
   "metadata": {
    "pycharm": {
     "is_executing": true,
     "name": "#%%\n"
    }
   },
   "outputs": [],
   "source": []
  },
  {
   "cell_type": "code",
   "execution_count": null,
   "metadata": {
    "pycharm": {
     "is_executing": true,
     "name": "#%%\n"
    }
   },
   "outputs": [],
   "source": [
    "# ftx has no sandbox api\n",
    "# exchange specific properties and methods by passing a dict to constructor"
   ]
  },
  {
   "cell_type": "code",
   "execution_count": null,
   "metadata": {
    "pycharm": {
     "is_executing": true,
     "name": "#%%\n"
    }
   },
   "outputs": [],
   "source": [
    "# what ftx has as capabilities\n",
    "ftx_exchange.has"
   ]
  },
  {
   "cell_type": "code",
   "execution_count": null,
   "metadata": {
    "pycharm": {
     "is_executing": true,
     "name": "#%%\n"
    }
   },
   "outputs": [],
   "source": [
    "ftx_markets = ftx_exchange.load_markets()"
   ]
  },
  {
   "cell_type": "code",
   "execution_count": null,
   "metadata": {
    "pycharm": {
     "is_executing": true,
     "name": "#%%\n"
    }
   },
   "outputs": [],
   "source": [
    "binance_markets = binance_exchange.load_markets()"
   ]
  },
  {
   "cell_type": "code",
   "execution_count": null,
   "metadata": {
    "pycharm": {
     "is_executing": true,
     "name": "#%%\n"
    }
   },
   "outputs": [],
   "source": [
    "binance_symbols = binance_exchange.symbols"
   ]
  },
  {
   "cell_type": "code",
   "execution_count": null,
   "metadata": {
    "pycharm": {
     "is_executing": true,
     "name": "#%%\n"
    }
   },
   "outputs": [],
   "source": [
    "binance_pairs = [s for s in binance_symbols if 'USDT' in s]"
   ]
  },
  {
   "cell_type": "code",
   "execution_count": null,
   "metadata": {
    "pycharm": {
     "is_executing": true,
     "name": "#%%\n"
    }
   },
   "outputs": [],
   "source": [
    "binance_pairs"
   ]
  },
  {
   "cell_type": "code",
   "execution_count": null,
   "metadata": {
    "pycharm": {
     "is_executing": true,
     "name": "#%%\n"
    }
   },
   "outputs": [],
   "source": [
    "binance_pairs_unique = [coin for coin in binance_pairs if (coin[:-5] not in coin_name) and ('UP' not in coin[:-5]) and ('DOWN' not in coin[:-5])]\n",
    "binance_pairs_unique = [coin for coin in binance_pairs_unique if ('BULL' not in coin) and ('BEAR' not in coin) ]"
   ]
  },
  {
   "cell_type": "code",
   "execution_count": null,
   "metadata": {
    "pycharm": {
     "is_executing": true,
     "name": "#%%\n"
    }
   },
   "outputs": [],
   "source": [
    "binance_pairs_unique"
   ]
  },
  {
   "cell_type": "code",
   "execution_count": null,
   "metadata": {
    "pycharm": {
     "is_executing": true,
     "name": "#%%\n"
    }
   },
   "outputs": [],
   "source": [
    "binance_pairs_unique"
   ]
  },
  {
   "cell_type": "code",
   "execution_count": null,
   "metadata": {
    "pycharm": {
     "is_executing": true,
     "name": "#%%\n"
    }
   },
   "outputs": [],
   "source": [
    "binance_all_res_df = pd.DataFrame()\n",
    "for symbol in binance_pairs_unique:\n",
    "    time.sleep (binance_exchange.rateLimit / 1000) # time.sleep wants seconds\n",
    "    print(symbol)\n",
    "    symbol_res = binance_exchange.fetch_ohlcv (symbol, timeframe='5m', since =since)\n",
    "    symbol_res_df = pd.DataFrame(symbol_res, columns = header)\n",
    "    symbol_res_df['symbol'] = symbol\n",
    "    binance_all_res_df = binance_all_res_df.append(symbol_res_df)"
   ]
  },
  {
   "cell_type": "code",
   "execution_count": null,
   "metadata": {
    "pycharm": {
     "is_executing": true,
     "name": "#%%\n"
    }
   },
   "outputs": [],
   "source": [
    "binance_all_res_df = binance_all_res_df.dropna()"
   ]
  },
  {
   "cell_type": "code",
   "execution_count": null,
   "metadata": {
    "pycharm": {
     "is_executing": true,
     "name": "#%%\n"
    }
   },
   "outputs": [],
   "source": [
    "all_symbols = ftx_exchange.symbols"
   ]
  },
  {
   "cell_type": "code",
   "execution_count": null,
   "metadata": {
    "pycharm": {
     "is_executing": true,
     "name": "#%%\n"
    }
   },
   "outputs": [],
   "source": [
    "perp_pairs = [s for s in all_symbols if 'PERP' in s]"
   ]
  },
  {
   "cell_type": "code",
   "execution_count": null,
   "metadata": {
    "pycharm": {
     "is_executing": true,
     "name": "#%%\n"
    }
   },
   "outputs": [],
   "source": [
    "perp_pairs"
   ]
  },
  {
   "cell_type": "code",
   "execution_count": null,
   "metadata": {
    "pycharm": {
     "is_executing": true,
     "name": "#%%\n"
    }
   },
   "outputs": [],
   "source": [
    "from datetime import datetime\n",
    "import time\n",
    "import pandas as pd"
   ]
  },
  {
   "cell_type": "code",
   "execution_count": null,
   "metadata": {
    "pycharm": {
     "is_executing": true,
     "name": "#%%\n"
    }
   },
   "outputs": [],
   "source": [
    "day = '2021-12-04 00:20:00'\n",
    "since = round(datetime.strptime(str(day), '%Y-%m-%d %H:%M:%S').timestamp()*1000)\n",
    "header = ['time', 'open', 'high', 'low', 'close', 'volume']"
   ]
  },
  {
   "cell_type": "code",
   "execution_count": null,
   "metadata": {
    "pycharm": {
     "is_executing": true,
     "name": "#%%\n"
    }
   },
   "outputs": [],
   "source": [
    "all_res_df = pd.DataFrame()\n",
    "for symbol in perp_pairs:\n",
    "    time.sleep (ftx_exchange.rateLimit / 1000) # time.sleep wants seconds\n",
    "    print(symbol)\n",
    "    symbol_res = ftx_exchange.fetch_ohlcv (symbol, timeframe='5m', since =since)\n",
    "    symbol_res_df = pd.DataFrame(symbol_res, columns = header)\n",
    "    symbol_res_df['symbol'] = symbol\n",
    "    all_res_df = all_res_df.append(symbol_res_df)"
   ]
  },
  {
   "cell_type": "code",
   "execution_count": null,
   "metadata": {
    "pycharm": {
     "is_executing": true,
     "name": "#%%\n"
    }
   },
   "outputs": [],
   "source": [
    "all_res_df.to_pickle('big_bounce.pickle')"
   ]
  },
  {
   "cell_type": "code",
   "execution_count": null,
   "metadata": {
    "pycharm": {
     "is_executing": true,
     "name": "#%%\n"
    }
   },
   "outputs": [],
   "source": [
    "all_res_df = pd.read_pickle('big_bounce.pickle')"
   ]
  },
  {
   "cell_type": "code",
   "execution_count": null,
   "metadata": {
    "pycharm": {
     "is_executing": true,
     "name": "#%%\n"
    }
   },
   "outputs": [],
   "source": [
    "all_res_df.head()"
   ]
  },
  {
   "cell_type": "code",
   "execution_count": null,
   "metadata": {
    "pycharm": {
     "is_executing": true,
     "name": "#%%\n"
    }
   },
   "outputs": [],
   "source": [
    "all_res_df = all_res_df.append(binance_all_res_df)"
   ]
  },
  {
   "cell_type": "code",
   "execution_count": null,
   "metadata": {
    "pycharm": {
     "is_executing": true,
     "name": "#%%\n"
    }
   },
   "outputs": [],
   "source": [
    "all_res_df['datetime'] = all_res_df['time'].apply(lambda x: datetime.utcfromtimestamp(x/1000))"
   ]
  },
  {
   "cell_type": "code",
   "execution_count": null,
   "metadata": {
    "pycharm": {
     "is_executing": true,
     "name": "#%%\n"
    }
   },
   "outputs": [],
   "source": [
    "all_res_df_cleaned = all_res_df.set_index(['symbol', 'datetime'])"
   ]
  },
  {
   "cell_type": "code",
   "execution_count": null,
   "metadata": {
    "pycharm": {
     "is_executing": true,
     "name": "#%%\n"
    }
   },
   "outputs": [],
   "source": [
    "gb_sym_obj = all_res_df_cleaned.groupby('symbol')\n",
    "\n",
    "def gb_find_bounce(x):\n",
    "    bottom_time = x['close'].idxmin()\n",
    "    low_price = x.loc[bottom_time]['close']\n",
    "    right_side_df = x[bottom_time:]\n",
    "    high_time = right_side_df['close'].idxmax()\n",
    "    high_price = right_side_df.loc[high_time]['close']\n",
    "    bounce_diff = high_price - low_price\n",
    "    bounce_pct = bounce_diff / low_price\n",
    "    return [low_price, bottom_time[1], high_price, high_time[1], bounce_diff, bounce_pct]"
   ]
  },
  {
   "cell_type": "code",
   "execution_count": null,
   "metadata": {
    "pycharm": {
     "is_executing": true,
     "name": "#%%\n"
    }
   },
   "outputs": [],
   "source": [
    "res = gb_sym_obj.apply(gb_find_bounce)\n",
    "res_dict = res.to_dict()"
   ]
  },
  {
   "cell_type": "code",
   "execution_count": null,
   "metadata": {
    "pycharm": {
     "is_executing": true,
     "name": "#%%\n"
    }
   },
   "outputs": [],
   "source": [
    "bounce_df = pd.DataFrame(res_dict).T"
   ]
  },
  {
   "cell_type": "code",
   "execution_count": null,
   "metadata": {
    "pycharm": {
     "is_executing": true,
     "name": "#%%\n"
    }
   },
   "outputs": [],
   "source": [
    "bounce_df.columns = ['low', 'low_time', 'high', 'high_time', 'bounce_diff', 'bounce_pct']"
   ]
  },
  {
   "cell_type": "code",
   "execution_count": null,
   "metadata": {
    "pycharm": {
     "is_executing": true,
     "name": "#%%\n"
    }
   },
   "outputs": [],
   "source": [
    "bounce_df = bounce_df.sort_values(by = 'bounce_pct', ascending=False)\n",
    "bounce_df['valid'] = bounce_df['high_time'] >=bounce_df['low_time']"
   ]
  },
  {
   "cell_type": "code",
   "execution_count": null,
   "metadata": {
    "pycharm": {
     "is_executing": true,
     "name": "#%%\n"
    }
   },
   "outputs": [],
   "source": [
    "bounce_df.to_csv('bounce_sort.xlsx')"
   ]
  },
  {
   "cell_type": "code",
   "execution_count": null,
   "metadata": {
    "pycharm": {
     "is_executing": true,
     "name": "#%%\n"
    }
   },
   "outputs": [],
   "source": [
    "import os"
   ]
  },
  {
   "cell_type": "code",
   "execution_count": null,
   "metadata": {
    "pycharm": {
     "is_executing": true,
     "name": "#%%\n"
    }
   },
   "outputs": [],
   "source": [
    "os.getcwd()"
   ]
  },
  {
   "cell_type": "code",
   "execution_count": null,
   "metadata": {
    "pycharm": {
     "is_executing": true,
     "name": "#%%\n"
    }
   },
   "outputs": [],
   "source": [
    "bounce_df"
   ]
  },
  {
   "cell_type": "code",
   "execution_count": null,
   "metadata": {
    "pycharm": {
     "is_executing": true,
     "name": "#%%\n"
    }
   },
   "outputs": [],
   "source": [
    "bounce_df.loc['DYDX-PERP']"
   ]
  },
  {
   "cell_type": "code",
   "execution_count": null,
   "metadata": {
    "pycharm": {
     "is_executing": true,
     "name": "#%%\n"
    }
   },
   "outputs": [],
   "source": [
    "bounce_df.head(50)"
   ]
  },
  {
   "cell_type": "code",
   "execution_count": null,
   "metadata": {
    "pycharm": {
     "is_executing": true,
     "name": "#%%\n"
    }
   },
   "outputs": [],
   "source": [
    "all_res_df_cleaned[all_res_df_cleaned['volume']==0] # interesting"
   ]
  },
  {
   "cell_type": "code",
   "execution_count": null,
   "metadata": {
    "pycharm": {
     "is_executing": true,
     "name": "#%%\n"
    }
   },
   "outputs": [],
   "source": [
    "gb_sym_obj.min()"
   ]
  },
  {
   "cell_type": "code",
   "execution_count": null,
   "metadata": {
    "pycharm": {
     "is_executing": true,
     "name": "#%%\n"
    }
   },
   "outputs": [],
   "source": [
    "# get market structure by symbol\n",
    "sol_perp = ftx_exchange.markets['SOL-PERP']"
   ]
  },
  {
   "cell_type": "code",
   "execution_count": null,
   "metadata": {
    "pycharm": {
     "is_executing": true,
     "name": "#%%\n"
    }
   },
   "outputs": [],
   "source": [
    "ftx_exchange.fetch_ohlcv (symbol, '1d')"
   ]
  },
  {
   "cell_type": "code",
   "execution_count": null,
   "metadata": {
    "pycharm": {
     "is_executing": true,
     "name": "#%%\n"
    }
   },
   "outputs": [],
   "source": [
    "sol_perp_book = ftx_exchange.fetch_order_book ('SOL-PERP', params={})\n",
    "# limit of depth of one side\n",
    "\n",
    "#sol_perp_book_l2 = ftx_exchange.fetch_l2_order_book ('SOL-PERP') # ftx no l1 and l3 order book"
   ]
  },
  {
   "cell_type": "code",
   "execution_count": null,
   "metadata": {
    "pycharm": {
     "is_executing": true,
     "name": "#%%\n"
    }
   },
   "outputs": [],
   "source": [
    "import plotly\n",
    "import plotly.express as px\n",
    "\n",
    "import pandas as pd"
   ]
  },
  {
   "cell_type": "code",
   "execution_count": null,
   "metadata": {
    "pycharm": {
     "is_executing": true,
     "name": "#%%\n"
    }
   },
   "outputs": [],
   "source": [
    "SOL_PERP = 'SOL-PERP'"
   ]
  },
  {
   "cell_type": "code",
   "execution_count": null,
   "metadata": {
    "pycharm": {
     "is_executing": true,
     "name": "#%%\n"
    }
   },
   "outputs": [],
   "source": [
    "bids_df = pd.DataFrame(sol_perp_book['bids'])"
   ]
  },
  {
   "cell_type": "code",
   "execution_count": null,
   "metadata": {
    "pycharm": {
     "is_executing": true,
     "name": "#%%\n"
    }
   },
   "outputs": [],
   "source": [
    "bids_df['dollar_value'] =bids_df[0]*bids_df[1]"
   ]
  },
  {
   "cell_type": "code",
   "execution_count": null,
   "metadata": {
    "pycharm": {
     "is_executing": true,
     "name": "#%%\n"
    }
   },
   "outputs": [],
   "source": [
    "ftx_markets"
   ]
  },
  {
   "cell_type": "code",
   "execution_count": null,
   "metadata": {
    "pycharm": {
     "is_executing": true,
     "name": "#%%\n"
    }
   },
   "outputs": [],
   "source": [
    "sol_ohlcv = ftx_exchange.fetch_ohlcv(SOL_PERP, timeframe='15m')"
   ]
  },
  {
   "cell_type": "code",
   "execution_count": null,
   "metadata": {
    "pycharm": {
     "is_executing": true,
     "name": "#%%\n"
    }
   },
   "outputs": [],
   "source": [
    "sol_ohlcv"
   ]
  },
  {
   "cell_type": "code",
   "execution_count": null,
   "metadata": {
    "pycharm": {
     "is_executing": true,
     "name": "#%%\n"
    }
   },
   "outputs": [],
   "source": [
    "ftx_exchange.fetch_status()"
   ]
  },
  {
   "cell_type": "code",
   "execution_count": null,
   "metadata": {
    "pycharm": {
     "is_executing": true,
     "name": "#%%\n"
    }
   },
   "outputs": [],
   "source": [
    "#fig = px.histogram(bids_df, x=0)\n",
    "#fig.show()"
   ]
  },
  {
   "cell_type": "code",
   "execution_count": null,
   "metadata": {
    "pycharm": {
     "is_executing": true,
     "name": "#%%\n"
    }
   },
   "outputs": [],
   "source": [
    "# market price\n",
    "orderbook = sol_perp_book\n",
    "bid = orderbook['bids'][0][0] if len (orderbook['bids']) > 0 else None\n",
    "ask = orderbook['asks'][0][0] if len (orderbook['asks']) > 0 else None\n",
    "spread = (ask - bid) if (bid and ask) else None\n",
    "print (ftx_exchange.id, 'market price', { 'bid': bid, 'ask': ask, 'spread': spread })"
   ]
  },
  {
   "cell_type": "markdown",
   "metadata": {
    "pycharm": {
     "name": "#%% md\n"
    }
   },
   "source": [
    "All fields in the ticker represent the past 24 hours prior to timestamp.\n",
    "The bidVolume is the volume (amount) of current best bid in the orderbook.\n",
    "The askVolume is the volume (amount) of current best ask in the orderbook.\n",
    "The baseVolume is the amount of base currency traded (bought or sold) in last 24 hours.\n",
    "The quoteVolume is the amount of quote currency traded (bought or sold) in last 24 hours."
   ]
  },
  {
   "cell_type": "code",
   "execution_count": null,
   "metadata": {
    "pycharm": {
     "is_executing": true,
     "name": "#%%\n"
    }
   },
   "outputs": [],
   "source": [
    "# price ticker\n",
    "ftx_exchange.fetch_ticker('SOL-PERP')"
   ]
  },
  {
   "cell_type": "code",
   "execution_count": null,
   "metadata": {
    "pycharm": {
     "is_executing": true,
     "name": "#%%\n"
    }
   },
   "outputs": [],
   "source": [
    "import time\n",
    "delay = 2 # seconds\n",
    "for symbol in ftx_exchange.markets:\n",
    "    print (ftx_exchange.fetch_order_book (symbol))\n",
    "    time.sleep (delay) # rate limit"
   ]
  },
  {
   "cell_type": "code",
   "execution_count": null,
   "metadata": {
    "pycharm": {
     "is_executing": true,
     "name": "#%%\n"
    }
   },
   "outputs": [],
   "source": [
    "solusd['active']"
   ]
  },
  {
   "cell_type": "code",
   "execution_count": null,
   "metadata": {
    "pycharm": {
     "is_executing": true,
     "name": "#%%\n"
    }
   },
   "outputs": [],
   "source": [
    "# The recommended way of working with exchanges is not using exchange-specific implicit methods but using the unified ccxt methods instead."
   ]
  },
  {
   "cell_type": "code",
   "execution_count": null,
   "metadata": {
    "pycharm": {
     "is_executing": true,
     "name": "#%%\n"
    }
   },
   "outputs": [],
   "source": [
    "# To get a list of all available methods with an exchange instance\n",
    "dir(ccxt.ftx())"
   ]
  },
  {
   "cell_type": "code",
   "execution_count": null,
   "metadata": {
    "pycharm": {
     "is_executing": true,
     "name": "#%%\n"
    }
   },
   "outputs": [],
   "source": [
    "ftx_exchange.public_get_funding_rates({'future': 'SOL-PERP'})"
   ]
  },
  {
   "cell_type": "code",
   "execution_count": null,
   "metadata": {
    "pycharm": {
     "is_executing": true,
     "name": "#%%\n"
    }
   },
   "outputs": [],
   "source": []
  }
 ],
 "metadata": {
  "kernelspec": {
   "display_name": "Python 3 (ipykernel)",
   "language": "python",
   "name": "python3"
  },
  "language_info": {
   "codemirror_mode": {
    "name": "ipython",
    "version": 3
   },
   "file_extension": ".py",
   "mimetype": "text/x-python",
   "name": "python",
   "nbconvert_exporter": "python",
   "pygments_lexer": "ipython3",
   "version": "3.8.9"
  }
 },
 "nbformat": 4,
 "nbformat_minor": 1
}
